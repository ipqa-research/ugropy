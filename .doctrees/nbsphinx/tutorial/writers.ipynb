{
 "cells": [
  {
   "cell_type": "markdown",
   "metadata": {},
   "source": [
    "### Writers\n",
    "\n",
    "[![Open In Colab](https://colab.research.google.com/assets/colab-badge.svg)](https://colab.research.google.com/github/ipqa-research/ugropy/blob/main/docs/source/tutorial/writers.ipynb)\n",
    "\n",
    "#### Clapeyron (https://github.com/ClapeyronThermo/Clapeyron.jl)\n",
    "`ugropy` provides a writers module for constructing input files for various\n",
    "thermodynamic libraries.\n",
    "\n",
    "To utilize this function, you must import the module as follows:"
   ]
  },
  {
   "cell_type": "code",
   "execution_count": 1,
   "metadata": {
    "execution": {
     "iopub.execute_input": "2025-10-22T16:21:11.953379Z",
     "iopub.status.busy": "2025-10-22T16:21:11.953182Z",
     "iopub.status.idle": "2025-10-22T16:21:11.956805Z",
     "shell.execute_reply": "2025-10-22T16:21:11.956090Z"
    }
   },
   "outputs": [],
   "source": [
    "try:\n",
    "  import google.colab\n",
    "  %pip install -q ugropy\n",
    "except ImportError:\n",
    "  pass"
   ]
  },
  {
   "cell_type": "code",
   "execution_count": 2,
   "metadata": {
    "execution": {
     "iopub.execute_input": "2025-10-22T16:21:11.958718Z",
     "iopub.status.busy": "2025-10-22T16:21:11.958548Z",
     "iopub.status.idle": "2025-10-22T16:21:12.663316Z",
     "shell.execute_reply": "2025-10-22T16:21:12.662455Z"
    }
   },
   "outputs": [],
   "source": [
    "from ugropy import Groups, writers"
   ]
  },
  {
   "cell_type": "markdown",
   "metadata": {},
   "source": [
    "To utilize the function, you need to provide a list of dictionaries for the\n",
    "functional groups of UNIFAC and PSRK, where each dictionary contains the\n",
    "functional groups of the molecules.\n",
    "\n",
    "If the user wishes to write critical properties .csv files, they must provide a\n",
    "list of Joback objects. Let's illustrate this with a simple example:"
   ]
  },
  {
   "cell_type": "code",
   "execution_count": 3,
   "metadata": {
    "execution": {
     "iopub.execute_input": "2025-10-22T16:21:12.665119Z",
     "iopub.status.busy": "2025-10-22T16:21:12.664914Z",
     "iopub.status.idle": "2025-10-22T16:21:12.957458Z",
     "shell.execute_reply": "2025-10-22T16:21:12.956556Z"
    }
   },
   "outputs": [],
   "source": [
    "names = [\"limonene\", \"adrenaline\", \"Trinitrotoluene\"]\n",
    "\n",
    "grps = [Groups(n) for n in names]\n",
    "\n",
    "# Write the csv files into a database directory\n",
    "writers.to_clapeyron(\n",
    "    molecules_names=names,\n",
    "    unifac_groups=[g.unifac.subgroups for g in grps],\n",
    "    psrk_groups=[g.psrk.subgroups for g in grps],\n",
    "    dortmund_groups=[g.dortmund.subgroups for g in grps],\n",
    "    property_estimator=[g.joback for g in grps],\n",
    "    path=\"database\"\n",
    ")"
   ]
  },
  {
   "cell_type": "markdown",
   "metadata": {},
   "source": [
    "In the example provided, we create a Groups object to obtain all the\n",
    "information of the molecules. Then, we use list comprehension to create the\n",
    "lists for the to_clapeyron function.\n",
    "\n",
    "The molecules_name argument in this case receives the names used to create the\n",
    "Groups objects, but it can be different if desired. These names will be set as\n",
    "the molecule names in the .csv files.\n",
    "\n",
    "You can omit certain arguments if desired:\n",
    "\n",
    "- If you omit the psrk_groups argument: the PSRK_groups.csv file will not be created.\n",
    "- If you omit the dortmund_groups argument: the UNIFAC_groups.csv file will not be created.\n",
    "- If you omit the unifac_groups argument: the ogUNIFAC_groups.csv file will not be created.\n",
    "- If you omit the joback_objects argument: the critical.csv file will not be created."
   ]
  },
  {
   "cell_type": "markdown",
   "metadata": {},
   "source": [
    "#### Thermo (https://github.com/CalebBell/thermo)\n",
    "\n",
    "`ugropy` also provides a translator of its subgroups dictionaries to the\n",
    "`Thermo` library dictionaries.\n"
   ]
  },
  {
   "cell_type": "code",
   "execution_count": 4,
   "metadata": {
    "execution": {
     "iopub.execute_input": "2025-10-22T16:21:12.959264Z",
     "iopub.status.busy": "2025-10-22T16:21:12.959061Z",
     "iopub.status.idle": "2025-10-22T16:21:13.232463Z",
     "shell.execute_reply": "2025-10-22T16:21:13.231531Z"
    }
   },
   "outputs": [
    {
     "name": "stdout",
     "output_type": "stream",
     "text": [
      "{1: 2, 2: 4}\n",
      "{1: 1, 2: 1, 14: 1}\n"
     ]
    }
   ],
   "source": [
    "from thermo.unifac import UFIP, UFSG, UNIFAC\n",
    "\n",
    "from ugropy import unifac, writers\n",
    "\n",
    "\n",
    "names = [\"hexane\", \"ethanol\"]\n",
    "\n",
    "grps = [unifac.get_groups(n) for n in names]\n",
    "\n",
    "thermo_groups = [writers.to_thermo(g.subgroups, unifac) for g in grps]\n",
    "\n",
    "print(thermo_groups[0])\n",
    "print(thermo_groups[1])"
   ]
  },
  {
   "cell_type": "code",
   "execution_count": 5,
   "metadata": {
    "execution": {
     "iopub.execute_input": "2025-10-22T16:21:13.234091Z",
     "iopub.status.busy": "2025-10-22T16:21:13.233914Z",
     "iopub.status.idle": "2025-10-22T16:21:13.239986Z",
     "shell.execute_reply": "2025-10-22T16:21:13.239309Z"
    }
   },
   "outputs": [
    {
     "data": {
      "text/plain": [
       "[1.829336850520012, 1.5690194318563724]"
      ]
     },
     "execution_count": 5,
     "metadata": {},
     "output_type": "execute_result"
    }
   ],
   "source": [
    "GE = UNIFAC.from_subgroups(\n",
    "    chemgroups=thermo_groups,\n",
    "    T=60+273.15,\n",
    "    xs=[0.5, 0.5],\n",
    "    version=0,\n",
    "    interaction_data=UFIP,\n",
    "    subgroups=UFSG\n",
    ")\n",
    "\n",
    "GE.gammas()"
   ]
  },
  {
   "cell_type": "markdown",
   "metadata": {},
   "source": [
    "#### yaeos (https://github.com/ipqa-research/yaeos)\n",
    "\n",
    "`ugropy` also provides a translator of its subgroups dictionaries to the\n",
    "`yaeos` Fortran source code."
   ]
  },
  {
   "cell_type": "code",
   "execution_count": 6,
   "metadata": {
    "execution": {
     "iopub.execute_input": "2025-10-22T16:21:13.241780Z",
     "iopub.status.busy": "2025-10-22T16:21:13.241604Z",
     "iopub.status.idle": "2025-10-22T16:21:13.247980Z",
     "shell.execute_reply": "2025-10-22T16:21:13.247097Z"
    }
   },
   "outputs": [
    {
     "name": "stdout",
     "output_type": "stream",
     "text": [
      "use yaeos__models_ge_group_contribution_unifac, only: Groups\n",
      "\n",
      "type(Groups) :: molecules(3)\n",
      "\n",
      "molecules(1)%groups_ids = [1, 2]\n",
      "molecules(1)%number_of_groups = [2, 4]\n",
      "\n",
      "molecules(2)%groups_ids = [1, 2, 14]\n",
      "molecules(2)%number_of_groups = [1, 1, 1]\n",
      "\n",
      "molecules(3)%groups_ids = [1, 2, 3, 7, 8]\n",
      "molecules(3)%number_of_groups = [2, 3, 1, 1, 1]\n",
      "\n",
      "\n"
     ]
    }
   ],
   "source": [
    "from ugropy import unifac, writers\n",
    "\n",
    "names = [\"hexane\", \"ethanol\", \"limonene\"]\n",
    "\n",
    "grps = [unifac.get_groups(n).subgroups for n in names]\n",
    "\n",
    "fortran_code = writers.to_yaeos(grps, unifac)\n",
    "\n",
    "print(fortran_code)"
   ]
  }
 ],
 "metadata": {
  "kernelspec": {
   "display_name": "ugropy",
   "language": "python",
   "name": "python3"
  },
  "language_info": {
   "codemirror_mode": {
    "name": "ipython",
    "version": 3
   },
   "file_extension": ".py",
   "mimetype": "text/x-python",
   "name": "python",
   "nbconvert_exporter": "python",
   "pygments_lexer": "ipython3",
   "version": "3.13.7"
  }
 },
 "nbformat": 4,
 "nbformat_minor": 2
}
