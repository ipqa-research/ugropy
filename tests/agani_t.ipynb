{
 "cells": [
  {
   "cell_type": "code",
   "execution_count": 1,
   "metadata": {},
   "outputs": [],
   "source": [
    "from ugropy import abdulelah_gani_t, abdulelah_gani, instantiate_mol_object\n",
    "\n",
    "import pandas as pd\n",
    "\n",
    "import numpy as np\n",
    "\n",
    "from rdkit.Chem import Draw\n",
    "from rdkit import Chem"
   ]
  },
  {
   "cell_type": "code",
   "execution_count": 2,
   "metadata": {},
   "outputs": [],
   "source": [
    "df = pd.read_csv(\"abdulelah_gani_frags/tc.csv\", index_col=\"SMILES\", sep=\"|\", comment=\"?\")\n",
    "\n",
    "primary = np.linspace(351, 424, 74, dtype=int).astype(str)\n",
    "\n",
    "df = df[primary]\n",
    "df.rename(columns=lambda col: int(col) if col.isdigit() else col, inplace=True)\n",
    "\n",
    "df.dropna(inplace=True)"
   ]
  },
  {
   "cell_type": "code",
   "execution_count": 3,
   "metadata": {},
   "outputs": [
    {
     "name": "stdout",
     "output_type": "stream",
     "text": [
      "CC1=CCC2CC1C2(C)C\n",
      "89\n",
      "Subgrupos:\n",
      "{'CH multiring': 2, 'C multiring': 1}\n",
      "Subgrupos por número:\n",
      "{372: 2, 373: 1}\n",
      "Gani: \n",
      "{372: 2.0}\n",
      "Gani group names:\n",
      "{'CH multiring': 2.0}\n"
     ]
    }
   ],
   "source": [
    "for idx, smiles in enumerate(df.index):\n",
    "    try:\n",
    "        solution = abdulelah_gani_t.get_groups(smiles, \"smiles\")\n",
    "    except Exception as e:\n",
    "        print(smiles, idx)\n",
    "        raise e\n",
    "\n",
    "    # Filtrar las columnas de la fila que no sean iguales a 0\n",
    "    row = df.loc[smiles]\n",
    "    if isinstance(row, pd.DataFrame):\n",
    "        row = row.iloc[0]\n",
    "    row = row[row != 0]\n",
    "    \n",
    "    # Convertir la fila filtrada a diccionario\n",
    "    row_dict = row.to_dict()\n",
    "    \n",
    "    # Eliminar las llaves 372 y 373 para la comparación\n",
    "    #row_dict.pop(372, None)\n",
    "    #row_dict.pop(373, None)\n",
    "    solution_dict = solution.subgroups_numbers.copy()\n",
    "    #solution_dict.pop(372, None)\n",
    "    #solution_dict.pop(373, None)\n",
    "\n",
    "    # Verificar si ninguna solución tiene subgroups_numbers igual a row_dict\n",
    "    if solution_dict != row_dict:\n",
    "        print(smiles)\n",
    "        print(idx)\n",
    "        print(\"Subgrupos:\")\n",
    "        print(str(solution.subgroups))  # Convertir a string y unir con saltos de línea\n",
    "        print(\"Subgrupos por número:\")\n",
    "        print(str(solution.subgroups_numbers))  # Convertir a string y unir con saltos de línea\n",
    "        print(\"Gani: \")\n",
    "        print(row_dict)\n",
    "        \n",
    "        gani_groups = {}\n",
    "        for group, ocurr in row_dict.items():\n",
    "            group_name = abdulelah_gani_t.subgroups_info.loc[abdulelah_gani_t.subgroups_info[\"group_number\"] == group].index[0]\n",
    "            gani_groups[group_name] = ocurr\n",
    "            \n",
    "        print(\"Gani group names:\")\n",
    "        print(gani_groups)\n",
    "        \n",
    "        wrong_smiles = smiles\n",
    "        break"
   ]
  },
  {
   "cell_type": "code",
   "execution_count": 4,
   "metadata": {},
   "outputs": [
    {
     "data": {
      "text/plain": [
       "{'CH multiring_0': (4,), 'CH multiring_1': (6,), 'C multiring_0': (7,)}"
      ]
     },
     "execution_count": 4,
     "metadata": {},
     "output_type": "execute_result"
    }
   ],
   "source": [
    "mol = instantiate_mol_object(wrong_smiles, \"smiles\")\n",
    "\n",
    "abdulelah_gani_t.detect_fragments(mol)"
   ]
  },
  {
   "cell_type": "code",
   "execution_count": 5,
   "metadata": {},
   "outputs": [
    {
     "data": {
      "image/svg+xml": [
       "<svg xmlns=\"http://www.w3.org/2000/svg\" xmlns:rdkit=\"http://www.rdkit.org/xml\" xmlns:xlink=\"http://www.w3.org/1999/xlink\" version=\"1.1\" baseProfile=\"full\" xml:space=\"preserve\" width=\"700px\" height=\"200px\" viewBox=\"0 0 700 200\">\n",
       "<!-- END OF HEADER -->\n",
       "<rect style=\"opacity:1.0;fill:#FFFFFF;stroke:none\" width=\"700.0\" height=\"200.0\" x=\"0.0\" y=\"0.0\"> </rect>\n",
       "<ellipse cx=\"219.6\" cy=\"108.5\" rx=\"18.6\" ry=\"18.6\" class=\"atom-4\" style=\"fill:#1F77B4A5;fill-rule:evenodd;stroke:#1F77B4A5;stroke-width:1.0px;stroke-linecap:butt;stroke-linejoin:miter;stroke-opacity:1\"/>\n",
       "<ellipse cx=\"359.8\" cy=\"28.6\" rx=\"18.6\" ry=\"18.6\" class=\"atom-6\" style=\"fill:#1F77B4A5;fill-rule:evenodd;stroke:#1F77B4A5;stroke-width:1.0px;stroke-linecap:butt;stroke-linejoin:miter;stroke-opacity:1\"/>\n",
       "<ellipse cx=\"312.7\" cy=\"109.0\" rx=\"18.6\" ry=\"18.6\" class=\"atom-7\" style=\"fill:#FF7F0EA5;fill-rule:evenodd;stroke:#FF7F0EA5;stroke-width:1.0px;stroke-linecap:butt;stroke-linejoin:miter;stroke-opacity:1\"/>\n",
       "<path class=\"bond-0 atom-0 atom-1\" d=\"M 499.1,110.1 L 405.9,109.6\" style=\"fill:none;fill-rule:evenodd;stroke:#000000;stroke-width:2.0px;stroke-linecap:butt;stroke-linejoin:miter;stroke-opacity:1\"/>\n",
       "<path class=\"bond-1 atom-1 atom-2\" d=\"M 405.9,109.6 L 358.8,190.0\" style=\"fill:none;fill-rule:evenodd;stroke:#000000;stroke-width:2.0px;stroke-linecap:butt;stroke-linejoin:miter;stroke-opacity:1\"/>\n",
       "<path class=\"bond-1 atom-1 atom-2\" d=\"M 390.6,109.5 L 351.3,176.7\" style=\"fill:none;fill-rule:evenodd;stroke:#000000;stroke-width:2.0px;stroke-linecap:butt;stroke-linejoin:miter;stroke-opacity:1\"/>\n",
       "<path class=\"bond-2 atom-2 atom-3\" d=\"M 358.8,190.0 L 265.7,189.5\" style=\"fill:none;fill-rule:evenodd;stroke:#000000;stroke-width:2.0px;stroke-linecap:butt;stroke-linejoin:miter;stroke-opacity:1\"/>\n",
       "<path class=\"bond-3 atom-3 atom-4\" d=\"M 265.7,189.5 L 219.6,108.5\" style=\"fill:none;fill-rule:evenodd;stroke:#000000;stroke-width:2.0px;stroke-linecap:butt;stroke-linejoin:miter;stroke-opacity:1\"/>\n",
       "<path class=\"bond-4 atom-4 atom-5\" d=\"M 219.6,108.5 L 266.6,28.1\" style=\"fill:none;fill-rule:evenodd;stroke:#000000;stroke-width:2.0px;stroke-linecap:butt;stroke-linejoin:miter;stroke-opacity:1\"/>\n",
       "<path class=\"bond-5 atom-5 atom-6\" d=\"M 266.6,28.1 L 359.8,28.6\" style=\"fill:none;fill-rule:evenodd;stroke:#000000;stroke-width:2.0px;stroke-linecap:butt;stroke-linejoin:miter;stroke-opacity:1\"/>\n",
       "<path class=\"bond-6 atom-6 atom-7\" d=\"M 359.8,28.6 L 312.7,109.0\" style=\"fill:none;fill-rule:evenodd;stroke:#000000;stroke-width:2.0px;stroke-linecap:butt;stroke-linejoin:miter;stroke-opacity:1\"/>\n",
       "<path class=\"bond-7 atom-7 atom-8\" d=\"M 312.7,109.0 L 317.1,176.8\" style=\"fill:none;fill-rule:evenodd;stroke:#000000;stroke-width:2.0px;stroke-linecap:butt;stroke-linejoin:miter;stroke-opacity:1\"/>\n",
       "<path class=\"bond-8 atom-7 atom-9\" d=\"M 312.7,109.0 L 368.8,147.4\" style=\"fill:none;fill-rule:evenodd;stroke:#000000;stroke-width:2.0px;stroke-linecap:butt;stroke-linejoin:miter;stroke-opacity:1\"/>\n",
       "<path class=\"bond-9 atom-6 atom-1\" d=\"M 359.8,28.6 L 405.9,109.6\" style=\"fill:none;fill-rule:evenodd;stroke:#000000;stroke-width:2.0px;stroke-linecap:butt;stroke-linejoin:miter;stroke-opacity:1\"/>\n",
       "<path class=\"bond-10 atom-7 atom-4\" d=\"M 312.7,109.0 L 219.6,108.5\" style=\"fill:none;fill-rule:evenodd;stroke:#000000;stroke-width:2.0px;stroke-linecap:butt;stroke-linejoin:miter;stroke-opacity:1\"/>\n",
       "<path d=\"M 361.2,186.0 L 358.8,190.0 L 354.2,190.0\" style=\"fill:none;stroke:#000000;stroke-width:2.0px;stroke-linecap:butt;stroke-linejoin:miter;stroke-opacity:1;\"/>\n",
       "<path d=\"M 270.3,189.5 L 265.7,189.5 L 263.4,185.4\" style=\"fill:none;stroke:#000000;stroke-width:2.0px;stroke-linecap:butt;stroke-linejoin:miter;stroke-opacity:1;\"/>\n",
       "<path d=\"M 264.3,32.1 L 266.6,28.1 L 271.3,28.1\" style=\"fill:none;stroke:#000000;stroke-width:2.0px;stroke-linecap:butt;stroke-linejoin:miter;stroke-opacity:1;\"/>\n",
       "<rect x=\"1\" y=\"5\" width=\"18.0\" height=\"18.0\" fill=\"rgb(31, 119, 179)\"/><text x=\"19.200000000000003\" y=\"20\" font-family=\"Helvetica\" font-size=\"12\" fill=\"black\">CH multiring: 2</text><rect x=\"1\" y=\"30\" width=\"18.0\" height=\"18.0\" fill=\"rgb(255, 127, 13)\"/><text x=\"19.200000000000003\" y=\"45\" font-family=\"Helvetica\" font-size=\"12\" fill=\"black\">C multiring: 1</text><text x=\"350.0\" y=\"40\" font-family=\"Helvetica\" font-size=\"12\" font-weight=\"bold\" fill=\"black\" text-anchor=\"middle\"/></svg>"
      ],
      "text/plain": [
       "<IPython.core.display.SVG object>"
      ]
     },
     "execution_count": 5,
     "metadata": {},
     "output_type": "execute_result"
    }
   ],
   "source": [
    "sol = abdulelah_gani_t.get_groups(wrong_smiles, \"smiles\")\n",
    "\n",
    "sol.draw(width=700)"
   ]
  },
  {
   "cell_type": "code",
   "execution_count": 6,
   "metadata": {},
   "outputs": [
    {
     "data": {
      "text/plain": [
       "np.float64(654.6770921296663)"
      ]
     },
     "execution_count": 6,
     "metadata": {},
     "output_type": "execute_result"
    }
   ],
   "source": [
    "sm = abdulelah_gani.get_groups(wrong_smiles, \"smiles\")\n",
    "\n",
    "sm.critical_temperature"
   ]
  }
 ],
 "metadata": {
  "kernelspec": {
   "display_name": "ugropy",
   "language": "python",
   "name": "python3"
  },
  "language_info": {
   "codemirror_mode": {
    "name": "ipython",
    "version": 3
   },
   "file_extension": ".py",
   "mimetype": "text/x-python",
   "name": "python",
   "nbconvert_exporter": "python",
   "pygments_lexer": "ipython3",
   "version": "3.10.12"
  }
 },
 "nbformat": 4,
 "nbformat_minor": 2
}
