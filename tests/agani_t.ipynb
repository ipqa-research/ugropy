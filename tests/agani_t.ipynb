{
 "cells": [
  {
   "cell_type": "code",
   "execution_count": 1,
   "metadata": {},
   "outputs": [],
   "source": [
    "from ugropy import abdulelah_gani_t, abdulelah_gani_s, abdulelah_gani_p, instantiate_mol_object\n",
    "\n",
    "import pandas as pd\n",
    "\n",
    "import numpy as np\n",
    "\n",
    "from rdkit.Chem import Draw\n",
    "from rdkit import Chem"
   ]
  },
  {
   "cell_type": "code",
   "execution_count": 2,
   "metadata": {},
   "outputs": [],
   "source": [
    "df = pd.read_csv(\"abdulelah_gani_frags/log_p.csv\", index_col=\"SMILES\", sep=\"|\", comment=\"?\")\n",
    "\n",
    "primary = np.linspace(351, 424, 74, dtype=int).astype(str)\n",
    "\n",
    "df = df[primary]\n",
    "df.rename(columns=lambda col: int(col) if col.isdigit() else col, inplace=True)"
   ]
  },
  {
   "cell_type": "code",
   "execution_count": 3,
   "metadata": {},
   "outputs": [
    {
     "name": "stdout",
     "output_type": "stream",
     "text": [
      "Clc1ccc(cc1)NC2=CC3=Nc4ccccc4N(c5ccc(Cl)cc5)C3=CC2=N\n",
      "4055\n",
      "Subgrupos:\n",
      "{'aC-NH-aC (different rings)': 1, 'AROM.FUSED[2]': 1, 'AROM.FUSED[2]s2s3': 1}\n",
      "Subgrupos por número:\n",
      "{393: 1, 401: 1, 404: 1}\n",
      "Gani: \n",
      "{392: 1, 395: 1, 401: 1}\n",
      "Gani group names:\n",
      "{'aC-NHncyc (fused rings) (n in 0..1)': 1, 'aC-(N=CHn)cyc (fused rings) (n in 0..1)': 1, 'AROM.FUSED[2]': 1}\n"
     ]
    }
   ],
   "source": [
    "for idx, smiles in enumerate(df.index):\n",
    "    try:\n",
    "        solution = abdulelah_gani_t.get_groups(smiles, \"smiles\")\n",
    "    except Exception as e:\n",
    "        print(smiles, idx)\n",
    "        raise e\n",
    "\n",
    "    # Filtrar las columnas de la fila que no sean iguales a 0\n",
    "    row = df.loc[smiles]\n",
    "    if isinstance(row, pd.DataFrame):\n",
    "        row = row.iloc[0]\n",
    "    row = row[row != 0]\n",
    "    \n",
    "    # Convertir la fila filtrada a diccionario\n",
    "    row_dict = row.to_dict()\n",
    "    \n",
    "    # Eliminar las llaves 372 y 373 para la comparación\n",
    "    row_dict.pop(372, None)\n",
    "    row_dict.pop(373, None)\n",
    "    solution_dict = solution.subgroups_numbers.copy()\n",
    "    solution_dict.pop(372, None)\n",
    "    solution_dict.pop(373, None)\n",
    "\n",
    "    # Verificar si ninguna solución tiene subgroups_numbers igual a row_dict\n",
    "    if solution_dict != row_dict:\n",
    "        print(smiles)\n",
    "        print(idx)\n",
    "        print(\"Subgrupos:\")\n",
    "        print(str(solution.subgroups))  # Convertir a string y unir con saltos de línea\n",
    "        print(\"Subgrupos por número:\")\n",
    "        print(str(solution.subgroups_numbers))  # Convertir a string y unir con saltos de línea\n",
    "        print(\"Gani: \")\n",
    "        print(row_dict)\n",
    "        \n",
    "        gani_groups = {}\n",
    "        for group, ocurr in row_dict.items():\n",
    "            group_name = abdulelah_gani_t.subgroups_info.loc[abdulelah_gani_t.subgroups_info[\"group_number\"] == group].index[0]\n",
    "            gani_groups[group_name] = ocurr\n",
    "            \n",
    "        print(\"Gani group names:\")\n",
    "        print(gani_groups)\n",
    "        \n",
    "        wrong_smiles = smiles\n",
    "        break"
   ]
  },
  {
   "cell_type": "code",
   "execution_count": 4,
   "metadata": {},
   "outputs": [
    {
     "data": {
      "text/plain": [
       "{'aC-aC (different rings)_0': (10, 26),\n",
       " 'aC-NH-aC (different rings)_0': (4, 7, 8),\n",
       " 'AROM.FUSED[2]_0': (13, 14, 15, 16, 17, 12),\n",
       " 'AROM.FUSED[2]s2s3_0': (9, 8, 28, 27, 26, 10)}"
      ]
     },
     "execution_count": 4,
     "metadata": {},
     "output_type": "execute_result"
    }
   ],
   "source": [
    "mol = instantiate_mol_object(wrong_smiles, \"smiles\")\n",
    "\n",
    "abdulelah_gani_t.detect_fragments(mol)"
   ]
  },
  {
   "cell_type": "code",
   "execution_count": 5,
   "metadata": {},
   "outputs": [
    {
     "data": {
      "image/svg+xml": [
       "<svg xmlns=\"http://www.w3.org/2000/svg\" xmlns:rdkit=\"http://www.rdkit.org/xml\" xmlns:xlink=\"http://www.w3.org/1999/xlink\" version=\"1.1\" baseProfile=\"full\" xml:space=\"preserve\" width=\"700px\" height=\"200px\" viewBox=\"0 0 700 200\">\n",
       "<!-- END OF HEADER -->\n",
       "<rect style=\"opacity:1.0;fill:#FFFFFF;stroke:none\" width=\"700.0\" height=\"200.0\" x=\"0.0\" y=\"0.0\"> </rect>\n",
       "<ellipse cx=\"286.0\" cy=\"138.1\" rx=\"5.5\" ry=\"5.5\" class=\"atom-4\" style=\"fill:#1F77B4A5;fill-rule:evenodd;stroke:#1F77B4A5;stroke-width:1.0px;stroke-linecap:butt;stroke-linejoin:miter;stroke-opacity:1\"/>\n",
       "<ellipse cx=\"306.5\" cy=\"160.5\" rx=\"5.5\" ry=\"11.5\" class=\"atom-7\" style=\"fill:#1F77B4A5;fill-rule:evenodd;stroke:#1F77B4A5;stroke-width:1.0px;stroke-linecap:butt;stroke-linejoin:miter;stroke-opacity:1\"/>\n",
       "<ellipse cx=\"332.5\" cy=\"147.6\" rx=\"5.5\" ry=\"5.5\" class=\"atom-8\" style=\"fill:#2CA02CA5;fill-rule:evenodd;stroke:#2CA02CA5;stroke-width:1.0px;stroke-linecap:butt;stroke-linejoin:miter;stroke-opacity:1\"/>\n",
       "<ellipse cx=\"353.0\" cy=\"165.7\" rx=\"5.5\" ry=\"5.5\" class=\"atom-9\" style=\"fill:#2CA02CA5;fill-rule:evenodd;stroke:#2CA02CA5;stroke-width:1.0px;stroke-linecap:butt;stroke-linejoin:miter;stroke-opacity:1\"/>\n",
       "<ellipse cx=\"378.9\" cy=\"157.0\" rx=\"5.5\" ry=\"5.5\" class=\"atom-10\" style=\"fill:#2CA02CA5;fill-rule:evenodd;stroke:#2CA02CA5;stroke-width:1.0px;stroke-linecap:butt;stroke-linejoin:miter;stroke-opacity:1\"/>\n",
       "<ellipse cx=\"425.4\" cy=\"166.4\" rx=\"5.5\" ry=\"5.5\" class=\"atom-12\" style=\"fill:#FF7F0EA5;fill-rule:evenodd;stroke:#FF7F0EA5;stroke-width:1.0px;stroke-linecap:butt;stroke-linejoin:miter;stroke-opacity:1\"/>\n",
       "<ellipse cx=\"445.9\" cy=\"184.5\" rx=\"5.5\" ry=\"5.5\" class=\"atom-13\" style=\"fill:#FF7F0EA5;fill-rule:evenodd;stroke:#FF7F0EA5;stroke-width:1.0px;stroke-linecap:butt;stroke-linejoin:miter;stroke-opacity:1\"/>\n",
       "<ellipse cx=\"471.9\" cy=\"175.8\" rx=\"5.5\" ry=\"5.5\" class=\"atom-14\" style=\"fill:#FF7F0EA5;fill-rule:evenodd;stroke:#FF7F0EA5;stroke-width:1.0px;stroke-linecap:butt;stroke-linejoin:miter;stroke-opacity:1\"/>\n",
       "<ellipse cx=\"477.3\" cy=\"149.0\" rx=\"5.5\" ry=\"5.5\" class=\"atom-15\" style=\"fill:#FF7F0EA5;fill-rule:evenodd;stroke:#FF7F0EA5;stroke-width:1.0px;stroke-linecap:butt;stroke-linejoin:miter;stroke-opacity:1\"/>\n",
       "<ellipse cx=\"456.8\" cy=\"130.9\" rx=\"5.5\" ry=\"5.5\" class=\"atom-16\" style=\"fill:#FF7F0EA5;fill-rule:evenodd;stroke:#FF7F0EA5;stroke-width:1.0px;stroke-linecap:butt;stroke-linejoin:miter;stroke-opacity:1\"/>\n",
       "<ellipse cx=\"430.8\" cy=\"139.6\" rx=\"5.5\" ry=\"5.5\" class=\"atom-17\" style=\"fill:#FF7F0EA5;fill-rule:evenodd;stroke:#FF7F0EA5;stroke-width:1.0px;stroke-linecap:butt;stroke-linejoin:miter;stroke-opacity:1\"/>\n",
       "<ellipse cx=\"384.4\" cy=\"130.2\" rx=\"5.5\" ry=\"5.5\" class=\"atom-26\" style=\"fill:#2CA02CA5;fill-rule:evenodd;stroke:#2CA02CA5;stroke-width:1.0px;stroke-linecap:butt;stroke-linejoin:miter;stroke-opacity:1\"/>\n",
       "<ellipse cx=\"363.9\" cy=\"112.0\" rx=\"5.5\" ry=\"5.5\" class=\"atom-27\" style=\"fill:#2CA02CA5;fill-rule:evenodd;stroke:#2CA02CA5;stroke-width:1.0px;stroke-linecap:butt;stroke-linejoin:miter;stroke-opacity:1\"/>\n",
       "<ellipse cx=\"337.9\" cy=\"120.7\" rx=\"5.5\" ry=\"5.5\" class=\"atom-28\" style=\"fill:#2CA02CA5;fill-rule:evenodd;stroke:#2CA02CA5;stroke-width:1.0px;stroke-linecap:butt;stroke-linejoin:miter;stroke-opacity:1\"/>\n",
       "<path class=\"bond-0 atom-0 atom-1\" d=\"M 225.9,85.0 L 235.4,93.5\" style=\"fill:none;fill-rule:evenodd;stroke:#00CC00;stroke-width:2.0px;stroke-linecap:butt;stroke-linejoin:miter;stroke-opacity:1\"/>\n",
       "<path class=\"bond-0 atom-0 atom-1\" d=\"M 235.4,93.5 L 245.0,101.9\" style=\"fill:none;fill-rule:evenodd;stroke:#000000;stroke-width:2.0px;stroke-linecap:butt;stroke-linejoin:miter;stroke-opacity:1\"/>\n",
       "<path class=\"bond-1 atom-1 atom-2\" d=\"M 245.0,101.9 L 270.9,93.2\" style=\"fill:none;fill-rule:evenodd;stroke:#000000;stroke-width:2.0px;stroke-linecap:butt;stroke-linejoin:miter;stroke-opacity:1\"/>\n",
       "<path class=\"bond-1 atom-1 atom-2\" d=\"M 248.6,105.0 L 270.0,97.8\" style=\"fill:none;fill-rule:evenodd;stroke:#000000;stroke-width:2.0px;stroke-linecap:butt;stroke-linejoin:miter;stroke-opacity:1;stroke-dasharray:6,4\"/>\n",
       "<path class=\"bond-2 atom-2 atom-3\" d=\"M 270.9,93.2 L 291.5,111.3\" style=\"fill:none;fill-rule:evenodd;stroke:#000000;stroke-width:2.0px;stroke-linecap:butt;stroke-linejoin:miter;stroke-opacity:1\"/>\n",
       "<path class=\"bond-2 atom-2 atom-3\" d=\"M 270.0,97.8 L 287.0,112.8\" style=\"fill:none;fill-rule:evenodd;stroke:#000000;stroke-width:2.0px;stroke-linecap:butt;stroke-linejoin:miter;stroke-opacity:1;stroke-dasharray:6,4\"/>\n",
       "<path class=\"bond-3 atom-3 atom-4\" d=\"M 291.5,111.3 L 286.0,138.1\" style=\"fill:none;fill-rule:evenodd;stroke:#000000;stroke-width:2.0px;stroke-linecap:butt;stroke-linejoin:miter;stroke-opacity:1\"/>\n",
       "<path class=\"bond-3 atom-3 atom-4\" d=\"M 287.0,112.8 L 282.5,135.0\" style=\"fill:none;fill-rule:evenodd;stroke:#000000;stroke-width:2.0px;stroke-linecap:butt;stroke-linejoin:miter;stroke-opacity:1;stroke-dasharray:6,4\"/>\n",
       "<path class=\"bond-4 atom-4 atom-5\" d=\"M 286.0,138.1 L 260.1,146.8\" style=\"fill:none;fill-rule:evenodd;stroke:#000000;stroke-width:2.0px;stroke-linecap:butt;stroke-linejoin:miter;stroke-opacity:1\"/>\n",
       "<path class=\"bond-4 atom-4 atom-5\" d=\"M 282.5,135.0 L 261.0,142.2\" style=\"fill:none;fill-rule:evenodd;stroke:#000000;stroke-width:2.0px;stroke-linecap:butt;stroke-linejoin:miter;stroke-opacity:1;stroke-dasharray:6,4\"/>\n",
       "<path class=\"bond-5 atom-5 atom-6\" d=\"M 260.1,146.8 L 239.6,128.7\" style=\"fill:none;fill-rule:evenodd;stroke:#000000;stroke-width:2.0px;stroke-linecap:butt;stroke-linejoin:miter;stroke-opacity:1\"/>\n",
       "<path class=\"bond-5 atom-5 atom-6\" d=\"M 261.0,142.2 L 244.1,127.2\" style=\"fill:none;fill-rule:evenodd;stroke:#000000;stroke-width:2.0px;stroke-linecap:butt;stroke-linejoin:miter;stroke-opacity:1;stroke-dasharray:6,4\"/>\n",
       "<path class=\"bond-6 atom-4 atom-7\" d=\"M 286.0,138.1 L 294.4,145.5\" style=\"fill:none;fill-rule:evenodd;stroke:#000000;stroke-width:2.0px;stroke-linecap:butt;stroke-linejoin:miter;stroke-opacity:1\"/>\n",
       "<path class=\"bond-6 atom-4 atom-7\" d=\"M 294.4,145.5 L 302.7,152.9\" style=\"fill:none;fill-rule:evenodd;stroke:#0000FF;stroke-width:2.0px;stroke-linecap:butt;stroke-linejoin:miter;stroke-opacity:1\"/>\n",
       "<path class=\"bond-7 atom-7 atom-8\" d=\"M 310.4,155.0 L 321.4,151.3\" style=\"fill:none;fill-rule:evenodd;stroke:#0000FF;stroke-width:2.0px;stroke-linecap:butt;stroke-linejoin:miter;stroke-opacity:1\"/>\n",
       "<path class=\"bond-7 atom-7 atom-8\" d=\"M 321.4,151.3 L 332.5,147.6\" style=\"fill:none;fill-rule:evenodd;stroke:#000000;stroke-width:2.0px;stroke-linecap:butt;stroke-linejoin:miter;stroke-opacity:1\"/>\n",
       "<path class=\"bond-8 atom-8 atom-9\" d=\"M 332.5,147.6 L 353.0,165.7\" style=\"fill:none;fill-rule:evenodd;stroke:#000000;stroke-width:2.0px;stroke-linecap:butt;stroke-linejoin:miter;stroke-opacity:1\"/>\n",
       "<path class=\"bond-8 atom-8 atom-9\" d=\"M 337.0,146.1 L 353.9,161.0\" style=\"fill:none;fill-rule:evenodd;stroke:#000000;stroke-width:2.0px;stroke-linecap:butt;stroke-linejoin:miter;stroke-opacity:1;stroke-dasharray:6,4\"/>\n",
       "<path class=\"bond-9 atom-9 atom-10\" d=\"M 353.0,165.7 L 378.9,157.0\" style=\"fill:none;fill-rule:evenodd;stroke:#000000;stroke-width:2.0px;stroke-linecap:butt;stroke-linejoin:miter;stroke-opacity:1\"/>\n",
       "<path class=\"bond-9 atom-9 atom-10\" d=\"M 353.9,161.0 L 375.4,153.8\" style=\"fill:none;fill-rule:evenodd;stroke:#000000;stroke-width:2.0px;stroke-linecap:butt;stroke-linejoin:miter;stroke-opacity:1;stroke-dasharray:6,4\"/>\n",
       "<path class=\"bond-10 atom-10 atom-11\" d=\"M 378.9,157.0 L 387.3,164.3\" style=\"fill:none;fill-rule:evenodd;stroke:#000000;stroke-width:2.0px;stroke-linecap:butt;stroke-linejoin:miter;stroke-opacity:1\"/>\n",
       "<path class=\"bond-10 atom-10 atom-11\" d=\"M 387.3,164.3 L 395.6,171.7\" style=\"fill:none;fill-rule:evenodd;stroke:#0000FF;stroke-width:2.0px;stroke-linecap:butt;stroke-linejoin:miter;stroke-opacity:1\"/>\n",
       "<path class=\"bond-10 atom-10 atom-11\" d=\"M 383.4,155.5 L 390.9,162.1\" style=\"fill:none;fill-rule:evenodd;stroke:#000000;stroke-width:2.0px;stroke-linecap:butt;stroke-linejoin:miter;stroke-opacity:1;stroke-dasharray:6,4\"/>\n",
       "<path class=\"bond-10 atom-10 atom-11\" d=\"M 390.9,162.1 L 398.3,168.6\" style=\"fill:none;fill-rule:evenodd;stroke:#0000FF;stroke-width:2.0px;stroke-linecap:butt;stroke-linejoin:miter;stroke-opacity:1;stroke-dasharray:6,4\"/>\n",
       "<path class=\"bond-11 atom-11 atom-12\" d=\"M 403.3,173.8 L 414.4,170.1\" style=\"fill:none;fill-rule:evenodd;stroke:#0000FF;stroke-width:2.0px;stroke-linecap:butt;stroke-linejoin:miter;stroke-opacity:1\"/>\n",
       "<path class=\"bond-11 atom-11 atom-12\" d=\"M 414.4,170.1 L 425.4,166.4\" style=\"fill:none;fill-rule:evenodd;stroke:#000000;stroke-width:2.0px;stroke-linecap:butt;stroke-linejoin:miter;stroke-opacity:1\"/>\n",
       "<path class=\"bond-11 atom-11 atom-12\" d=\"M 402.0,169.9 L 411.9,166.6\" style=\"fill:none;fill-rule:evenodd;stroke:#0000FF;stroke-width:2.0px;stroke-linecap:butt;stroke-linejoin:miter;stroke-opacity:1;stroke-dasharray:6,4\"/>\n",
       "<path class=\"bond-11 atom-11 atom-12\" d=\"M 411.9,166.6 L 421.9,163.3\" style=\"fill:none;fill-rule:evenodd;stroke:#000000;stroke-width:2.0px;stroke-linecap:butt;stroke-linejoin:miter;stroke-opacity:1;stroke-dasharray:6,4\"/>\n",
       "<path class=\"bond-12 atom-12 atom-13\" d=\"M 425.4,166.4 L 445.9,184.5\" style=\"fill:none;fill-rule:evenodd;stroke:#000000;stroke-width:2.0px;stroke-linecap:butt;stroke-linejoin:miter;stroke-opacity:1\"/>\n",
       "<path class=\"bond-12 atom-12 atom-13\" d=\"M 429.9,164.9 L 446.9,179.9\" style=\"fill:none;fill-rule:evenodd;stroke:#000000;stroke-width:2.0px;stroke-linecap:butt;stroke-linejoin:miter;stroke-opacity:1;stroke-dasharray:6,4\"/>\n",
       "<path class=\"bond-13 atom-13 atom-14\" d=\"M 445.9,184.5 L 471.9,175.8\" style=\"fill:none;fill-rule:evenodd;stroke:#000000;stroke-width:2.0px;stroke-linecap:butt;stroke-linejoin:miter;stroke-opacity:1\"/>\n",
       "<path class=\"bond-13 atom-13 atom-14\" d=\"M 446.9,179.9 L 468.3,172.7\" style=\"fill:none;fill-rule:evenodd;stroke:#000000;stroke-width:2.0px;stroke-linecap:butt;stroke-linejoin:miter;stroke-opacity:1;stroke-dasharray:6,4\"/>\n",
       "<path class=\"bond-14 atom-14 atom-15\" d=\"M 471.9,175.8 L 477.3,149.0\" style=\"fill:none;fill-rule:evenodd;stroke:#000000;stroke-width:2.0px;stroke-linecap:butt;stroke-linejoin:miter;stroke-opacity:1\"/>\n",
       "<path class=\"bond-14 atom-14 atom-15\" d=\"M 468.3,172.7 L 472.8,150.5\" style=\"fill:none;fill-rule:evenodd;stroke:#000000;stroke-width:2.0px;stroke-linecap:butt;stroke-linejoin:miter;stroke-opacity:1;stroke-dasharray:6,4\"/>\n",
       "<path class=\"bond-15 atom-15 atom-16\" d=\"M 477.3,149.0 L 456.8,130.9\" style=\"fill:none;fill-rule:evenodd;stroke:#000000;stroke-width:2.0px;stroke-linecap:butt;stroke-linejoin:miter;stroke-opacity:1\"/>\n",
       "<path class=\"bond-15 atom-15 atom-16\" d=\"M 472.8,150.5 L 455.9,135.5\" style=\"fill:none;fill-rule:evenodd;stroke:#000000;stroke-width:2.0px;stroke-linecap:butt;stroke-linejoin:miter;stroke-opacity:1;stroke-dasharray:6,4\"/>\n",
       "<path class=\"bond-16 atom-16 atom-17\" d=\"M 456.8,130.9 L 430.8,139.6\" style=\"fill:none;fill-rule:evenodd;stroke:#000000;stroke-width:2.0px;stroke-linecap:butt;stroke-linejoin:miter;stroke-opacity:1\"/>\n",
       "<path class=\"bond-16 atom-16 atom-17\" d=\"M 455.9,135.5 L 434.4,142.7\" style=\"fill:none;fill-rule:evenodd;stroke:#000000;stroke-width:2.0px;stroke-linecap:butt;stroke-linejoin:miter;stroke-opacity:1;stroke-dasharray:6,4\"/>\n",
       "<path class=\"bond-17 atom-17 atom-18\" d=\"M 430.8,139.6 L 422.5,132.2\" style=\"fill:none;fill-rule:evenodd;stroke:#000000;stroke-width:2.0px;stroke-linecap:butt;stroke-linejoin:miter;stroke-opacity:1\"/>\n",
       "<path class=\"bond-17 atom-17 atom-18\" d=\"M 422.5,132.2 L 414.2,124.9\" style=\"fill:none;fill-rule:evenodd;stroke:#0000FF;stroke-width:2.0px;stroke-linecap:butt;stroke-linejoin:miter;stroke-opacity:1\"/>\n",
       "<path class=\"bond-17 atom-17 atom-18\" d=\"M 426.4,141.1 L 418.9,134.5\" style=\"fill:none;fill-rule:evenodd;stroke:#000000;stroke-width:2.0px;stroke-linecap:butt;stroke-linejoin:miter;stroke-opacity:1;stroke-dasharray:6,4\"/>\n",
       "<path class=\"bond-17 atom-17 atom-18\" d=\"M 418.9,134.5 L 411.5,127.9\" style=\"fill:none;fill-rule:evenodd;stroke:#0000FF;stroke-width:2.0px;stroke-linecap:butt;stroke-linejoin:miter;stroke-opacity:1;stroke-dasharray:6,4\"/>\n",
       "<path class=\"bond-18 atom-18 atom-19\" d=\"M 411.3,116.7 L 413.5,105.7\" style=\"fill:none;fill-rule:evenodd;stroke:#0000FF;stroke-width:2.0px;stroke-linecap:butt;stroke-linejoin:miter;stroke-opacity:1\"/>\n",
       "<path class=\"bond-18 atom-18 atom-19\" d=\"M 413.5,105.7 L 415.8,94.6\" style=\"fill:none;fill-rule:evenodd;stroke:#000000;stroke-width:2.0px;stroke-linecap:butt;stroke-linejoin:miter;stroke-opacity:1\"/>\n",
       "<path class=\"bond-19 atom-19 atom-20\" d=\"M 415.8,94.6 L 441.7,85.9\" style=\"fill:none;fill-rule:evenodd;stroke:#000000;stroke-width:2.0px;stroke-linecap:butt;stroke-linejoin:miter;stroke-opacity:1\"/>\n",
       "<path class=\"bond-19 atom-19 atom-20\" d=\"M 416.7,90.0 L 438.2,82.8\" style=\"fill:none;fill-rule:evenodd;stroke:#000000;stroke-width:2.0px;stroke-linecap:butt;stroke-linejoin:miter;stroke-opacity:1;stroke-dasharray:6,4\"/>\n",
       "<path class=\"bond-20 atom-20 atom-21\" d=\"M 441.7,85.9 L 447.2,59.1\" style=\"fill:none;fill-rule:evenodd;stroke:#000000;stroke-width:2.0px;stroke-linecap:butt;stroke-linejoin:miter;stroke-opacity:1\"/>\n",
       "<path class=\"bond-20 atom-20 atom-21\" d=\"M 438.2,82.8 L 442.7,60.6\" style=\"fill:none;fill-rule:evenodd;stroke:#000000;stroke-width:2.0px;stroke-linecap:butt;stroke-linejoin:miter;stroke-opacity:1;stroke-dasharray:6,4\"/>\n",
       "<path class=\"bond-21 atom-21 atom-22\" d=\"M 447.2,59.1 L 426.7,41.0\" style=\"fill:none;fill-rule:evenodd;stroke:#000000;stroke-width:2.0px;stroke-linecap:butt;stroke-linejoin:miter;stroke-opacity:1\"/>\n",
       "<path class=\"bond-21 atom-21 atom-22\" d=\"M 442.7,60.6 L 425.7,45.6\" style=\"fill:none;fill-rule:evenodd;stroke:#000000;stroke-width:2.0px;stroke-linecap:butt;stroke-linejoin:miter;stroke-opacity:1;stroke-dasharray:6,4\"/>\n",
       "<path class=\"bond-22 atom-22 atom-23\" d=\"M 426.7,41.0 L 428.8,30.1\" style=\"fill:none;fill-rule:evenodd;stroke:#000000;stroke-width:2.0px;stroke-linecap:butt;stroke-linejoin:miter;stroke-opacity:1\"/>\n",
       "<path class=\"bond-22 atom-22 atom-23\" d=\"M 428.8,30.1 L 431.0,19.3\" style=\"fill:none;fill-rule:evenodd;stroke:#00CC00;stroke-width:2.0px;stroke-linecap:butt;stroke-linejoin:miter;stroke-opacity:1\"/>\n",
       "<path class=\"bond-23 atom-22 atom-24\" d=\"M 426.7,41.0 L 400.7,49.7\" style=\"fill:none;fill-rule:evenodd;stroke:#000000;stroke-width:2.0px;stroke-linecap:butt;stroke-linejoin:miter;stroke-opacity:1\"/>\n",
       "<path class=\"bond-23 atom-22 atom-24\" d=\"M 425.7,45.6 L 404.3,52.8\" style=\"fill:none;fill-rule:evenodd;stroke:#000000;stroke-width:2.0px;stroke-linecap:butt;stroke-linejoin:miter;stroke-opacity:1;stroke-dasharray:6,4\"/>\n",
       "<path class=\"bond-24 atom-24 atom-25\" d=\"M 400.7,49.7 L 395.3,76.5\" style=\"fill:none;fill-rule:evenodd;stroke:#000000;stroke-width:2.0px;stroke-linecap:butt;stroke-linejoin:miter;stroke-opacity:1\"/>\n",
       "<path class=\"bond-24 atom-24 atom-25\" d=\"M 404.3,52.8 L 399.8,75.0\" style=\"fill:none;fill-rule:evenodd;stroke:#000000;stroke-width:2.0px;stroke-linecap:butt;stroke-linejoin:miter;stroke-opacity:1;stroke-dasharray:6,4\"/>\n",
       "<path class=\"bond-25 atom-18 atom-26\" d=\"M 406.5,122.7 L 395.4,126.4\" style=\"fill:none;fill-rule:evenodd;stroke:#0000FF;stroke-width:2.0px;stroke-linecap:butt;stroke-linejoin:miter;stroke-opacity:1\"/>\n",
       "<path class=\"bond-25 atom-18 atom-26\" d=\"M 395.4,126.4 L 384.4,130.2\" style=\"fill:none;fill-rule:evenodd;stroke:#000000;stroke-width:2.0px;stroke-linecap:butt;stroke-linejoin:miter;stroke-opacity:1\"/>\n",
       "<path class=\"bond-25 atom-18 atom-26\" d=\"M 407.8,126.6 L 397.9,130.0\" style=\"fill:none;fill-rule:evenodd;stroke:#0000FF;stroke-width:2.0px;stroke-linecap:butt;stroke-linejoin:miter;stroke-opacity:1;stroke-dasharray:6,4\"/>\n",
       "<path class=\"bond-25 atom-18 atom-26\" d=\"M 397.9,130.0 L 387.9,133.3\" style=\"fill:none;fill-rule:evenodd;stroke:#000000;stroke-width:2.0px;stroke-linecap:butt;stroke-linejoin:miter;stroke-opacity:1;stroke-dasharray:6,4\"/>\n",
       "<path class=\"bond-26 atom-26 atom-27\" d=\"M 384.4,130.2 L 363.9,112.0\" style=\"fill:none;fill-rule:evenodd;stroke:#000000;stroke-width:2.0px;stroke-linecap:butt;stroke-linejoin:miter;stroke-opacity:1\"/>\n",
       "<path class=\"bond-26 atom-26 atom-27\" d=\"M 379.9,131.7 L 362.9,116.7\" style=\"fill:none;fill-rule:evenodd;stroke:#000000;stroke-width:2.0px;stroke-linecap:butt;stroke-linejoin:miter;stroke-opacity:1;stroke-dasharray:6,4\"/>\n",
       "<path class=\"bond-27 atom-27 atom-28\" d=\"M 363.9,112.0 L 337.9,120.7\" style=\"fill:none;fill-rule:evenodd;stroke:#000000;stroke-width:2.0px;stroke-linecap:butt;stroke-linejoin:miter;stroke-opacity:1\"/>\n",
       "<path class=\"bond-27 atom-27 atom-28\" d=\"M 362.9,116.7 L 341.5,123.9\" style=\"fill:none;fill-rule:evenodd;stroke:#000000;stroke-width:2.0px;stroke-linecap:butt;stroke-linejoin:miter;stroke-opacity:1;stroke-dasharray:6,4\"/>\n",
       "<path class=\"bond-28 atom-28 atom-29\" d=\"M 340.2,120.0 L 331.4,112.2\" style=\"fill:none;fill-rule:evenodd;stroke:#000000;stroke-width:2.0px;stroke-linecap:butt;stroke-linejoin:miter;stroke-opacity:1\"/>\n",
       "<path class=\"bond-28 atom-28 atom-29\" d=\"M 331.4,112.2 L 322.6,104.5\" style=\"fill:none;fill-rule:evenodd;stroke:#0000FF;stroke-width:2.0px;stroke-linecap:butt;stroke-linejoin:miter;stroke-opacity:1\"/>\n",
       "<path class=\"bond-28 atom-28 atom-29\" d=\"M 337.5,123.1 L 328.7,115.3\" style=\"fill:none;fill-rule:evenodd;stroke:#000000;stroke-width:2.0px;stroke-linecap:butt;stroke-linejoin:miter;stroke-opacity:1\"/>\n",
       "<path class=\"bond-28 atom-28 atom-29\" d=\"M 328.7,115.3 L 319.9,107.5\" style=\"fill:none;fill-rule:evenodd;stroke:#0000FF;stroke-width:2.0px;stroke-linecap:butt;stroke-linejoin:miter;stroke-opacity:1\"/>\n",
       "<path class=\"bond-29 atom-6 atom-1\" d=\"M 239.6,128.7 L 245.0,101.9\" style=\"fill:none;fill-rule:evenodd;stroke:#000000;stroke-width:2.0px;stroke-linecap:butt;stroke-linejoin:miter;stroke-opacity:1\"/>\n",
       "<path class=\"bond-29 atom-6 atom-1\" d=\"M 244.1,127.2 L 248.6,105.0\" style=\"fill:none;fill-rule:evenodd;stroke:#000000;stroke-width:2.0px;stroke-linecap:butt;stroke-linejoin:miter;stroke-opacity:1;stroke-dasharray:6,4\"/>\n",
       "<path class=\"bond-30 atom-28 atom-8\" d=\"M 337.9,120.7 L 332.5,147.6\" style=\"fill:none;fill-rule:evenodd;stroke:#000000;stroke-width:2.0px;stroke-linecap:butt;stroke-linejoin:miter;stroke-opacity:1\"/>\n",
       "<path class=\"bond-30 atom-28 atom-8\" d=\"M 341.5,123.9 L 337.0,146.1\" style=\"fill:none;fill-rule:evenodd;stroke:#000000;stroke-width:2.0px;stroke-linecap:butt;stroke-linejoin:miter;stroke-opacity:1;stroke-dasharray:6,4\"/>\n",
       "<path class=\"bond-31 atom-26 atom-10\" d=\"M 384.4,130.2 L 378.9,157.0\" style=\"fill:none;fill-rule:evenodd;stroke:#000000;stroke-width:2.0px;stroke-linecap:butt;stroke-linejoin:miter;stroke-opacity:1\"/>\n",
       "<path class=\"bond-31 atom-26 atom-10\" d=\"M 387.9,133.3 L 383.4,155.5\" style=\"fill:none;fill-rule:evenodd;stroke:#000000;stroke-width:2.0px;stroke-linecap:butt;stroke-linejoin:miter;stroke-opacity:1;stroke-dasharray:6,4\"/>\n",
       "<path class=\"bond-32 atom-17 atom-12\" d=\"M 430.8,139.6 L 425.4,166.4\" style=\"fill:none;fill-rule:evenodd;stroke:#000000;stroke-width:2.0px;stroke-linecap:butt;stroke-linejoin:miter;stroke-opacity:1\"/>\n",
       "<path class=\"bond-32 atom-17 atom-12\" d=\"M 434.4,142.7 L 429.9,164.9\" style=\"fill:none;fill-rule:evenodd;stroke:#000000;stroke-width:2.0px;stroke-linecap:butt;stroke-linejoin:miter;stroke-opacity:1;stroke-dasharray:6,4\"/>\n",
       "<path class=\"bond-33 atom-25 atom-19\" d=\"M 395.3,76.5 L 415.8,94.6\" style=\"fill:none;fill-rule:evenodd;stroke:#000000;stroke-width:2.0px;stroke-linecap:butt;stroke-linejoin:miter;stroke-opacity:1\"/>\n",
       "<path class=\"bond-33 atom-25 atom-19\" d=\"M 399.8,75.0 L 416.7,90.0\" style=\"fill:none;fill-rule:evenodd;stroke:#000000;stroke-width:2.0px;stroke-linecap:butt;stroke-linejoin:miter;stroke-opacity:1;stroke-dasharray:6,4\"/>\n",
       "<path d=\"M 269.7,93.6 L 270.9,93.2 L 272.0,94.1\" style=\"fill:none;stroke:#000000;stroke-width:2.0px;stroke-linecap:butt;stroke-linejoin:miter;stroke-opacity:1;\"/>\n",
       "<path d=\"M 290.4,110.4 L 291.5,111.3 L 291.2,112.7\" style=\"fill:none;stroke:#000000;stroke-width:2.0px;stroke-linecap:butt;stroke-linejoin:miter;stroke-opacity:1;\"/>\n",
       "<path d=\"M 261.4,146.4 L 260.1,146.8 L 259.0,145.9\" style=\"fill:none;stroke:#000000;stroke-width:2.0px;stroke-linecap:butt;stroke-linejoin:miter;stroke-opacity:1;\"/>\n",
       "<path d=\"M 240.6,129.6 L 239.6,128.7 L 239.8,127.4\" style=\"fill:none;stroke:#000000;stroke-width:2.0px;stroke-linecap:butt;stroke-linejoin:miter;stroke-opacity:1;\"/>\n",
       "<path d=\"M 352.0,164.8 L 353.0,165.7 L 354.3,165.2\" style=\"fill:none;stroke:#000000;stroke-width:2.0px;stroke-linecap:butt;stroke-linejoin:miter;stroke-opacity:1;\"/>\n",
       "<path d=\"M 444.9,183.6 L 445.9,184.5 L 447.2,184.1\" style=\"fill:none;stroke:#000000;stroke-width:2.0px;stroke-linecap:butt;stroke-linejoin:miter;stroke-opacity:1;\"/>\n",
       "<path d=\"M 470.6,176.3 L 471.9,175.8 L 472.1,174.5\" style=\"fill:none;stroke:#000000;stroke-width:2.0px;stroke-linecap:butt;stroke-linejoin:miter;stroke-opacity:1;\"/>\n",
       "<path d=\"M 477.0,150.3 L 477.3,149.0 L 476.3,148.1\" style=\"fill:none;stroke:#000000;stroke-width:2.0px;stroke-linecap:butt;stroke-linejoin:miter;stroke-opacity:1;\"/>\n",
       "<path d=\"M 457.8,131.8 L 456.8,130.9 L 455.5,131.3\" style=\"fill:none;stroke:#000000;stroke-width:2.0px;stroke-linecap:butt;stroke-linejoin:miter;stroke-opacity:1;\"/>\n",
       "<path d=\"M 440.4,86.4 L 441.7,85.9 L 442.0,84.6\" style=\"fill:none;stroke:#000000;stroke-width:2.0px;stroke-linecap:butt;stroke-linejoin:miter;stroke-opacity:1;\"/>\n",
       "<path d=\"M 446.9,60.4 L 447.2,59.1 L 446.1,58.2\" style=\"fill:none;stroke:#000000;stroke-width:2.0px;stroke-linecap:butt;stroke-linejoin:miter;stroke-opacity:1;\"/>\n",
       "<path d=\"M 402.0,49.2 L 400.7,49.7 L 400.4,51.0\" style=\"fill:none;stroke:#000000;stroke-width:2.0px;stroke-linecap:butt;stroke-linejoin:miter;stroke-opacity:1;\"/>\n",
       "<path d=\"M 395.5,75.2 L 395.3,76.5 L 396.3,77.4\" style=\"fill:none;stroke:#000000;stroke-width:2.0px;stroke-linecap:butt;stroke-linejoin:miter;stroke-opacity:1;\"/>\n",
       "<path d=\"M 364.9,112.9 L 363.9,112.0 L 362.6,112.5\" style=\"fill:none;stroke:#000000;stroke-width:2.0px;stroke-linecap:butt;stroke-linejoin:miter;stroke-opacity:1;\"/>\n",
       "<path d=\"M 339.2,120.3 L 337.9,120.7 L 337.6,122.1\" style=\"fill:none;stroke:#000000;stroke-width:2.0px;stroke-linecap:butt;stroke-linejoin:miter;stroke-opacity:1;\"/>\n",
       "<path class=\"atom-0\" d=\"M 217.2 84.0 Q 217.2 82.1, 218.1 81.1 Q 219.0 80.1, 220.7 80.1 Q 222.3 80.1, 223.2 81.2 L 222.5 81.8 Q 221.8 81.0, 220.7 81.0 Q 219.6 81.0, 218.9 81.8 Q 218.3 82.5, 218.3 84.0 Q 218.3 85.6, 219.0 86.4 Q 219.6 87.1, 220.9 87.1 Q 221.7 87.1, 222.7 86.6 L 223.0 87.5 Q 222.6 87.7, 222.0 87.9 Q 221.4 88.0, 220.7 88.0 Q 219.0 88.0, 218.1 87.0 Q 217.2 86.0, 217.2 84.0 \" fill=\"#00CC00\"/>\n",
       "<path class=\"atom-0\" d=\"M 224.0 79.6 L 225.0 79.6 L 225.0 87.9 L 224.0 87.9 L 224.0 79.6 \" fill=\"#00CC00\"/>\n",
       "<path class=\"atom-7\" d=\"M 304.8 152.4 L 307.4 156.5 Q 307.6 156.9, 308.0 157.6 Q 308.4 158.4, 308.4 158.4 L 308.4 152.4 L 309.5 152.4 L 309.5 160.1 L 308.4 160.1 L 305.7 155.6 Q 305.4 155.1, 305.0 154.5 Q 304.7 153.9, 304.6 153.7 L 304.6 160.1 L 303.6 160.1 L 303.6 152.4 L 304.8 152.4 \" fill=\"#0000FF\"/>\n",
       "<path class=\"atom-7\" d=\"M 303.5 160.9 L 304.5 160.9 L 304.5 164.2 L 308.5 164.2 L 308.5 160.9 L 309.6 160.9 L 309.6 168.7 L 308.5 168.7 L 308.5 165.1 L 304.5 165.1 L 304.5 168.7 L 303.5 168.7 L 303.5 160.9 \" fill=\"#0000FF\"/>\n",
       "<path class=\"atom-11\" d=\"M 397.7 171.2 L 400.3 175.3 Q 400.5 175.7, 400.9 176.5 Q 401.3 177.2, 401.4 177.3 L 401.4 171.2 L 402.4 171.2 L 402.4 179.0 L 401.3 179.0 L 398.6 174.5 Q 398.3 174.0, 398.0 173.4 Q 397.6 172.8, 397.5 172.6 L 397.5 179.0 L 396.5 179.0 L 396.5 171.2 L 397.7 171.2 \" fill=\"#0000FF\"/>\n",
       "<path class=\"atom-18\" d=\"M 408.6 117.6 L 411.2 121.7 Q 411.4 122.1, 411.8 122.8 Q 412.2 123.6, 412.2 123.6 L 412.2 117.6 L 413.3 117.6 L 413.3 125.3 L 412.2 125.3 L 409.5 120.8 Q 409.2 120.3, 408.8 119.7 Q 408.5 119.1, 408.4 118.9 L 408.4 125.3 L 407.4 125.3 L 407.4 117.6 L 408.6 117.6 \" fill=\"#0000FF\"/>\n",
       "<path class=\"atom-23\" d=\"M 429.1 14.4 Q 429.1 12.5, 430.0 11.5 Q 430.9 10.5, 432.6 10.5 Q 434.2 10.5, 435.1 11.6 L 434.4 12.2 Q 433.7 11.4, 432.6 11.4 Q 431.5 11.4, 430.8 12.2 Q 430.2 12.9, 430.2 14.4 Q 430.2 16.0, 430.9 16.7 Q 431.5 17.5, 432.7 17.5 Q 433.6 17.5, 434.6 17.0 L 434.9 17.8 Q 434.5 18.1, 433.9 18.3 Q 433.3 18.4, 432.6 18.4 Q 430.9 18.4, 430.0 17.4 Q 429.1 16.4, 429.1 14.4 \" fill=\"#00CC00\"/>\n",
       "<path class=\"atom-23\" d=\"M 435.9 10.0 L 436.9 10.0 L 436.9 18.3 L 435.9 18.3 L 435.9 10.0 \" fill=\"#00CC00\"/>\n",
       "<path class=\"atom-29\" d=\"M 306.9 98.7 L 307.9 98.7 L 307.9 102.0 L 311.9 102.0 L 311.9 98.7 L 312.9 98.7 L 312.9 106.5 L 311.9 106.5 L 311.9 102.9 L 307.9 102.9 L 307.9 106.5 L 306.9 106.5 L 306.9 98.7 \" fill=\"#0000FF\"/>\n",
       "<path class=\"atom-29\" d=\"M 315.7 98.7 L 318.2 102.8 Q 318.5 103.2, 318.9 104.0 Q 319.3 104.7, 319.3 104.8 L 319.3 98.7 L 320.4 98.7 L 320.4 106.5 L 319.3 106.5 L 316.6 102.0 Q 316.2 101.5, 315.9 100.9 Q 315.6 100.3, 315.5 100.1 L 315.5 106.5 L 314.5 106.5 L 314.5 98.7 L 315.7 98.7 \" fill=\"#0000FF\"/>\n",
       "<rect x=\"1\" y=\"5\" width=\"18.0\" height=\"18.0\" fill=\"rgb(31, 119, 179)\"/><text x=\"19.200000000000003\" y=\"20\" font-family=\"Helvetica\" font-size=\"12\" fill=\"black\">aC-NH-aC (different rings): 1</text><rect x=\"1\" y=\"30\" width=\"18.0\" height=\"18.0\" fill=\"rgb(255, 127, 13)\"/><text x=\"19.200000000000003\" y=\"45\" font-family=\"Helvetica\" font-size=\"12\" fill=\"black\">AROM.FUSED[2]: 1</text><rect x=\"1\" y=\"55\" width=\"18.0\" height=\"18.0\" fill=\"rgb(44, 159, 44)\"/><text x=\"19.200000000000003\" y=\"70\" font-family=\"Helvetica\" font-size=\"12\" fill=\"black\">AROM.FUSED[2]s2s3: 1</text><text x=\"350.0\" y=\"40\" font-family=\"Helvetica\" font-size=\"12\" font-weight=\"bold\" fill=\"black\" text-anchor=\"middle\"/></svg>"
      ],
      "text/plain": [
       "<IPython.core.display.SVG object>"
      ]
     },
     "execution_count": 5,
     "metadata": {},
     "output_type": "execute_result"
    }
   ],
   "source": [
    "sol = abdulelah_gani_t.get_groups(wrong_smiles, \"smiles\")\n",
    "\n",
    "sol.draw(width=700)"
   ]
  },
  {
   "cell_type": "code",
   "execution_count": 6,
   "metadata": {},
   "outputs": [
    {
     "data": {
      "image/svg+xml": [
       "<svg xmlns=\"http://www.w3.org/2000/svg\" xmlns:rdkit=\"http://www.rdkit.org/xml\" xmlns:xlink=\"http://www.w3.org/1999/xlink\" version=\"1.1\" baseProfile=\"full\" xml:space=\"preserve\" width=\"700px\" height=\"600px\" viewBox=\"0 0 700 600\">\n",
       "<!-- END OF HEADER -->\n",
       "<rect style=\"opacity:1.0;fill:#FFFFFF;stroke:none\" width=\"700.0\" height=\"600.0\" x=\"0.0\" y=\"0.0\"> </rect>\n",
       "<path class=\"bond-0 atom-0 atom-1\" d=\"M 56.0,270.3 L 79.2,290.8\" style=\"fill:none;fill-rule:evenodd;stroke:#00CC00;stroke-width:2.0px;stroke-linecap:butt;stroke-linejoin:miter;stroke-opacity:1\"/>\n",
       "<path class=\"bond-0 atom-0 atom-1\" d=\"M 79.2,290.8 L 102.3,311.2\" style=\"fill:none;fill-rule:evenodd;stroke:#000000;stroke-width:2.0px;stroke-linecap:butt;stroke-linejoin:miter;stroke-opacity:1\"/>\n",
       "<path class=\"bond-1 atom-1 atom-2\" d=\"M 102.3,311.2 L 165.1,290.1\" style=\"fill:none;fill-rule:evenodd;stroke:#000000;stroke-width:2.0px;stroke-linecap:butt;stroke-linejoin:miter;stroke-opacity:1\"/>\n",
       "<path class=\"bond-1 atom-1 atom-2\" d=\"M 110.9,318.8 L 162.9,301.4\" style=\"fill:none;fill-rule:evenodd;stroke:#000000;stroke-width:2.0px;stroke-linecap:butt;stroke-linejoin:miter;stroke-opacity:1;stroke-dasharray:6,4\"/>\n",
       "<path class=\"bond-2 atom-2 atom-3\" d=\"M 165.1,290.1 L 214.8,334.0\" style=\"fill:none;fill-rule:evenodd;stroke:#000000;stroke-width:2.0px;stroke-linecap:butt;stroke-linejoin:miter;stroke-opacity:1\"/>\n",
       "<path class=\"bond-2 atom-2 atom-3\" d=\"M 162.9,301.4 L 203.9,337.7\" style=\"fill:none;fill-rule:evenodd;stroke:#000000;stroke-width:2.0px;stroke-linecap:butt;stroke-linejoin:miter;stroke-opacity:1;stroke-dasharray:6,4\"/>\n",
       "<path class=\"bond-3 atom-3 atom-4\" d=\"M 214.8,334.0 L 201.7,399.0\" style=\"fill:none;fill-rule:evenodd;stroke:#000000;stroke-width:2.0px;stroke-linecap:butt;stroke-linejoin:miter;stroke-opacity:1\"/>\n",
       "<path class=\"bond-3 atom-3 atom-4\" d=\"M 203.9,337.7 L 193.1,391.4\" style=\"fill:none;fill-rule:evenodd;stroke:#000000;stroke-width:2.0px;stroke-linecap:butt;stroke-linejoin:miter;stroke-opacity:1;stroke-dasharray:6,4\"/>\n",
       "<path class=\"bond-4 atom-4 atom-5\" d=\"M 201.7,399.0 L 138.8,420.1\" style=\"fill:none;fill-rule:evenodd;stroke:#000000;stroke-width:2.0px;stroke-linecap:butt;stroke-linejoin:miter;stroke-opacity:1\"/>\n",
       "<path class=\"bond-4 atom-4 atom-5\" d=\"M 193.1,391.4 L 141.1,408.8\" style=\"fill:none;fill-rule:evenodd;stroke:#000000;stroke-width:2.0px;stroke-linecap:butt;stroke-linejoin:miter;stroke-opacity:1;stroke-dasharray:6,4\"/>\n",
       "<path class=\"bond-5 atom-5 atom-6\" d=\"M 138.8,420.1 L 89.1,376.2\" style=\"fill:none;fill-rule:evenodd;stroke:#000000;stroke-width:2.0px;stroke-linecap:butt;stroke-linejoin:miter;stroke-opacity:1\"/>\n",
       "<path class=\"bond-5 atom-5 atom-6\" d=\"M 141.1,408.8 L 100.0,372.5\" style=\"fill:none;fill-rule:evenodd;stroke:#000000;stroke-width:2.0px;stroke-linecap:butt;stroke-linejoin:miter;stroke-opacity:1;stroke-dasharray:6,4\"/>\n",
       "<path class=\"bond-6 atom-4 atom-7\" d=\"M 201.7,399.0 L 221.8,416.8\" style=\"fill:none;fill-rule:evenodd;stroke:#000000;stroke-width:2.0px;stroke-linecap:butt;stroke-linejoin:miter;stroke-opacity:1\"/>\n",
       "<path class=\"bond-6 atom-4 atom-7\" d=\"M 221.8,416.8 L 242.0,434.7\" style=\"fill:none;fill-rule:evenodd;stroke:#0000FF;stroke-width:2.0px;stroke-linecap:butt;stroke-linejoin:miter;stroke-opacity:1\"/>\n",
       "<path class=\"bond-7 atom-7 atom-8\" d=\"M 260.6,439.8 L 287.4,430.8\" style=\"fill:none;fill-rule:evenodd;stroke:#0000FF;stroke-width:2.0px;stroke-linecap:butt;stroke-linejoin:miter;stroke-opacity:1\"/>\n",
       "<path class=\"bond-7 atom-7 atom-8\" d=\"M 287.4,430.8 L 314.2,421.8\" style=\"fill:none;fill-rule:evenodd;stroke:#000000;stroke-width:2.0px;stroke-linecap:butt;stroke-linejoin:miter;stroke-opacity:1\"/>\n",
       "<path class=\"bond-8 atom-8 atom-9\" d=\"M 314.2,421.8 L 363.9,465.7\" style=\"fill:none;fill-rule:evenodd;stroke:#000000;stroke-width:2.0px;stroke-linecap:butt;stroke-linejoin:miter;stroke-opacity:1\"/>\n",
       "<path class=\"bond-8 atom-8 atom-9\" d=\"M 325.1,418.2 L 366.2,454.5\" style=\"fill:none;fill-rule:evenodd;stroke:#000000;stroke-width:2.0px;stroke-linecap:butt;stroke-linejoin:miter;stroke-opacity:1;stroke-dasharray:6,4\"/>\n",
       "<path class=\"bond-9 atom-9 atom-10\" d=\"M 363.9,465.7 L 426.7,444.7\" style=\"fill:none;fill-rule:evenodd;stroke:#000000;stroke-width:2.0px;stroke-linecap:butt;stroke-linejoin:miter;stroke-opacity:1\"/>\n",
       "<path class=\"bond-9 atom-9 atom-10\" d=\"M 366.2,454.5 L 418.1,437.0\" style=\"fill:none;fill-rule:evenodd;stroke:#000000;stroke-width:2.0px;stroke-linecap:butt;stroke-linejoin:miter;stroke-opacity:1;stroke-dasharray:6,4\"/>\n",
       "<path class=\"bond-10 atom-10 atom-11\" d=\"M 426.7,444.7 L 446.9,462.5\" style=\"fill:none;fill-rule:evenodd;stroke:#000000;stroke-width:2.0px;stroke-linecap:butt;stroke-linejoin:miter;stroke-opacity:1\"/>\n",
       "<path class=\"bond-10 atom-10 atom-11\" d=\"M 446.9,462.5 L 467.1,480.3\" style=\"fill:none;fill-rule:evenodd;stroke:#0000FF;stroke-width:2.0px;stroke-linecap:butt;stroke-linejoin:miter;stroke-opacity:1\"/>\n",
       "<path class=\"bond-10 atom-10 atom-11\" d=\"M 437.6,441.0 L 455.7,456.9\" style=\"fill:none;fill-rule:evenodd;stroke:#000000;stroke-width:2.0px;stroke-linecap:butt;stroke-linejoin:miter;stroke-opacity:1;stroke-dasharray:6,4\"/>\n",
       "<path class=\"bond-10 atom-10 atom-11\" d=\"M 455.7,456.9 L 473.7,472.9\" style=\"fill:none;fill-rule:evenodd;stroke:#0000FF;stroke-width:2.0px;stroke-linecap:butt;stroke-linejoin:miter;stroke-opacity:1;stroke-dasharray:6,4\"/>\n",
       "<path class=\"bond-11 atom-11 atom-12\" d=\"M 485.7,485.4 L 512.5,476.5\" style=\"fill:none;fill-rule:evenodd;stroke:#0000FF;stroke-width:2.0px;stroke-linecap:butt;stroke-linejoin:miter;stroke-opacity:1\"/>\n",
       "<path class=\"bond-11 atom-11 atom-12\" d=\"M 512.5,476.5 L 539.3,467.5\" style=\"fill:none;fill-rule:evenodd;stroke:#000000;stroke-width:2.0px;stroke-linecap:butt;stroke-linejoin:miter;stroke-opacity:1\"/>\n",
       "<path class=\"bond-11 atom-11 atom-12\" d=\"M 482.6,476.0 L 506.6,467.9\" style=\"fill:none;fill-rule:evenodd;stroke:#0000FF;stroke-width:2.0px;stroke-linecap:butt;stroke-linejoin:miter;stroke-opacity:1;stroke-dasharray:6,4\"/>\n",
       "<path class=\"bond-11 atom-11 atom-12\" d=\"M 506.6,467.9 L 530.7,459.9\" style=\"fill:none;fill-rule:evenodd;stroke:#000000;stroke-width:2.0px;stroke-linecap:butt;stroke-linejoin:miter;stroke-opacity:1;stroke-dasharray:6,4\"/>\n",
       "<path class=\"bond-12 atom-12 atom-13\" d=\"M 539.3,467.5 L 589.0,511.4\" style=\"fill:none;fill-rule:evenodd;stroke:#000000;stroke-width:2.0px;stroke-linecap:butt;stroke-linejoin:miter;stroke-opacity:1\"/>\n",
       "<path class=\"bond-12 atom-12 atom-13\" d=\"M 550.2,463.8 L 591.2,500.1\" style=\"fill:none;fill-rule:evenodd;stroke:#000000;stroke-width:2.0px;stroke-linecap:butt;stroke-linejoin:miter;stroke-opacity:1;stroke-dasharray:6,4\"/>\n",
       "<path class=\"bond-13 atom-13 atom-14\" d=\"M 589.0,511.4 L 651.8,490.3\" style=\"fill:none;fill-rule:evenodd;stroke:#000000;stroke-width:2.0px;stroke-linecap:butt;stroke-linejoin:miter;stroke-opacity:1\"/>\n",
       "<path class=\"bond-13 atom-13 atom-14\" d=\"M 591.2,500.1 L 643.2,482.7\" style=\"fill:none;fill-rule:evenodd;stroke:#000000;stroke-width:2.0px;stroke-linecap:butt;stroke-linejoin:miter;stroke-opacity:1;stroke-dasharray:6,4\"/>\n",
       "<path class=\"bond-14 atom-14 atom-15\" d=\"M 651.8,490.3 L 665.0,425.3\" style=\"fill:none;fill-rule:evenodd;stroke:#000000;stroke-width:2.0px;stroke-linecap:butt;stroke-linejoin:miter;stroke-opacity:1\"/>\n",
       "<path class=\"bond-14 atom-14 atom-15\" d=\"M 643.2,482.7 L 654.1,429.0\" style=\"fill:none;fill-rule:evenodd;stroke:#000000;stroke-width:2.0px;stroke-linecap:butt;stroke-linejoin:miter;stroke-opacity:1;stroke-dasharray:6,4\"/>\n",
       "<path class=\"bond-15 atom-15 atom-16\" d=\"M 665.0,425.3 L 615.3,381.4\" style=\"fill:none;fill-rule:evenodd;stroke:#000000;stroke-width:2.0px;stroke-linecap:butt;stroke-linejoin:miter;stroke-opacity:1\"/>\n",
       "<path class=\"bond-15 atom-15 atom-16\" d=\"M 654.1,429.0 L 613.0,392.7\" style=\"fill:none;fill-rule:evenodd;stroke:#000000;stroke-width:2.0px;stroke-linecap:butt;stroke-linejoin:miter;stroke-opacity:1;stroke-dasharray:6,4\"/>\n",
       "<path class=\"bond-16 atom-16 atom-17\" d=\"M 615.3,381.4 L 552.5,402.5\" style=\"fill:none;fill-rule:evenodd;stroke:#000000;stroke-width:2.0px;stroke-linecap:butt;stroke-linejoin:miter;stroke-opacity:1\"/>\n",
       "<path class=\"bond-16 atom-16 atom-17\" d=\"M 613.0,392.7 L 561.1,410.1\" style=\"fill:none;fill-rule:evenodd;stroke:#000000;stroke-width:2.0px;stroke-linecap:butt;stroke-linejoin:miter;stroke-opacity:1;stroke-dasharray:6,4\"/>\n",
       "<path class=\"bond-17 atom-17 atom-18\" d=\"M 552.5,402.5 L 532.3,384.7\" style=\"fill:none;fill-rule:evenodd;stroke:#000000;stroke-width:2.0px;stroke-linecap:butt;stroke-linejoin:miter;stroke-opacity:1\"/>\n",
       "<path class=\"bond-17 atom-17 atom-18\" d=\"M 532.3,384.7 L 512.1,366.8\" style=\"fill:none;fill-rule:evenodd;stroke:#0000FF;stroke-width:2.0px;stroke-linecap:butt;stroke-linejoin:miter;stroke-opacity:1\"/>\n",
       "<path class=\"bond-17 atom-17 atom-18\" d=\"M 541.6,406.1 L 523.5,390.2\" style=\"fill:none;fill-rule:evenodd;stroke:#000000;stroke-width:2.0px;stroke-linecap:butt;stroke-linejoin:miter;stroke-opacity:1;stroke-dasharray:6,4\"/>\n",
       "<path class=\"bond-17 atom-17 atom-18\" d=\"M 523.5,390.2 L 505.5,374.3\" style=\"fill:none;fill-rule:evenodd;stroke:#0000FF;stroke-width:2.0px;stroke-linecap:butt;stroke-linejoin:miter;stroke-opacity:1;stroke-dasharray:6,4\"/>\n",
       "<path class=\"bond-18 atom-18 atom-19\" d=\"M 505.1,347.0 L 510.5,320.3\" style=\"fill:none;fill-rule:evenodd;stroke:#0000FF;stroke-width:2.0px;stroke-linecap:butt;stroke-linejoin:miter;stroke-opacity:1\"/>\n",
       "<path class=\"bond-18 atom-18 atom-19\" d=\"M 510.5,320.3 L 516.0,293.6\" style=\"fill:none;fill-rule:evenodd;stroke:#000000;stroke-width:2.0px;stroke-linecap:butt;stroke-linejoin:miter;stroke-opacity:1\"/>\n",
       "<path class=\"bond-19 atom-19 atom-20\" d=\"M 516.0,293.6 L 578.8,272.5\" style=\"fill:none;fill-rule:evenodd;stroke:#000000;stroke-width:2.0px;stroke-linecap:butt;stroke-linejoin:miter;stroke-opacity:1\"/>\n",
       "<path class=\"bond-19 atom-19 atom-20\" d=\"M 518.2,282.4 L 570.2,264.9\" style=\"fill:none;fill-rule:evenodd;stroke:#000000;stroke-width:2.0px;stroke-linecap:butt;stroke-linejoin:miter;stroke-opacity:1;stroke-dasharray:6,4\"/>\n",
       "<path class=\"bond-20 atom-20 atom-21\" d=\"M 578.8,272.5 L 592.0,207.6\" style=\"fill:none;fill-rule:evenodd;stroke:#000000;stroke-width:2.0px;stroke-linecap:butt;stroke-linejoin:miter;stroke-opacity:1\"/>\n",
       "<path class=\"bond-20 atom-20 atom-21\" d=\"M 570.2,264.9 L 581.1,211.2\" style=\"fill:none;fill-rule:evenodd;stroke:#000000;stroke-width:2.0px;stroke-linecap:butt;stroke-linejoin:miter;stroke-opacity:1;stroke-dasharray:6,4\"/>\n",
       "<path class=\"bond-21 atom-21 atom-22\" d=\"M 592.0,207.6 L 542.3,163.7\" style=\"fill:none;fill-rule:evenodd;stroke:#000000;stroke-width:2.0px;stroke-linecap:butt;stroke-linejoin:miter;stroke-opacity:1\"/>\n",
       "<path class=\"bond-21 atom-21 atom-22\" d=\"M 581.1,211.2 L 540.0,174.9\" style=\"fill:none;fill-rule:evenodd;stroke:#000000;stroke-width:2.0px;stroke-linecap:butt;stroke-linejoin:miter;stroke-opacity:1;stroke-dasharray:6,4\"/>\n",
       "<path class=\"bond-22 atom-22 atom-23\" d=\"M 542.3,163.7 L 547.6,137.4\" style=\"fill:none;fill-rule:evenodd;stroke:#000000;stroke-width:2.0px;stroke-linecap:butt;stroke-linejoin:miter;stroke-opacity:1\"/>\n",
       "<path class=\"bond-22 atom-22 atom-23\" d=\"M 547.6,137.4 L 552.9,111.2\" style=\"fill:none;fill-rule:evenodd;stroke:#00CC00;stroke-width:2.0px;stroke-linecap:butt;stroke-linejoin:miter;stroke-opacity:1\"/>\n",
       "<path class=\"bond-23 atom-22 atom-24\" d=\"M 542.3,163.7 L 479.4,184.7\" style=\"fill:none;fill-rule:evenodd;stroke:#000000;stroke-width:2.0px;stroke-linecap:butt;stroke-linejoin:miter;stroke-opacity:1\"/>\n",
       "<path class=\"bond-23 atom-22 atom-24\" d=\"M 540.0,174.9 L 488.0,192.4\" style=\"fill:none;fill-rule:evenodd;stroke:#000000;stroke-width:2.0px;stroke-linecap:butt;stroke-linejoin:miter;stroke-opacity:1;stroke-dasharray:6,4\"/>\n",
       "<path class=\"bond-24 atom-24 atom-25\" d=\"M 479.4,184.7 L 466.3,249.7\" style=\"fill:none;fill-rule:evenodd;stroke:#000000;stroke-width:2.0px;stroke-linecap:butt;stroke-linejoin:miter;stroke-opacity:1\"/>\n",
       "<path class=\"bond-24 atom-24 atom-25\" d=\"M 488.0,192.4 L 477.2,246.1\" style=\"fill:none;fill-rule:evenodd;stroke:#000000;stroke-width:2.0px;stroke-linecap:butt;stroke-linejoin:miter;stroke-opacity:1;stroke-dasharray:6,4\"/>\n",
       "<path class=\"bond-25 atom-18 atom-26\" d=\"M 493.5,361.7 L 466.7,370.7\" style=\"fill:none;fill-rule:evenodd;stroke:#0000FF;stroke-width:2.0px;stroke-linecap:butt;stroke-linejoin:miter;stroke-opacity:1\"/>\n",
       "<path class=\"bond-25 atom-18 atom-26\" d=\"M 466.7,370.7 L 439.9,379.7\" style=\"fill:none;fill-rule:evenodd;stroke:#000000;stroke-width:2.0px;stroke-linecap:butt;stroke-linejoin:miter;stroke-opacity:1\"/>\n",
       "<path class=\"bond-25 atom-18 atom-26\" d=\"M 496.6,371.1 L 472.6,379.2\" style=\"fill:none;fill-rule:evenodd;stroke:#0000FF;stroke-width:2.0px;stroke-linecap:butt;stroke-linejoin:miter;stroke-opacity:1;stroke-dasharray:6,4\"/>\n",
       "<path class=\"bond-25 atom-18 atom-26\" d=\"M 472.6,379.2 L 448.5,387.3\" style=\"fill:none;fill-rule:evenodd;stroke:#000000;stroke-width:2.0px;stroke-linecap:butt;stroke-linejoin:miter;stroke-opacity:1;stroke-dasharray:6,4\"/>\n",
       "<path class=\"bond-26 atom-26 atom-27\" d=\"M 439.9,379.7 L 390.2,335.8\" style=\"fill:none;fill-rule:evenodd;stroke:#000000;stroke-width:2.0px;stroke-linecap:butt;stroke-linejoin:miter;stroke-opacity:1\"/>\n",
       "<path class=\"bond-26 atom-26 atom-27\" d=\"M 429.0,383.3 L 388.0,347.0\" style=\"fill:none;fill-rule:evenodd;stroke:#000000;stroke-width:2.0px;stroke-linecap:butt;stroke-linejoin:miter;stroke-opacity:1;stroke-dasharray:6,4\"/>\n",
       "<path class=\"bond-27 atom-27 atom-28\" d=\"M 390.2,335.8 L 327.4,356.9\" style=\"fill:none;fill-rule:evenodd;stroke:#000000;stroke-width:2.0px;stroke-linecap:butt;stroke-linejoin:miter;stroke-opacity:1\"/>\n",
       "<path class=\"bond-27 atom-27 atom-28\" d=\"M 388.0,347.0 L 336.0,364.5\" style=\"fill:none;fill-rule:evenodd;stroke:#000000;stroke-width:2.0px;stroke-linecap:butt;stroke-linejoin:miter;stroke-opacity:1;stroke-dasharray:6,4\"/>\n",
       "<path class=\"bond-28 atom-28 atom-29\" d=\"M 332.8,355.0 L 311.6,336.2\" style=\"fill:none;fill-rule:evenodd;stroke:#000000;stroke-width:2.0px;stroke-linecap:butt;stroke-linejoin:miter;stroke-opacity:1\"/>\n",
       "<path class=\"bond-28 atom-28 atom-29\" d=\"M 311.6,336.2 L 290.3,317.5\" style=\"fill:none;fill-rule:evenodd;stroke:#0000FF;stroke-width:2.0px;stroke-linecap:butt;stroke-linejoin:miter;stroke-opacity:1\"/>\n",
       "<path class=\"bond-28 atom-28 atom-29\" d=\"M 326.2,362.5 L 305.0,343.7\" style=\"fill:none;fill-rule:evenodd;stroke:#000000;stroke-width:2.0px;stroke-linecap:butt;stroke-linejoin:miter;stroke-opacity:1\"/>\n",
       "<path class=\"bond-28 atom-28 atom-29\" d=\"M 305.0,343.7 L 283.7,324.9\" style=\"fill:none;fill-rule:evenodd;stroke:#0000FF;stroke-width:2.0px;stroke-linecap:butt;stroke-linejoin:miter;stroke-opacity:1\"/>\n",
       "<path class=\"bond-29 atom-6 atom-1\" d=\"M 89.1,376.2 L 102.3,311.2\" style=\"fill:none;fill-rule:evenodd;stroke:#000000;stroke-width:2.0px;stroke-linecap:butt;stroke-linejoin:miter;stroke-opacity:1\"/>\n",
       "<path class=\"bond-29 atom-6 atom-1\" d=\"M 100.0,372.5 L 110.9,318.8\" style=\"fill:none;fill-rule:evenodd;stroke:#000000;stroke-width:2.0px;stroke-linecap:butt;stroke-linejoin:miter;stroke-opacity:1;stroke-dasharray:6,4\"/>\n",
       "<path class=\"bond-30 atom-28 atom-8\" d=\"M 327.4,356.9 L 314.2,421.8\" style=\"fill:none;fill-rule:evenodd;stroke:#000000;stroke-width:2.0px;stroke-linecap:butt;stroke-linejoin:miter;stroke-opacity:1\"/>\n",
       "<path class=\"bond-30 atom-28 atom-8\" d=\"M 336.0,364.5 L 325.1,418.2\" style=\"fill:none;fill-rule:evenodd;stroke:#000000;stroke-width:2.0px;stroke-linecap:butt;stroke-linejoin:miter;stroke-opacity:1;stroke-dasharray:6,4\"/>\n",
       "<path class=\"bond-31 atom-26 atom-10\" d=\"M 439.9,379.7 L 426.7,444.7\" style=\"fill:none;fill-rule:evenodd;stroke:#000000;stroke-width:2.0px;stroke-linecap:butt;stroke-linejoin:miter;stroke-opacity:1\"/>\n",
       "<path class=\"bond-31 atom-26 atom-10\" d=\"M 448.5,387.3 L 437.6,441.0\" style=\"fill:none;fill-rule:evenodd;stroke:#000000;stroke-width:2.0px;stroke-linecap:butt;stroke-linejoin:miter;stroke-opacity:1;stroke-dasharray:6,4\"/>\n",
       "<path class=\"bond-32 atom-17 atom-12\" d=\"M 552.5,402.5 L 539.3,467.5\" style=\"fill:none;fill-rule:evenodd;stroke:#000000;stroke-width:2.0px;stroke-linecap:butt;stroke-linejoin:miter;stroke-opacity:1\"/>\n",
       "<path class=\"bond-32 atom-17 atom-12\" d=\"M 561.1,410.1 L 550.2,463.8\" style=\"fill:none;fill-rule:evenodd;stroke:#000000;stroke-width:2.0px;stroke-linecap:butt;stroke-linejoin:miter;stroke-opacity:1;stroke-dasharray:6,4\"/>\n",
       "<path class=\"bond-33 atom-25 atom-19\" d=\"M 466.3,249.7 L 516.0,293.6\" style=\"fill:none;fill-rule:evenodd;stroke:#000000;stroke-width:2.0px;stroke-linecap:butt;stroke-linejoin:miter;stroke-opacity:1\"/>\n",
       "<path class=\"bond-33 atom-25 atom-19\" d=\"M 477.2,246.1 L 518.2,282.4\" style=\"fill:none;fill-rule:evenodd;stroke:#000000;stroke-width:2.0px;stroke-linecap:butt;stroke-linejoin:miter;stroke-opacity:1;stroke-dasharray:6,4\"/>\n",
       "<path d=\"M 162.0,291.2 L 165.1,290.1 L 167.6,292.3\" style=\"fill:none;stroke:#000000;stroke-width:2.0px;stroke-linecap:butt;stroke-linejoin:miter;stroke-opacity:1;\"/>\n",
       "<path d=\"M 212.3,331.8 L 214.8,334.0 L 214.2,337.3\" style=\"fill:none;stroke:#000000;stroke-width:2.0px;stroke-linecap:butt;stroke-linejoin:miter;stroke-opacity:1;\"/>\n",
       "<path d=\"M 141.9,419.0 L 138.8,420.1 L 136.3,417.9\" style=\"fill:none;stroke:#000000;stroke-width:2.0px;stroke-linecap:butt;stroke-linejoin:miter;stroke-opacity:1;\"/>\n",
       "<path d=\"M 91.6,378.4 L 89.1,376.2 L 89.8,372.9\" style=\"fill:none;stroke:#000000;stroke-width:2.0px;stroke-linecap:butt;stroke-linejoin:miter;stroke-opacity:1;\"/>\n",
       "<path d=\"M 361.4,463.5 L 363.9,465.7 L 367.0,464.7\" style=\"fill:none;stroke:#000000;stroke-width:2.0px;stroke-linecap:butt;stroke-linejoin:miter;stroke-opacity:1;\"/>\n",
       "<path d=\"M 586.5,509.2 L 589.0,511.4 L 592.1,510.3\" style=\"fill:none;stroke:#000000;stroke-width:2.0px;stroke-linecap:butt;stroke-linejoin:miter;stroke-opacity:1;\"/>\n",
       "<path d=\"M 648.7,491.3 L 651.8,490.3 L 652.5,487.0\" style=\"fill:none;stroke:#000000;stroke-width:2.0px;stroke-linecap:butt;stroke-linejoin:miter;stroke-opacity:1;\"/>\n",
       "<path d=\"M 664.3,428.6 L 665.0,425.3 L 662.5,423.1\" style=\"fill:none;stroke:#000000;stroke-width:2.0px;stroke-linecap:butt;stroke-linejoin:miter;stroke-opacity:1;\"/>\n",
       "<path d=\"M 617.8,383.6 L 615.3,381.4 L 612.2,382.5\" style=\"fill:none;stroke:#000000;stroke-width:2.0px;stroke-linecap:butt;stroke-linejoin:miter;stroke-opacity:1;\"/>\n",
       "<path d=\"M 575.7,273.6 L 578.8,272.5 L 579.5,269.3\" style=\"fill:none;stroke:#000000;stroke-width:2.0px;stroke-linecap:butt;stroke-linejoin:miter;stroke-opacity:1;\"/>\n",
       "<path d=\"M 591.3,210.8 L 592.0,207.6 L 589.5,205.4\" style=\"fill:none;stroke:#000000;stroke-width:2.0px;stroke-linecap:butt;stroke-linejoin:miter;stroke-opacity:1;\"/>\n",
       "<path d=\"M 482.6,183.7 L 479.4,184.7 L 478.8,188.0\" style=\"fill:none;stroke:#000000;stroke-width:2.0px;stroke-linecap:butt;stroke-linejoin:miter;stroke-opacity:1;\"/>\n",
       "<path d=\"M 466.9,246.5 L 466.3,249.7 L 468.8,251.9\" style=\"fill:none;stroke:#000000;stroke-width:2.0px;stroke-linecap:butt;stroke-linejoin:miter;stroke-opacity:1;\"/>\n",
       "<path d=\"M 392.7,338.0 L 390.2,335.8 L 387.1,336.8\" style=\"fill:none;stroke:#000000;stroke-width:2.0px;stroke-linecap:butt;stroke-linejoin:miter;stroke-opacity:1;\"/>\n",
       "<path d=\"M 330.5,355.8 L 327.4,356.9 L 326.7,360.1\" style=\"fill:none;stroke:#000000;stroke-width:2.0px;stroke-linecap:butt;stroke-linejoin:miter;stroke-opacity:1;\"/>\n",
       "<path class=\"atom-0\" d=\"M 35.0 268.0 Q 35.0 263.3, 37.2 260.9 Q 39.4 258.4, 43.5 258.4 Q 47.4 258.4, 49.5 261.1 L 47.7 262.6 Q 46.2 260.6, 43.5 260.6 Q 40.7 260.6, 39.2 262.5 Q 37.7 264.4, 37.7 268.0 Q 37.7 271.7, 39.2 273.6 Q 40.8 275.5, 43.8 275.5 Q 45.9 275.5, 48.3 274.2 L 49.1 276.2 Q 48.1 276.9, 46.6 277.2 Q 45.1 277.6, 43.5 277.6 Q 39.4 277.6, 37.2 275.1 Q 35.0 272.6, 35.0 268.0 \" fill=\"#00CC00\"/>\n",
       "<path class=\"atom-0\" d=\"M 51.4 257.3 L 53.8 257.3 L 53.8 277.4 L 51.4 277.4 L 51.4 257.3 \" fill=\"#00CC00\"/>\n",
       "<path class=\"atom-7\" d=\"M 247.2 433.5 L 253.3 443.5 Q 254.0 444.4, 254.9 446.2 Q 255.9 448.0, 256.0 448.1 L 256.0 433.5 L 258.5 433.5 L 258.5 452.3 L 255.9 452.3 L 249.3 441.4 Q 248.5 440.2, 247.7 438.7 Q 246.9 437.2, 246.7 436.8 L 246.7 452.3 L 244.2 452.3 L 244.2 433.5 L 247.2 433.5 \" fill=\"#0000FF\"/>\n",
       "<path class=\"atom-7\" d=\"M 244.0 454.2 L 246.5 454.2 L 246.5 462.2 L 256.1 462.2 L 256.1 454.2 L 258.7 454.2 L 258.7 472.9 L 256.1 472.9 L 256.1 464.3 L 246.5 464.3 L 246.5 472.9 L 244.0 472.9 L 244.0 454.2 \" fill=\"#0000FF\"/>\n",
       "<path class=\"atom-11\" d=\"M 472.3 479.2 L 478.4 489.1 Q 479.0 490.1, 480.0 491.9 Q 481.0 493.6, 481.1 493.7 L 481.1 479.2 L 483.5 479.2 L 483.5 497.9 L 481.0 497.9 L 474.4 487.1 Q 473.6 485.8, 472.8 484.3 Q 472.0 482.9, 471.7 482.4 L 471.7 497.9 L 469.3 497.9 L 469.3 479.2 L 472.3 479.2 \" fill=\"#0000FF\"/>\n",
       "<path class=\"atom-18\" d=\"M 498.6 349.2 L 504.8 359.2 Q 505.4 360.1, 506.4 361.9 Q 507.3 363.7, 507.4 363.8 L 507.4 349.2 L 509.9 349.2 L 509.9 368.0 L 507.3 368.0 L 500.7 357.1 Q 500.0 355.8, 499.1 354.4 Q 498.3 352.9, 498.1 352.5 L 498.1 368.0 L 495.7 368.0 L 495.7 349.2 L 498.6 349.2 \" fill=\"#0000FF\"/>\n",
       "<path class=\"atom-23\" d=\"M 548.2 99.3 Q 548.2 94.7, 550.4 92.2 Q 552.6 89.8, 556.8 89.8 Q 560.6 89.8, 562.7 92.5 L 561.0 93.9 Q 559.5 91.9, 556.8 91.9 Q 553.9 91.9, 552.4 93.9 Q 550.9 95.7, 550.9 99.3 Q 550.9 103.1, 552.5 105.0 Q 554.0 106.9, 557.1 106.9 Q 559.1 106.9, 561.6 105.6 L 562.3 107.6 Q 561.3 108.3, 559.8 108.6 Q 558.3 109.0, 556.7 109.0 Q 552.6 109.0, 550.4 106.5 Q 548.2 104.0, 548.2 99.3 \" fill=\"#00CC00\"/>\n",
       "<path class=\"atom-23\" d=\"M 564.6 88.6 L 567.1 88.6 L 567.1 108.8 L 564.6 108.8 L 564.6 88.6 \" fill=\"#00CC00\"/>\n",
       "<path class=\"atom-29\" d=\"M 252.2 303.6 L 254.7 303.6 L 254.7 311.6 L 264.3 311.6 L 264.3 303.6 L 266.9 303.6 L 266.9 322.3 L 264.3 322.3 L 264.3 313.7 L 254.7 313.7 L 254.7 322.3 L 252.2 322.3 L 252.2 303.6 \" fill=\"#0000FF\"/>\n",
       "<path class=\"atom-29\" d=\"M 273.5 303.6 L 279.7 313.5 Q 280.3 314.5, 281.3 316.3 Q 282.3 318.0, 282.3 318.2 L 282.3 303.6 L 284.8 303.6 L 284.8 322.3 L 282.2 322.3 L 275.6 311.5 Q 274.9 310.2, 274.0 308.7 Q 273.2 307.3, 273.0 306.8 L 273.0 322.3 L 270.6 322.3 L 270.6 303.6 L 273.5 303.6 \" fill=\"#0000FF\"/>\n",
       "<text x=\"350.0\" y=\"40\" font-family=\"Helvetica\" font-size=\"12\" font-weight=\"bold\" fill=\"black\" text-anchor=\"middle\"/></svg>"
      ],
      "text/plain": [
       "<IPython.core.display.SVG object>"
      ]
     },
     "execution_count": 6,
     "metadata": {},
     "output_type": "execute_result"
    }
   ],
   "source": [
    "abdulelah_gani_p.get_groups(wrong_smiles, \"smiles\").draw(width=700, height=600)"
   ]
  },
  {
   "cell_type": "code",
   "execution_count": 7,
   "metadata": {},
   "outputs": [
    {
     "name": "stdout",
     "output_type": "stream",
     "text": [
      "1\n"
     ]
    },
    {
     "data": {
      "image/png": "[encoded data removed]",
      "text/plain": [
       "<rdkit.Chem.rdchem.Mol at 0x7f1fc4154a50>"
      ]
     },
     "execution_count": 7,
     "metadata": {},
     "output_type": "execute_result"
    }
   ],
   "source": [
    "idx = 10\n",
    "\n",
    "ocurr = df[df[369]>0][369].values[idx]\n",
    "print(ocurr)\n",
    "smiles = df[df[369]>0].index[idx]\n",
    "\n",
    "mol = instantiate_mol_object(smiles, \"smiles\")\n",
    "\n",
    "mol"
   ]
  },
  {
   "cell_type": "code",
   "execution_count": 8,
   "metadata": {},
   "outputs": [],
   "source": [
    "column_sums = df.sum()\n",
    "\n",
    "# Identificar columnas cuya suma es igual a 0\n",
    "columns_with_zero_sum = column_sums[column_sums == 0].index.tolist()"
   ]
  },
  {
   "cell_type": "code",
   "execution_count": 9,
   "metadata": {},
   "outputs": [
    {
     "data": {
      "text/plain": [
       "[355, 356, 357, 358, 360, 361, 363, 371, 376, 383, 390, 413]"
      ]
     },
     "execution_count": 9,
     "metadata": {},
     "output_type": "execute_result"
    }
   ],
   "source": [
    "columns_with_zero_sum"
   ]
  }
 ],
 "metadata": {
  "kernelspec": {
   "display_name": "ugropy",
   "language": "python",
   "name": "python3"
  },
  "language_info": {
   "codemirror_mode": {
    "name": "ipython",
    "version": 3
   },
   "file_extension": ".py",
   "mimetype": "text/x-python",
   "name": "python",
   "nbconvert_exporter": "python",
   "pygments_lexer": "ipython3",
   "version": "3.10.12"
  }
 },
 "nbformat": 4,
 "nbformat_minor": 2
}
