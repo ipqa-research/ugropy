{
 "cells": [
  {
   "cell_type": "code",
   "execution_count": 1,
   "metadata": {},
   "outputs": [],
   "source": [
    "from ugropy import abdulelah_gani, abdulelah_gani_p, instantiate_mol_object\n",
    "\n",
    "import pandas as pd\n",
    "\n",
    "import numpy as np\n",
    "\n",
    "from rdkit.Chem import Draw\n",
    "from rdkit import Chem"
   ]
  },
  {
   "cell_type": "code",
   "execution_count": 2,
   "metadata": {},
   "outputs": [
    {
     "name": "stdout",
     "output_type": "stream",
     "text": [
      "9180\n"
     ]
    }
   ],
   "source": [
    "df = pd.read_csv(\"abdulelah_gani_frags/tm.csv\", index_col=\"SMILES\", sep=\"|\", comment=\"?\")\n",
    "\n",
    "primary = np.linspace(1, 220, 220, dtype=int).astype(str)\n",
    "\n",
    "df = df[primary]\n",
    "df.rename(columns=lambda col: int(col) if col.isdigit() else col, inplace=True)\n",
    "\n",
    "df.dropna(inplace=True)\n",
    "\n",
    "print(len(df))"
   ]
  },
  {
   "cell_type": "code",
   "execution_count": 3,
   "metadata": {},
   "outputs": [
    {
     "name": "stdout",
     "output_type": "stream",
     "text": [
      "O=C(O)CNCP(=O)(O)O\n",
      "3\n",
      "Subgrupos:\n",
      "{'CH2': 1, 'OH': 2, 'COOH': 1, 'CH2NH': 1, 'P=O': 1}\n",
      "Subgrupos por número:\n",
      "{2: 1, 29: 2, 31: 1, 58: 1, 201: 1}\n",
      "Gani: \n",
      "{1: {'O=C(O)CNCP(=O)(O)O': nan}, 2: {'O=C(O)CNCP(=O)(O)O': 1.0}, 3: {'O=C(O)CNCP(=O)(O)O': nan}, 4: {'O=C(O)CNCP(=O)(O)O': nan}, 5: {'O=C(O)CNCP(=O)(O)O': nan}, 6: {'O=C(O)CNCP(=O)(O)O': nan}, 7: {'O=C(O)CNCP(=O)(O)O': nan}, 8: {'O=C(O)CNCP(=O)(O)O': nan}, 9: {'O=C(O)CNCP(=O)(O)O': nan}, 10: {'O=C(O)CNCP(=O)(O)O': nan}, 11: {'O=C(O)CNCP(=O)(O)O': nan}, 12: {'O=C(O)CNCP(=O)(O)O': nan}, 13: {'O=C(O)CNCP(=O)(O)O': nan}, 14: {'O=C(O)CNCP(=O)(O)O': nan}, 15: {'O=C(O)CNCP(=O)(O)O': nan}, 16: {'O=C(O)CNCP(=O)(O)O': nan}, 17: {'O=C(O)CNCP(=O)(O)O': nan}, 18: {'O=C(O)CNCP(=O)(O)O': nan}, 19: {'O=C(O)CNCP(=O)(O)O': nan}, 20: {'O=C(O)CNCP(=O)(O)O': nan}, 21: {'O=C(O)CNCP(=O)(O)O': nan}, 22: {'O=C(O)CNCP(=O)(O)O': nan}, 23: {'O=C(O)CNCP(=O)(O)O': nan}, 24: {'O=C(O)CNCP(=O)(O)O': nan}, 25: {'O=C(O)CNCP(=O)(O)O': nan}, 26: {'O=C(O)CNCP(=O)(O)O': nan}, 27: {'O=C(O)CNCP(=O)(O)O': nan}, 28: {'O=C(O)CNCP(=O)(O)O': nan}, 29: {'O=C(O)CNCP(=O)(O)O': 2.0}, 30: {'O=C(O)CNCP(=O)(O)O': nan}, 31: {'O=C(O)CNCP(=O)(O)O': 1.0}, 32: {'O=C(O)CNCP(=O)(O)O': nan}, 33: {'O=C(O)CNCP(=O)(O)O': nan}, 34: {'O=C(O)CNCP(=O)(O)O': nan}, 35: {'O=C(O)CNCP(=O)(O)O': nan}, 36: {'O=C(O)CNCP(=O)(O)O': nan}, 37: {'O=C(O)CNCP(=O)(O)O': nan}, 38: {'O=C(O)CNCP(=O)(O)O': nan}, 39: {'O=C(O)CNCP(=O)(O)O': nan}, 40: {'O=C(O)CNCP(=O)(O)O': nan}, 41: {'O=C(O)CNCP(=O)(O)O': nan}, 42: {'O=C(O)CNCP(=O)(O)O': nan}, 43: {'O=C(O)CNCP(=O)(O)O': nan}, 44: {'O=C(O)CNCP(=O)(O)O': nan}, 45: {'O=C(O)CNCP(=O)(O)O': nan}, 46: {'O=C(O)CNCP(=O)(O)O': nan}, 47: {'O=C(O)CNCP(=O)(O)O': nan}, 48: {'O=C(O)CNCP(=O)(O)O': nan}, 49: {'O=C(O)CNCP(=O)(O)O': nan}, 50: {'O=C(O)CNCP(=O)(O)O': nan}, 51: {'O=C(O)CNCP(=O)(O)O': nan}, 52: {'O=C(O)CNCP(=O)(O)O': nan}, 53: {'O=C(O)CNCP(=O)(O)O': nan}, 54: {'O=C(O)CNCP(=O)(O)O': nan}, 55: {'O=C(O)CNCP(=O)(O)O': nan}, 56: {'O=C(O)CNCP(=O)(O)O': nan}, 57: {'O=C(O)CNCP(=O)(O)O': nan}, 58: {'O=C(O)CNCP(=O)(O)O': 1.0}, 59: {'O=C(O)CNCP(=O)(O)O': nan}, 60: {'O=C(O)CNCP(=O)(O)O': nan}, 61: {'O=C(O)CNCP(=O)(O)O': nan}, 62: {'O=C(O)CNCP(=O)(O)O': nan}, 63: {'O=C(O)CNCP(=O)(O)O': nan}, 64: {'O=C(O)CNCP(=O)(O)O': nan}, 65: {'O=C(O)CNCP(=O)(O)O': nan}, 66: {'O=C(O)CNCP(=O)(O)O': nan}, 67: {'O=C(O)CNCP(=O)(O)O': nan}, 68: {'O=C(O)CNCP(=O)(O)O': nan}, 69: {'O=C(O)CNCP(=O)(O)O': nan}, 70: {'O=C(O)CNCP(=O)(O)O': nan}, 71: {'O=C(O)CNCP(=O)(O)O': nan}, 72: {'O=C(O)CNCP(=O)(O)O': nan}, 73: {'O=C(O)CNCP(=O)(O)O': nan}, 74: {'O=C(O)CNCP(=O)(O)O': nan}, 75: {'O=C(O)CNCP(=O)(O)O': nan}, 76: {'O=C(O)CNCP(=O)(O)O': nan}, 77: {'O=C(O)CNCP(=O)(O)O': nan}, 78: {'O=C(O)CNCP(=O)(O)O': nan}, 79: {'O=C(O)CNCP(=O)(O)O': nan}, 80: {'O=C(O)CNCP(=O)(O)O': nan}, 81: {'O=C(O)CNCP(=O)(O)O': nan}, 82: {'O=C(O)CNCP(=O)(O)O': nan}, 83: {'O=C(O)CNCP(=O)(O)O': nan}, 84: {'O=C(O)CNCP(=O)(O)O': nan}, 85: {'O=C(O)CNCP(=O)(O)O': nan}, 86: {'O=C(O)CNCP(=O)(O)O': nan}, 87: {'O=C(O)CNCP(=O)(O)O': nan}, 88: {'O=C(O)CNCP(=O)(O)O': nan}, 89: {'O=C(O)CNCP(=O)(O)O': nan}, 90: {'O=C(O)CNCP(=O)(O)O': nan}, 91: {'O=C(O)CNCP(=O)(O)O': nan}, 92: {'O=C(O)CNCP(=O)(O)O': nan}, 93: {'O=C(O)CNCP(=O)(O)O': nan}, 94: {'O=C(O)CNCP(=O)(O)O': nan}, 95: {'O=C(O)CNCP(=O)(O)O': nan}, 96: {'O=C(O)CNCP(=O)(O)O': nan}, 97: {'O=C(O)CNCP(=O)(O)O': nan}, 98: {'O=C(O)CNCP(=O)(O)O': nan}, 99: {'O=C(O)CNCP(=O)(O)O': nan}, 100: {'O=C(O)CNCP(=O)(O)O': nan}, 101: {'O=C(O)CNCP(=O)(O)O': nan}, 102: {'O=C(O)CNCP(=O)(O)O': nan}, 103: {'O=C(O)CNCP(=O)(O)O': nan}, 104: {'O=C(O)CNCP(=O)(O)O': nan}, 105: {'O=C(O)CNCP(=O)(O)O': nan}, 106: {'O=C(O)CNCP(=O)(O)O': nan}, 107: {'O=C(O)CNCP(=O)(O)O': nan}, 108: {'O=C(O)CNCP(=O)(O)O': nan}, 109: {'O=C(O)CNCP(=O)(O)O': nan}, 110: {'O=C(O)CNCP(=O)(O)O': nan}, 111: {'O=C(O)CNCP(=O)(O)O': nan}, 112: {'O=C(O)CNCP(=O)(O)O': nan}, 113: {'O=C(O)CNCP(=O)(O)O': nan}, 114: {'O=C(O)CNCP(=O)(O)O': nan}, 115: {'O=C(O)CNCP(=O)(O)O': nan}, 116: {'O=C(O)CNCP(=O)(O)O': nan}, 117: {'O=C(O)CNCP(=O)(O)O': nan}, 118: {'O=C(O)CNCP(=O)(O)O': nan}, 119: {'O=C(O)CNCP(=O)(O)O': nan}, 120: {'O=C(O)CNCP(=O)(O)O': nan}, 121: {'O=C(O)CNCP(=O)(O)O': nan}, 122: {'O=C(O)CNCP(=O)(O)O': nan}, 123: {'O=C(O)CNCP(=O)(O)O': nan}, 124: {'O=C(O)CNCP(=O)(O)O': nan}, 125: {'O=C(O)CNCP(=O)(O)O': nan}, 126: {'O=C(O)CNCP(=O)(O)O': nan}, 127: {'O=C(O)CNCP(=O)(O)O': nan}, 128: {'O=C(O)CNCP(=O)(O)O': nan}, 129: {'O=C(O)CNCP(=O)(O)O': nan}, 130: {'O=C(O)CNCP(=O)(O)O': nan}, 131: {'O=C(O)CNCP(=O)(O)O': nan}, 132: {'O=C(O)CNCP(=O)(O)O': nan}, 133: {'O=C(O)CNCP(=O)(O)O': nan}, 134: {'O=C(O)CNCP(=O)(O)O': nan}, 135: {'O=C(O)CNCP(=O)(O)O': nan}, 136: {'O=C(O)CNCP(=O)(O)O': nan}, 137: {'O=C(O)CNCP(=O)(O)O': nan}, 138: {'O=C(O)CNCP(=O)(O)O': nan}, 139: {'O=C(O)CNCP(=O)(O)O': nan}, 140: {'O=C(O)CNCP(=O)(O)O': nan}, 141: {'O=C(O)CNCP(=O)(O)O': nan}, 142: {'O=C(O)CNCP(=O)(O)O': nan}, 143: {'O=C(O)CNCP(=O)(O)O': nan}, 144: {'O=C(O)CNCP(=O)(O)O': nan}, 145: {'O=C(O)CNCP(=O)(O)O': nan}, 146: {'O=C(O)CNCP(=O)(O)O': nan}, 147: {'O=C(O)CNCP(=O)(O)O': nan}, 148: {'O=C(O)CNCP(=O)(O)O': nan}, 149: {'O=C(O)CNCP(=O)(O)O': nan}, 150: {'O=C(O)CNCP(=O)(O)O': nan}, 151: {'O=C(O)CNCP(=O)(O)O': nan}, 152: {'O=C(O)CNCP(=O)(O)O': nan}, 153: {'O=C(O)CNCP(=O)(O)O': nan}, 154: {'O=C(O)CNCP(=O)(O)O': nan}, 155: {'O=C(O)CNCP(=O)(O)O': nan}, 156: {'O=C(O)CNCP(=O)(O)O': nan}, 157: {'O=C(O)CNCP(=O)(O)O': nan}, 158: {'O=C(O)CNCP(=O)(O)O': nan}, 159: {'O=C(O)CNCP(=O)(O)O': nan}, 160: {'O=C(O)CNCP(=O)(O)O': nan}, 161: {'O=C(O)CNCP(=O)(O)O': nan}, 162: {'O=C(O)CNCP(=O)(O)O': nan}, 163: {'O=C(O)CNCP(=O)(O)O': nan}, 164: {'O=C(O)CNCP(=O)(O)O': nan}, 165: {'O=C(O)CNCP(=O)(O)O': nan}, 166: {'O=C(O)CNCP(=O)(O)O': nan}, 167: {'O=C(O)CNCP(=O)(O)O': nan}, 168: {'O=C(O)CNCP(=O)(O)O': nan}, 169: {'O=C(O)CNCP(=O)(O)O': nan}, 170: {'O=C(O)CNCP(=O)(O)O': nan}, 171: {'O=C(O)CNCP(=O)(O)O': nan}, 172: {'O=C(O)CNCP(=O)(O)O': nan}, 173: {'O=C(O)CNCP(=O)(O)O': nan}, 174: {'O=C(O)CNCP(=O)(O)O': nan}, 175: {'O=C(O)CNCP(=O)(O)O': nan}, 176: {'O=C(O)CNCP(=O)(O)O': nan}, 177: {'O=C(O)CNCP(=O)(O)O': nan}, 178: {'O=C(O)CNCP(=O)(O)O': nan}, 179: {'O=C(O)CNCP(=O)(O)O': nan}, 180: {'O=C(O)CNCP(=O)(O)O': nan}, 181: {'O=C(O)CNCP(=O)(O)O': nan}, 182: {'O=C(O)CNCP(=O)(O)O': nan}, 183: {'O=C(O)CNCP(=O)(O)O': nan}, 184: {'O=C(O)CNCP(=O)(O)O': nan}, 185: {'O=C(O)CNCP(=O)(O)O': nan}, 186: {'O=C(O)CNCP(=O)(O)O': nan}, 187: {'O=C(O)CNCP(=O)(O)O': nan}, 188: {'O=C(O)CNCP(=O)(O)O': nan}, 189: {'O=C(O)CNCP(=O)(O)O': nan}, 190: {'O=C(O)CNCP(=O)(O)O': nan}, 191: {'O=C(O)CNCP(=O)(O)O': nan}, 192: {'O=C(O)CNCP(=O)(O)O': nan}, 193: {'O=C(O)CNCP(=O)(O)O': nan}, 194: {'O=C(O)CNCP(=O)(O)O': nan}, 195: {'O=C(O)CNCP(=O)(O)O': nan}, 196: {'O=C(O)CNCP(=O)(O)O': nan}, 197: {'O=C(O)CNCP(=O)(O)O': nan}, 198: {'O=C(O)CNCP(=O)(O)O': nan}, 199: {'O=C(O)CNCP(=O)(O)O': nan}, 200: {'O=C(O)CNCP(=O)(O)O': nan}, 201: {'O=C(O)CNCP(=O)(O)O': 1.0}, 202: {'O=C(O)CNCP(=O)(O)O': nan}, 203: {'O=C(O)CNCP(=O)(O)O': nan}, 204: {'O=C(O)CNCP(=O)(O)O': nan}, 205: {'O=C(O)CNCP(=O)(O)O': nan}, 206: {'O=C(O)CNCP(=O)(O)O': nan}, 207: {'O=C(O)CNCP(=O)(O)O': nan}, 208: {'O=C(O)CNCP(=O)(O)O': nan}, 209: {'O=C(O)CNCP(=O)(O)O': nan}, 210: {'O=C(O)CNCP(=O)(O)O': nan}, 211: {'O=C(O)CNCP(=O)(O)O': nan}, 212: {'O=C(O)CNCP(=O)(O)O': nan}, 213: {'O=C(O)CNCP(=O)(O)O': nan}, 214: {'O=C(O)CNCP(=O)(O)O': nan}, 215: {'O=C(O)CNCP(=O)(O)O': nan}, 216: {'O=C(O)CNCP(=O)(O)O': nan}, 217: {'O=C(O)CNCP(=O)(O)O': nan}, 218: {'O=C(O)CNCP(=O)(O)O': nan}, 219: {'O=C(O)CNCP(=O)(O)O': nan}, 220: {'O=C(O)CNCP(=O)(O)O': nan}}\n",
      "Gani group names:\n",
      "{'CH3': {'O=C(O)CNCP(=O)(O)O': nan}, 'CH2': {'O=C(O)CNCP(=O)(O)O': 1.0}, 'CH': {'O=C(O)CNCP(=O)(O)O': nan}, 'C': {'O=C(O)CNCP(=O)(O)O': nan}, 'CH2=CH': {'O=C(O)CNCP(=O)(O)O': nan}, 'CH=CH': {'O=C(O)CNCP(=O)(O)O': nan}, 'CH2=C': {'O=C(O)CNCP(=O)(O)O': nan}, 'CH=C': {'O=C(O)CNCP(=O)(O)O': nan}, 'C=C': {'O=C(O)CNCP(=O)(O)O': nan}, 'CH2=C=CH': {'O=C(O)CNCP(=O)(O)O': nan}, 'CH2=C=C': {'O=C(O)CNCP(=O)(O)O': nan}, 'C=C=C': {'O=C(O)CNCP(=O)(O)O': nan}, 'CH≡C': {'O=C(O)CNCP(=O)(O)O': nan}, 'C≡C': {'O=C(O)CNCP(=O)(O)O': nan}, 'aCH': {'O=C(O)CNCP(=O)(O)O': nan}, 'aC fused with aromatic ring': {'O=C(O)CNCP(=O)(O)O': nan}, 'aC fused with non-aromatic ring': {'O=C(O)CNCP(=O)(O)O': nan}, 'aC except as above': {'O=C(O)CNCP(=O)(O)O': nan}, 'aN in aromatic ring': {'O=C(O)CNCP(=O)(O)O': nan}, 'aC-CH3': {'O=C(O)CNCP(=O)(O)O': nan}, 'aC-CH2': {'O=C(O)CNCP(=O)(O)O': nan}, 'aC-CH': {'O=C(O)CNCP(=O)(O)O': nan}, 'aC-C': {'O=C(O)CNCP(=O)(O)O': nan}, 'aC-CH=CH2': {'O=C(O)CNCP(=O)(O)O': nan}, 'aC-CH=CH': {'O=C(O)CNCP(=O)(O)O': nan}, 'aC-C=CH2': {'O=C(O)CNCP(=O)(O)O': nan}, 'aC-C≡CH': {'O=C(O)CNCP(=O)(O)O': nan}, 'aC-C≡C': {'O=C(O)CNCP(=O)(O)O': nan}, 'OH': {'O=C(O)CNCP(=O)(O)O': 2.0}, 'aC-OH': {'O=C(O)CNCP(=O)(O)O': nan}, 'COOH': {'O=C(O)CNCP(=O)(O)O': 1.0}, 'aC-COOH': {'O=C(O)CNCP(=O)(O)O': nan}, 'CH3CO': {'O=C(O)CNCP(=O)(O)O': nan}, 'CH2CO': {'O=C(O)CNCP(=O)(O)O': nan}, 'CHCO': {'O=C(O)CNCP(=O)(O)O': nan}, 'CCO': {'O=C(O)CNCP(=O)(O)O': nan}, 'aC-CO': {'O=C(O)CNCP(=O)(O)O': nan}, 'CHO': {'O=C(O)CNCP(=O)(O)O': nan}, 'aC-CHO': {'O=C(O)CNCP(=O)(O)O': nan}, 'CH3COO': {'O=C(O)CNCP(=O)(O)O': nan}, 'CH2COO': {'O=C(O)CNCP(=O)(O)O': nan}, 'CHCOO': {'O=C(O)CNCP(=O)(O)O': nan}, 'CCOO': {'O=C(O)CNCP(=O)(O)O': nan}, 'HCOO': {'O=C(O)CNCP(=O)(O)O': nan}, 'aC-COO': {'O=C(O)CNCP(=O)(O)O': nan}, 'aC-OOCH': {'O=C(O)CNCP(=O)(O)O': nan}, 'aC-OOC': {'O=C(O)CNCP(=O)(O)O': nan}, 'COO except as above': {'O=C(O)CNCP(=O)(O)O': nan}, 'CH3O': {'O=C(O)CNCP(=O)(O)O': nan}, 'CH2O': {'O=C(O)CNCP(=O)(O)O': nan}, 'CH-O': {'O=C(O)CNCP(=O)(O)O': nan}, 'C-O': {'O=C(O)CNCP(=O)(O)O': nan}, 'aC-O': {'O=C(O)CNCP(=O)(O)O': nan}, 'CH2NH2': {'O=C(O)CNCP(=O)(O)O': nan}, 'CHNH2': {'O=C(O)CNCP(=O)(O)O': nan}, 'CNH2': {'O=C(O)CNCP(=O)(O)O': nan}, 'CH3NH': {'O=C(O)CNCP(=O)(O)O': nan}, 'CH2NH': {'O=C(O)CNCP(=O)(O)O': 1.0}, 'CHNH': {'O=C(O)CNCP(=O)(O)O': nan}, 'CH3N': {'O=C(O)CNCP(=O)(O)O': nan}, 'CH2N': {'O=C(O)CNCP(=O)(O)O': nan}, 'aC-NH2': {'O=C(O)CNCP(=O)(O)O': nan}, 'aC-NH': {'O=C(O)CNCP(=O)(O)O': nan}, 'aC-N': {'O=C(O)CNCP(=O)(O)O': nan}, 'NH2 except as above': {'O=C(O)CNCP(=O)(O)O': nan}, 'CH=N': {'O=C(O)CNCP(=O)(O)O': nan}, 'C=N': {'O=C(O)CNCP(=O)(O)O': nan}, 'CH2CN': {'O=C(O)CNCP(=O)(O)O': nan}, 'CHCN': {'O=C(O)CNCP(=O)(O)O': nan}, 'CCN': {'O=C(O)CNCP(=O)(O)O': nan}, 'aC-CN': {'O=C(O)CNCP(=O)(O)O': nan}, 'CN except as above': {'O=C(O)CNCP(=O)(O)O': nan}, 'CH2NCO': {'O=C(O)CNCP(=O)(O)O': nan}, 'CHNCO': {'O=C(O)CNCP(=O)(O)O': nan}, 'CNCO': {'O=C(O)CNCP(=O)(O)O': nan}, 'aC-NCO': {'O=C(O)CNCP(=O)(O)O': nan}, 'CH2NO2': {'O=C(O)CNCP(=O)(O)O': nan}, 'CHNO2': {'O=C(O)CNCP(=O)(O)O': nan}, 'CNO2': {'O=C(O)CNCP(=O)(O)O': nan}, 'aC-NO2': {'O=C(O)CNCP(=O)(O)O': nan}, 'NO2 except as above': {'O=C(O)CNCP(=O)(O)O': nan}, 'ONO': {'O=C(O)CNCP(=O)(O)O': nan}, 'ONO2': {'O=C(O)CNCP(=O)(O)O': nan}, 'HCON(CH2)2': {'O=C(O)CNCP(=O)(O)O': nan}, 'HCONHCH2': {'O=C(O)CNCP(=O)(O)O': nan}, 'CONH2': {'O=C(O)CNCP(=O)(O)O': nan}, 'CONHCH3': {'O=C(O)CNCP(=O)(O)O': nan}, 'CONHCH2': {'O=C(O)CNCP(=O)(O)O': nan}, 'CON(CH3)2': {'O=C(O)CNCP(=O)(O)O': nan}, 'CONCH3CH2': {'O=C(O)CNCP(=O)(O)O': nan}, 'CON(CH2)2': {'O=C(O)CNCP(=O)(O)O': nan}, 'CONHCO': {'O=C(O)CNCP(=O)(O)O': nan}, 'CONCO': {'O=C(O)CNCP(=O)(O)O': nan}, 'aC-CONH2': {'O=C(O)CNCP(=O)(O)O': nan}, 'aC-NH(CO)H': {'O=C(O)CNCP(=O)(O)O': nan}, 'aC-N(CO)H': {'O=C(O)CNCP(=O)(O)O': nan}, 'aC-CONH': {'O=C(O)CNCP(=O)(O)O': nan}, 'aC-NHCO': {'O=C(O)CNCP(=O)(O)O': nan}, 'aC-(N)CO': {'O=C(O)CNCP(=O)(O)O': nan}, 'NHCONH': {'O=C(O)CNCP(=O)(O)O': nan}, 'NH2CONH': {'O=C(O)CNCP(=O)(O)O': nan}, 'NH2CON': {'O=C(O)CNCP(=O)(O)O': nan}, 'NHCON': {'O=C(O)CNCP(=O)(O)O': nan}, 'NCON': {'O=C(O)CNCP(=O)(O)O': nan}, 'aC-NHCONH2': {'O=C(O)CNCP(=O)(O)O': nan}, 'aC-NHCONH': {'O=C(O)CNCP(=O)(O)O': nan}, 'NHCO except as above': {'O=C(O)CNCP(=O)(O)O': nan}, 'CH2Cl': {'O=C(O)CNCP(=O)(O)O': nan}, 'CHCl': {'O=C(O)CNCP(=O)(O)O': nan}, 'CCl': {'O=C(O)CNCP(=O)(O)O': nan}, 'CHCl2': {'O=C(O)CNCP(=O)(O)O': nan}, 'CCl2': {'O=C(O)CNCP(=O)(O)O': nan}, 'CCl3': {'O=C(O)CNCP(=O)(O)O': nan}, 'CH2F': {'O=C(O)CNCP(=O)(O)O': nan}, 'CHF': {'O=C(O)CNCP(=O)(O)O': nan}, 'CF': {'O=C(O)CNCP(=O)(O)O': nan}, 'CHF2': {'O=C(O)CNCP(=O)(O)O': nan}, 'CF2': {'O=C(O)CNCP(=O)(O)O': nan}, 'CF3': {'O=C(O)CNCP(=O)(O)O': nan}, 'CCl2F': {'O=C(O)CNCP(=O)(O)O': nan}, 'HCClF': {'O=C(O)CNCP(=O)(O)O': nan}, 'CClF2': {'O=C(O)CNCP(=O)(O)O': nan}, 'aC-Cl': {'O=C(O)CNCP(=O)(O)O': nan}, 'aC-F': {'O=C(O)CNCP(=O)(O)O': nan}, 'aC-I': {'O=C(O)CNCP(=O)(O)O': nan}, 'aC-Br': {'O=C(O)CNCP(=O)(O)O': nan}, '-I except as above': {'O=C(O)CNCP(=O)(O)O': nan}, '-Br except as above': {'O=C(O)CNCP(=O)(O)O': nan}, '-F except as above': {'O=C(O)CNCP(=O)(O)O': nan}, '-Cl except as above': {'O=C(O)CNCP(=O)(O)O': nan}, 'CHNOH': {'O=C(O)CNCP(=O)(O)O': nan}, 'CNOH': {'O=C(O)CNCP(=O)(O)O': nan}, 'aC-CHNOH': {'O=C(O)CNCP(=O)(O)O': nan}, 'OCH2CH2OH': {'O=C(O)CNCP(=O)(O)O': nan}, 'OCHCH2OH': {'O=C(O)CNCP(=O)(O)O': nan}, 'OCH2CHOH': {'O=C(O)CNCP(=O)(O)O': nan}, '-O-OH': {'O=C(O)CNCP(=O)(O)O': nan}, 'CH2SH': {'O=C(O)CNCP(=O)(O)O': nan}, 'CHSH': {'O=C(O)CNCP(=O)(O)O': nan}, 'CSH': {'O=C(O)CNCP(=O)(O)O': nan}, 'aC-SH': {'O=C(O)CNCP(=O)(O)O': nan}, '-SH except as above': {'O=C(O)CNCP(=O)(O)O': nan}, 'CH3S': {'O=C(O)CNCP(=O)(O)O': nan}, 'CH2S': {'O=C(O)CNCP(=O)(O)O': nan}, 'CHS': {'O=C(O)CNCP(=O)(O)O': nan}, 'CS': {'O=C(O)CNCP(=O)(O)O': nan}, 'aC-S-': {'O=C(O)CNCP(=O)(O)O': nan}, 'SO': {'O=C(O)CNCP(=O)(O)O': nan}, 'SO2': {'O=C(O)CNCP(=O)(O)O': nan}, 'SO3 (sulfite)': {'O=C(O)CNCP(=O)(O)O': nan}, 'SO3 (Sulfonate)': {'O=C(O)CNCP(=O)(O)O': nan}, 'SO4 (Sulfate)': {'O=C(O)CNCP(=O)(O)O': nan}, 'aC-SO': {'O=C(O)CNCP(=O)(O)O': nan}, 'aC-SO2': {'O=C(O)CNCP(=O)(O)O': nan}, 'PH (phosphine)': {'O=C(O)CNCP(=O)(O)O': nan}, 'P (Phospine)': {'O=C(O)CNCP(=O)(O)O': nan}, 'PO3 (Phospite)': {'O=C(O)CNCP(=O)(O)O': nan}, 'PHO3 (Phosponate)': {'O=C(O)CNCP(=O)(O)O': nan}, 'PO3 (Phosponate)': {'O=C(O)CNCP(=O)(O)O': nan}, 'PHO4 (Phospate)': {'O=C(O)CNCP(=O)(O)O': nan}, 'PO4 (Phospate)': {'O=C(O)CNCP(=O)(O)O': nan}, 'aC-PO4': {'O=C(O)CNCP(=O)(O)O': nan}, 'aC-P': {'O=C(O)CNCP(=O)(O)O': nan}, 'CO3 (Carbonate)': {'O=C(O)CNCP(=O)(O)O': nan}, 'C2H3O': {'O=C(O)CNCP(=O)(O)O': nan}, 'C2H2O': {'O=C(O)CNCP(=O)(O)O': nan}, 'C2HO': {'O=C(O)CNCP(=O)(O)O': nan}, 'CH2 (cyclic)': {'O=C(O)CNCP(=O)(O)O': nan}, 'CH (cyclic)': {'O=C(O)CNCP(=O)(O)O': nan}, 'C (cyclic)': {'O=C(O)CNCP(=O)(O)O': nan}, 'CH=CH (cyclic)': {'O=C(O)CNCP(=O)(O)O': nan}, 'CH=C (cyclic)': {'O=C(O)CNCP(=O)(O)O': nan}, 'C=C (cyclic)': {'O=C(O)CNCP(=O)(O)O': nan}, 'CH2=C (cyclic)': {'O=C(O)CNCP(=O)(O)O': nan}, 'NH (cyclic)': {'O=C(O)CNCP(=O)(O)O': nan}, 'N (cyclic)': {'O=C(O)CNCP(=O)(O)O': nan}, 'CH=N (cyclic)': {'O=C(O)CNCP(=O)(O)O': nan}, 'C=N (cyclic)': {'O=C(O)CNCP(=O)(O)O': nan}, 'O (cyclic)': {'O=C(O)CNCP(=O)(O)O': nan}, 'CO (cyclic)': {'O=C(O)CNCP(=O)(O)O': nan}, 'S (cyclic)': {'O=C(O)CNCP(=O)(O)O': nan}, 'SO2 (cyclic)': {'O=C(O)CNCP(=O)(O)O': nan}, '>NH': {'O=C(O)CNCP(=O)(O)O': nan}, '-O-': {'O=C(O)CNCP(=O)(O)O': nan}, '-S-': {'O=C(O)CNCP(=O)(O)O': nan}, '>CO': {'O=C(O)CNCP(=O)(O)O': nan}, 'PO2': {'O=C(O)CNCP(=O)(O)O': nan}, 'CH-N': {'O=C(O)CNCP(=O)(O)O': nan}, 'SiHO': {'O=C(O)CNCP(=O)(O)O': nan}, 'SiO': {'O=C(O)CNCP(=O)(O)O': nan}, 'SiH2': {'O=C(O)CNCP(=O)(O)O': nan}, 'SiH': {'O=C(O)CNCP(=O)(O)O': nan}, 'Si': {'O=C(O)CNCP(=O)(O)O': nan}, '(CH3)3N': {'O=C(O)CNCP(=O)(O)O': nan}, 'N=N (cyclic)': {'O=C(O)CNCP(=O)(O)O': nan}, 'Ccyclic=N-': {'O=C(O)CNCP(=O)(O)O': nan}, 'Ccyclic=CH-': {'O=C(O)CNCP(=O)(O)O': nan}, 'Ccyclic=NH': {'O=C(O)CNCP(=O)(O)O': nan}, 'N=O': {'O=C(O)CNCP(=O)(O)O': nan}, 'Ccyclic=C': {'O=C(O)CNCP(=O)(O)O': nan}, 'P=O': {'O=C(O)CNCP(=O)(O)O': 1.0}, 'N=N': {'O=C(O)CNCP(=O)(O)O': nan}, 'C=NH': {'O=C(O)CNCP(=O)(O)O': nan}, '>C=S': {'O=C(O)CNCP(=O)(O)O': nan}, 'aC-CON': {'O=C(O)CNCP(=O)(O)O': nan}, 'aC=O': {'O=C(O)CNCP(=O)(O)O': nan}, 'aN-': {'O=C(O)CNCP(=O)(O)O': nan}, '-Na': {'O=C(O)CNCP(=O)(O)O': nan}, '-K': {'O=C(O)CNCP(=O)(O)O': nan}, 'HCONH': {'O=C(O)CNCP(=O)(O)O': nan}, 'CHOCH': {'O=C(O)CNCP(=O)(O)O': nan}, 'C2O': {'O=C(O)CNCP(=O)(O)O': nan}, 'SiH3': {'O=C(O)CNCP(=O)(O)O': nan}, 'SiH2O': {'O=C(O)CNCP(=O)(O)O': nan}, 'CH=C=CH': {'O=C(O)CNCP(=O)(O)O': nan}, 'CH=C=C': {'O=C(O)CNCP(=O)(O)O': nan}, 'OP(=S)O': {'O=C(O)CNCP(=O)(O)O': nan}, 'R': {'O=C(O)CNCP(=O)(O)O': nan}, 'CF2cyclic': {'O=C(O)CNCP(=O)(O)O': nan}, 'CFcyclic': {'O=C(O)CNCP(=O)(O)O': nan}}\n"
     ]
    }
   ],
   "source": [
    "for idx, smiles in enumerate(df.index):\n",
    "    try:  \n",
    "        solution = abdulelah_gani_p.get_groups(smiles, \"smiles\", search_multiple_solutions=True)\n",
    "    except Exception as e:\n",
    "        print(smiles)\n",
    "        print(idx)\n",
    "        print(df.loc[smiles])\n",
    "        raise e        \n",
    "    \n",
    "    # Filtrar las columnas de la fila que no sean iguales a 0\n",
    "    row = df.loc[smiles][df.loc[smiles] != 0]\n",
    "    \n",
    "    # Convertir la fila filtrada a diccionario\n",
    "    row_dict = row.to_dict()\n",
    "\n",
    "    # Verificar si ninguna solución tiene subgroups_numbers igual a row_dict\n",
    "    if all([sol.subgroups_numbers != row_dict for sol in solution]):\n",
    "        print(smiles)\n",
    "        print(idx)\n",
    "        print(\"Subgrupos:\")\n",
    "        print(\"\\n\".join(str(sol.subgroups) for sol in solution))  # Convertir a string y unir con saltos de línea\n",
    "        print(\"Subgrupos por número:\")\n",
    "        print(\"\\n\".join(str(sol.subgroups_numbers) for sol in solution))  # Convertir a string y unir con saltos de línea\n",
    "        print(\"Gani: \")\n",
    "        print(row_dict)\n",
    "        \n",
    "        gani_groups = {}\n",
    "        for group, ocurr in row_dict.items():\n",
    "            group_name = abdulelah_gani_p.subgroups_info.loc[abdulelah_gani_p.subgroups_info[\"group_number\"] == group].index[0]\n",
    "            gani_groups[group_name] = ocurr\n",
    "            \n",
    "        print(\"Gani group names:\")\n",
    "        print(gani_groups)\n",
    "        \n",
    "        wrong_smiles = smiles\n",
    "        break\n"
   ]
  },
  {
   "cell_type": "code",
   "execution_count": 4,
   "metadata": {},
   "outputs": [
    {
     "data": {
      "image/svg+xml": [
       "<svg xmlns=\"http://www.w3.org/2000/svg\" xmlns:rdkit=\"http://www.rdkit.org/xml\" xmlns:xlink=\"http://www.w3.org/1999/xlink\" version=\"1.1\" baseProfile=\"full\" xml:space=\"preserve\" width=\"900px\" height=\"400px\" viewBox=\"0 0 900 400\">\n",
       "<!-- END OF HEADER -->\n",
       "<rect style=\"opacity:1.0;fill:#FFFFFF;stroke:none\" width=\"900.0\" height=\"400.0\" x=\"0.0\" y=\"0.0\"> </rect>\n",
       "<ellipse cx=\"676.3\" cy=\"71.9\" rx=\"27.5\" ry=\"27.5\" class=\"atom-0\" style=\"fill:#2CA02CA5;fill-rule:evenodd;stroke:#2CA02CA5;stroke-width:1.0px;stroke-linecap:butt;stroke-linejoin:miter;stroke-opacity:1\"/>\n",
       "<ellipse cx=\"676.3\" cy=\"209.0\" rx=\"27.5\" ry=\"27.5\" class=\"atom-1\" style=\"fill:#2CA02CA5;fill-rule:evenodd;stroke:#2CA02CA5;stroke-width:1.0px;stroke-linecap:butt;stroke-linejoin:miter;stroke-opacity:1\"/>\n",
       "<ellipse cx=\"808.4\" cy=\"277.8\" rx=\"37.2\" ry=\"27.5\" class=\"atom-2\" style=\"fill:#2CA02CA5;fill-rule:evenodd;stroke:#2CA02CA5;stroke-width:1.0px;stroke-linecap:butt;stroke-linejoin:miter;stroke-opacity:1\"/>\n",
       "<ellipse cx=\"557.4\" cy=\"277.6\" rx=\"27.5\" ry=\"27.5\" class=\"atom-3\" style=\"fill:#1F77B4A5;fill-rule:evenodd;stroke:#1F77B4A5;stroke-width:1.0px;stroke-linecap:butt;stroke-linejoin:miter;stroke-opacity:1\"/>\n",
       "<ellipse cx=\"438.5\" cy=\"193.4\" rx=\"27.5\" ry=\"42.1\" class=\"atom-4\" style=\"fill:#D62728A5;fill-rule:evenodd;stroke:#D62728A5;stroke-width:1.0px;stroke-linecap:butt;stroke-linejoin:miter;stroke-opacity:1\"/>\n",
       "<ellipse cx=\"319.6\" cy=\"277.6\" rx=\"27.5\" ry=\"27.5\" class=\"atom-5\" style=\"fill:#D62728A5;fill-rule:evenodd;stroke:#D62728A5;stroke-width:1.0px;stroke-linecap:butt;stroke-linejoin:miter;stroke-opacity:1\"/>\n",
       "<ellipse cx=\"200.7\" cy=\"209.0\" rx=\"27.5\" ry=\"27.5\" class=\"atom-6\" style=\"fill:#9467BDA5;fill-rule:evenodd;stroke:#9467BDA5;stroke-width:1.0px;stroke-linecap:butt;stroke-linejoin:miter;stroke-opacity:1\"/>\n",
       "<ellipse cx=\"81.9\" cy=\"140.6\" rx=\"27.5\" ry=\"27.5\" class=\"atom-7\" style=\"fill:#9467BDA5;fill-rule:evenodd;stroke:#9467BDA5;stroke-width:1.0px;stroke-linecap:butt;stroke-linejoin:miter;stroke-opacity:1\"/>\n",
       "<ellipse cx=\"118.1\" cy=\"328.1\" rx=\"38.2\" ry=\"27.5\" class=\"atom-8\" style=\"fill:#FF7F0EA5;fill-rule:evenodd;stroke:#FF7F0EA5;stroke-width:1.0px;stroke-linecap:butt;stroke-linejoin:miter;stroke-opacity:1\"/>\n",
       "<ellipse cx=\"282.7\" cy=\"90.3\" rx=\"37.2\" ry=\"27.5\" class=\"atom-9\" style=\"fill:#FF7F0EA5;fill-rule:evenodd;stroke:#FF7F0EA5;stroke-width:1.0px;stroke-linecap:butt;stroke-linejoin:miter;stroke-opacity:1\"/>\n",
       "<path class=\"bond-0 atom-0 atom-1\" d=\"M 686.6,91.0 L 686.6,153.0\" style=\"fill:none;fill-rule:evenodd;stroke:#FF0000;stroke-width:2.0px;stroke-linecap:butt;stroke-linejoin:miter;stroke-opacity:1\"/>\n",
       "<path class=\"bond-0 atom-0 atom-1\" d=\"M 686.6,153.0 L 686.6,214.9\" style=\"fill:none;fill-rule:evenodd;stroke:#000000;stroke-width:2.0px;stroke-linecap:butt;stroke-linejoin:miter;stroke-opacity:1\"/>\n",
       "<path class=\"bond-0 atom-0 atom-1\" d=\"M 666.0,91.0 L 666.0,153.0\" style=\"fill:none;fill-rule:evenodd;stroke:#FF0000;stroke-width:2.0px;stroke-linecap:butt;stroke-linejoin:miter;stroke-opacity:1\"/>\n",
       "<path class=\"bond-0 atom-0 atom-1\" d=\"M 666.0,153.0 L 666.0,214.9\" style=\"fill:none;fill-rule:evenodd;stroke:#000000;stroke-width:2.0px;stroke-linecap:butt;stroke-linejoin:miter;stroke-opacity:1\"/>\n",
       "<path class=\"bond-1 atom-1 atom-2\" d=\"M 676.3,209.0 L 726.9,238.2\" style=\"fill:none;fill-rule:evenodd;stroke:#000000;stroke-width:2.0px;stroke-linecap:butt;stroke-linejoin:miter;stroke-opacity:1\"/>\n",
       "<path class=\"bond-1 atom-1 atom-2\" d=\"M 726.9,238.2 L 777.6,267.5\" style=\"fill:none;fill-rule:evenodd;stroke:#FF0000;stroke-width:2.0px;stroke-linecap:butt;stroke-linejoin:miter;stroke-opacity:1\"/>\n",
       "<path class=\"bond-2 atom-1 atom-3\" d=\"M 676.3,209.0 L 557.4,277.6\" style=\"fill:none;fill-rule:evenodd;stroke:#000000;stroke-width:2.0px;stroke-linecap:butt;stroke-linejoin:miter;stroke-opacity:1\"/>\n",
       "<path class=\"bond-3 atom-3 atom-4\" d=\"M 557.4,277.6 L 505.6,247.7\" style=\"fill:none;fill-rule:evenodd;stroke:#000000;stroke-width:2.0px;stroke-linecap:butt;stroke-linejoin:miter;stroke-opacity:1\"/>\n",
       "<path class=\"bond-3 atom-3 atom-4\" d=\"M 505.6,247.7 L 453.8,217.8\" style=\"fill:none;fill-rule:evenodd;stroke:#0000FF;stroke-width:2.0px;stroke-linecap:butt;stroke-linejoin:miter;stroke-opacity:1\"/>\n",
       "<path class=\"bond-4 atom-4 atom-5\" d=\"M 423.2,217.8 L 371.4,247.7\" style=\"fill:none;fill-rule:evenodd;stroke:#0000FF;stroke-width:2.0px;stroke-linecap:butt;stroke-linejoin:miter;stroke-opacity:1\"/>\n",
       "<path class=\"bond-4 atom-4 atom-5\" d=\"M 371.4,247.7 L 319.6,277.6\" style=\"fill:none;fill-rule:evenodd;stroke:#000000;stroke-width:2.0px;stroke-linecap:butt;stroke-linejoin:miter;stroke-opacity:1\"/>\n",
       "<path class=\"bond-5 atom-5 atom-6\" d=\"M 319.6,277.6 L 267.0,247.2\" style=\"fill:none;fill-rule:evenodd;stroke:#000000;stroke-width:2.0px;stroke-linecap:butt;stroke-linejoin:miter;stroke-opacity:1\"/>\n",
       "<path class=\"bond-5 atom-5 atom-6\" d=\"M 267.0,247.2 L 214.3,216.8\" style=\"fill:none;fill-rule:evenodd;stroke:#FF7F00;stroke-width:2.0px;stroke-linecap:butt;stroke-linejoin:miter;stroke-opacity:1\"/>\n",
       "<path class=\"bond-6 atom-6 atom-7\" d=\"M 192.3,192.2 L 148.4,166.9\" style=\"fill:none;fill-rule:evenodd;stroke:#FF7F00;stroke-width:2.0px;stroke-linecap:butt;stroke-linejoin:miter;stroke-opacity:1\"/>\n",
       "<path class=\"bond-6 atom-6 atom-7\" d=\"M 148.4,166.9 L 104.5,141.5\" style=\"fill:none;fill-rule:evenodd;stroke:#FF0000;stroke-width:2.0px;stroke-linecap:butt;stroke-linejoin:miter;stroke-opacity:1\"/>\n",
       "<path class=\"bond-6 atom-6 atom-7\" d=\"M 182.0,210.1 L 138.1,184.7\" style=\"fill:none;fill-rule:evenodd;stroke:#FF7F00;stroke-width:2.0px;stroke-linecap:butt;stroke-linejoin:miter;stroke-opacity:1\"/>\n",
       "<path class=\"bond-6 atom-6 atom-7\" d=\"M 138.1,184.7 L 94.2,159.4\" style=\"fill:none;fill-rule:evenodd;stroke:#FF0000;stroke-width:2.0px;stroke-linecap:butt;stroke-linejoin:miter;stroke-opacity:1\"/>\n",
       "<path class=\"bond-7 atom-6 atom-8\" d=\"M 189.9,227.7 L 166.5,268.3\" style=\"fill:none;fill-rule:evenodd;stroke:#FF7F00;stroke-width:2.0px;stroke-linecap:butt;stroke-linejoin:miter;stroke-opacity:1\"/>\n",
       "<path class=\"bond-7 atom-6 atom-8\" d=\"M 166.5,268.3 L 143.0,309.0\" style=\"fill:none;fill-rule:evenodd;stroke:#FF0000;stroke-width:2.0px;stroke-linecap:butt;stroke-linejoin:miter;stroke-opacity:1\"/>\n",
       "<path class=\"bond-8 atom-6 atom-9\" d=\"M 211.5,190.3 L 234.9,149.8\" style=\"fill:none;fill-rule:evenodd;stroke:#FF7F00;stroke-width:2.0px;stroke-linecap:butt;stroke-linejoin:miter;stroke-opacity:1\"/>\n",
       "<path class=\"bond-8 atom-6 atom-9\" d=\"M 234.9,149.8 L 258.2,109.4\" style=\"fill:none;fill-rule:evenodd;stroke:#FF0000;stroke-width:2.0px;stroke-linecap:butt;stroke-linejoin:miter;stroke-opacity:1\"/>\n",
       "<path d=\"M 678.8,210.4 L 676.3,209.0 L 670.3,212.4\" style=\"fill:none;stroke:#000000;stroke-width:2.0px;stroke-linecap:butt;stroke-linejoin:miter;stroke-opacity:1;\"/>\n",
       "<path d=\"M 563.3,274.2 L 557.4,277.6 L 554.8,276.1\" style=\"fill:none;stroke:#000000;stroke-width:2.0px;stroke-linecap:butt;stroke-linejoin:miter;stroke-opacity:1;\"/>\n",
       "<path d=\"M 322.2,276.1 L 319.6,277.6 L 317.0,276.1\" style=\"fill:none;stroke:#000000;stroke-width:2.0px;stroke-linecap:butt;stroke-linejoin:miter;stroke-opacity:1;\"/>\n",
       "<path class=\"atom-0\" d=\"M 663.3 71.8 Q 663.3 65.0, 666.6 61.2 Q 670.0 57.4, 676.3 57.4 Q 682.5 57.4, 685.9 61.2 Q 689.3 65.0, 689.3 71.8 Q 689.3 78.7, 685.9 82.6 Q 682.5 86.5, 676.3 86.5 Q 670.0 86.5, 666.6 82.6 Q 663.3 78.7, 663.3 71.8 M 676.3 83.3 Q 680.6 83.3, 682.9 80.4 Q 685.3 77.5, 685.3 71.8 Q 685.3 66.2, 682.9 63.4 Q 680.6 60.6, 676.3 60.6 Q 671.9 60.6, 669.6 63.4 Q 667.3 66.2, 667.3 71.8 Q 667.3 77.5, 669.6 80.4 Q 671.9 83.3, 676.3 83.3 \" fill=\"#FF0000\"/>\n",
       "<path class=\"atom-2\" d=\"M 782.1 277.7 Q 782.1 270.9, 785.5 267.1 Q 788.9 263.3, 795.1 263.3 Q 801.4 263.3, 804.8 267.1 Q 808.1 270.9, 808.1 277.7 Q 808.1 284.6, 804.7 288.5 Q 801.3 292.4, 795.1 292.4 Q 788.9 292.4, 785.5 288.5 Q 782.1 284.6, 782.1 277.7 M 795.1 289.2 Q 799.5 289.2, 801.8 286.3 Q 804.1 283.4, 804.1 277.7 Q 804.1 272.1, 801.8 269.3 Q 799.5 266.5, 795.1 266.5 Q 790.8 266.5, 788.5 269.3 Q 786.1 272.1, 786.1 277.7 Q 786.1 283.4, 788.5 286.3 Q 790.8 289.2, 795.1 289.2 \" fill=\"#FF0000\"/>\n",
       "<path class=\"atom-2\" d=\"M 812.6 263.6 L 816.4 263.6 L 816.4 275.7 L 830.9 275.7 L 830.9 263.6 L 834.7 263.6 L 834.7 291.9 L 830.9 291.9 L 830.9 278.9 L 816.4 278.9 L 816.4 291.9 L 812.6 291.9 L 812.6 263.6 \" fill=\"#FF0000\"/>\n",
       "<path class=\"atom-4\" d=\"M 432.2 194.8 L 441.5 209.8 Q 442.4 211.3, 443.9 214.0 Q 445.4 216.7, 445.5 216.8 L 445.5 194.8 L 449.2 194.8 L 449.2 223.1 L 445.4 223.1 L 435.4 206.7 Q 434.2 204.8, 433.0 202.6 Q 431.8 200.4, 431.4 199.7 L 431.4 223.1 L 427.8 223.1 L 427.8 194.8 L 432.2 194.8 \" fill=\"#0000FF\"/>\n",
       "<path class=\"atom-4\" d=\"M 427.4 163.7 L 431.3 163.7 L 431.3 175.7 L 445.7 175.7 L 445.7 163.7 L 449.6 163.7 L 449.6 192.0 L 445.7 192.0 L 445.7 178.9 L 431.3 178.9 L 431.3 192.0 L 427.4 192.0 L 427.4 163.7 \" fill=\"#0000FF\"/>\n",
       "<path class=\"atom-6\" d=\"M 200.1 194.8 Q 204.9 194.8, 207.3 197.0 Q 209.8 199.2, 209.8 203.1 Q 209.8 207.1, 207.3 209.3 Q 204.8 211.5, 200.1 211.5 L 195.5 211.5 L 195.5 223.1 L 191.7 223.1 L 191.7 194.8 L 200.1 194.8 M 200.1 208.3 Q 202.8 208.3, 204.3 207.0 Q 205.8 205.7, 205.8 203.1 Q 205.8 200.6, 204.3 199.3 Q 202.9 198.0, 200.1 198.0 L 195.5 198.0 L 195.5 208.3 L 200.1 208.3 \" fill=\"#FF7F00\"/>\n",
       "<path class=\"atom-7\" d=\"M 68.9 140.4 Q 68.9 133.6, 72.2 129.8 Q 75.6 126.0, 81.9 126.0 Q 88.1 126.0, 91.5 129.8 Q 94.9 133.6, 94.9 140.4 Q 94.9 147.3, 91.5 151.2 Q 88.1 155.1, 81.9 155.1 Q 75.6 155.1, 72.2 151.2 Q 68.9 147.3, 68.9 140.4 M 81.9 151.9 Q 86.2 151.9, 88.5 149.0 Q 90.9 146.1, 90.9 140.4 Q 90.9 134.9, 88.5 132.1 Q 86.2 129.2, 81.9 129.2 Q 77.5 129.2, 75.2 132.0 Q 72.9 134.8, 72.9 140.4 Q 72.9 146.1, 75.2 149.0 Q 77.5 151.9, 81.9 151.9 \" fill=\"#FF0000\"/>\n",
       "<path class=\"atom-8\" d=\"M 91.1 313.9 L 95.0 313.9 L 95.0 325.9 L 109.5 325.9 L 109.5 313.9 L 113.3 313.9 L 113.3 342.2 L 109.5 342.2 L 109.5 329.1 L 95.0 329.1 L 95.0 342.2 L 91.1 342.2 L 91.1 313.9 \" fill=\"#FF0000\"/>\n",
       "<path class=\"atom-8\" d=\"M 119.1 327.9 Q 119.1 321.1, 122.5 317.3 Q 125.8 313.5, 132.1 313.5 Q 138.4 313.5, 141.7 317.3 Q 145.1 321.1, 145.1 327.9 Q 145.1 334.8, 141.7 338.7 Q 138.3 342.6, 132.1 342.6 Q 125.9 342.6, 122.5 338.7 Q 119.1 334.9, 119.1 327.9 M 132.1 339.4 Q 136.4 339.4, 138.7 336.5 Q 141.1 333.6, 141.1 327.9 Q 141.1 322.4, 138.7 319.6 Q 136.4 316.7, 132.1 316.7 Q 127.8 316.7, 125.4 319.5 Q 123.1 322.3, 123.1 327.9 Q 123.1 333.7, 125.4 336.5 Q 127.8 339.4, 132.1 339.4 \" fill=\"#FF0000\"/>\n",
       "<path class=\"atom-9\" d=\"M 256.4 90.2 Q 256.4 83.4, 259.7 79.6 Q 263.1 75.8, 269.4 75.8 Q 275.7 75.8, 279.0 79.6 Q 282.4 83.4, 282.4 90.2 Q 282.4 97.1, 279.0 101.0 Q 275.6 104.9, 269.4 104.9 Q 263.1 104.9, 259.7 101.0 Q 256.4 97.1, 256.4 90.2 M 269.4 101.7 Q 273.7 101.7, 276.0 98.8 Q 278.4 95.9, 278.4 90.2 Q 278.4 84.6, 276.0 81.8 Q 273.7 79.0, 269.4 79.0 Q 265.1 79.0, 262.7 81.8 Q 260.4 84.6, 260.4 90.2 Q 260.4 95.9, 262.7 98.8 Q 265.1 101.7, 269.4 101.7 \" fill=\"#FF0000\"/>\n",
       "<path class=\"atom-9\" d=\"M 286.8 76.1 L 290.6 76.1 L 290.6 88.1 L 305.1 88.1 L 305.1 76.1 L 308.9 76.1 L 308.9 104.4 L 305.1 104.4 L 305.1 91.3 L 290.6 91.3 L 290.6 104.4 L 286.8 104.4 L 286.8 76.1 \" fill=\"#FF0000\"/>\n",
       "<rect x=\"1\" y=\"5\" width=\"18.0\" height=\"18.0\" fill=\"rgb(31, 119, 179)\"/><text x=\"19.200000000000003\" y=\"20\" font-family=\"Helvetica\" font-size=\"12\" fill=\"black\">CH2: 1</text><rect x=\"1\" y=\"30\" width=\"18.0\" height=\"18.0\" fill=\"rgb(255, 127, 13)\"/><text x=\"19.200000000000003\" y=\"45\" font-family=\"Helvetica\" font-size=\"12\" fill=\"black\">OH: 2</text><rect x=\"1\" y=\"55\" width=\"18.0\" height=\"18.0\" fill=\"rgb(44, 159, 44)\"/><text x=\"19.200000000000003\" y=\"70\" font-family=\"Helvetica\" font-size=\"12\" fill=\"black\">COOH: 1</text><rect x=\"1\" y=\"80\" width=\"18.0\" height=\"18.0\" fill=\"rgb(214, 39, 40)\"/><text x=\"19.200000000000003\" y=\"95\" font-family=\"Helvetica\" font-size=\"12\" fill=\"black\">CH2NH: 1</text><rect x=\"1\" y=\"105\" width=\"18.0\" height=\"18.0\" fill=\"rgb(148, 103, 188)\"/><text x=\"19.200000000000003\" y=\"120\" font-family=\"Helvetica\" font-size=\"12\" fill=\"black\">P=O: 1</text><text x=\"450.0\" y=\"40\" font-family=\"Helvetica\" font-size=\"12\" font-weight=\"bold\" fill=\"black\" text-anchor=\"middle\"/></svg>"
      ],
      "text/plain": [
       "<IPython.core.display.SVG object>"
      ]
     },
     "execution_count": 4,
     "metadata": {},
     "output_type": "execute_result"
    }
   ],
   "source": [
    "sol = abdulelah_gani_p.get_groups(wrong_smiles, \"smiles\")\n",
    "\n",
    "sol.draw(width=900, height=400)"
   ]
  },
  {
   "cell_type": "code",
   "execution_count": 5,
   "metadata": {},
   "outputs": [
    {
     "data": {
      "text/html": [
       "-737.5542249452108 kilojoule/mole"
      ],
      "text/latex": [
       "$-737.5542249452108\\ \\frac{\\mathrm{kilojoule}}{\\mathrm{mole}}$"
      ],
      "text/plain": [
       "<Quantity(-737.554225, 'kilojoule / mole')>"
      ]
     },
     "execution_count": 5,
     "metadata": {},
     "output_type": "execute_result"
    }
   ],
   "source": [
    "sm = abdulelah_gani.get_groups(wrong_smiles, \"smiles\")\n",
    "\n",
    "sm.ig_formation_enthalpy"
   ]
  }
 ],
 "metadata": {
  "kernelspec": {
   "display_name": "ugropy",
   "language": "python",
   "name": "python3"
  },
  "language_info": {
   "codemirror_mode": {
    "name": "ipython",
    "version": 3
   },
   "file_extension": ".py",
   "mimetype": "text/x-python",
   "name": "python",
   "nbconvert_exporter": "python",
   "pygments_lexer": "ipython3",
   "version": "3.10.12"
  }
 },
 "nbformat": 4,
 "nbformat_minor": 2
}
