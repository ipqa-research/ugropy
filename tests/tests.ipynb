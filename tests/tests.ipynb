{
 "cells": [
  {
   "cell_type": "code",
   "execution_count": 1,
   "metadata": {},
   "outputs": [],
   "source": [
    "from ugropy import abdulelah_gani"
   ]
  },
  {
   "cell_type": "code",
   "execution_count": 2,
   "metadata": {},
   "outputs": [],
   "source": [
    "sols = abdulelah_gani.get_groups(\"CCOS(=O)OCC\", \"smiles\", search_multiple_solutions=True)"
   ]
  },
  {
   "cell_type": "code",
   "execution_count": 3,
   "metadata": {},
   "outputs": [
    {
     "data": {
      "image/svg+xml": [
       "<svg xmlns=\"http://www.w3.org/2000/svg\" xmlns:rdkit=\"http://www.rdkit.org/xml\" xmlns:xlink=\"http://www.w3.org/1999/xlink\" version=\"1.1\" baseProfile=\"full\" xml:space=\"preserve\" width=\"400px\" height=\"200px\" viewBox=\"0 0 400 200\">\n",
       "<!-- END OF HEADER -->\n",
       "<rect style=\"opacity:1.0;fill:#FFFFFF;stroke:none\" width=\"400.0\" height=\"200.0\" x=\"0.0\" y=\"0.0\"> </rect>\n",
       "<ellipse cx=\"32.9\" cy=\"148.1\" rx=\"12.9\" ry=\"12.9\" class=\"atom-0\" style=\"fill:#1F77B4A5;fill-rule:evenodd;stroke:#1F77B4A5;stroke-width:1.0px;stroke-linecap:butt;stroke-linejoin:miter;stroke-opacity:1\"/>\n",
       "<ellipse cx=\"88.6\" cy=\"115.9\" rx=\"12.9\" ry=\"12.9\" class=\"atom-1\" style=\"fill:#FF7F0EA5;fill-rule:evenodd;stroke:#FF7F0EA5;stroke-width:1.0px;stroke-linecap:butt;stroke-linejoin:miter;stroke-opacity:1\"/>\n",
       "<ellipse cx=\"144.3\" cy=\"148.2\" rx=\"12.9\" ry=\"13.2\" class=\"atom-2\" style=\"fill:#2CA02CA5;fill-rule:evenodd;stroke:#2CA02CA5;stroke-width:1.0px;stroke-linecap:butt;stroke-linejoin:miter;stroke-opacity:1\"/>\n",
       "<ellipse cx=\"200.0\" cy=\"116.2\" rx=\"12.9\" ry=\"13.2\" class=\"atom-3\" style=\"fill:#2CA02CA5;fill-rule:evenodd;stroke:#2CA02CA5;stroke-width:1.0px;stroke-linecap:butt;stroke-linejoin:miter;stroke-opacity:1\"/>\n",
       "<ellipse cx=\"200.0\" cy=\"51.8\" rx=\"12.9\" ry=\"13.2\" class=\"atom-4\" style=\"fill:#2CA02CA5;fill-rule:evenodd;stroke:#2CA02CA5;stroke-width:1.0px;stroke-linecap:butt;stroke-linejoin:miter;stroke-opacity:1\"/>\n",
       "<ellipse cx=\"255.7\" cy=\"148.2\" rx=\"12.9\" ry=\"13.2\" class=\"atom-5\" style=\"fill:#2CA02CA5;fill-rule:evenodd;stroke:#2CA02CA5;stroke-width:1.0px;stroke-linecap:butt;stroke-linejoin:miter;stroke-opacity:1\"/>\n",
       "<ellipse cx=\"311.4\" cy=\"115.9\" rx=\"12.9\" ry=\"12.9\" class=\"atom-6\" style=\"fill:#FF7F0EA5;fill-rule:evenodd;stroke:#FF7F0EA5;stroke-width:1.0px;stroke-linecap:butt;stroke-linejoin:miter;stroke-opacity:1\"/>\n",
       "<ellipse cx=\"367.1\" cy=\"148.1\" rx=\"12.9\" ry=\"12.9\" class=\"atom-7\" style=\"fill:#1F77B4A5;fill-rule:evenodd;stroke:#1F77B4A5;stroke-width:1.0px;stroke-linecap:butt;stroke-linejoin:miter;stroke-opacity:1\"/>\n",
       "<path class=\"bond-0 atom-0 atom-1\" d=\"M 32.9,148.1 L 88.6,115.9\" style=\"fill:none;fill-rule:evenodd;stroke:#000000;stroke-width:2.0px;stroke-linecap:butt;stroke-linejoin:miter;stroke-opacity:1\"/>\n",
       "<path class=\"bond-1 atom-1 atom-2\" d=\"M 88.6,115.9 L 111.2,129.0\" style=\"fill:none;fill-rule:evenodd;stroke:#000000;stroke-width:2.0px;stroke-linecap:butt;stroke-linejoin:miter;stroke-opacity:1\"/>\n",
       "<path class=\"bond-1 atom-1 atom-2\" d=\"M 111.2,129.0 L 133.8,142.1\" style=\"fill:none;fill-rule:evenodd;stroke:#FF0000;stroke-width:2.0px;stroke-linecap:butt;stroke-linejoin:miter;stroke-opacity:1\"/>\n",
       "<path class=\"bond-2 atom-2 atom-3\" d=\"M 154.8,142.1 L 173.4,131.3\" style=\"fill:none;fill-rule:evenodd;stroke:#FF0000;stroke-width:2.0px;stroke-linecap:butt;stroke-linejoin:miter;stroke-opacity:1\"/>\n",
       "<path class=\"bond-2 atom-2 atom-3\" d=\"M 173.4,131.3 L 192.0,120.5\" style=\"fill:none;fill-rule:evenodd;stroke:#CCCC00;stroke-width:2.0px;stroke-linecap:butt;stroke-linejoin:miter;stroke-opacity:1\"/>\n",
       "<path class=\"bond-3 atom-3 atom-4\" d=\"M 204.8,104.7 L 204.8,84.0\" style=\"fill:none;fill-rule:evenodd;stroke:#CCCC00;stroke-width:2.0px;stroke-linecap:butt;stroke-linejoin:miter;stroke-opacity:1\"/>\n",
       "<path class=\"bond-3 atom-3 atom-4\" d=\"M 204.8,84.0 L 204.8,63.2\" style=\"fill:none;fill-rule:evenodd;stroke:#FF0000;stroke-width:2.0px;stroke-linecap:butt;stroke-linejoin:miter;stroke-opacity:1\"/>\n",
       "<path class=\"bond-3 atom-3 atom-4\" d=\"M 195.2,104.7 L 195.2,84.0\" style=\"fill:none;fill-rule:evenodd;stroke:#CCCC00;stroke-width:2.0px;stroke-linecap:butt;stroke-linejoin:miter;stroke-opacity:1\"/>\n",
       "<path class=\"bond-3 atom-3 atom-4\" d=\"M 195.2,84.0 L 195.2,63.2\" style=\"fill:none;fill-rule:evenodd;stroke:#FF0000;stroke-width:2.0px;stroke-linecap:butt;stroke-linejoin:miter;stroke-opacity:1\"/>\n",
       "<path class=\"bond-4 atom-3 atom-5\" d=\"M 208.0,120.5 L 226.6,131.3\" style=\"fill:none;fill-rule:evenodd;stroke:#CCCC00;stroke-width:2.0px;stroke-linecap:butt;stroke-linejoin:miter;stroke-opacity:1\"/>\n",
       "<path class=\"bond-4 atom-3 atom-5\" d=\"M 226.6,131.3 L 245.2,142.1\" style=\"fill:none;fill-rule:evenodd;stroke:#FF0000;stroke-width:2.0px;stroke-linecap:butt;stroke-linejoin:miter;stroke-opacity:1\"/>\n",
       "<path class=\"bond-5 atom-5 atom-6\" d=\"M 266.2,142.1 L 288.8,129.0\" style=\"fill:none;fill-rule:evenodd;stroke:#FF0000;stroke-width:2.0px;stroke-linecap:butt;stroke-linejoin:miter;stroke-opacity:1\"/>\n",
       "<path class=\"bond-5 atom-5 atom-6\" d=\"M 288.8,129.0 L 311.4,115.9\" style=\"fill:none;fill-rule:evenodd;stroke:#000000;stroke-width:2.0px;stroke-linecap:butt;stroke-linejoin:miter;stroke-opacity:1\"/>\n",
       "<path class=\"bond-6 atom-6 atom-7\" d=\"M 311.4,115.9 L 367.1,148.1\" style=\"fill:none;fill-rule:evenodd;stroke:#000000;stroke-width:2.0px;stroke-linecap:butt;stroke-linejoin:miter;stroke-opacity:1\"/>\n",
       "<path d=\"M 85.8,117.5 L 88.6,115.9 L 89.7,116.6\" style=\"fill:none;stroke:#000000;stroke-width:2.0px;stroke-linecap:butt;stroke-linejoin:miter;stroke-opacity:1;\"/>\n",
       "<path d=\"M 310.3,116.6 L 311.4,115.9 L 314.2,117.5\" style=\"fill:none;stroke:#000000;stroke-width:2.0px;stroke-linecap:butt;stroke-linejoin:miter;stroke-opacity:1;\"/>\n",
       "<path class=\"atom-2\" d=\"M 135.9 148.2 Q 135.9 143.8, 138.1 141.3 Q 140.2 138.9, 144.3 138.9 Q 148.3 138.9, 150.5 141.3 Q 152.7 143.8, 152.7 148.2 Q 152.7 152.6, 150.5 155.1 Q 148.3 157.6, 144.3 157.6 Q 140.3 157.6, 138.1 155.1 Q 135.9 152.6, 135.9 148.2 M 144.3 155.5 Q 147.1 155.5, 148.6 153.7 Q 150.1 151.8, 150.1 148.2 Q 150.1 144.6, 148.6 142.8 Q 147.1 141.0, 144.3 141.0 Q 141.5 141.0, 140.0 142.8 Q 138.5 144.6, 138.5 148.2 Q 138.5 151.8, 140.0 153.7 Q 141.5 155.5, 144.3 155.5 \" fill=\"#FF0000\"/>\n",
       "<path class=\"atom-3\" d=\"M 194.9 122.2 Q 195.1 122.3, 195.9 122.6 Q 196.8 123.0, 197.7 123.2 Q 198.6 123.4, 199.6 123.4 Q 201.3 123.4, 202.3 122.6 Q 203.3 121.8, 203.3 120.3 Q 203.3 119.3, 202.8 118.7 Q 202.3 118.1, 201.5 117.7 Q 200.7 117.4, 199.5 117.0 Q 197.8 116.5, 196.9 116.0 Q 195.9 115.6, 195.2 114.6 Q 194.5 113.6, 194.5 112.0 Q 194.5 109.7, 196.1 108.3 Q 197.7 106.9, 200.7 106.9 Q 202.9 106.9, 205.2 107.9 L 204.7 109.8 Q 202.5 108.9, 200.8 108.9 Q 199.0 108.9, 198.1 109.7 Q 197.1 110.4, 197.1 111.7 Q 197.1 112.6, 197.6 113.2 Q 198.1 113.8, 198.8 114.2 Q 199.6 114.5, 200.8 114.9 Q 202.5 115.4, 203.4 115.9 Q 204.4 116.4, 205.1 117.5 Q 205.8 118.5, 205.8 120.3 Q 205.8 122.8, 204.1 124.2 Q 202.5 125.5, 199.7 125.5 Q 198.0 125.5, 196.8 125.2 Q 195.6 124.8, 194.2 124.2 L 194.9 122.2 \" fill=\"#CCCC00\"/>\n",
       "<path class=\"atom-4\" d=\"M 191.6 51.7 Q 191.6 47.3, 193.8 44.8 Q 196.0 42.4, 200.0 42.4 Q 204.0 42.4, 206.2 44.8 Q 208.4 47.3, 208.4 51.7 Q 208.4 56.1, 206.2 58.6 Q 204.0 61.1, 200.0 61.1 Q 196.0 61.1, 193.8 58.6 Q 191.6 56.1, 191.6 51.7 M 200.0 59.0 Q 202.8 59.0, 204.3 57.2 Q 205.8 55.3, 205.8 51.7 Q 205.8 48.1, 204.3 46.3 Q 202.8 44.5, 200.0 44.5 Q 197.2 44.5, 195.7 46.3 Q 194.2 48.1, 194.2 51.7 Q 194.2 55.3, 195.7 57.2 Q 197.2 59.0, 200.0 59.0 \" fill=\"#FF0000\"/>\n",
       "<path class=\"atom-5\" d=\"M 247.3 148.2 Q 247.3 143.8, 249.5 141.3 Q 251.7 138.9, 255.7 138.9 Q 259.8 138.9, 261.9 141.3 Q 264.1 143.8, 264.1 148.2 Q 264.1 152.6, 261.9 155.1 Q 259.7 157.6, 255.7 157.6 Q 251.7 157.6, 249.5 155.1 Q 247.3 152.6, 247.3 148.2 M 255.7 155.5 Q 258.5 155.5, 260.0 153.7 Q 261.5 151.8, 261.5 148.2 Q 261.5 144.6, 260.0 142.8 Q 258.5 141.0, 255.7 141.0 Q 252.9 141.0, 251.4 142.8 Q 249.9 144.6, 249.9 148.2 Q 249.9 151.8, 251.4 153.7 Q 252.9 155.5, 255.7 155.5 \" fill=\"#FF0000\"/>\n",
       "<rect x=\"1\" y=\"5\" width=\"18.0\" height=\"18.0\" fill=\"rgb(31, 119, 179)\"/><text x=\"19.200000000000003\" y=\"20\" font-family=\"Helvetica\" font-size=\"12\" fill=\"black\">CH3: 2</text><rect x=\"1\" y=\"30\" width=\"18.0\" height=\"18.0\" fill=\"rgb(255, 127, 13)\"/><text x=\"19.200000000000003\" y=\"45\" font-family=\"Helvetica\" font-size=\"12\" fill=\"black\">CH2: 2</text><rect x=\"1\" y=\"55\" width=\"18.0\" height=\"18.0\" fill=\"rgb(44, 159, 44)\"/><text x=\"19.200000000000003\" y=\"70\" font-family=\"Helvetica\" font-size=\"12\" fill=\"black\">SO3 (sulfite): 1</text><text x=\"200.0\" y=\"40\" font-family=\"Helvetica\" font-size=\"12\" font-weight=\"bold\" fill=\"black\" text-anchor=\"middle\"/></svg>"
      ],
      "text/plain": [
       "<IPython.core.display.SVG object>"
      ]
     },
     "execution_count": 3,
     "metadata": {},
     "output_type": "execute_result"
    }
   ],
   "source": [
    "sols[0].primary.draw()"
   ]
  },
  {
   "cell_type": "code",
   "execution_count": 4,
   "metadata": {},
   "outputs": [
    {
     "ename": "IndexError",
     "evalue": "list index out of range",
     "output_type": "error",
     "traceback": [
      "\u001b[0;31m---------------------------------------------------------------------------\u001b[0m",
      "\u001b[0;31mIndexError\u001b[0m                                Traceback (most recent call last)",
      "Cell \u001b[0;32mIn[4], line 1\u001b[0m\n\u001b[0;32m----> 1\u001b[0m \u001b[43msols\u001b[49m\u001b[43m[\u001b[49m\u001b[38;5;241;43m1\u001b[39;49m\u001b[43m]\u001b[49m\u001b[38;5;241m.\u001b[39mprimary\u001b[38;5;241m.\u001b[39mdraw()\n",
      "\u001b[0;31mIndexError\u001b[0m: list index out of range"
     ]
    }
   ],
   "source": [
    "sols[1].primary.draw()"
   ]
  }
 ],
 "metadata": {
  "kernelspec": {
   "display_name": "ugropy",
   "language": "python",
   "name": "python3"
  },
  "language_info": {
   "codemirror_mode": {
    "name": "ipython",
    "version": 3
   },
   "file_extension": ".py",
   "mimetype": "text/x-python",
   "name": "python",
   "nbconvert_exporter": "python",
   "pygments_lexer": "ipython3",
   "version": "3.10.12"
  }
 },
 "nbformat": 4,
 "nbformat_minor": 2
}
