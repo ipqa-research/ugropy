{
 "cells": [
  {
   "cell_type": "code",
   "execution_count": 1,
   "metadata": {},
   "outputs": [],
   "source": [
    "from ugropy import abdulelah_gani_s, abdulelah_gani, instantiate_mol_object\n",
    "\n",
    "import pandas as pd\n",
    "\n",
    "import numpy as np\n",
    "\n",
    "from rdkit.Chem import Draw\n",
    "from rdkit import Chem"
   ]
  },
  {
   "cell_type": "code",
   "execution_count": 2,
   "metadata": {},
   "outputs": [],
   "source": [
    "df = pd.read_csv(\"abdulelah_gani_frags/tc.csv\", index_col=\"SMILES\", sep=\"|\", comment=\"?\")\n",
    "\n",
    "primary = np.linspace(221, 350, 130, dtype=int).astype(str)\n",
    "\n",
    "df = df[primary]\n",
    "df.rename(columns=lambda col: int(col) if col.isdigit() else col, inplace=True)\n",
    "\n",
    "df.dropna(inplace=True)"
   ]
  },
  {
   "cell_type": "code",
   "execution_count": 3,
   "metadata": {},
   "outputs": [],
   "source": [
    "for idx, smiles in enumerate(df.index):\n",
    "    try:\n",
    "        solution = abdulelah_gani_s.get_groups(smiles, \"smiles\")\n",
    "    except Exception as e:\n",
    "        print(smiles, idx)\n",
    "        raise e\n",
    "\n",
    "    # Filtrar las columnas de la fila que no sean iguales a 0\n",
    "    row = df.loc[smiles]\n",
    "    if isinstance(row, pd.DataFrame):\n",
    "        row = row.iloc[0]\n",
    "    row = row[row != 0]\n",
    "    \n",
    "    # Convertir la fila filtrada a diccionario\n",
    "    row_dict = row.to_dict()\n",
    "\n",
    "    # Verificar si ninguna solución tiene subgroups_numbers igual a row_dict\n",
    "    if solution.subgroups_numbers != row_dict:\n",
    "        print(smiles)\n",
    "        print(idx)\n",
    "        print(\"Subgrupos:\")\n",
    "        print(str(solution.subgroups))  # Convertir a string y unir con saltos de línea\n",
    "        print(\"Subgrupos por número:\")\n",
    "        print(str(solution.subgroups_numbers))  # Convertir a string y unir con saltos de línea\n",
    "        print(\"Gani: \")\n",
    "        print(row_dict)\n",
    "        \n",
    "        gani_groups = {}\n",
    "        for group, ocurr in row_dict.items():\n",
    "            group_name = abdulelah_gani_s.subgroups_info.loc[abdulelah_gani_s.subgroups_info[\"group_number\"] == group].index[0]\n",
    "            gani_groups[group_name] = ocurr\n",
    "            \n",
    "        print(\"Gani group names:\")\n",
    "        print(gani_groups)\n",
    "        \n",
    "        wrong_smiles = smiles\n",
    "        break"
   ]
  },
  {
   "cell_type": "code",
   "execution_count": 4,
   "metadata": {},
   "outputs": [
    {
     "ename": "NameError",
     "evalue": "name 'wrong_smiles' is not defined",
     "output_type": "error",
     "traceback": [
      "\u001b[0;31m---------------------------------------------------------------------------\u001b[0m",
      "\u001b[0;31mNameError\u001b[0m                                 Traceback (most recent call last)",
      "Cell \u001b[0;32mIn[4], line 1\u001b[0m\n\u001b[0;32m----> 1\u001b[0m mol \u001b[38;5;241m=\u001b[39m instantiate_mol_object(\u001b[43mwrong_smiles\u001b[49m, \u001b[38;5;124m\"\u001b[39m\u001b[38;5;124msmiles\u001b[39m\u001b[38;5;124m\"\u001b[39m)\n\u001b[1;32m      3\u001b[0m abdulelah_gani_s\u001b[38;5;241m.\u001b[39mdetect_fragments(mol)\n",
      "\u001b[0;31mNameError\u001b[0m: name 'wrong_smiles' is not defined"
     ]
    }
   ],
   "source": [
    "mol = instantiate_mol_object(wrong_smiles, \"smiles\")\n",
    "\n",
    "abdulelah_gani_s.detect_fragments(mol)"
   ]
  },
  {
   "cell_type": "code",
   "execution_count": 5,
   "metadata": {},
   "outputs": [
    {
     "data": {
      "image/svg+xml": [
       "<svg xmlns=\"http://www.w3.org/2000/svg\" xmlns:rdkit=\"http://www.rdkit.org/xml\" xmlns:xlink=\"http://www.w3.org/1999/xlink\" version=\"1.1\" baseProfile=\"full\" xml:space=\"preserve\" width=\"700px\" height=\"200px\" viewBox=\"0 0 700 200\">\n",
       "<!-- END OF HEADER -->\n",
       "<rect style=\"opacity:1.0;fill:#FFFFFF;stroke:none\" width=\"700.0\" height=\"200.0\" x=\"0.0\" y=\"0.0\"> </rect>\n",
       "<ellipse cx=\"312.5\" cy=\"25.0\" rx=\"15.0\" ry=\"15.0\" class=\"atom-0\" style=\"fill:#1F77B4A5;fill-rule:evenodd;stroke:#1F77B4A5;stroke-width:1.0px;stroke-linecap:butt;stroke-linejoin:miter;stroke-opacity:1\"/>\n",
       "<ellipse cx=\"312.5\" cy=\"100.0\" rx=\"15.0\" ry=\"15.0\" class=\"atom-1\" style=\"fill:#1F77B4A5;fill-rule:evenodd;stroke:#1F77B4A5;stroke-width:1.0px;stroke-linecap:butt;stroke-linejoin:miter;stroke-opacity:1\"/>\n",
       "<ellipse cx=\"312.5\" cy=\"175.0\" rx=\"15.0\" ry=\"15.0\" class=\"atom-2\" style=\"fill:#1F77B4A5;fill-rule:evenodd;stroke:#1F77B4A5;stroke-width:1.0px;stroke-linecap:butt;stroke-linejoin:miter;stroke-opacity:1\"/>\n",
       "<ellipse cx=\"237.5\" cy=\"100.0\" rx=\"15.0\" ry=\"15.0\" class=\"atom-3\" style=\"fill:#1F77B4A5;fill-rule:evenodd;stroke:#1F77B4A5;stroke-width:1.0px;stroke-linecap:butt;stroke-linejoin:miter;stroke-opacity:1\"/>\n",
       "<ellipse cx=\"387.5\" cy=\"100.0\" rx=\"15.0\" ry=\"15.0\" class=\"atom-4\" style=\"fill:#1F77B4A5;fill-rule:evenodd;stroke:#1F77B4A5;stroke-width:1.0px;stroke-linecap:butt;stroke-linejoin:miter;stroke-opacity:1\"/>\n",
       "<ellipse cx=\"387.5\" cy=\"175.0\" rx=\"15.0\" ry=\"15.0\" class=\"atom-5\" style=\"fill:#1F77B4A5;fill-rule:evenodd;stroke:#1F77B4A5;stroke-width:1.0px;stroke-linecap:butt;stroke-linejoin:miter;stroke-opacity:1\"/>\n",
       "<ellipse cx=\"387.5\" cy=\"25.0\" rx=\"15.0\" ry=\"15.0\" class=\"atom-6\" style=\"fill:#1F77B4A5;fill-rule:evenodd;stroke:#1F77B4A5;stroke-width:1.0px;stroke-linecap:butt;stroke-linejoin:miter;stroke-opacity:1\"/>\n",
       "<ellipse cx=\"462.5\" cy=\"100.0\" rx=\"15.0\" ry=\"15.0\" class=\"atom-7\" style=\"fill:#1F77B4A5;fill-rule:evenodd;stroke:#1F77B4A5;stroke-width:1.0px;stroke-linecap:butt;stroke-linejoin:miter;stroke-opacity:1\"/>\n",
       "<path class=\"bond-0 atom-0 atom-1\" d=\"M 312.5,25.0 L 312.5,100.0\" style=\"fill:none;fill-rule:evenodd;stroke:#000000;stroke-width:2.0px;stroke-linecap:butt;stroke-linejoin:miter;stroke-opacity:1\"/>\n",
       "<path class=\"bond-1 atom-1 atom-2\" d=\"M 312.5,100.0 L 312.5,175.0\" style=\"fill:none;fill-rule:evenodd;stroke:#000000;stroke-width:2.0px;stroke-linecap:butt;stroke-linejoin:miter;stroke-opacity:1\"/>\n",
       "<path class=\"bond-2 atom-1 atom-3\" d=\"M 312.5,100.0 L 237.5,100.0\" style=\"fill:none;fill-rule:evenodd;stroke:#000000;stroke-width:2.0px;stroke-linecap:butt;stroke-linejoin:miter;stroke-opacity:1\"/>\n",
       "<path class=\"bond-3 atom-1 atom-4\" d=\"M 312.5,100.0 L 387.5,100.0\" style=\"fill:none;fill-rule:evenodd;stroke:#000000;stroke-width:2.0px;stroke-linecap:butt;stroke-linejoin:miter;stroke-opacity:1\"/>\n",
       "<path class=\"bond-4 atom-4 atom-5\" d=\"M 387.5,100.0 L 387.5,175.0\" style=\"fill:none;fill-rule:evenodd;stroke:#000000;stroke-width:2.0px;stroke-linecap:butt;stroke-linejoin:miter;stroke-opacity:1\"/>\n",
       "<path class=\"bond-5 atom-4 atom-6\" d=\"M 387.5,100.0 L 387.5,25.0\" style=\"fill:none;fill-rule:evenodd;stroke:#000000;stroke-width:2.0px;stroke-linecap:butt;stroke-linejoin:miter;stroke-opacity:1\"/>\n",
       "<path class=\"bond-6 atom-4 atom-7\" d=\"M 387.5,100.0 L 462.5,100.0\" style=\"fill:none;fill-rule:evenodd;stroke:#000000;stroke-width:2.0px;stroke-linecap:butt;stroke-linejoin:miter;stroke-opacity:1\"/>\n",
       "<rect x=\"1\" y=\"5\" width=\"18.0\" height=\"18.0\" fill=\"rgb(31, 119, 179)\"/><text x=\"19.200000000000003\" y=\"20\" font-family=\"Helvetica\" font-size=\"12\" fill=\"black\">(CH3)3C: 2</text><text x=\"350.0\" y=\"40\" font-family=\"Helvetica\" font-size=\"12\" font-weight=\"bold\" fill=\"black\" text-anchor=\"middle\"/></svg>"
      ],
      "text/plain": [
       "<IPython.core.display.SVG object>"
      ]
     },
     "execution_count": 5,
     "metadata": {},
     "output_type": "execute_result"
    }
   ],
   "source": [
    "sol = abdulelah_gani_s.get_groups(wrong_smiles, \"smiles\")\n",
    "\n",
    "sol.draw(width=700)"
   ]
  },
  {
   "cell_type": "code",
   "execution_count": 6,
   "metadata": {},
   "outputs": [
    {
     "data": {
      "text/plain": [
       "np.float64(535.6404631076098)"
      ]
     },
     "execution_count": 6,
     "metadata": {},
     "output_type": "execute_result"
    }
   ],
   "source": [
    "sm = abdulelah_gani.get_groups(wrong_smiles, \"smiles\")\n",
    "\n",
    "sm.critical_temperature"
   ]
  }
 ],
 "metadata": {
  "kernelspec": {
   "display_name": "ugropy",
   "language": "python",
   "name": "python3"
  },
  "language_info": {
   "codemirror_mode": {
    "name": "ipython",
    "version": 3
   },
   "file_extension": ".py",
   "mimetype": "text/x-python",
   "name": "python",
   "nbconvert_exporter": "python",
   "pygments_lexer": "ipython3",
   "version": "3.10.12"
  }
 },
 "nbformat": 4,
 "nbformat_minor": 2
}
