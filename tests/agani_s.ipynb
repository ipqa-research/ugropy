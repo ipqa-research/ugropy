{
 "cells": [
  {
   "cell_type": "code",
   "execution_count": 1,
   "metadata": {},
   "outputs": [],
   "source": [
    "from ugropy import abdulelah_gani_s, abdulelah_gani_p, instantiate_mol_object\n",
    "\n",
    "import pandas as pd\n",
    "\n",
    "import numpy as np\n",
    "\n",
    "from rdkit.Chem import Draw\n",
    "from rdkit import Chem"
   ]
  },
  {
   "cell_type": "code",
   "execution_count": 2,
   "metadata": {},
   "outputs": [],
   "source": [
    "df = pd.read_csv(\"abdulelah_gani_frags/log_p.csv\", index_col=\"SMILES\", sep=\"|\", comment=\"?\")\n",
    "\n",
    "primary = np.linspace(221, 350, 130, dtype=int).astype(str)\n",
    "\n",
    "df = df[primary]\n",
    "df.rename(columns=lambda col: int(col) if col.isdigit() else col, inplace=True)"
   ]
  },
  {
   "cell_type": "code",
   "execution_count": 3,
   "metadata": {},
   "outputs": [],
   "source": [
    "for idx, smiles in enumerate(df.index):\n",
    "    try:\n",
    "        solution = abdulelah_gani_s.get_groups(smiles, \"smiles\")\n",
    "    except Exception as e:\n",
    "        print(smiles, idx)\n",
    "        raise e\n",
    "\n",
    "    # Filtrar las columnas de la fila que no sean iguales a 0\n",
    "    row = df.loc[smiles]\n",
    "    if isinstance(row, pd.DataFrame):\n",
    "        row = row.iloc[0]\n",
    "    row = row[row != 0]\n",
    "    \n",
    "    # Convertir la fila filtrada a diccionario\n",
    "    row_dict = row.to_dict()\n",
    "\n",
    "    # Verificar si ninguna solución tiene subgroups_numbers igual a row_dict\n",
    "    if solution.subgroups_numbers != row_dict:\n",
    "        print(smiles)\n",
    "        print(idx)\n",
    "        print(\"Subgrupos:\")\n",
    "        print(str(solution.subgroups))  # Convertir a string y unir con saltos de línea\n",
    "        print(\"Subgrupos por número:\")\n",
    "        print(str(solution.subgroups_numbers))  # Convertir a string y unir con saltos de línea\n",
    "        print(\"Gani: \")\n",
    "        print(row_dict)\n",
    "        \n",
    "        gani_groups = {}\n",
    "        for group, ocurr in row_dict.items():\n",
    "            group_name = abdulelah_gani_s.subgroups_info.loc[abdulelah_gani_s.subgroups_info[\"group_number\"] == group].index[0]\n",
    "            gani_groups[group_name] = ocurr\n",
    "            \n",
    "        print(\"Gani group names:\")\n",
    "        print(gani_groups)\n",
    "        \n",
    "        wrong_smiles = smiles\n",
    "        break"
   ]
  },
  {
   "cell_type": "code",
   "execution_count": 4,
   "metadata": {},
   "outputs": [
    {
     "ename": "NameError",
     "evalue": "name 'wrong_smiles' is not defined",
     "output_type": "error",
     "traceback": [
      "\u001b[0;31m---------------------------------------------------------------------------\u001b[0m",
      "\u001b[0;31mNameError\u001b[0m                                 Traceback (most recent call last)",
      "Cell \u001b[0;32mIn[4], line 1\u001b[0m\n\u001b[0;32m----> 1\u001b[0m mol \u001b[38;5;241m=\u001b[39m instantiate_mol_object(\u001b[43mwrong_smiles\u001b[49m, \u001b[38;5;124m\"\u001b[39m\u001b[38;5;124msmiles\u001b[39m\u001b[38;5;124m\"\u001b[39m)\n\u001b[1;32m      3\u001b[0m abdulelah_gani_s\u001b[38;5;241m.\u001b[39mdetect_fragments(mol)\n",
      "\u001b[0;31mNameError\u001b[0m: name 'wrong_smiles' is not defined"
     ]
    }
   ],
   "source": [
    "mol = instantiate_mol_object(wrong_smiles, \"smiles\")\n",
    "\n",
    "abdulelah_gani_s.detect_fragments(mol)"
   ]
  },
  {
   "cell_type": "code",
   "execution_count": 5,
   "metadata": {},
   "outputs": [
    {
     "data": {
      "image/svg+xml": [
       "<svg xmlns=\"http://www.w3.org/2000/svg\" xmlns:rdkit=\"http://www.rdkit.org/xml\" xmlns:xlink=\"http://www.w3.org/1999/xlink\" version=\"1.1\" baseProfile=\"full\" xml:space=\"preserve\" width=\"700px\" height=\"200px\" viewBox=\"0 0 700 200\">\n",
       "<!-- END OF HEADER -->\n",
       "<rect style=\"opacity:1.0;fill:#FFFFFF;stroke:none\" width=\"700.0\" height=\"200.0\" x=\"0.0\" y=\"0.0\"> </rect>\n",
       "<path class=\"bond-0 atom-0 atom-1\" d=\"M 230.4,132.1 L 267.7,153.6\" style=\"fill:none;fill-rule:evenodd;stroke:#CCCC00;stroke-width:2.0px;stroke-linecap:butt;stroke-linejoin:miter;stroke-opacity:1\"/>\n",
       "<path class=\"bond-0 atom-0 atom-1\" d=\"M 267.7,153.6 L 305.0,175.2\" style=\"fill:none;fill-rule:evenodd;stroke:#000000;stroke-width:2.0px;stroke-linecap:butt;stroke-linejoin:miter;stroke-opacity:1\"/>\n",
       "<path class=\"bond-1 atom-1 atom-2\" d=\"M 305.0,175.2 L 392.1,124.9\" style=\"fill:none;fill-rule:evenodd;stroke:#000000;stroke-width:2.0px;stroke-linecap:butt;stroke-linejoin:miter;stroke-opacity:1\"/>\n",
       "<path class=\"bond-2 atom-2 atom-3\" d=\"M 399.6,129.3 L 399.6,85.9\" style=\"fill:none;fill-rule:evenodd;stroke:#000000;stroke-width:2.0px;stroke-linecap:butt;stroke-linejoin:miter;stroke-opacity:1\"/>\n",
       "<path class=\"bond-2 atom-2 atom-3\" d=\"M 399.6,85.9 L 399.6,42.5\" style=\"fill:none;fill-rule:evenodd;stroke:#FF0000;stroke-width:2.0px;stroke-linecap:butt;stroke-linejoin:miter;stroke-opacity:1\"/>\n",
       "<path class=\"bond-2 atom-2 atom-3\" d=\"M 384.5,129.3 L 384.5,85.9\" style=\"fill:none;fill-rule:evenodd;stroke:#000000;stroke-width:2.0px;stroke-linecap:butt;stroke-linejoin:miter;stroke-opacity:1\"/>\n",
       "<path class=\"bond-2 atom-2 atom-3\" d=\"M 384.5,85.9 L 384.5,42.5\" style=\"fill:none;fill-rule:evenodd;stroke:#FF0000;stroke-width:2.0px;stroke-linecap:butt;stroke-linejoin:miter;stroke-opacity:1\"/>\n",
       "<path class=\"bond-3 atom-2 atom-4\" d=\"M 392.1,124.9 L 427.4,145.3\" style=\"fill:none;fill-rule:evenodd;stroke:#000000;stroke-width:2.0px;stroke-linecap:butt;stroke-linejoin:miter;stroke-opacity:1\"/>\n",
       "<path class=\"bond-3 atom-2 atom-4\" d=\"M 427.4,145.3 L 462.8,165.7\" style=\"fill:none;fill-rule:evenodd;stroke:#FF0000;stroke-width:2.0px;stroke-linecap:butt;stroke-linejoin:miter;stroke-opacity:1\"/>\n",
       "<path d=\"M 303.2,174.1 L 305.0,175.2 L 309.4,172.7\" style=\"fill:none;stroke:#000000;stroke-width:2.0px;stroke-linecap:butt;stroke-linejoin:miter;stroke-opacity:1;\"/>\n",
       "<path d=\"M 387.7,127.4 L 392.1,124.9 L 393.8,125.9\" style=\"fill:none;stroke:#000000;stroke-width:2.0px;stroke-linecap:butt;stroke-linejoin:miter;stroke-opacity:1;\"/>\n",
       "<path class=\"atom-0\" d=\"M 181.3 110.7 L 185.2 110.7 L 185.2 122.8 L 199.6 122.8 L 199.6 110.7 L 203.5 110.7 L 203.5 139.1 L 199.6 139.1 L 199.6 126.0 L 185.2 126.0 L 185.2 139.1 L 181.3 139.1 L 181.3 110.7 \" fill=\"#CCCC00\"/>\n",
       "<path class=\"atom-0\" d=\"M 210.0 134.7 Q 210.3 134.8, 211.6 135.3 Q 212.9 135.9, 214.4 136.3 Q 215.9 136.6, 217.3 136.6 Q 220.0 136.6, 221.5 135.3 Q 223.1 134.0, 223.1 131.7 Q 223.1 130.1, 222.3 129.2 Q 221.5 128.2, 220.3 127.7 Q 219.1 127.2, 217.1 126.6 Q 214.6 125.8, 213.1 125.1 Q 211.6 124.4, 210.5 122.9 Q 209.5 121.3, 209.5 118.8 Q 209.5 115.2, 211.9 113.0 Q 214.3 110.8, 219.1 110.8 Q 222.4 110.8, 226.1 112.4 L 225.2 115.5 Q 221.8 114.1, 219.3 114.1 Q 216.5 114.1, 215.0 115.2 Q 213.5 116.3, 213.5 118.3 Q 213.5 119.8, 214.3 120.7 Q 215.1 121.7, 216.2 122.2 Q 217.3 122.7, 219.3 123.3 Q 221.8 124.1, 223.3 124.9 Q 224.9 125.7, 225.9 127.3 Q 227.1 128.9, 227.1 131.7 Q 227.1 135.6, 224.4 137.7 Q 221.8 139.8, 217.5 139.8 Q 214.9 139.8, 213.0 139.3 Q 211.1 138.7, 208.9 137.8 L 210.0 134.7 \" fill=\"#CCCC00\"/>\n",
       "<path class=\"atom-3\" d=\"M 379.1 24.5 Q 379.1 17.7, 382.4 13.9 Q 385.8 10.1, 392.1 10.1 Q 398.3 10.1, 401.7 13.9 Q 405.1 17.7, 405.1 24.5 Q 405.1 31.4, 401.7 35.3 Q 398.3 39.2, 392.1 39.2 Q 385.8 39.2, 382.4 35.3 Q 379.1 31.4, 379.1 24.5 M 392.1 36.0 Q 396.4 36.0, 398.7 33.1 Q 401.1 30.2, 401.1 24.5 Q 401.1 18.9, 398.7 16.1 Q 396.4 13.3, 392.1 13.3 Q 387.7 13.3, 385.4 16.1 Q 383.1 18.9, 383.1 24.5 Q 383.1 30.2, 385.4 33.1 Q 387.7 36.0, 392.1 36.0 \" fill=\"#FF0000\"/>\n",
       "<path class=\"atom-4\" d=\"M 466.1 175.2 Q 466.1 168.4, 469.5 164.6 Q 472.8 160.8, 479.1 160.8 Q 485.4 160.8, 488.8 164.6 Q 492.1 168.4, 492.1 175.2 Q 492.1 182.1, 488.7 186.0 Q 485.3 189.9, 479.1 189.9 Q 472.9 189.9, 469.5 186.0 Q 466.1 182.2, 466.1 175.2 M 479.1 186.7 Q 483.4 186.7, 485.8 183.8 Q 488.1 180.9, 488.1 175.2 Q 488.1 169.7, 485.8 166.9 Q 483.4 164.0, 479.1 164.0 Q 474.8 164.0, 472.4 166.8 Q 470.1 169.6, 470.1 175.2 Q 470.1 181.0, 472.4 183.8 Q 474.8 186.7, 479.1 186.7 \" fill=\"#FF0000\"/>\n",
       "<path class=\"atom-4\" d=\"M 496.5 161.2 L 500.4 161.2 L 500.4 173.2 L 514.8 173.2 L 514.8 161.2 L 518.7 161.2 L 518.7 189.5 L 514.8 189.5 L 514.8 176.4 L 500.4 176.4 L 500.4 189.5 L 496.5 189.5 L 496.5 161.2 \" fill=\"#FF0000\"/>\n",
       "<text x=\"350.0\" y=\"40\" font-family=\"Helvetica\" font-size=\"12\" font-weight=\"bold\" fill=\"black\" text-anchor=\"middle\"/></svg>"
      ],
      "text/plain": [
       "<IPython.core.display.SVG object>"
      ]
     },
     "execution_count": 5,
     "metadata": {},
     "output_type": "execute_result"
    }
   ],
   "source": [
    "sol = abdulelah_gani_s.get_groups(wrong_smiles, \"smiles\")\n",
    "\n",
    "sol.draw(width=700)"
   ]
  },
  {
   "cell_type": "code",
   "execution_count": 6,
   "metadata": {},
   "outputs": [
    {
     "data": {
      "image/svg+xml": [
       "<svg xmlns=\"http://www.w3.org/2000/svg\" xmlns:rdkit=\"http://www.rdkit.org/xml\" xmlns:xlink=\"http://www.w3.org/1999/xlink\" version=\"1.1\" baseProfile=\"full\" xml:space=\"preserve\" width=\"700px\" height=\"600px\" viewBox=\"0 0 700 600\">\n",
       "<!-- END OF HEADER -->\n",
       "<rect style=\"opacity:1.0;fill:#FFFFFF;stroke:none\" width=\"700.0\" height=\"600.0\" x=\"0.0\" y=\"0.0\"> </rect>\n",
       "<ellipse cx=\"105.9\" cy=\"344.4\" rx=\"35.4\" ry=\"35.4\" class=\"atom-0\" style=\"fill:#FF7F0EA5;fill-rule:evenodd;stroke:#FF7F0EA5;stroke-width:1.0px;stroke-linecap:butt;stroke-linejoin:miter;stroke-opacity:1\"/>\n",
       "<ellipse cx=\"272.8\" cy=\"432.4\" rx=\"35.4\" ry=\"35.4\" class=\"atom-1\" style=\"fill:#FF7F0EA5;fill-rule:evenodd;stroke:#FF7F0EA5;stroke-width:1.0px;stroke-linecap:butt;stroke-linejoin:miter;stroke-opacity:1\"/>\n",
       "<ellipse cx=\"425.9\" cy=\"344.0\" rx=\"35.4\" ry=\"35.4\" class=\"atom-2\" style=\"fill:#1F77B4A5;fill-rule:evenodd;stroke:#1F77B4A5;stroke-width:1.0px;stroke-linecap:butt;stroke-linejoin:miter;stroke-opacity:1\"/>\n",
       "<ellipse cx=\"425.9\" cy=\"167.4\" rx=\"35.4\" ry=\"35.4\" class=\"atom-3\" style=\"fill:#1F77B4A5;fill-rule:evenodd;stroke:#1F77B4A5;stroke-width:1.0px;stroke-linecap:butt;stroke-linejoin:miter;stroke-opacity:1\"/>\n",
       "<ellipse cx=\"592.3\" cy=\"432.6\" rx=\"37.2\" ry=\"35.4\" class=\"atom-4\" style=\"fill:#1F77B4A5;fill-rule:evenodd;stroke:#1F77B4A5;stroke-width:1.0px;stroke-linecap:butt;stroke-linejoin:miter;stroke-opacity:1\"/>\n",
       "<path class=\"bond-0 atom-0 atom-1\" d=\"M 134.6,352.6 L 203.7,392.5\" style=\"fill:none;fill-rule:evenodd;stroke:#CCCC00;stroke-width:2.0px;stroke-linecap:butt;stroke-linejoin:miter;stroke-opacity:1\"/>\n",
       "<path class=\"bond-0 atom-0 atom-1\" d=\"M 203.7,392.5 L 272.8,432.4\" style=\"fill:none;fill-rule:evenodd;stroke:#000000;stroke-width:2.0px;stroke-linecap:butt;stroke-linejoin:miter;stroke-opacity:1\"/>\n",
       "<path class=\"bond-1 atom-1 atom-2\" d=\"M 272.8,432.4 L 425.9,344.0\" style=\"fill:none;fill-rule:evenodd;stroke:#000000;stroke-width:2.0px;stroke-linecap:butt;stroke-linejoin:miter;stroke-opacity:1\"/>\n",
       "<path class=\"bond-2 atom-2 atom-3\" d=\"M 439.1,351.6 L 439.1,269.7\" style=\"fill:none;fill-rule:evenodd;stroke:#000000;stroke-width:2.0px;stroke-linecap:butt;stroke-linejoin:miter;stroke-opacity:1\"/>\n",
       "<path class=\"bond-2 atom-2 atom-3\" d=\"M 439.1,269.7 L 439.1,187.8\" style=\"fill:none;fill-rule:evenodd;stroke:#FF0000;stroke-width:2.0px;stroke-linecap:butt;stroke-linejoin:miter;stroke-opacity:1\"/>\n",
       "<path class=\"bond-2 atom-2 atom-3\" d=\"M 412.6,351.6 L 412.6,269.7\" style=\"fill:none;fill-rule:evenodd;stroke:#000000;stroke-width:2.0px;stroke-linecap:butt;stroke-linejoin:miter;stroke-opacity:1\"/>\n",
       "<path class=\"bond-2 atom-2 atom-3\" d=\"M 412.6,269.7 L 412.6,187.8\" style=\"fill:none;fill-rule:evenodd;stroke:#FF0000;stroke-width:2.0px;stroke-linecap:butt;stroke-linejoin:miter;stroke-opacity:1\"/>\n",
       "<path class=\"bond-3 atom-2 atom-4\" d=\"M 425.9,344.0 L 493.0,382.7\" style=\"fill:none;fill-rule:evenodd;stroke:#000000;stroke-width:2.0px;stroke-linecap:butt;stroke-linejoin:miter;stroke-opacity:1\"/>\n",
       "<path class=\"bond-3 atom-2 atom-4\" d=\"M 493.0,382.7 L 560.1,421.5\" style=\"fill:none;fill-rule:evenodd;stroke:#FF0000;stroke-width:2.0px;stroke-linecap:butt;stroke-linejoin:miter;stroke-opacity:1\"/>\n",
       "<path d=\"M 269.3,430.4 L 272.8,432.4 L 280.5,427.9\" style=\"fill:none;stroke:#000000;stroke-width:2.0px;stroke-linecap:butt;stroke-linejoin:miter;stroke-opacity:1;\"/>\n",
       "<path d=\"M 418.2,348.4 L 425.9,344.0 L 429.2,345.9\" style=\"fill:none;stroke:#000000;stroke-width:2.0px;stroke-linecap:butt;stroke-linejoin:miter;stroke-opacity:1;\"/>\n",
       "<path class=\"atom-0\" d=\"M 83.1 329.8 L 86.9 329.8 L 86.9 341.9 L 101.4 341.9 L 101.4 329.8 L 105.2 329.8 L 105.2 358.1 L 101.4 358.1 L 101.4 345.1 L 86.9 345.1 L 86.9 358.1 L 83.1 358.1 L 83.1 329.8 \" fill=\"#CCCC00\"/>\n",
       "<path class=\"atom-0\" d=\"M 111.7 353.7 Q 112.0 353.9, 113.3 354.4 Q 114.7 355.0, 116.1 355.3 Q 117.6 355.7, 119.0 355.7 Q 121.7 355.7, 123.3 354.4 Q 124.8 353.1, 124.8 350.8 Q 124.8 349.2, 124.0 348.3 Q 123.3 347.3, 122.1 346.8 Q 120.9 346.3, 118.9 345.7 Q 116.3 344.9, 114.8 344.2 Q 113.3 343.5, 112.3 341.9 Q 111.2 340.4, 111.2 337.9 Q 111.2 334.3, 113.6 332.1 Q 116.1 329.9, 120.9 329.9 Q 124.1 329.9, 127.9 331.5 L 126.9 334.5 Q 123.5 333.1, 121.0 333.1 Q 118.2 333.1, 116.7 334.3 Q 115.2 335.4, 115.2 337.4 Q 115.2 338.9, 116.0 339.8 Q 116.8 340.7, 117.9 341.3 Q 119.1 341.8, 121.0 342.4 Q 123.5 343.2, 125.1 344.0 Q 126.6 344.8, 127.7 346.4 Q 128.8 348.0, 128.8 350.8 Q 128.8 354.7, 126.1 356.8 Q 123.5 358.9, 119.2 358.9 Q 116.7 358.9, 114.7 358.3 Q 112.9 357.8, 110.6 356.9 L 111.7 353.7 \" fill=\"#CCCC00\"/>\n",
       "<path class=\"atom-3\" d=\"M 412.9 167.3 Q 412.9 160.5, 416.2 156.7 Q 419.6 152.9, 425.9 152.9 Q 432.2 152.9, 435.5 156.7 Q 438.9 160.5, 438.9 167.3 Q 438.9 174.2, 435.5 178.1 Q 432.1 182.0, 425.9 182.0 Q 419.6 182.0, 416.2 178.1 Q 412.9 174.2, 412.9 167.3 M 425.9 178.8 Q 430.2 178.8, 432.5 175.9 Q 434.9 173.0, 434.9 167.3 Q 434.9 161.7, 432.5 158.9 Q 430.2 156.1, 425.9 156.1 Q 421.6 156.1, 419.2 158.9 Q 416.9 161.7, 416.9 167.3 Q 416.9 173.0, 419.2 175.9 Q 421.6 178.8, 425.9 178.8 \" fill=\"#FF0000\"/>\n",
       "<path class=\"atom-4\" d=\"M 566.0 432.4 Q 566.0 425.6, 569.3 421.8 Q 572.7 418.0, 579.0 418.0 Q 585.3 418.0, 588.6 421.8 Q 592.0 425.6, 592.0 432.4 Q 592.0 439.3, 588.6 443.2 Q 585.2 447.1, 579.0 447.1 Q 572.7 447.1, 569.3 443.2 Q 566.0 439.4, 566.0 432.4 M 579.0 443.9 Q 583.3 443.9, 585.6 441.0 Q 588.0 438.1, 588.0 432.4 Q 588.0 426.9, 585.6 424.1 Q 583.3 421.2, 579.0 421.2 Q 574.7 421.2, 572.3 424.0 Q 570.0 426.8, 570.0 432.4 Q 570.0 438.2, 572.3 441.0 Q 574.7 443.9, 579.0 443.9 \" fill=\"#FF0000\"/>\n",
       "<path class=\"atom-4\" d=\"M 596.4 418.4 L 600.2 418.4 L 600.2 430.4 L 614.7 430.4 L 614.7 418.4 L 618.5 418.4 L 618.5 446.7 L 614.7 446.7 L 614.7 433.6 L 600.2 433.6 L 600.2 446.7 L 596.4 446.7 L 596.4 418.4 \" fill=\"#FF0000\"/>\n",
       "<rect x=\"1\" y=\"5\" width=\"18.0\" height=\"18.0\" fill=\"rgb(31, 119, 179)\"/><text x=\"19.200000000000003\" y=\"20\" font-family=\"Helvetica\" font-size=\"12\" fill=\"black\">COOH: 1</text><rect x=\"1\" y=\"30\" width=\"18.0\" height=\"18.0\" fill=\"rgb(255, 127, 13)\"/><text x=\"19.200000000000003\" y=\"45\" font-family=\"Helvetica\" font-size=\"12\" fill=\"black\">CH2SH: 1</text><text x=\"350.0\" y=\"40\" font-family=\"Helvetica\" font-size=\"12\" font-weight=\"bold\" fill=\"black\" text-anchor=\"middle\"/></svg>"
      ],
      "text/plain": [
       "<IPython.core.display.SVG object>"
      ]
     },
     "execution_count": 6,
     "metadata": {},
     "output_type": "execute_result"
    }
   ],
   "source": [
    "abdulelah_gani_p.get_groups(wrong_smiles, \"smiles\").draw(width=700, height=600)"
   ]
  },
  {
   "cell_type": "code",
   "execution_count": null,
   "metadata": {},
   "outputs": [
    {
     "name": "stdout",
     "output_type": "stream",
     "text": [
      "1\n"
     ]
    },
    {
     "data": {
      "image/png": "[encoded data removed]",
      "text/plain": [
       "<rdkit.Chem.rdchem.Mol at 0x7f74315b7ca0>"
      ]
     },
     "execution_count": 7,
     "metadata": {},
     "output_type": "execute_result"
    }
   ],
   "source": [
    "idx = 1\n",
    "\n",
    "ocurr = df[df[341]>0][341].values[idx]\n",
    "print(ocurr)\n",
    "smiles = df[df[341]>0].index[idx]\n",
    "\n",
    "mol = instantiate_mol_object(smiles, \"smiles\")\n",
    "\n",
    "mol"
   ]
  },
  {
   "cell_type": "code",
   "execution_count": 8,
   "metadata": {},
   "outputs": [],
   "source": [
    "column_sums = df.sum()\n",
    "\n",
    "# Identificar columnas cuya suma es igual a 0\n",
    "columns_with_zero_sum = column_sums[column_sums == 0].index.tolist()"
   ]
  },
  {
   "cell_type": "code",
   "execution_count": 9,
   "metadata": {},
   "outputs": [
    {
     "data": {
      "text/plain": [
       "[225, 238, 256, 264, 276, 280, 308, 314, 342]"
      ]
     },
     "execution_count": 9,
     "metadata": {},
     "output_type": "execute_result"
    }
   ],
   "source": [
    "columns_with_zero_sum"
   ]
  }
 ],
 "metadata": {
  "kernelspec": {
   "display_name": "ugropy",
   "language": "python",
   "name": "python3"
  },
  "language_info": {
   "codemirror_mode": {
    "name": "ipython",
    "version": 3
   },
   "file_extension": ".py",
   "mimetype": "text/x-python",
   "name": "python",
   "nbconvert_exporter": "python",
   "pygments_lexer": "ipython3",
   "version": "3.10.12"
  }
 },
 "nbformat": 4,
 "nbformat_minor": 2
}
