{
 "cells": [
  {
   "cell_type": "code",
   "execution_count": 1,
   "metadata": {},
   "outputs": [],
   "source": [
    "from ugropy import abdulelah_gani_p, instantiate_mol_object\n",
    "\n",
    "import pandas as pd\n",
    "\n",
    "import numpy as np"
   ]
  },
  {
   "cell_type": "code",
   "execution_count": 2,
   "metadata": {},
   "outputs": [],
   "source": [
    "df = pd.read_csv(\"abdulelah_gani_frags/log_p.csv\", index_col=\"SMILES\", sep=\"|\", comment=\"?\")"
   ]
  },
  {
   "cell_type": "code",
   "execution_count": 3,
   "metadata": {},
   "outputs": [],
   "source": [
    "# for idx, smiles in enumerate(df.index):\n",
    "#     try:\n",
    "#         solution = abdulelah_gani_p.get_groups(smiles, \"smiles\")\n",
    "#         solution.subgroups_numbers\n",
    "#     except:\n",
    "#         print(smiles)\n",
    "#         print(idx)\n",
    "#         print(df.loc[smiles, \"Compound\"])\n",
    "#         break"
   ]
  },
  {
   "cell_type": "code",
   "execution_count": 4,
   "metadata": {},
   "outputs": [],
   "source": [
    "primary = np.linspace(1, 220, 220, dtype=int).astype(str)"
   ]
  },
  {
   "cell_type": "code",
   "execution_count": 5,
   "metadata": {},
   "outputs": [],
   "source": [
    "df = df[primary]\n",
    "df.rename(columns=lambda col: int(col) if col.isdigit() else col, inplace=True)"
   ]
  },
  {
   "cell_type": "code",
   "execution_count": 6,
   "metadata": {},
   "outputs": [
    {
     "name": "stdout",
     "output_type": "stream",
     "text": [
      "BrC1=CC2=C(S1)N3C(C)=NN=C3CN=C2c4ccccc4Cl\n",
      "11\n",
      "{'CH3': 1, 'aCH': 4, 'aC fused with non-aromatic ring': 1, 'aC-Cl': 1, '-Br except as above': 1, 'CH2 (cyclic)': 1, 'CH=C (cyclic)': 1, 'C=C (cyclic)': 1, 'N (cyclic)': 1, 'C=N (cyclic)': 3, 'S (cyclic)': 1}\n",
      "{1: 1, 15: 4, 17: 1, 123: 1, 128: 1, 168: 1, 172: 1, 173: 1, 176: 1, 178: 3, 181: 1}\n",
      "{1: 1, 15: 4, 18: 1, 123: 1, 128: 1, 168: 1, 172: 1, 173: 1, 176: 1, 178: 3, 181: 1}\n"
     ]
    }
   ],
   "source": [
    "for idx, smiles in enumerate(df.index):\n",
    "    solution = abdulelah_gani_p.get_groups(smiles, \"smiles\")\n",
    "    \n",
    "    # Filtrar las columnas de la fila que no sean iguales a 0\n",
    "    row = df.loc[smiles][df.loc[smiles] != 0]\n",
    "    \n",
    "    # Convertir la fila filtrada a diccionario\n",
    "    row_dict = row.to_dict()\n",
    "    \n",
    "    # Comparar con los subgrupos calculados\n",
    "    if solution.subgroups_numbers != row_dict:\n",
    "        print(smiles)\n",
    "        print(idx)\n",
    "        print(solution.subgroups)\n",
    "        print(solution.subgroups_numbers)\n",
    "        print(row_dict)\n",
    "        \n",
    "        wrong_smiles = smiles\n",
    "        break\n"
   ]
  },
  {
   "cell_type": "code",
   "execution_count": 7,
   "metadata": {},
   "outputs": [
    {
     "data": {
      "image/png": "[encoded data removed]",
      "text/plain": [
       "<rdkit.Chem.rdchem.Mol at 0x7f73e3f77680>"
      ]
     },
     "execution_count": 7,
     "metadata": {},
     "output_type": "execute_result"
    }
   ],
   "source": [
    "mol = instantiate_mol_object(wrong_smiles, \"smiles\")\n",
    "\n",
    "mol"
   ]
  },
  {
   "cell_type": "code",
   "execution_count": 8,
   "metadata": {},
   "outputs": [
    {
     "data": {
      "text/plain": [
       "{'CH3_0': (8,),\n",
       " 'aCH_0': (2,),\n",
       " 'aCH_1': (16,),\n",
       " 'aCH_2': (17,),\n",
       " 'aCH_3': (18,),\n",
       " 'aCH_4': (19,),\n",
       " 'aC fused with aromatic ring_0': (4,),\n",
       " 'aC fused with non-aromatic ring_0': (3,),\n",
       " 'aC fused with non-aromatic ring_1': (11,),\n",
       " 'aC fused with non-aromatic ring_2': (15,),\n",
       " 'aC except as above_0': (1,),\n",
       " 'aC except as above_1': (7,),\n",
       " 'aC except as above_2': (20,),\n",
       " 'aN in aromatic ring_0': (6,),\n",
       " 'aN in aromatic ring_1': (9,),\n",
       " 'aN in aromatic ring_2': (10,),\n",
       " 'aC-CH3_0': (7, 8),\n",
       " 'aC-Cl_0': (20, 21),\n",
       " '-Br except as above_0': (0,),\n",
       " '-Cl except as above_0': (21,),\n",
       " 'CH2 (cyclic)_0': (12,),\n",
       " 'CH=C (cyclic)_0': (2, 1),\n",
       " 'CH=C (cyclic)_1': (2, 3),\n",
       " 'C=C (cyclic)_0': (3, 4),\n",
       " 'C=C (cyclic)_1': (3, 14),\n",
       " 'N (cyclic)_0': (6,),\n",
       " 'N (cyclic)_1': (9,),\n",
       " 'N (cyclic)_2': (10,),\n",
       " 'N (cyclic)_3': (13,),\n",
       " 'C=N (cyclic)_0': (4, 6),\n",
       " 'C=N (cyclic)_1': (7, 6),\n",
       " 'C=N (cyclic)_2': (7, 9),\n",
       " 'C=N (cyclic)_3': (11, 10),\n",
       " 'C=N (cyclic)_4': (11, 6),\n",
       " 'C=N (cyclic)_5': (14, 13),\n",
       " 'S (cyclic)_0': (5,)}"
      ]
     },
     "execution_count": 8,
     "metadata": {},
     "output_type": "execute_result"
    }
   ],
   "source": [
    "sol = abdulelah_gani_p.detect_fragments(mol)\n",
    " \n",
    "sol"
   ]
  },
  {
   "cell_type": "code",
   "execution_count": 9,
   "metadata": {},
   "outputs": [
    {
     "data": {
      "image/svg+xml": [
       "<svg xmlns=\"http://www.w3.org/2000/svg\" xmlns:rdkit=\"http://www.rdkit.org/xml\" xmlns:xlink=\"http://www.w3.org/1999/xlink\" version=\"1.1\" baseProfile=\"full\" xml:space=\"preserve\" width=\"800px\" height=\"400px\" viewBox=\"0 0 800 400\">\n",
       "<!-- END OF HEADER -->\n",
       "<rect style=\"opacity:1.0;fill:#FFFFFF;stroke:none\" width=\"800.0\" height=\"400.0\" x=\"0.0\" y=\"0.0\"> </rect>\n",
       "<ellipse cx=\"366.2\" cy=\"366.5\" rx=\"16.5\" ry=\"13.5\" class=\"atom-0\" style=\"fill:#9467BDA5;fill-rule:evenodd;stroke:#9467BDA5;stroke-width:1.0px;stroke-linecap:butt;stroke-linejoin:miter;stroke-opacity:1\"/>\n",
       "<ellipse cx=\"357.5\" cy=\"299.0\" rx=\"13.5\" ry=\"13.5\" class=\"atom-1\" style=\"fill:#E377C2A5;fill-rule:evenodd;stroke:#E377C2A5;stroke-width:1.0px;stroke-linecap:butt;stroke-linejoin:miter;stroke-opacity:1\"/>\n",
       "<ellipse cx=\"410.1\" cy=\"256.4\" rx=\"13.5\" ry=\"13.5\" class=\"atom-2\" style=\"fill:#E377C2A5;fill-rule:evenodd;stroke:#E377C2A5;stroke-width:1.0px;stroke-linecap:butt;stroke-linejoin:miter;stroke-opacity:1\"/>\n",
       "<ellipse cx=\"385.9\" cy=\"193.3\" rx=\"13.5\" ry=\"13.5\" class=\"atom-3\" style=\"fill:#7F7F7FA5;fill-rule:evenodd;stroke:#7F7F7FA5;stroke-width:1.0px;stroke-linecap:butt;stroke-linejoin:miter;stroke-opacity:1\"/>\n",
       "<ellipse cx=\"318.4\" cy=\"196.8\" rx=\"13.5\" ry=\"13.5\" class=\"atom-4\" style=\"fill:#17BECFA5;fill-rule:evenodd;stroke:#17BECFA5;stroke-width:1.0px;stroke-linecap:butt;stroke-linejoin:miter;stroke-opacity:1\"/>\n",
       "<ellipse cx=\"300.9\" cy=\"262.4\" rx=\"13.5\" ry=\"13.9\" class=\"atom-5\" style=\"fill:#1F77B4A5;fill-rule:evenodd;stroke:#1F77B4A5;stroke-width:1.0px;stroke-linecap:butt;stroke-linejoin:miter;stroke-opacity:1\"/>\n",
       "<ellipse cx=\"273.5\" cy=\"146.3\" rx=\"13.5\" ry=\"13.5\" class=\"atom-6\" style=\"fill:#17BECFA5;fill-rule:evenodd;stroke:#17BECFA5;stroke-width:1.0px;stroke-linecap:butt;stroke-linejoin:miter;stroke-opacity:1\"/>\n",
       "<ellipse cx=\"206.6\" cy=\"155.8\" rx=\"13.5\" ry=\"13.5\" class=\"atom-7\" style=\"fill:#17BECFA5;fill-rule:evenodd;stroke:#17BECFA5;stroke-width:1.0px;stroke-linecap:butt;stroke-linejoin:miter;stroke-opacity:1\"/>\n",
       "<ellipse cx=\"175.0\" cy=\"215.6\" rx=\"13.5\" ry=\"13.5\" class=\"atom-8\" style=\"fill:#1F77B4A5;fill-rule:evenodd;stroke:#1F77B4A5;stroke-width:1.0px;stroke-linecap:butt;stroke-linejoin:miter;stroke-opacity:1\"/>\n",
       "<ellipse cx=\"176.8\" cy=\"95.1\" rx=\"13.5\" ry=\"13.5\" class=\"atom-9\" style=\"fill:#17BECFA5;fill-rule:evenodd;stroke:#17BECFA5;stroke-width:1.0px;stroke-linecap:butt;stroke-linejoin:miter;stroke-opacity:1\"/>\n",
       "<ellipse cx=\"225.3\" cy=\"48.1\" rx=\"13.5\" ry=\"13.5\" class=\"atom-10\" style=\"fill:#17BECFA5;fill-rule:evenodd;stroke:#17BECFA5;stroke-width:1.0px;stroke-linecap:butt;stroke-linejoin:miter;stroke-opacity:1\"/>\n",
       "<ellipse cx=\"285.1\" cy=\"79.7\" rx=\"13.5\" ry=\"13.5\" class=\"atom-11\" style=\"fill:#17BECFA5;fill-rule:evenodd;stroke:#17BECFA5;stroke-width:1.0px;stroke-linecap:butt;stroke-linejoin:miter;stroke-opacity:1\"/>\n",
       "<ellipse cx=\"344.4\" cy=\"47.2\" rx=\"13.5\" ry=\"13.5\" class=\"atom-12\" style=\"fill:#8C564BA5;fill-rule:evenodd;stroke:#8C564BA5;stroke-width:1.0px;stroke-linecap:butt;stroke-linejoin:miter;stroke-opacity:1\"/>\n",
       "<ellipse cx=\"406.7\" cy=\"73.3\" rx=\"13.5\" ry=\"13.5\" class=\"atom-13\" style=\"fill:#BCBD21A5;fill-rule:evenodd;stroke:#BCBD21A5;stroke-width:1.0px;stroke-linecap:butt;stroke-linejoin:miter;stroke-opacity:1\"/>\n",
       "<ellipse cx=\"425.2\" cy=\"138.3\" rx=\"13.5\" ry=\"13.5\" class=\"atom-14\" style=\"fill:#7F7F7FA5;fill-rule:evenodd;stroke:#7F7F7FA5;stroke-width:1.0px;stroke-linecap:butt;stroke-linejoin:miter;stroke-opacity:1\"/>\n",
       "<ellipse cx=\"491.8\" cy=\"149.9\" rx=\"13.5\" ry=\"13.5\" class=\"atom-15\" style=\"fill:#2CA02CA5;fill-rule:evenodd;stroke:#2CA02CA5;stroke-width:1.0px;stroke-linecap:butt;stroke-linejoin:miter;stroke-opacity:1\"/>\n",
       "<ellipse cx=\"515.1\" cy=\"213.4\" rx=\"13.5\" ry=\"13.5\" class=\"atom-16\" style=\"fill:#FF7F0EA5;fill-rule:evenodd;stroke:#FF7F0EA5;stroke-width:1.0px;stroke-linecap:butt;stroke-linejoin:miter;stroke-opacity:1\"/>\n",
       "<ellipse cx=\"581.7\" cy=\"225.0\" rx=\"13.5\" ry=\"13.5\" class=\"atom-17\" style=\"fill:#FF7F0EA5;fill-rule:evenodd;stroke:#FF7F0EA5;stroke-width:1.0px;stroke-linecap:butt;stroke-linejoin:miter;stroke-opacity:1\"/>\n",
       "<ellipse cx=\"625.0\" cy=\"173.1\" rx=\"13.5\" ry=\"13.5\" class=\"atom-18\" style=\"fill:#FF7F0EA5;fill-rule:evenodd;stroke:#FF7F0EA5;stroke-width:1.0px;stroke-linecap:butt;stroke-linejoin:miter;stroke-opacity:1\"/>\n",
       "<ellipse cx=\"601.7\" cy=\"109.6\" rx=\"13.5\" ry=\"13.5\" class=\"atom-19\" style=\"fill:#FF7F0EA5;fill-rule:evenodd;stroke:#FF7F0EA5;stroke-width:1.0px;stroke-linecap:butt;stroke-linejoin:miter;stroke-opacity:1\"/>\n",
       "<ellipse cx=\"535.1\" cy=\"98.0\" rx=\"13.5\" ry=\"13.5\" class=\"atom-20\" style=\"fill:#D62728A5;fill-rule:evenodd;stroke:#D62728A5;stroke-width:1.0px;stroke-linecap:butt;stroke-linejoin:miter;stroke-opacity:1\"/>\n",
       "<ellipse cx=\"503.5\" cy=\"34.7\" rx=\"13.6\" ry=\"14.7\" class=\"atom-21\" style=\"fill:#D62728A5;fill-rule:evenodd;stroke:#D62728A5;stroke-width:1.0px;stroke-linecap:butt;stroke-linejoin:miter;stroke-opacity:1\"/>\n",
       "<path class=\"bond-0 atom-0 atom-1\" d=\"M 360.5,354.7 L 359.0,326.8\" style=\"fill:none;fill-rule:evenodd;stroke:#7F4C19;stroke-width:2.0px;stroke-linecap:butt;stroke-linejoin:miter;stroke-opacity:1\"/>\n",
       "<path class=\"bond-0 atom-0 atom-1\" d=\"M 359.0,326.8 L 357.5,299.0\" style=\"fill:none;fill-rule:evenodd;stroke:#000000;stroke-width:2.0px;stroke-linecap:butt;stroke-linejoin:miter;stroke-opacity:1\"/>\n",
       "<path class=\"bond-1 atom-1 atom-2\" d=\"M 357.5,299.0 L 410.1,256.4\" style=\"fill:none;fill-rule:evenodd;stroke:#000000;stroke-width:2.0px;stroke-linecap:butt;stroke-linejoin:miter;stroke-opacity:1\"/>\n",
       "<path class=\"bond-1 atom-1 atom-2\" d=\"M 356.9,286.4 L 398.0,253.2\" style=\"fill:none;fill-rule:evenodd;stroke:#000000;stroke-width:2.0px;stroke-linecap:butt;stroke-linejoin:miter;stroke-opacity:1\"/>\n",
       "<path class=\"bond-2 atom-2 atom-3\" d=\"M 410.1,256.4 L 385.9,193.3\" style=\"fill:none;fill-rule:evenodd;stroke:#000000;stroke-width:2.0px;stroke-linecap:butt;stroke-linejoin:miter;stroke-opacity:1\"/>\n",
       "<path class=\"bond-3 atom-3 atom-4\" d=\"M 385.9,193.3 L 318.4,196.8\" style=\"fill:none;fill-rule:evenodd;stroke:#000000;stroke-width:2.0px;stroke-linecap:butt;stroke-linejoin:miter;stroke-opacity:1\"/>\n",
       "<path class=\"bond-3 atom-3 atom-4\" d=\"M 379.0,203.8 L 326.3,206.6\" style=\"fill:none;fill-rule:evenodd;stroke:#000000;stroke-width:2.0px;stroke-linecap:butt;stroke-linejoin:miter;stroke-opacity:1\"/>\n",
       "<path class=\"bond-4 atom-4 atom-5\" d=\"M 318.4,196.8 L 311.2,223.6\" style=\"fill:none;fill-rule:evenodd;stroke:#000000;stroke-width:2.0px;stroke-linecap:butt;stroke-linejoin:miter;stroke-opacity:1\"/>\n",
       "<path class=\"bond-4 atom-4 atom-5\" d=\"M 311.2,223.6 L 304.0,250.4\" style=\"fill:none;fill-rule:evenodd;stroke:#CCCC00;stroke-width:2.0px;stroke-linecap:butt;stroke-linejoin:miter;stroke-opacity:1\"/>\n",
       "<path class=\"bond-5 atom-4 atom-6\" d=\"M 318.4,196.8 L 300.7,176.9\" style=\"fill:none;fill-rule:evenodd;stroke:#000000;stroke-width:2.0px;stroke-linecap:butt;stroke-linejoin:miter;stroke-opacity:1\"/>\n",
       "<path class=\"bond-5 atom-4 atom-6\" d=\"M 300.7,176.9 L 283.0,157.0\" style=\"fill:none;fill-rule:evenodd;stroke:#0000FF;stroke-width:2.0px;stroke-linecap:butt;stroke-linejoin:miter;stroke-opacity:1\"/>\n",
       "<path class=\"bond-6 atom-6 atom-7\" d=\"M 264.0,147.6 L 235.3,151.7\" style=\"fill:none;fill-rule:evenodd;stroke:#0000FF;stroke-width:2.0px;stroke-linecap:butt;stroke-linejoin:miter;stroke-opacity:1\"/>\n",
       "<path class=\"bond-6 atom-6 atom-7\" d=\"M 235.3,151.7 L 206.6,155.8\" style=\"fill:none;fill-rule:evenodd;stroke:#000000;stroke-width:2.0px;stroke-linecap:butt;stroke-linejoin:miter;stroke-opacity:1\"/>\n",
       "<path class=\"bond-7 atom-7 atom-8\" d=\"M 206.6,155.8 L 175.0,215.6\" style=\"fill:none;fill-rule:evenodd;stroke:#000000;stroke-width:2.0px;stroke-linecap:butt;stroke-linejoin:miter;stroke-opacity:1\"/>\n",
       "<path class=\"bond-8 atom-7 atom-9\" d=\"M 206.6,155.8 L 194.6,131.4\" style=\"fill:none;fill-rule:evenodd;stroke:#000000;stroke-width:2.0px;stroke-linecap:butt;stroke-linejoin:miter;stroke-opacity:1\"/>\n",
       "<path class=\"bond-8 atom-7 atom-9\" d=\"M 194.6,131.4 L 182.6,106.9\" style=\"fill:none;fill-rule:evenodd;stroke:#0000FF;stroke-width:2.0px;stroke-linecap:butt;stroke-linejoin:miter;stroke-opacity:1\"/>\n",
       "<path class=\"bond-8 atom-7 atom-9\" d=\"M 212.5,144.7 L 202.1,123.6\" style=\"fill:none;fill-rule:evenodd;stroke:#000000;stroke-width:2.0px;stroke-linecap:butt;stroke-linejoin:miter;stroke-opacity:1\"/>\n",
       "<path class=\"bond-8 atom-7 atom-9\" d=\"M 202.1,123.6 L 191.7,102.5\" style=\"fill:none;fill-rule:evenodd;stroke:#0000FF;stroke-width:2.0px;stroke-linecap:butt;stroke-linejoin:miter;stroke-opacity:1\"/>\n",
       "<path class=\"bond-9 atom-9 atom-10\" d=\"M 186.3,85.9 L 215.8,57.3\" style=\"fill:none;fill-rule:evenodd;stroke:#0000FF;stroke-width:2.0px;stroke-linecap:butt;stroke-linejoin:miter;stroke-opacity:1\"/>\n",
       "<path class=\"bond-10 atom-10 atom-11\" d=\"M 234.8,53.1 L 260.0,66.4\" style=\"fill:none;fill-rule:evenodd;stroke:#0000FF;stroke-width:2.0px;stroke-linecap:butt;stroke-linejoin:miter;stroke-opacity:1\"/>\n",
       "<path class=\"bond-10 atom-10 atom-11\" d=\"M 260.0,66.4 L 285.1,79.7\" style=\"fill:none;fill-rule:evenodd;stroke:#000000;stroke-width:2.0px;stroke-linecap:butt;stroke-linejoin:miter;stroke-opacity:1\"/>\n",
       "<path class=\"bond-10 atom-10 atom-11\" d=\"M 230.1,62.1 L 252.0,73.6\" style=\"fill:none;fill-rule:evenodd;stroke:#0000FF;stroke-width:2.0px;stroke-linecap:butt;stroke-linejoin:miter;stroke-opacity:1\"/>\n",
       "<path class=\"bond-10 atom-10 atom-11\" d=\"M 252.0,73.6 L 273.8,85.2\" style=\"fill:none;fill-rule:evenodd;stroke:#000000;stroke-width:2.0px;stroke-linecap:butt;stroke-linejoin:miter;stroke-opacity:1\"/>\n",
       "<path class=\"bond-11 atom-11 atom-12\" d=\"M 285.1,79.7 L 344.4,47.2\" style=\"fill:none;fill-rule:evenodd;stroke:#000000;stroke-width:2.0px;stroke-linecap:butt;stroke-linejoin:miter;stroke-opacity:1\"/>\n",
       "<path class=\"bond-12 atom-12 atom-13\" d=\"M 344.4,47.2 L 370.8,58.3\" style=\"fill:none;fill-rule:evenodd;stroke:#000000;stroke-width:2.0px;stroke-linecap:butt;stroke-linejoin:miter;stroke-opacity:1\"/>\n",
       "<path class=\"bond-12 atom-12 atom-13\" d=\"M 370.8,58.3 L 397.2,69.3\" style=\"fill:none;fill-rule:evenodd;stroke:#0000FF;stroke-width:2.0px;stroke-linecap:butt;stroke-linejoin:miter;stroke-opacity:1\"/>\n",
       "<path class=\"bond-13 atom-13 atom-14\" d=\"M 410.1,85.1 L 417.6,111.7\" style=\"fill:none;fill-rule:evenodd;stroke:#0000FF;stroke-width:2.0px;stroke-linecap:butt;stroke-linejoin:miter;stroke-opacity:1\"/>\n",
       "<path class=\"bond-13 atom-13 atom-14\" d=\"M 417.6,111.7 L 425.2,138.3\" style=\"fill:none;fill-rule:evenodd;stroke:#000000;stroke-width:2.0px;stroke-linecap:butt;stroke-linejoin:miter;stroke-opacity:1\"/>\n",
       "<path class=\"bond-13 atom-13 atom-14\" d=\"M 400.3,87.9 L 407.2,112.1\" style=\"fill:none;fill-rule:evenodd;stroke:#0000FF;stroke-width:2.0px;stroke-linecap:butt;stroke-linejoin:miter;stroke-opacity:1\"/>\n",
       "<path class=\"bond-13 atom-13 atom-14\" d=\"M 407.2,112.1 L 414.1,136.4\" style=\"fill:none;fill-rule:evenodd;stroke:#000000;stroke-width:2.0px;stroke-linecap:butt;stroke-linejoin:miter;stroke-opacity:1\"/>\n",
       "<path class=\"bond-14 atom-14 atom-15\" d=\"M 425.2,138.3 L 491.8,149.9\" style=\"fill:none;fill-rule:evenodd;stroke:#000000;stroke-width:2.0px;stroke-linecap:butt;stroke-linejoin:miter;stroke-opacity:1\"/>\n",
       "<path class=\"bond-15 atom-15 atom-16\" d=\"M 491.8,149.9 L 515.1,213.4\" style=\"fill:none;fill-rule:evenodd;stroke:#000000;stroke-width:2.0px;stroke-linecap:butt;stroke-linejoin:miter;stroke-opacity:1\"/>\n",
       "<path class=\"bond-15 atom-15 atom-16\" d=\"M 503.3,151.9 L 522.6,204.4\" style=\"fill:none;fill-rule:evenodd;stroke:#000000;stroke-width:2.0px;stroke-linecap:butt;stroke-linejoin:miter;stroke-opacity:1\"/>\n",
       "<path class=\"bond-16 atom-16 atom-17\" d=\"M 515.1,213.4 L 581.7,225.0\" style=\"fill:none;fill-rule:evenodd;stroke:#000000;stroke-width:2.0px;stroke-linecap:butt;stroke-linejoin:miter;stroke-opacity:1\"/>\n",
       "<path class=\"bond-17 atom-17 atom-18\" d=\"M 581.7,225.0 L 625.0,173.1\" style=\"fill:none;fill-rule:evenodd;stroke:#000000;stroke-width:2.0px;stroke-linecap:butt;stroke-linejoin:miter;stroke-opacity:1\"/>\n",
       "<path class=\"bond-17 atom-17 atom-18\" d=\"M 577.6,214.0 L 613.5,171.1\" style=\"fill:none;fill-rule:evenodd;stroke:#000000;stroke-width:2.0px;stroke-linecap:butt;stroke-linejoin:miter;stroke-opacity:1\"/>\n",
       "<path class=\"bond-18 atom-18 atom-19\" d=\"M 625.0,173.1 L 601.7,109.6\" style=\"fill:none;fill-rule:evenodd;stroke:#000000;stroke-width:2.0px;stroke-linecap:butt;stroke-linejoin:miter;stroke-opacity:1\"/>\n",
       "<path class=\"bond-19 atom-19 atom-20\" d=\"M 601.7,109.6 L 535.1,98.0\" style=\"fill:none;fill-rule:evenodd;stroke:#000000;stroke-width:2.0px;stroke-linecap:butt;stroke-linejoin:miter;stroke-opacity:1\"/>\n",
       "<path class=\"bond-19 atom-19 atom-20\" d=\"M 594.2,118.6 L 539.2,109.0\" style=\"fill:none;fill-rule:evenodd;stroke:#000000;stroke-width:2.0px;stroke-linecap:butt;stroke-linejoin:miter;stroke-opacity:1\"/>\n",
       "<path class=\"bond-20 atom-20 atom-21\" d=\"M 535.1,98.0 L 525.2,71.0\" style=\"fill:none;fill-rule:evenodd;stroke:#000000;stroke-width:2.0px;stroke-linecap:butt;stroke-linejoin:miter;stroke-opacity:1\"/>\n",
       "<path class=\"bond-20 atom-20 atom-21\" d=\"M 525.2,71.0 L 515.3,44.0\" style=\"fill:none;fill-rule:evenodd;stroke:#00CC00;stroke-width:2.0px;stroke-linecap:butt;stroke-linejoin:miter;stroke-opacity:1\"/>\n",
       "<path class=\"bond-21 atom-5 atom-1\" d=\"M 309.2,267.6 L 333.4,283.3\" style=\"fill:none;fill-rule:evenodd;stroke:#CCCC00;stroke-width:2.0px;stroke-linecap:butt;stroke-linejoin:miter;stroke-opacity:1\"/>\n",
       "<path class=\"bond-21 atom-5 atom-1\" d=\"M 333.4,283.3 L 357.5,299.0\" style=\"fill:none;fill-rule:evenodd;stroke:#000000;stroke-width:2.0px;stroke-linecap:butt;stroke-linejoin:miter;stroke-opacity:1\"/>\n",
       "<path class=\"bond-22 atom-14 atom-3\" d=\"M 425.2,138.3 L 385.9,193.3\" style=\"fill:none;fill-rule:evenodd;stroke:#000000;stroke-width:2.0px;stroke-linecap:butt;stroke-linejoin:miter;stroke-opacity:1\"/>\n",
       "<path class=\"bond-23 atom-11 atom-6\" d=\"M 285.1,79.7 L 280.3,107.1\" style=\"fill:none;fill-rule:evenodd;stroke:#000000;stroke-width:2.0px;stroke-linecap:butt;stroke-linejoin:miter;stroke-opacity:1\"/>\n",
       "<path class=\"bond-23 atom-11 atom-6\" d=\"M 280.3,107.1 L 275.6,134.5\" style=\"fill:none;fill-rule:evenodd;stroke:#0000FF;stroke-width:2.0px;stroke-linecap:butt;stroke-linejoin:miter;stroke-opacity:1\"/>\n",
       "<path class=\"bond-24 atom-20 atom-15\" d=\"M 535.1,98.0 L 491.8,149.9\" style=\"fill:none;fill-rule:evenodd;stroke:#000000;stroke-width:2.0px;stroke-linecap:butt;stroke-linejoin:miter;stroke-opacity:1\"/>\n",
       "<path d=\"M 407.5,258.6 L 410.1,256.4 L 408.9,253.3\" style=\"fill:none;stroke:#000000;stroke-width:2.0px;stroke-linecap:butt;stroke-linejoin:miter;stroke-opacity:1;\"/>\n",
       "<path d=\"M 341.4,48.8 L 344.4,47.2 L 345.7,47.7\" style=\"fill:none;stroke:#000000;stroke-width:2.0px;stroke-linecap:butt;stroke-linejoin:miter;stroke-opacity:1;\"/>\n",
       "<path d=\"M 513.9,210.2 L 515.1,213.4 L 518.4,214.0\" style=\"fill:none;stroke:#000000;stroke-width:2.0px;stroke-linecap:butt;stroke-linejoin:miter;stroke-opacity:1;\"/>\n",
       "<path d=\"M 578.3,224.4 L 581.7,225.0 L 583.8,222.4\" style=\"fill:none;stroke:#000000;stroke-width:2.0px;stroke-linecap:butt;stroke-linejoin:miter;stroke-opacity:1;\"/>\n",
       "<path d=\"M 622.8,175.7 L 625.0,173.1 L 623.8,169.9\" style=\"fill:none;stroke:#000000;stroke-width:2.0px;stroke-linecap:butt;stroke-linejoin:miter;stroke-opacity:1;\"/>\n",
       "<path d=\"M 602.9,112.8 L 601.7,109.6 L 598.4,109.0\" style=\"fill:none;stroke:#000000;stroke-width:2.0px;stroke-linecap:butt;stroke-linejoin:miter;stroke-opacity:1;\"/>\n",
       "<path class=\"atom-0\" d=\"M 363.9 366.0 Q 365.7 366.5, 366.6 367.6 Q 367.6 368.7, 367.6 370.4 Q 367.6 373.0, 365.9 374.5 Q 364.2 376.0, 361.0 376.0 L 354.6 376.0 L 354.6 356.9 L 360.2 356.9 Q 363.5 356.9, 365.1 358.2 Q 366.8 359.5, 366.8 362.0 Q 366.8 364.9, 363.9 366.0 M 357.1 359.1 L 357.1 365.1 L 360.2 365.1 Q 362.1 365.1, 363.1 364.3 Q 364.1 363.5, 364.1 362.0 Q 364.1 359.1, 360.2 359.1 L 357.1 359.1 M 361.0 373.9 Q 362.9 373.9, 363.9 373.0 Q 364.9 372.1, 364.9 370.4 Q 364.9 368.8, 363.8 368.0 Q 362.7 367.2, 360.6 367.2 L 357.1 367.2 L 357.1 373.9 L 361.0 373.9 \" fill=\"#7F4C19\"/>\n",
       "<path class=\"atom-0\" d=\"M 371.9 362.1 L 372.2 364.1 Q 373.7 361.9, 376.1 361.9 Q 376.8 361.9, 377.8 362.2 L 377.4 364.4 Q 376.3 364.2, 375.6 364.2 Q 374.5 364.2, 373.7 364.6 Q 373.0 365.1, 372.4 366.1 L 372.4 376.0 L 369.9 376.0 L 369.9 362.1 L 371.9 362.1 \" fill=\"#7F4C19\"/>\n",
       "<path class=\"atom-5\" d=\"M 295.5 268.7 Q 295.7 268.8, 296.6 269.2 Q 297.5 269.5, 298.4 269.8 Q 299.4 270.0, 300.4 270.0 Q 302.2 270.0, 303.3 269.1 Q 304.3 268.2, 304.3 266.7 Q 304.3 265.6, 303.8 265.0 Q 303.3 264.4, 302.5 264.0 Q 301.6 263.6, 300.3 263.2 Q 298.6 262.7, 297.6 262.2 Q 296.6 261.8, 295.8 260.7 Q 295.1 259.7, 295.1 258.0 Q 295.1 255.6, 296.7 254.1 Q 298.4 252.6, 301.6 252.6 Q 303.9 252.6, 306.4 253.6 L 305.8 255.7 Q 303.5 254.8, 301.7 254.8 Q 299.9 254.8, 298.8 255.6 Q 297.8 256.3, 297.8 257.6 Q 297.8 258.7, 298.3 259.3 Q 298.9 259.9, 299.6 260.3 Q 300.4 260.6, 301.7 261.0 Q 303.5 261.6, 304.5 262.1 Q 305.5 262.6, 306.2 263.8 Q 307.0 264.8, 307.0 266.7 Q 307.0 269.4, 305.2 270.8 Q 303.5 272.2, 300.5 272.2 Q 298.8 272.2, 297.5 271.8 Q 296.2 271.5, 294.7 270.8 L 295.5 268.7 \" fill=\"#CCCC00\"/>\n",
       "<path class=\"atom-6\" d=\"M 269.3 136.7 L 275.6 146.8 Q 276.2 147.8, 277.2 149.6 Q 278.2 151.5, 278.2 151.6 L 278.2 136.7 L 280.8 136.7 L 280.8 155.8 L 278.2 155.8 L 271.4 144.7 Q 270.6 143.5, 269.8 142.0 Q 269.0 140.5, 268.7 140.0 L 268.7 155.8 L 266.3 155.8 L 266.3 136.7 L 269.3 136.7 \" fill=\"#0000FF\"/>\n",
       "<path class=\"atom-9\" d=\"M 172.6 85.6 L 178.9 95.7 Q 179.5 96.7, 180.5 98.5 Q 181.5 100.3, 181.5 100.4 L 181.5 85.6 L 184.1 85.6 L 184.1 104.7 L 181.5 104.7 L 174.7 93.6 Q 173.9 92.3, 173.1 90.8 Q 172.3 89.4, 172.0 88.9 L 172.0 104.7 L 169.6 104.7 L 169.6 85.6 L 172.6 85.6 \" fill=\"#0000FF\"/>\n",
       "<path class=\"atom-10\" d=\"M 221.1 38.5 L 227.4 48.6 Q 228.0 49.6, 229.0 51.4 Q 230.0 53.3, 230.1 53.4 L 230.1 38.5 L 232.6 38.5 L 232.6 57.6 L 230.0 57.6 L 223.2 46.6 Q 222.5 45.3, 221.6 43.8 Q 220.8 42.3, 220.6 41.8 L 220.6 57.6 L 218.1 57.6 L 218.1 38.5 L 221.1 38.5 \" fill=\"#0000FF\"/>\n",
       "<path class=\"atom-13\" d=\"M 402.5 63.7 L 408.8 73.9 Q 409.4 74.9, 410.4 76.7 Q 411.4 78.5, 411.5 78.6 L 411.5 63.7 L 414.0 63.7 L 414.0 82.9 L 411.4 82.9 L 404.6 71.8 Q 403.9 70.5, 403.0 69.0 Q 402.2 67.5, 402.0 67.1 L 402.0 82.9 L 399.5 82.9 L 399.5 63.7 L 402.5 63.7 \" fill=\"#0000FF\"/>\n",
       "<path class=\"atom-21\" d=\"M 493.9 35.2 Q 493.9 30.5, 496.1 28.0 Q 498.4 25.5, 502.6 25.5 Q 506.6 25.5, 508.7 28.2 L 506.9 29.7 Q 505.3 27.7, 502.6 27.7 Q 499.7 27.7, 498.2 29.6 Q 496.7 31.5, 496.7 35.2 Q 496.7 39.0, 498.2 41.0 Q 499.8 42.9, 502.9 42.9 Q 505.0 42.9, 507.5 41.6 L 508.2 43.7 Q 507.2 44.3, 505.7 44.7 Q 504.2 45.1, 502.5 45.1 Q 498.4 45.1, 496.1 42.5 Q 493.9 40.0, 493.9 35.2 \" fill=\"#00CC00\"/>\n",
       "<path class=\"atom-21\" d=\"M 510.6 24.3 L 513.1 24.3 L 513.1 44.8 L 510.6 44.8 L 510.6 24.3 \" fill=\"#00CC00\"/>\n",
       "<rect x=\"1\" y=\"5\" width=\"18.0\" height=\"18.0\" fill=\"rgb(31, 119, 179)\"/><text x=\"19.200000000000003\" y=\"20\" font-family=\"Helvetica\" font-size=\"12\" fill=\"black\">CH3: 1</text><rect x=\"1\" y=\"30\" width=\"18.0\" height=\"18.0\" fill=\"rgb(255, 127, 13)\"/><text x=\"19.200000000000003\" y=\"45\" font-family=\"Helvetica\" font-size=\"12\" fill=\"black\">aCH: 4</text><rect x=\"1\" y=\"55\" width=\"18.0\" height=\"18.0\" fill=\"rgb(44, 159, 44)\"/><text x=\"19.200000000000003\" y=\"70\" font-family=\"Helvetica\" font-size=\"12\" fill=\"black\">aC fused with non-aromatic ring: 1</text><rect x=\"1\" y=\"80\" width=\"18.0\" height=\"18.0\" fill=\"rgb(214, 39, 40)\"/><text x=\"19.200000000000003\" y=\"95\" font-family=\"Helvetica\" font-size=\"12\" fill=\"black\">aC-Cl: 1</text><rect x=\"1\" y=\"105\" width=\"18.0\" height=\"18.0\" fill=\"rgb(148, 103, 188)\"/><text x=\"19.200000000000003\" y=\"120\" font-family=\"Helvetica\" font-size=\"12\" fill=\"black\">-Br except as above: 1</text><rect x=\"1\" y=\"130\" width=\"18.0\" height=\"18.0\" fill=\"rgb(140, 85, 75)\"/><text x=\"19.200000000000003\" y=\"145\" font-family=\"Helvetica\" font-size=\"12\" fill=\"black\">CH2 (cyclic): 1</text><rect x=\"1\" y=\"155\" width=\"18.0\" height=\"18.0\" fill=\"rgb(227, 119, 193)\"/><text x=\"19.200000000000003\" y=\"170\" font-family=\"Helvetica\" font-size=\"12\" fill=\"black\">CH=C (cyclic): 1</text><rect x=\"1\" y=\"180\" width=\"18.0\" height=\"18.0\" fill=\"rgb(127, 127, 127)\"/><text x=\"19.200000000000003\" y=\"195\" font-family=\"Helvetica\" font-size=\"12\" fill=\"black\">C=C (cyclic): 1</text><rect x=\"1\" y=\"205\" width=\"18.0\" height=\"18.0\" fill=\"rgb(187, 188, 33)\"/><text x=\"19.200000000000003\" y=\"220\" font-family=\"Helvetica\" font-size=\"12\" fill=\"black\">N (cyclic): 1</text><rect x=\"1\" y=\"230\" width=\"18.0\" height=\"18.0\" fill=\"rgb(23, 190, 207)\"/><text x=\"19.200000000000003\" y=\"245\" font-family=\"Helvetica\" font-size=\"12\" fill=\"black\">C=N (cyclic): 3</text><rect x=\"1\" y=\"255\" width=\"18.0\" height=\"18.0\" fill=\"rgb(31, 119, 179)\"/><text x=\"19.200000000000003\" y=\"270\" font-family=\"Helvetica\" font-size=\"12\" fill=\"black\">S (cyclic): 1</text><text x=\"400.0\" y=\"40\" font-family=\"Helvetica\" font-size=\"12\" font-weight=\"bold\" fill=\"black\" text-anchor=\"middle\"/></svg>"
      ],
      "text/plain": [
       "<IPython.core.display.SVG object>"
      ]
     },
     "execution_count": 9,
     "metadata": {},
     "output_type": "execute_result"
    }
   ],
   "source": [
    "sol = abdulelah_gani_p.get_groups(wrong_smiles, \"smiles\")\n",
    "\n",
    "sol.draw(width=800, height=400)"
   ]
  },
  {
   "cell_type": "code",
   "execution_count": 10,
   "metadata": {},
   "outputs": [
    {
     "data": {
      "image/svg+xml": [
       "<svg xmlns=\"http://www.w3.org/2000/svg\" xmlns:rdkit=\"http://www.rdkit.org/xml\" xmlns:xlink=\"http://www.w3.org/1999/xlink\" version=\"1.1\" baseProfile=\"full\" xml:space=\"preserve\" width=\"800px\" height=\"400px\" viewBox=\"0 0 800 400\">\n",
       "<!-- END OF HEADER -->\n",
       "<rect style=\"opacity:1.0;fill:#FFFFFF;stroke:none\" width=\"800.0\" height=\"400.0\" x=\"0.0\" y=\"0.0\"> </rect>\n",
       "<ellipse cx=\"366.2\" cy=\"366.5\" rx=\"16.5\" ry=\"13.5\" class=\"atom-0\" style=\"fill:#9467BDA5;fill-rule:evenodd;stroke:#9467BDA5;stroke-width:1.0px;stroke-linecap:butt;stroke-linejoin:miter;stroke-opacity:1\"/>\n",
       "<ellipse cx=\"357.5\" cy=\"299.0\" rx=\"13.5\" ry=\"13.5\" class=\"atom-1\" style=\"fill:#E377C2A5;fill-rule:evenodd;stroke:#E377C2A5;stroke-width:1.0px;stroke-linecap:butt;stroke-linejoin:miter;stroke-opacity:1\"/>\n",
       "<ellipse cx=\"410.1\" cy=\"256.4\" rx=\"13.5\" ry=\"13.5\" class=\"atom-2\" style=\"fill:#E377C2A5;fill-rule:evenodd;stroke:#E377C2A5;stroke-width:1.0px;stroke-linecap:butt;stroke-linejoin:miter;stroke-opacity:1\"/>\n",
       "<ellipse cx=\"385.9\" cy=\"193.3\" rx=\"13.5\" ry=\"13.5\" class=\"atom-3\" style=\"fill:#7F7F7FA5;fill-rule:evenodd;stroke:#7F7F7FA5;stroke-width:1.0px;stroke-linecap:butt;stroke-linejoin:miter;stroke-opacity:1\"/>\n",
       "<ellipse cx=\"318.4\" cy=\"196.8\" rx=\"13.5\" ry=\"13.5\" class=\"atom-4\" style=\"fill:#17BECFA5;fill-rule:evenodd;stroke:#17BECFA5;stroke-width:1.0px;stroke-linecap:butt;stroke-linejoin:miter;stroke-opacity:1\"/>\n",
       "<ellipse cx=\"300.9\" cy=\"262.4\" rx=\"13.5\" ry=\"13.9\" class=\"atom-5\" style=\"fill:#1F77B4A5;fill-rule:evenodd;stroke:#1F77B4A5;stroke-width:1.0px;stroke-linecap:butt;stroke-linejoin:miter;stroke-opacity:1\"/>\n",
       "<ellipse cx=\"273.5\" cy=\"146.3\" rx=\"13.5\" ry=\"13.5\" class=\"atom-6\" style=\"fill:#17BECFA5;fill-rule:evenodd;stroke:#17BECFA5;stroke-width:1.0px;stroke-linecap:butt;stroke-linejoin:miter;stroke-opacity:1\"/>\n",
       "<ellipse cx=\"206.6\" cy=\"155.8\" rx=\"13.5\" ry=\"13.5\" class=\"atom-7\" style=\"fill:#17BECFA5;fill-rule:evenodd;stroke:#17BECFA5;stroke-width:1.0px;stroke-linecap:butt;stroke-linejoin:miter;stroke-opacity:1\"/>\n",
       "<ellipse cx=\"175.0\" cy=\"215.6\" rx=\"13.5\" ry=\"13.5\" class=\"atom-8\" style=\"fill:#1F77B4A5;fill-rule:evenodd;stroke:#1F77B4A5;stroke-width:1.0px;stroke-linecap:butt;stroke-linejoin:miter;stroke-opacity:1\"/>\n",
       "<ellipse cx=\"176.8\" cy=\"95.1\" rx=\"13.5\" ry=\"13.5\" class=\"atom-9\" style=\"fill:#17BECFA5;fill-rule:evenodd;stroke:#17BECFA5;stroke-width:1.0px;stroke-linecap:butt;stroke-linejoin:miter;stroke-opacity:1\"/>\n",
       "<ellipse cx=\"225.3\" cy=\"48.1\" rx=\"13.5\" ry=\"13.5\" class=\"atom-10\" style=\"fill:#17BECFA5;fill-rule:evenodd;stroke:#17BECFA5;stroke-width:1.0px;stroke-linecap:butt;stroke-linejoin:miter;stroke-opacity:1\"/>\n",
       "<ellipse cx=\"285.1\" cy=\"79.7\" rx=\"13.5\" ry=\"13.5\" class=\"atom-11\" style=\"fill:#17BECFA5;fill-rule:evenodd;stroke:#17BECFA5;stroke-width:1.0px;stroke-linecap:butt;stroke-linejoin:miter;stroke-opacity:1\"/>\n",
       "<ellipse cx=\"344.4\" cy=\"47.2\" rx=\"13.5\" ry=\"13.5\" class=\"atom-12\" style=\"fill:#8C564BA5;fill-rule:evenodd;stroke:#8C564BA5;stroke-width:1.0px;stroke-linecap:butt;stroke-linejoin:miter;stroke-opacity:1\"/>\n",
       "<ellipse cx=\"406.7\" cy=\"73.3\" rx=\"13.5\" ry=\"13.5\" class=\"atom-13\" style=\"fill:#BCBD21A5;fill-rule:evenodd;stroke:#BCBD21A5;stroke-width:1.0px;stroke-linecap:butt;stroke-linejoin:miter;stroke-opacity:1\"/>\n",
       "<ellipse cx=\"425.2\" cy=\"138.3\" rx=\"13.5\" ry=\"13.5\" class=\"atom-14\" style=\"fill:#7F7F7FA5;fill-rule:evenodd;stroke:#7F7F7FA5;stroke-width:1.0px;stroke-linecap:butt;stroke-linejoin:miter;stroke-opacity:1\"/>\n",
       "<ellipse cx=\"491.8\" cy=\"149.9\" rx=\"13.5\" ry=\"13.5\" class=\"atom-15\" style=\"fill:#2CA02CA5;fill-rule:evenodd;stroke:#2CA02CA5;stroke-width:1.0px;stroke-linecap:butt;stroke-linejoin:miter;stroke-opacity:1\"/>\n",
       "<ellipse cx=\"515.1\" cy=\"213.4\" rx=\"13.5\" ry=\"13.5\" class=\"atom-16\" style=\"fill:#FF7F0EA5;fill-rule:evenodd;stroke:#FF7F0EA5;stroke-width:1.0px;stroke-linecap:butt;stroke-linejoin:miter;stroke-opacity:1\"/>\n",
       "<ellipse cx=\"581.7\" cy=\"225.0\" rx=\"13.5\" ry=\"13.5\" class=\"atom-17\" style=\"fill:#FF7F0EA5;fill-rule:evenodd;stroke:#FF7F0EA5;stroke-width:1.0px;stroke-linecap:butt;stroke-linejoin:miter;stroke-opacity:1\"/>\n",
       "<ellipse cx=\"625.0\" cy=\"173.1\" rx=\"13.5\" ry=\"13.5\" class=\"atom-18\" style=\"fill:#FF7F0EA5;fill-rule:evenodd;stroke:#FF7F0EA5;stroke-width:1.0px;stroke-linecap:butt;stroke-linejoin:miter;stroke-opacity:1\"/>\n",
       "<ellipse cx=\"601.7\" cy=\"109.6\" rx=\"13.5\" ry=\"13.5\" class=\"atom-19\" style=\"fill:#FF7F0EA5;fill-rule:evenodd;stroke:#FF7F0EA5;stroke-width:1.0px;stroke-linecap:butt;stroke-linejoin:miter;stroke-opacity:1\"/>\n",
       "<ellipse cx=\"535.1\" cy=\"98.0\" rx=\"13.5\" ry=\"13.5\" class=\"atom-20\" style=\"fill:#D62728A5;fill-rule:evenodd;stroke:#D62728A5;stroke-width:1.0px;stroke-linecap:butt;stroke-linejoin:miter;stroke-opacity:1\"/>\n",
       "<ellipse cx=\"503.5\" cy=\"34.7\" rx=\"13.6\" ry=\"14.7\" class=\"atom-21\" style=\"fill:#D62728A5;fill-rule:evenodd;stroke:#D62728A5;stroke-width:1.0px;stroke-linecap:butt;stroke-linejoin:miter;stroke-opacity:1\"/>\n",
       "<path class=\"bond-0 atom-0 atom-1\" d=\"M 360.5,354.7 L 359.0,326.8\" style=\"fill:none;fill-rule:evenodd;stroke:#7F4C19;stroke-width:2.0px;stroke-linecap:butt;stroke-linejoin:miter;stroke-opacity:1\"/>\n",
       "<path class=\"bond-0 atom-0 atom-1\" d=\"M 359.0,326.8 L 357.5,299.0\" style=\"fill:none;fill-rule:evenodd;stroke:#000000;stroke-width:2.0px;stroke-linecap:butt;stroke-linejoin:miter;stroke-opacity:1\"/>\n",
       "<path class=\"bond-1 atom-1 atom-2\" d=\"M 357.5,299.0 L 410.1,256.4\" style=\"fill:none;fill-rule:evenodd;stroke:#000000;stroke-width:2.0px;stroke-linecap:butt;stroke-linejoin:miter;stroke-opacity:1\"/>\n",
       "<path class=\"bond-1 atom-1 atom-2\" d=\"M 356.9,286.4 L 398.0,253.2\" style=\"fill:none;fill-rule:evenodd;stroke:#000000;stroke-width:2.0px;stroke-linecap:butt;stroke-linejoin:miter;stroke-opacity:1\"/>\n",
       "<path class=\"bond-2 atom-2 atom-3\" d=\"M 410.1,256.4 L 385.9,193.3\" style=\"fill:none;fill-rule:evenodd;stroke:#000000;stroke-width:2.0px;stroke-linecap:butt;stroke-linejoin:miter;stroke-opacity:1\"/>\n",
       "<path class=\"bond-3 atom-3 atom-4\" d=\"M 385.9,193.3 L 318.4,196.8\" style=\"fill:none;fill-rule:evenodd;stroke:#000000;stroke-width:2.0px;stroke-linecap:butt;stroke-linejoin:miter;stroke-opacity:1\"/>\n",
       "<path class=\"bond-3 atom-3 atom-4\" d=\"M 379.0,203.8 L 326.3,206.6\" style=\"fill:none;fill-rule:evenodd;stroke:#000000;stroke-width:2.0px;stroke-linecap:butt;stroke-linejoin:miter;stroke-opacity:1\"/>\n",
       "<path class=\"bond-4 atom-4 atom-5\" d=\"M 318.4,196.8 L 311.2,223.6\" style=\"fill:none;fill-rule:evenodd;stroke:#000000;stroke-width:2.0px;stroke-linecap:butt;stroke-linejoin:miter;stroke-opacity:1\"/>\n",
       "<path class=\"bond-4 atom-4 atom-5\" d=\"M 311.2,223.6 L 304.0,250.4\" style=\"fill:none;fill-rule:evenodd;stroke:#CCCC00;stroke-width:2.0px;stroke-linecap:butt;stroke-linejoin:miter;stroke-opacity:1\"/>\n",
       "<path class=\"bond-5 atom-4 atom-6\" d=\"M 318.4,196.8 L 300.7,176.9\" style=\"fill:none;fill-rule:evenodd;stroke:#000000;stroke-width:2.0px;stroke-linecap:butt;stroke-linejoin:miter;stroke-opacity:1\"/>\n",
       "<path class=\"bond-5 atom-4 atom-6\" d=\"M 300.7,176.9 L 283.0,157.0\" style=\"fill:none;fill-rule:evenodd;stroke:#0000FF;stroke-width:2.0px;stroke-linecap:butt;stroke-linejoin:miter;stroke-opacity:1\"/>\n",
       "<path class=\"bond-6 atom-6 atom-7\" d=\"M 264.0,147.6 L 235.3,151.7\" style=\"fill:none;fill-rule:evenodd;stroke:#0000FF;stroke-width:2.0px;stroke-linecap:butt;stroke-linejoin:miter;stroke-opacity:1\"/>\n",
       "<path class=\"bond-6 atom-6 atom-7\" d=\"M 235.3,151.7 L 206.6,155.8\" style=\"fill:none;fill-rule:evenodd;stroke:#000000;stroke-width:2.0px;stroke-linecap:butt;stroke-linejoin:miter;stroke-opacity:1\"/>\n",
       "<path class=\"bond-7 atom-7 atom-8\" d=\"M 206.6,155.8 L 175.0,215.6\" style=\"fill:none;fill-rule:evenodd;stroke:#000000;stroke-width:2.0px;stroke-linecap:butt;stroke-linejoin:miter;stroke-opacity:1\"/>\n",
       "<path class=\"bond-8 atom-7 atom-9\" d=\"M 206.6,155.8 L 194.6,131.4\" style=\"fill:none;fill-rule:evenodd;stroke:#000000;stroke-width:2.0px;stroke-linecap:butt;stroke-linejoin:miter;stroke-opacity:1\"/>\n",
       "<path class=\"bond-8 atom-7 atom-9\" d=\"M 194.6,131.4 L 182.6,106.9\" style=\"fill:none;fill-rule:evenodd;stroke:#0000FF;stroke-width:2.0px;stroke-linecap:butt;stroke-linejoin:miter;stroke-opacity:1\"/>\n",
       "<path class=\"bond-8 atom-7 atom-9\" d=\"M 212.5,144.7 L 202.1,123.6\" style=\"fill:none;fill-rule:evenodd;stroke:#000000;stroke-width:2.0px;stroke-linecap:butt;stroke-linejoin:miter;stroke-opacity:1\"/>\n",
       "<path class=\"bond-8 atom-7 atom-9\" d=\"M 202.1,123.6 L 191.7,102.5\" style=\"fill:none;fill-rule:evenodd;stroke:#0000FF;stroke-width:2.0px;stroke-linecap:butt;stroke-linejoin:miter;stroke-opacity:1\"/>\n",
       "<path class=\"bond-9 atom-9 atom-10\" d=\"M 186.3,85.9 L 215.8,57.3\" style=\"fill:none;fill-rule:evenodd;stroke:#0000FF;stroke-width:2.0px;stroke-linecap:butt;stroke-linejoin:miter;stroke-opacity:1\"/>\n",
       "<path class=\"bond-10 atom-10 atom-11\" d=\"M 234.8,53.1 L 260.0,66.4\" style=\"fill:none;fill-rule:evenodd;stroke:#0000FF;stroke-width:2.0px;stroke-linecap:butt;stroke-linejoin:miter;stroke-opacity:1\"/>\n",
       "<path class=\"bond-10 atom-10 atom-11\" d=\"M 260.0,66.4 L 285.1,79.7\" style=\"fill:none;fill-rule:evenodd;stroke:#000000;stroke-width:2.0px;stroke-linecap:butt;stroke-linejoin:miter;stroke-opacity:1\"/>\n",
       "<path class=\"bond-10 atom-10 atom-11\" d=\"M 230.1,62.1 L 252.0,73.6\" style=\"fill:none;fill-rule:evenodd;stroke:#0000FF;stroke-width:2.0px;stroke-linecap:butt;stroke-linejoin:miter;stroke-opacity:1\"/>\n",
       "<path class=\"bond-10 atom-10 atom-11\" d=\"M 252.0,73.6 L 273.8,85.2\" style=\"fill:none;fill-rule:evenodd;stroke:#000000;stroke-width:2.0px;stroke-linecap:butt;stroke-linejoin:miter;stroke-opacity:1\"/>\n",
       "<path class=\"bond-11 atom-11 atom-12\" d=\"M 285.1,79.7 L 344.4,47.2\" style=\"fill:none;fill-rule:evenodd;stroke:#000000;stroke-width:2.0px;stroke-linecap:butt;stroke-linejoin:miter;stroke-opacity:1\"/>\n",
       "<path class=\"bond-12 atom-12 atom-13\" d=\"M 344.4,47.2 L 370.8,58.3\" style=\"fill:none;fill-rule:evenodd;stroke:#000000;stroke-width:2.0px;stroke-linecap:butt;stroke-linejoin:miter;stroke-opacity:1\"/>\n",
       "<path class=\"bond-12 atom-12 atom-13\" d=\"M 370.8,58.3 L 397.2,69.3\" style=\"fill:none;fill-rule:evenodd;stroke:#0000FF;stroke-width:2.0px;stroke-linecap:butt;stroke-linejoin:miter;stroke-opacity:1\"/>\n",
       "<path class=\"bond-13 atom-13 atom-14\" d=\"M 410.1,85.1 L 417.6,111.7\" style=\"fill:none;fill-rule:evenodd;stroke:#0000FF;stroke-width:2.0px;stroke-linecap:butt;stroke-linejoin:miter;stroke-opacity:1\"/>\n",
       "<path class=\"bond-13 atom-13 atom-14\" d=\"M 417.6,111.7 L 425.2,138.3\" style=\"fill:none;fill-rule:evenodd;stroke:#000000;stroke-width:2.0px;stroke-linecap:butt;stroke-linejoin:miter;stroke-opacity:1\"/>\n",
       "<path class=\"bond-13 atom-13 atom-14\" d=\"M 400.3,87.9 L 407.2,112.1\" style=\"fill:none;fill-rule:evenodd;stroke:#0000FF;stroke-width:2.0px;stroke-linecap:butt;stroke-linejoin:miter;stroke-opacity:1\"/>\n",
       "<path class=\"bond-13 atom-13 atom-14\" d=\"M 407.2,112.1 L 414.1,136.4\" style=\"fill:none;fill-rule:evenodd;stroke:#000000;stroke-width:2.0px;stroke-linecap:butt;stroke-linejoin:miter;stroke-opacity:1\"/>\n",
       "<path class=\"bond-14 atom-14 atom-15\" d=\"M 425.2,138.3 L 491.8,149.9\" style=\"fill:none;fill-rule:evenodd;stroke:#000000;stroke-width:2.0px;stroke-linecap:butt;stroke-linejoin:miter;stroke-opacity:1\"/>\n",
       "<path class=\"bond-15 atom-15 atom-16\" d=\"M 491.8,149.9 L 515.1,213.4\" style=\"fill:none;fill-rule:evenodd;stroke:#000000;stroke-width:2.0px;stroke-linecap:butt;stroke-linejoin:miter;stroke-opacity:1\"/>\n",
       "<path class=\"bond-15 atom-15 atom-16\" d=\"M 503.3,151.9 L 522.6,204.4\" style=\"fill:none;fill-rule:evenodd;stroke:#000000;stroke-width:2.0px;stroke-linecap:butt;stroke-linejoin:miter;stroke-opacity:1\"/>\n",
       "<path class=\"bond-16 atom-16 atom-17\" d=\"M 515.1,213.4 L 581.7,225.0\" style=\"fill:none;fill-rule:evenodd;stroke:#000000;stroke-width:2.0px;stroke-linecap:butt;stroke-linejoin:miter;stroke-opacity:1\"/>\n",
       "<path class=\"bond-17 atom-17 atom-18\" d=\"M 581.7,225.0 L 625.0,173.1\" style=\"fill:none;fill-rule:evenodd;stroke:#000000;stroke-width:2.0px;stroke-linecap:butt;stroke-linejoin:miter;stroke-opacity:1\"/>\n",
       "<path class=\"bond-17 atom-17 atom-18\" d=\"M 577.6,214.0 L 613.5,171.1\" style=\"fill:none;fill-rule:evenodd;stroke:#000000;stroke-width:2.0px;stroke-linecap:butt;stroke-linejoin:miter;stroke-opacity:1\"/>\n",
       "<path class=\"bond-18 atom-18 atom-19\" d=\"M 625.0,173.1 L 601.7,109.6\" style=\"fill:none;fill-rule:evenodd;stroke:#000000;stroke-width:2.0px;stroke-linecap:butt;stroke-linejoin:miter;stroke-opacity:1\"/>\n",
       "<path class=\"bond-19 atom-19 atom-20\" d=\"M 601.7,109.6 L 535.1,98.0\" style=\"fill:none;fill-rule:evenodd;stroke:#000000;stroke-width:2.0px;stroke-linecap:butt;stroke-linejoin:miter;stroke-opacity:1\"/>\n",
       "<path class=\"bond-19 atom-19 atom-20\" d=\"M 594.2,118.6 L 539.2,109.0\" style=\"fill:none;fill-rule:evenodd;stroke:#000000;stroke-width:2.0px;stroke-linecap:butt;stroke-linejoin:miter;stroke-opacity:1\"/>\n",
       "<path class=\"bond-20 atom-20 atom-21\" d=\"M 535.1,98.0 L 525.2,71.0\" style=\"fill:none;fill-rule:evenodd;stroke:#000000;stroke-width:2.0px;stroke-linecap:butt;stroke-linejoin:miter;stroke-opacity:1\"/>\n",
       "<path class=\"bond-20 atom-20 atom-21\" d=\"M 525.2,71.0 L 515.3,44.0\" style=\"fill:none;fill-rule:evenodd;stroke:#00CC00;stroke-width:2.0px;stroke-linecap:butt;stroke-linejoin:miter;stroke-opacity:1\"/>\n",
       "<path class=\"bond-21 atom-5 atom-1\" d=\"M 309.2,267.6 L 333.4,283.3\" style=\"fill:none;fill-rule:evenodd;stroke:#CCCC00;stroke-width:2.0px;stroke-linecap:butt;stroke-linejoin:miter;stroke-opacity:1\"/>\n",
       "<path class=\"bond-21 atom-5 atom-1\" d=\"M 333.4,283.3 L 357.5,299.0\" style=\"fill:none;fill-rule:evenodd;stroke:#000000;stroke-width:2.0px;stroke-linecap:butt;stroke-linejoin:miter;stroke-opacity:1\"/>\n",
       "<path class=\"bond-22 atom-14 atom-3\" d=\"M 425.2,138.3 L 385.9,193.3\" style=\"fill:none;fill-rule:evenodd;stroke:#000000;stroke-width:2.0px;stroke-linecap:butt;stroke-linejoin:miter;stroke-opacity:1\"/>\n",
       "<path class=\"bond-23 atom-11 atom-6\" d=\"M 285.1,79.7 L 280.3,107.1\" style=\"fill:none;fill-rule:evenodd;stroke:#000000;stroke-width:2.0px;stroke-linecap:butt;stroke-linejoin:miter;stroke-opacity:1\"/>\n",
       "<path class=\"bond-23 atom-11 atom-6\" d=\"M 280.3,107.1 L 275.6,134.5\" style=\"fill:none;fill-rule:evenodd;stroke:#0000FF;stroke-width:2.0px;stroke-linecap:butt;stroke-linejoin:miter;stroke-opacity:1\"/>\n",
       "<path class=\"bond-24 atom-20 atom-15\" d=\"M 535.1,98.0 L 491.8,149.9\" style=\"fill:none;fill-rule:evenodd;stroke:#000000;stroke-width:2.0px;stroke-linecap:butt;stroke-linejoin:miter;stroke-opacity:1\"/>\n",
       "<path d=\"M 407.5,258.6 L 410.1,256.4 L 408.9,253.3\" style=\"fill:none;stroke:#000000;stroke-width:2.0px;stroke-linecap:butt;stroke-linejoin:miter;stroke-opacity:1;\"/>\n",
       "<path d=\"M 341.4,48.8 L 344.4,47.2 L 345.7,47.7\" style=\"fill:none;stroke:#000000;stroke-width:2.0px;stroke-linecap:butt;stroke-linejoin:miter;stroke-opacity:1;\"/>\n",
       "<path d=\"M 513.9,210.2 L 515.1,213.4 L 518.4,214.0\" style=\"fill:none;stroke:#000000;stroke-width:2.0px;stroke-linecap:butt;stroke-linejoin:miter;stroke-opacity:1;\"/>\n",
       "<path d=\"M 578.3,224.4 L 581.7,225.0 L 583.8,222.4\" style=\"fill:none;stroke:#000000;stroke-width:2.0px;stroke-linecap:butt;stroke-linejoin:miter;stroke-opacity:1;\"/>\n",
       "<path d=\"M 622.8,175.7 L 625.0,173.1 L 623.8,169.9\" style=\"fill:none;stroke:#000000;stroke-width:2.0px;stroke-linecap:butt;stroke-linejoin:miter;stroke-opacity:1;\"/>\n",
       "<path d=\"M 602.9,112.8 L 601.7,109.6 L 598.4,109.0\" style=\"fill:none;stroke:#000000;stroke-width:2.0px;stroke-linecap:butt;stroke-linejoin:miter;stroke-opacity:1;\"/>\n",
       "<path class=\"atom-0\" d=\"M 363.9 366.0 Q 365.7 366.5, 366.6 367.6 Q 367.6 368.7, 367.6 370.4 Q 367.6 373.0, 365.9 374.5 Q 364.2 376.0, 361.0 376.0 L 354.6 376.0 L 354.6 356.9 L 360.2 356.9 Q 363.5 356.9, 365.1 358.2 Q 366.8 359.5, 366.8 362.0 Q 366.8 364.9, 363.9 366.0 M 357.1 359.1 L 357.1 365.1 L 360.2 365.1 Q 362.1 365.1, 363.1 364.3 Q 364.1 363.5, 364.1 362.0 Q 364.1 359.1, 360.2 359.1 L 357.1 359.1 M 361.0 373.9 Q 362.9 373.9, 363.9 373.0 Q 364.9 372.1, 364.9 370.4 Q 364.9 368.8, 363.8 368.0 Q 362.7 367.2, 360.6 367.2 L 357.1 367.2 L 357.1 373.9 L 361.0 373.9 \" fill=\"#7F4C19\"/>\n",
       "<path class=\"atom-0\" d=\"M 371.9 362.1 L 372.2 364.1 Q 373.7 361.9, 376.1 361.9 Q 376.8 361.9, 377.8 362.2 L 377.4 364.4 Q 376.3 364.2, 375.6 364.2 Q 374.5 364.2, 373.7 364.6 Q 373.0 365.1, 372.4 366.1 L 372.4 376.0 L 369.9 376.0 L 369.9 362.1 L 371.9 362.1 \" fill=\"#7F4C19\"/>\n",
       "<path class=\"atom-5\" d=\"M 295.5 268.7 Q 295.7 268.8, 296.6 269.2 Q 297.5 269.5, 298.4 269.8 Q 299.4 270.0, 300.4 270.0 Q 302.2 270.0, 303.3 269.1 Q 304.3 268.2, 304.3 266.7 Q 304.3 265.6, 303.8 265.0 Q 303.3 264.4, 302.5 264.0 Q 301.6 263.6, 300.3 263.2 Q 298.6 262.7, 297.6 262.2 Q 296.6 261.8, 295.8 260.7 Q 295.1 259.7, 295.1 258.0 Q 295.1 255.6, 296.7 254.1 Q 298.4 252.6, 301.6 252.6 Q 303.9 252.6, 306.4 253.6 L 305.8 255.7 Q 303.5 254.8, 301.7 254.8 Q 299.9 254.8, 298.8 255.6 Q 297.8 256.3, 297.8 257.6 Q 297.8 258.7, 298.3 259.3 Q 298.9 259.9, 299.6 260.3 Q 300.4 260.6, 301.7 261.0 Q 303.5 261.6, 304.5 262.1 Q 305.5 262.6, 306.2 263.8 Q 307.0 264.8, 307.0 266.7 Q 307.0 269.4, 305.2 270.8 Q 303.5 272.2, 300.5 272.2 Q 298.8 272.2, 297.5 271.8 Q 296.2 271.5, 294.7 270.8 L 295.5 268.7 \" fill=\"#CCCC00\"/>\n",
       "<path class=\"atom-6\" d=\"M 269.3 136.7 L 275.6 146.8 Q 276.2 147.8, 277.2 149.6 Q 278.2 151.5, 278.2 151.6 L 278.2 136.7 L 280.8 136.7 L 280.8 155.8 L 278.2 155.8 L 271.4 144.7 Q 270.6 143.5, 269.8 142.0 Q 269.0 140.5, 268.7 140.0 L 268.7 155.8 L 266.3 155.8 L 266.3 136.7 L 269.3 136.7 \" fill=\"#0000FF\"/>\n",
       "<path class=\"atom-9\" d=\"M 172.6 85.6 L 178.9 95.7 Q 179.5 96.7, 180.5 98.5 Q 181.5 100.3, 181.5 100.4 L 181.5 85.6 L 184.1 85.6 L 184.1 104.7 L 181.5 104.7 L 174.7 93.6 Q 173.9 92.3, 173.1 90.8 Q 172.3 89.4, 172.0 88.9 L 172.0 104.7 L 169.6 104.7 L 169.6 85.6 L 172.6 85.6 \" fill=\"#0000FF\"/>\n",
       "<path class=\"atom-10\" d=\"M 221.1 38.5 L 227.4 48.6 Q 228.0 49.6, 229.0 51.4 Q 230.0 53.3, 230.1 53.4 L 230.1 38.5 L 232.6 38.5 L 232.6 57.6 L 230.0 57.6 L 223.2 46.6 Q 222.5 45.3, 221.6 43.8 Q 220.8 42.3, 220.6 41.8 L 220.6 57.6 L 218.1 57.6 L 218.1 38.5 L 221.1 38.5 \" fill=\"#0000FF\"/>\n",
       "<path class=\"atom-13\" d=\"M 402.5 63.7 L 408.8 73.9 Q 409.4 74.9, 410.4 76.7 Q 411.4 78.5, 411.5 78.6 L 411.5 63.7 L 414.0 63.7 L 414.0 82.9 L 411.4 82.9 L 404.6 71.8 Q 403.9 70.5, 403.0 69.0 Q 402.2 67.5, 402.0 67.1 L 402.0 82.9 L 399.5 82.9 L 399.5 63.7 L 402.5 63.7 \" fill=\"#0000FF\"/>\n",
       "<path class=\"atom-21\" d=\"M 493.9 35.2 Q 493.9 30.5, 496.1 28.0 Q 498.4 25.5, 502.6 25.5 Q 506.6 25.5, 508.7 28.2 L 506.9 29.7 Q 505.3 27.7, 502.6 27.7 Q 499.7 27.7, 498.2 29.6 Q 496.7 31.5, 496.7 35.2 Q 496.7 39.0, 498.2 41.0 Q 499.8 42.9, 502.9 42.9 Q 505.0 42.9, 507.5 41.6 L 508.2 43.7 Q 507.2 44.3, 505.7 44.7 Q 504.2 45.1, 502.5 45.1 Q 498.4 45.1, 496.1 42.5 Q 493.9 40.0, 493.9 35.2 \" fill=\"#00CC00\"/>\n",
       "<path class=\"atom-21\" d=\"M 510.6 24.3 L 513.1 24.3 L 513.1 44.8 L 510.6 44.8 L 510.6 24.3 \" fill=\"#00CC00\"/>\n",
       "<rect x=\"1\" y=\"5\" width=\"18.0\" height=\"18.0\" fill=\"rgb(31, 119, 179)\"/><text x=\"19.200000000000003\" y=\"20\" font-family=\"Helvetica\" font-size=\"12\" fill=\"black\">CH3: 1</text><rect x=\"1\" y=\"30\" width=\"18.0\" height=\"18.0\" fill=\"rgb(255, 127, 13)\"/><text x=\"19.200000000000003\" y=\"45\" font-family=\"Helvetica\" font-size=\"12\" fill=\"black\">aCH: 4</text><rect x=\"1\" y=\"55\" width=\"18.0\" height=\"18.0\" fill=\"rgb(44, 159, 44)\"/><text x=\"19.200000000000003\" y=\"70\" font-family=\"Helvetica\" font-size=\"12\" fill=\"black\">aC fused with non-aromatic ring: 1</text><rect x=\"1\" y=\"80\" width=\"18.0\" height=\"18.0\" fill=\"rgb(214, 39, 40)\"/><text x=\"19.200000000000003\" y=\"95\" font-family=\"Helvetica\" font-size=\"12\" fill=\"black\">aC-Cl: 1</text><rect x=\"1\" y=\"105\" width=\"18.0\" height=\"18.0\" fill=\"rgb(148, 103, 188)\"/><text x=\"19.200000000000003\" y=\"120\" font-family=\"Helvetica\" font-size=\"12\" fill=\"black\">-Br except as above: 1</text><rect x=\"1\" y=\"130\" width=\"18.0\" height=\"18.0\" fill=\"rgb(140, 85, 75)\"/><text x=\"19.200000000000003\" y=\"145\" font-family=\"Helvetica\" font-size=\"12\" fill=\"black\">CH2 (cyclic): 1</text><rect x=\"1\" y=\"155\" width=\"18.0\" height=\"18.0\" fill=\"rgb(227, 119, 193)\"/><text x=\"19.200000000000003\" y=\"170\" font-family=\"Helvetica\" font-size=\"12\" fill=\"black\">CH=C (cyclic): 1</text><rect x=\"1\" y=\"180\" width=\"18.0\" height=\"18.0\" fill=\"rgb(127, 127, 127)\"/><text x=\"19.200000000000003\" y=\"195\" font-family=\"Helvetica\" font-size=\"12\" fill=\"black\">C=C (cyclic): 1</text><rect x=\"1\" y=\"205\" width=\"18.0\" height=\"18.0\" fill=\"rgb(187, 188, 33)\"/><text x=\"19.200000000000003\" y=\"220\" font-family=\"Helvetica\" font-size=\"12\" fill=\"black\">N (cyclic): 1</text><rect x=\"1\" y=\"230\" width=\"18.0\" height=\"18.0\" fill=\"rgb(23, 190, 207)\"/><text x=\"19.200000000000003\" y=\"245\" font-family=\"Helvetica\" font-size=\"12\" fill=\"black\">C=N (cyclic): 3</text><rect x=\"1\" y=\"255\" width=\"18.0\" height=\"18.0\" fill=\"rgb(31, 119, 179)\"/><text x=\"19.200000000000003\" y=\"270\" font-family=\"Helvetica\" font-size=\"12\" fill=\"black\">S (cyclic): 1</text><text x=\"400.0\" y=\"40\" font-family=\"Helvetica\" font-size=\"12\" font-weight=\"bold\" fill=\"black\" text-anchor=\"middle\"/></svg>"
      ],
      "text/plain": [
       "<IPython.core.display.SVG object>"
      ]
     },
     "execution_count": 10,
     "metadata": {},
     "output_type": "execute_result"
    }
   ],
   "source": [
    "smiles=\"BrC1=CC2=C(S1)N3C(C)=NN=C3CN=C2c4ccccc4Cl\"\n",
    "\n",
    "mol = abdulelah_gani_p.get_groups(smiles, \"smiles\")\n",
    "\n",
    "mol.draw(width=800, height=400)"
   ]
  },
  {
   "cell_type": "code",
   "execution_count": 11,
   "metadata": {},
   "outputs": [
    {
     "data": {
      "text/plain": [
       "SMILES\n",
       "CCn1cc(C(=O)O)c(=O)c2cc(F)c(cc12)N3CCN(C)CC3        2\n",
       "CCn1cc(C(=O)O)c(=O)c2cc(F)c(cc12)N3CCNC(C)C3        1\n",
       "CCn1cc(C(=O)O)c(=O)c2cc(F)c(cc12)N3CCNCC3           1\n",
       "CCn1cc(C(=O)O)c(=O)c2cc(F)c(N3CCN(C)CC3)c(F)c12     2\n",
       "CCn1cc(C(=O)O)c(=O)c2cc(F)c(N3CCNC(C)C3)c(F)c12     1\n",
       "CCn1cc(C(=O)O)c(=O)c2cc(F)c(N3CCNCC3)c(F)c12        1\n",
       "CCn1cc(C(=O)O)c(=O)c2cc(F)c(nc12)N3CCNCC3           1\n",
       "CCn1cc(C(=O)O)c(=O)c2cc3OCOc3cc12                   0\n",
       "CCn1cc(C(=O)O)c(=O)c2ccc(C)nc12                     0\n",
       "CCn1cc(C(=O)O)c(=O)c2cnc(nc12)N3CCNCC3              1\n",
       "CCn1cc(C(=O)OCOC(=O)C)c(=O)c2ccc(C)nc12             0\n",
       "CN1CCN(CC1)c2c(F)cc3c(=O)c(cn4C(C)COc2c34)C(=O)O    2\n",
       "Fc1cc2CCC(C)n3cc(C(=O)O)c(=O)c(c1)c23               0\n",
       "FCCn1cc(C(=O)O)c(=O)c2cc(F)c(N3CCN(C)CC3)c(F)c12    2\n",
       "O=c1ccn(C)c2ccccc12                                 0\n",
       "O=c1n2C=CC=Cc2nc3ccccc13                            0\n",
       "O=c1n2CCCCc2nc3ccccc13                              0\n",
       "O=c1n2CCCCCc2nc3ccccc13                             0\n",
       "Name: 176, dtype: int64"
      ]
     },
     "execution_count": 11,
     "metadata": {},
     "output_type": "execute_result"
    }
   ],
   "source": [
    "df[df[207]>0][176]"
   ]
  }
 ],
 "metadata": {
  "kernelspec": {
   "display_name": "ugropy",
   "language": "python",
   "name": "python3"
  },
  "language_info": {
   "codemirror_mode": {
    "name": "ipython",
    "version": 3
   },
   "file_extension": ".py",
   "mimetype": "text/x-python",
   "name": "python",
   "nbconvert_exporter": "python",
   "pygments_lexer": "ipython3",
   "version": "3.10.12"
  }
 },
 "nbformat": 4,
 "nbformat_minor": 2
}
