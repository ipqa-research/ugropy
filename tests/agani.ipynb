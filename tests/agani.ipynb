{
 "cells": [
  {
   "cell_type": "code",
   "execution_count": 1,
   "metadata": {},
   "outputs": [],
   "source": [
    "from ugropy import abdulelah_gani_p, instantiate_mol_object\n",
    "\n",
    "import pandas as pd\n",
    "\n",
    "import numpy as np"
   ]
  },
  {
   "cell_type": "code",
   "execution_count": 2,
   "metadata": {},
   "outputs": [],
   "source": [
    "df = pd.read_csv(\"abdulelah_gani_frags/log_p.csv\", index_col=\"SMILES\", sep=\"|\", comment=\"?\")"
   ]
  },
  {
   "cell_type": "code",
   "execution_count": 3,
   "metadata": {},
   "outputs": [],
   "source": [
    "# for idx, smiles in enumerate(df.index):\n",
    "#     try:\n",
    "#         solution = abdulelah_gani_p.get_groups(smiles, \"smiles\")\n",
    "#         solution.subgroups_numbers\n",
    "#     except:\n",
    "#         print(smiles)\n",
    "#         print(idx)\n",
    "#         print(df.loc[smiles, \"Compound\"])\n",
    "#         break"
   ]
  },
  {
   "cell_type": "code",
   "execution_count": 4,
   "metadata": {},
   "outputs": [],
   "source": [
    "primary = np.linspace(1, 220, 220, dtype=int).astype(str)"
   ]
  },
  {
   "cell_type": "code",
   "execution_count": 5,
   "metadata": {},
   "outputs": [],
   "source": [
    "df = df[primary]\n",
    "df.rename(columns=lambda col: int(col) if col.isdigit() else col, inplace=True)"
   ]
  },
  {
   "cell_type": "code",
   "execution_count": 6,
   "metadata": {},
   "outputs": [
    {
     "name": "stdout",
     "output_type": "stream",
     "text": [
      "Brc1c(Br)c(Br)c2N=C(Nc2c1Br)C(F)(F)F\n",
      "20\n",
      "{'aC fused with aromatic ring': 2, 'CF3': 1, 'aC-Br': 4, 'NH (cyclic)': 1, 'C=N (cyclic)': 1}\n",
      "{16: 2, 119: 1, 126: 4, 175: 1, 178: 1}\n",
      "{17: 2, 119: 1, 126: 4, 175: 1, 178: 1}\n"
     ]
    }
   ],
   "source": [
    "for idx, smiles in enumerate(df.index):\n",
    "    solution = abdulelah_gani_p.get_groups(smiles, \"smiles\")\n",
    "    \n",
    "    # Filtrar las columnas de la fila que no sean iguales a 0\n",
    "    row = df.loc[smiles][df.loc[smiles] != 0]\n",
    "    \n",
    "    # Convertir la fila filtrada a diccionario\n",
    "    row_dict = row.to_dict()\n",
    "    \n",
    "    # Comparar con los subgrupos calculados\n",
    "    if solution.subgroups_numbers != row_dict:\n",
    "        print(smiles)\n",
    "        print(idx)\n",
    "        print(solution.subgroups)\n",
    "        print(solution.subgroups_numbers)\n",
    "        print(row_dict)\n",
    "        \n",
    "        wrong_smiles = smiles\n",
    "        break\n"
   ]
  },
  {
   "cell_type": "code",
   "execution_count": 7,
   "metadata": {},
   "outputs": [
    {
     "data": {
      "image/png": "[encoded data removed]",
      "text/plain": [
       "<rdkit.Chem.rdchem.Mol at 0x7fdb28da71b0>"
      ]
     },
     "execution_count": 7,
     "metadata": {},
     "output_type": "execute_result"
    }
   ],
   "source": [
    "mol = instantiate_mol_object(wrong_smiles, \"smiles\")\n",
    "\n",
    "mol"
   ]
  },
  {
   "cell_type": "code",
   "execution_count": 8,
   "metadata": {},
   "outputs": [
    {
     "data": {
      "text/plain": [
       "'Brc1c(Br)c(Br)c2N=C(Nc2c1Br)C(F)(F)F'"
      ]
     },
     "execution_count": 8,
     "metadata": {},
     "output_type": "execute_result"
    }
   ],
   "source": [
    "wrong_smiles"
   ]
  },
  {
   "cell_type": "code",
   "execution_count": 9,
   "metadata": {},
   "outputs": [
    {
     "data": {
      "image/svg+xml": [
       "<svg xmlns=\"http://www.w3.org/2000/svg\" xmlns:rdkit=\"http://www.rdkit.org/xml\" xmlns:xlink=\"http://www.w3.org/1999/xlink\" version=\"1.1\" baseProfile=\"full\" xml:space=\"preserve\" width=\"800px\" height=\"400px\" viewBox=\"0 0 800 400\">\n",
       "<!-- END OF HEADER -->\n",
       "<rect style=\"opacity:1.0;fill:#FFFFFF;stroke:none\" width=\"800.0\" height=\"400.0\" x=\"0.0\" y=\"0.0\"> </rect>\n",
       "<ellipse cx=\"652.4\" cy=\"118.2\" rx=\"19.9\" ry=\"16.4\" class=\"atom-0\" style=\"fill:#2CA02CA5;fill-rule:evenodd;stroke:#2CA02CA5;stroke-width:1.0px;stroke-linecap:butt;stroke-linejoin:miter;stroke-opacity:1\"/>\n",
       "<ellipse cx=\"575.3\" cy=\"159.1\" rx=\"16.4\" ry=\"16.4\" class=\"atom-1\" style=\"fill:#2CA02CA5;fill-rule:evenodd;stroke:#2CA02CA5;stroke-width:1.0px;stroke-linecap:butt;stroke-linejoin:miter;stroke-opacity:1\"/>\n",
       "<ellipse cx=\"575.3\" cy=\"240.9\" rx=\"16.4\" ry=\"16.4\" class=\"atom-2\" style=\"fill:#2CA02CA5;fill-rule:evenodd;stroke:#2CA02CA5;stroke-width:1.0px;stroke-linecap:butt;stroke-linejoin:miter;stroke-opacity:1\"/>\n",
       "<ellipse cx=\"652.4\" cy=\"281.8\" rx=\"19.9\" ry=\"16.4\" class=\"atom-3\" style=\"fill:#2CA02CA5;fill-rule:evenodd;stroke:#2CA02CA5;stroke-width:1.0px;stroke-linecap:butt;stroke-linejoin:miter;stroke-opacity:1\"/>\n",
       "<ellipse cx=\"504.4\" cy=\"281.8\" rx=\"16.4\" ry=\"16.4\" class=\"atom-4\" style=\"fill:#2CA02CA5;fill-rule:evenodd;stroke:#2CA02CA5;stroke-width:1.0px;stroke-linecap:butt;stroke-linejoin:miter;stroke-opacity:1\"/>\n",
       "<ellipse cx=\"510.7\" cy=\"363.6\" rx=\"19.9\" ry=\"16.4\" class=\"atom-5\" style=\"fill:#2CA02CA5;fill-rule:evenodd;stroke:#2CA02CA5;stroke-width:1.0px;stroke-linecap:butt;stroke-linejoin:miter;stroke-opacity:1\"/>\n",
       "<ellipse cx=\"433.6\" cy=\"240.9\" rx=\"16.4\" ry=\"16.4\" class=\"atom-6\" style=\"fill:#1F77B4A5;fill-rule:evenodd;stroke:#1F77B4A5;stroke-width:1.0px;stroke-linecap:butt;stroke-linejoin:miter;stroke-opacity:1\"/>\n",
       "<ellipse cx=\"355.8\" cy=\"266.2\" rx=\"16.4\" ry=\"16.4\" class=\"atom-7\" style=\"fill:#9467BDA5;fill-rule:evenodd;stroke:#9467BDA5;stroke-width:1.0px;stroke-linecap:butt;stroke-linejoin:miter;stroke-opacity:1\"/>\n",
       "<ellipse cx=\"307.7\" cy=\"200.0\" rx=\"16.4\" ry=\"16.4\" class=\"atom-8\" style=\"fill:#9467BDA5;fill-rule:evenodd;stroke:#9467BDA5;stroke-width:1.0px;stroke-linecap:butt;stroke-linejoin:miter;stroke-opacity:1\"/>\n",
       "<ellipse cx=\"355.8\" cy=\"121.1\" rx=\"16.4\" ry=\"34.4\" class=\"atom-9\" style=\"fill:#D62728A5;fill-rule:evenodd;stroke:#D62728A5;stroke-width:1.0px;stroke-linecap:butt;stroke-linejoin:miter;stroke-opacity:1\"/>\n",
       "<ellipse cx=\"433.6\" cy=\"159.1\" rx=\"16.4\" ry=\"16.4\" class=\"atom-10\" style=\"fill:#1F77B4A5;fill-rule:evenodd;stroke:#1F77B4A5;stroke-width:1.0px;stroke-linecap:butt;stroke-linejoin:miter;stroke-opacity:1\"/>\n",
       "<ellipse cx=\"504.4\" cy=\"118.2\" rx=\"16.4\" ry=\"16.4\" class=\"atom-11\" style=\"fill:#2CA02CA5;fill-rule:evenodd;stroke:#2CA02CA5;stroke-width:1.0px;stroke-linecap:butt;stroke-linejoin:miter;stroke-opacity:1\"/>\n",
       "<ellipse cx=\"510.7\" cy=\"36.4\" rx=\"19.9\" ry=\"16.4\" class=\"atom-12\" style=\"fill:#2CA02CA5;fill-rule:evenodd;stroke:#2CA02CA5;stroke-width:1.0px;stroke-linecap:butt;stroke-linejoin:miter;stroke-opacity:1\"/>\n",
       "<ellipse cx=\"225.9\" cy=\"200.0\" rx=\"16.4\" ry=\"16.4\" class=\"atom-13\" style=\"fill:#FF7F0EA5;fill-rule:evenodd;stroke:#FF7F0EA5;stroke-width:1.0px;stroke-linecap:butt;stroke-linejoin:miter;stroke-opacity:1\"/>\n",
       "<ellipse cx=\"144.1\" cy=\"200.0\" rx=\"16.4\" ry=\"16.4\" class=\"atom-14\" style=\"fill:#FF7F0EA5;fill-rule:evenodd;stroke:#FF7F0EA5;stroke-width:1.0px;stroke-linecap:butt;stroke-linejoin:miter;stroke-opacity:1\"/>\n",
       "<ellipse cx=\"225.9\" cy=\"118.2\" rx=\"16.4\" ry=\"16.4\" class=\"atom-15\" style=\"fill:#FF7F0EA5;fill-rule:evenodd;stroke:#FF7F0EA5;stroke-width:1.0px;stroke-linecap:butt;stroke-linejoin:miter;stroke-opacity:1\"/>\n",
       "<ellipse cx=\"225.9\" cy=\"281.8\" rx=\"16.4\" ry=\"16.4\" class=\"atom-16\" style=\"fill:#FF7F0EA5;fill-rule:evenodd;stroke:#FF7F0EA5;stroke-width:1.0px;stroke-linecap:butt;stroke-linejoin:miter;stroke-opacity:1\"/>\n",
       "<path class=\"bond-0 atom-0 atom-1\" d=\"M 635.6,124.3 L 605.4,141.7\" style=\"fill:none;fill-rule:evenodd;stroke:#7F4C19;stroke-width:2.0px;stroke-linecap:butt;stroke-linejoin:miter;stroke-opacity:1\"/>\n",
       "<path class=\"bond-0 atom-0 atom-1\" d=\"M 605.4,141.7 L 575.3,159.1\" style=\"fill:none;fill-rule:evenodd;stroke:#000000;stroke-width:2.0px;stroke-linecap:butt;stroke-linejoin:miter;stroke-opacity:1\"/>\n",
       "<path class=\"bond-1 atom-1 atom-2\" d=\"M 575.3,159.1 L 575.3,240.9\" style=\"fill:none;fill-rule:evenodd;stroke:#000000;stroke-width:2.0px;stroke-linecap:butt;stroke-linejoin:miter;stroke-opacity:1\"/>\n",
       "<path class=\"bond-1 atom-1 atom-2\" d=\"M 563.0,166.2 L 563.0,233.8\" style=\"fill:none;fill-rule:evenodd;stroke:#000000;stroke-width:2.0px;stroke-linecap:butt;stroke-linejoin:miter;stroke-opacity:1\"/>\n",
       "<path class=\"bond-2 atom-2 atom-3\" d=\"M 575.3,240.9 L 605.4,258.3\" style=\"fill:none;fill-rule:evenodd;stroke:#000000;stroke-width:2.0px;stroke-linecap:butt;stroke-linejoin:miter;stroke-opacity:1\"/>\n",
       "<path class=\"bond-2 atom-2 atom-3\" d=\"M 605.4,258.3 L 635.6,275.7\" style=\"fill:none;fill-rule:evenodd;stroke:#7F4C19;stroke-width:2.0px;stroke-linecap:butt;stroke-linejoin:miter;stroke-opacity:1\"/>\n",
       "<path class=\"bond-3 atom-2 atom-4\" d=\"M 575.3,240.9 L 504.4,281.8\" style=\"fill:none;fill-rule:evenodd;stroke:#000000;stroke-width:2.0px;stroke-linecap:butt;stroke-linejoin:miter;stroke-opacity:1\"/>\n",
       "<path class=\"bond-4 atom-4 atom-5\" d=\"M 504.4,281.8 L 504.4,315.6\" style=\"fill:none;fill-rule:evenodd;stroke:#000000;stroke-width:2.0px;stroke-linecap:butt;stroke-linejoin:miter;stroke-opacity:1\"/>\n",
       "<path class=\"bond-4 atom-4 atom-5\" d=\"M 504.4,315.6 L 504.4,349.3\" style=\"fill:none;fill-rule:evenodd;stroke:#7F4C19;stroke-width:2.0px;stroke-linecap:butt;stroke-linejoin:miter;stroke-opacity:1\"/>\n",
       "<path class=\"bond-5 atom-4 atom-6\" d=\"M 504.4,281.8 L 433.6,240.9\" style=\"fill:none;fill-rule:evenodd;stroke:#000000;stroke-width:2.0px;stroke-linecap:butt;stroke-linejoin:miter;stroke-opacity:1\"/>\n",
       "<path class=\"bond-5 atom-4 atom-6\" d=\"M 504.4,267.6 L 445.9,233.8\" style=\"fill:none;fill-rule:evenodd;stroke:#000000;stroke-width:2.0px;stroke-linecap:butt;stroke-linejoin:miter;stroke-opacity:1\"/>\n",
       "<path class=\"bond-6 atom-6 atom-7\" d=\"M 433.6,240.9 L 400.4,251.7\" style=\"fill:none;fill-rule:evenodd;stroke:#000000;stroke-width:2.0px;stroke-linecap:butt;stroke-linejoin:miter;stroke-opacity:1\"/>\n",
       "<path class=\"bond-6 atom-6 atom-7\" d=\"M 400.4,251.7 L 367.3,262.5\" style=\"fill:none;fill-rule:evenodd;stroke:#0000FF;stroke-width:2.0px;stroke-linecap:butt;stroke-linejoin:miter;stroke-opacity:1\"/>\n",
       "<path class=\"bond-7 atom-7 atom-8\" d=\"M 345.4,251.9 L 326.6,226.0\" style=\"fill:none;fill-rule:evenodd;stroke:#0000FF;stroke-width:2.0px;stroke-linecap:butt;stroke-linejoin:miter;stroke-opacity:1\"/>\n",
       "<path class=\"bond-7 atom-7 atom-8\" d=\"M 326.6,226.0 L 307.7,200.0\" style=\"fill:none;fill-rule:evenodd;stroke:#000000;stroke-width:2.0px;stroke-linecap:butt;stroke-linejoin:miter;stroke-opacity:1\"/>\n",
       "<path class=\"bond-7 atom-7 atom-8\" d=\"M 355.3,244.7 L 339.1,222.3\" style=\"fill:none;fill-rule:evenodd;stroke:#0000FF;stroke-width:2.0px;stroke-linecap:butt;stroke-linejoin:miter;stroke-opacity:1\"/>\n",
       "<path class=\"bond-7 atom-7 atom-8\" d=\"M 339.1,222.3 L 322.9,200.0\" style=\"fill:none;fill-rule:evenodd;stroke:#000000;stroke-width:2.0px;stroke-linecap:butt;stroke-linejoin:miter;stroke-opacity:1\"/>\n",
       "<path class=\"bond-8 atom-8 atom-9\" d=\"M 307.7,200.0 L 326.6,174.0\" style=\"fill:none;fill-rule:evenodd;stroke:#000000;stroke-width:2.0px;stroke-linecap:butt;stroke-linejoin:miter;stroke-opacity:1\"/>\n",
       "<path class=\"bond-8 atom-8 atom-9\" d=\"M 326.6,174.0 L 345.4,148.1\" style=\"fill:none;fill-rule:evenodd;stroke:#0000FF;stroke-width:2.0px;stroke-linecap:butt;stroke-linejoin:miter;stroke-opacity:1\"/>\n",
       "<path class=\"bond-9 atom-9 atom-10\" d=\"M 367.3,137.5 L 400.4,148.3\" style=\"fill:none;fill-rule:evenodd;stroke:#0000FF;stroke-width:2.0px;stroke-linecap:butt;stroke-linejoin:miter;stroke-opacity:1\"/>\n",
       "<path class=\"bond-9 atom-9 atom-10\" d=\"M 400.4,148.3 L 433.6,159.1\" style=\"fill:none;fill-rule:evenodd;stroke:#000000;stroke-width:2.0px;stroke-linecap:butt;stroke-linejoin:miter;stroke-opacity:1\"/>\n",
       "<path class=\"bond-10 atom-10 atom-11\" d=\"M 433.6,159.1 L 504.4,118.2\" style=\"fill:none;fill-rule:evenodd;stroke:#000000;stroke-width:2.0px;stroke-linecap:butt;stroke-linejoin:miter;stroke-opacity:1\"/>\n",
       "<path class=\"bond-10 atom-10 atom-11\" d=\"M 445.9,166.2 L 504.4,132.4\" style=\"fill:none;fill-rule:evenodd;stroke:#000000;stroke-width:2.0px;stroke-linecap:butt;stroke-linejoin:miter;stroke-opacity:1\"/>\n",
       "<path class=\"bond-11 atom-11 atom-12\" d=\"M 504.4,118.2 L 504.4,84.4\" style=\"fill:none;fill-rule:evenodd;stroke:#000000;stroke-width:2.0px;stroke-linecap:butt;stroke-linejoin:miter;stroke-opacity:1\"/>\n",
       "<path class=\"bond-11 atom-11 atom-12\" d=\"M 504.4,84.4 L 504.4,50.7\" style=\"fill:none;fill-rule:evenodd;stroke:#7F4C19;stroke-width:2.0px;stroke-linecap:butt;stroke-linejoin:miter;stroke-opacity:1\"/>\n",
       "<path class=\"bond-12 atom-8 atom-13\" d=\"M 307.7,200.0 L 225.9,200.0\" style=\"fill:none;fill-rule:evenodd;stroke:#000000;stroke-width:2.0px;stroke-linecap:butt;stroke-linejoin:miter;stroke-opacity:1\"/>\n",
       "<path class=\"bond-13 atom-13 atom-14\" d=\"M 225.9,200.0 L 189.8,200.0\" style=\"fill:none;fill-rule:evenodd;stroke:#000000;stroke-width:2.0px;stroke-linecap:butt;stroke-linejoin:miter;stroke-opacity:1\"/>\n",
       "<path class=\"bond-13 atom-13 atom-14\" d=\"M 189.8,200.0 L 153.7,200.0\" style=\"fill:none;fill-rule:evenodd;stroke:#33CCCC;stroke-width:2.0px;stroke-linecap:butt;stroke-linejoin:miter;stroke-opacity:1\"/>\n",
       "<path class=\"bond-14 atom-13 atom-15\" d=\"M 225.9,200.0 L 225.9,166.2\" style=\"fill:none;fill-rule:evenodd;stroke:#000000;stroke-width:2.0px;stroke-linecap:butt;stroke-linejoin:miter;stroke-opacity:1\"/>\n",
       "<path class=\"bond-14 atom-13 atom-15\" d=\"M 225.9,166.2 L 225.9,132.5\" style=\"fill:none;fill-rule:evenodd;stroke:#33CCCC;stroke-width:2.0px;stroke-linecap:butt;stroke-linejoin:miter;stroke-opacity:1\"/>\n",
       "<path class=\"bond-15 atom-13 atom-16\" d=\"M 225.9,200.0 L 225.9,233.8\" style=\"fill:none;fill-rule:evenodd;stroke:#000000;stroke-width:2.0px;stroke-linecap:butt;stroke-linejoin:miter;stroke-opacity:1\"/>\n",
       "<path class=\"bond-15 atom-13 atom-16\" d=\"M 225.9,233.8 L 225.9,267.5\" style=\"fill:none;fill-rule:evenodd;stroke:#33CCCC;stroke-width:2.0px;stroke-linecap:butt;stroke-linejoin:miter;stroke-opacity:1\"/>\n",
       "<path class=\"bond-16 atom-11 atom-1\" d=\"M 504.4,118.2 L 575.3,159.1\" style=\"fill:none;fill-rule:evenodd;stroke:#000000;stroke-width:2.0px;stroke-linecap:butt;stroke-linejoin:miter;stroke-opacity:1\"/>\n",
       "<path class=\"bond-17 atom-10 atom-6\" d=\"M 433.6,159.1 L 433.6,240.9\" style=\"fill:none;fill-rule:evenodd;stroke:#000000;stroke-width:2.0px;stroke-linecap:butt;stroke-linejoin:miter;stroke-opacity:1\"/>\n",
       "<path class=\"atom-0\" d=\"M 649.5 117.6 Q 651.8 118.2, 652.9 119.6 Q 654.0 120.9, 654.0 122.9 Q 654.0 126.1, 652.0 128.0 Q 649.9 129.8, 646.1 129.8 L 638.3 129.8 L 638.3 106.6 L 645.1 106.6 Q 649.1 106.6, 651.1 108.2 Q 653.1 109.8, 653.1 112.8 Q 653.1 116.3, 649.5 117.6 M 641.4 109.2 L 641.4 116.5 L 645.1 116.5 Q 647.4 116.5, 648.6 115.6 Q 649.8 114.6, 649.8 112.8 Q 649.8 109.2, 645.1 109.2 L 641.4 109.2 M 646.1 127.2 Q 648.3 127.2, 649.5 126.1 Q 650.7 125.0, 650.7 122.9 Q 650.7 121.0, 649.4 120.1 Q 648.1 119.1, 645.6 119.1 L 641.4 119.1 L 641.4 127.2 L 646.1 127.2 \" fill=\"#7F4C19\"/>\n",
       "<path class=\"atom-0\" d=\"M 659.3 113.0 L 659.6 115.3 Q 661.4 112.7, 664.3 112.7 Q 665.2 112.7, 666.4 113.0 L 665.9 115.7 Q 664.5 115.4, 663.8 115.4 Q 662.4 115.4, 661.5 116.0 Q 660.6 116.5, 659.9 117.8 L 659.9 129.8 L 656.8 129.8 L 656.8 113.0 L 659.3 113.0 \" fill=\"#7F4C19\"/>\n",
       "<path class=\"atom-3\" d=\"M 649.5 281.2 Q 651.8 281.8, 652.9 283.2 Q 654.0 284.6, 654.0 286.6 Q 654.0 289.8, 652.0 291.6 Q 649.9 293.4, 646.1 293.4 L 638.3 293.4 L 638.3 270.2 L 645.1 270.2 Q 649.1 270.2, 651.1 271.8 Q 653.1 273.4, 653.1 276.4 Q 653.1 279.9, 649.5 281.2 M 641.4 272.8 L 641.4 280.1 L 645.1 280.1 Q 647.4 280.1, 648.6 279.2 Q 649.8 278.2, 649.8 276.4 Q 649.8 272.8, 645.1 272.8 L 641.4 272.8 M 646.1 290.8 Q 648.3 290.8, 649.5 289.7 Q 650.7 288.6, 650.7 286.6 Q 650.7 284.7, 649.4 283.7 Q 648.1 282.7, 645.6 282.7 L 641.4 282.7 L 641.4 290.8 L 646.1 290.8 \" fill=\"#7F4C19\"/>\n",
       "<path class=\"atom-3\" d=\"M 659.3 276.6 L 659.6 278.9 Q 661.4 276.3, 664.3 276.3 Q 665.2 276.3, 666.4 276.6 L 665.9 279.4 Q 664.5 279.0, 663.8 279.0 Q 662.4 279.0, 661.5 279.6 Q 660.6 280.1, 659.9 281.4 L 659.9 293.4 L 656.8 293.4 L 656.8 276.6 L 659.3 276.6 \" fill=\"#7F4C19\"/>\n",
       "<path class=\"atom-5\" d=\"M 507.8 363.0 Q 510.1 363.7, 511.2 365.0 Q 512.3 366.4, 512.3 368.4 Q 512.3 371.6, 510.3 373.4 Q 508.2 375.2, 504.4 375.2 L 496.6 375.2 L 496.6 352.0 L 503.4 352.0 Q 507.4 352.0, 509.4 353.6 Q 511.4 355.2, 511.4 358.2 Q 511.4 361.7, 507.8 363.0 M 499.7 354.7 L 499.7 361.9 L 503.4 361.9 Q 505.7 361.9, 506.9 361.0 Q 508.1 360.1, 508.1 358.2 Q 508.1 354.7, 503.4 354.7 L 499.7 354.7 M 504.4 372.6 Q 506.6 372.6, 507.8 371.5 Q 509.0 370.4, 509.0 368.4 Q 509.0 366.5, 507.7 365.5 Q 506.4 364.5, 503.9 364.5 L 499.7 364.5 L 499.7 372.6 L 504.4 372.6 \" fill=\"#7F4C19\"/>\n",
       "<path class=\"atom-5\" d=\"M 517.6 358.4 L 517.9 360.7 Q 519.7 358.1, 522.6 358.1 Q 523.5 358.1, 524.7 358.4 L 524.3 361.2 Q 522.8 360.8, 522.1 360.8 Q 520.7 360.8, 519.8 361.4 Q 518.9 361.9, 518.2 363.2 L 518.2 375.2 L 515.1 375.2 L 515.1 358.4 L 517.6 358.4 \" fill=\"#7F4C19\"/>\n",
       "<path class=\"atom-7\" d=\"M 350.7 254.6 L 358.3 266.9 Q 359.0 268.1, 360.2 270.3 Q 361.4 272.5, 361.5 272.6 L 361.5 254.6 L 364.6 254.6 L 364.6 277.8 L 361.4 277.8 L 353.3 264.4 Q 352.3 262.8, 351.3 261.0 Q 350.3 259.2, 350.0 258.6 L 350.0 277.8 L 347.0 277.8 L 347.0 254.6 L 350.7 254.6 \" fill=\"#0000FF\"/>\n",
       "<path class=\"atom-9\" d=\"M 350.7 122.2 L 358.3 134.5 Q 359.0 135.7, 360.2 137.9 Q 361.4 140.1, 361.5 140.2 L 361.5 122.2 L 364.6 122.2 L 364.6 145.4 L 361.4 145.4 L 353.3 132.0 Q 352.3 130.4, 351.3 128.6 Q 350.3 126.8, 350.0 126.3 L 350.0 145.4 L 347.0 145.4 L 347.0 122.2 L 350.7 122.2 \" fill=\"#0000FF\"/>\n",
       "<path class=\"atom-9\" d=\"M 346.7 96.7 L 349.9 96.7 L 349.9 106.6 L 361.7 106.6 L 361.7 96.7 L 364.9 96.7 L 364.9 119.9 L 361.7 119.9 L 361.7 109.2 L 349.9 109.2 L 349.9 119.9 L 346.7 119.9 L 346.7 96.7 \" fill=\"#0000FF\"/>\n",
       "<path class=\"atom-12\" d=\"M 507.8 35.8 Q 510.1 36.4, 511.2 37.8 Q 512.3 39.1, 512.3 41.1 Q 512.3 44.3, 510.3 46.2 Q 508.2 48.0, 504.4 48.0 L 496.6 48.0 L 496.6 24.8 L 503.4 24.8 Q 507.4 24.8, 509.4 26.4 Q 511.4 28.0, 511.4 31.0 Q 511.4 34.5, 507.8 35.8 M 499.7 27.4 L 499.7 34.7 L 503.4 34.7 Q 505.7 34.7, 506.9 33.8 Q 508.1 32.8, 508.1 31.0 Q 508.1 27.4, 503.4 27.4 L 499.7 27.4 M 504.4 45.3 Q 506.6 45.3, 507.8 44.3 Q 509.0 43.2, 509.0 41.1 Q 509.0 39.2, 507.7 38.3 Q 506.4 37.3, 503.9 37.3 L 499.7 37.3 L 499.7 45.3 L 504.4 45.3 \" fill=\"#7F4C19\"/>\n",
       "<path class=\"atom-12\" d=\"M 517.6 31.1 L 517.9 33.5 Q 519.7 30.9, 522.6 30.9 Q 523.5 30.9, 524.7 31.2 L 524.3 33.9 Q 522.8 33.6, 522.1 33.6 Q 520.7 33.6, 519.8 34.2 Q 518.9 34.7, 518.2 36.0 L 518.2 48.0 L 515.1 48.0 L 515.1 31.1 L 517.6 31.1 \" fill=\"#7F4C19\"/>\n",
       "<path class=\"atom-14\" d=\"M 137.2 188.4 L 151.0 188.4 L 151.0 191.1 L 140.3 191.1 L 140.3 198.1 L 149.8 198.1 L 149.8 200.8 L 140.3 200.8 L 140.3 211.6 L 137.2 211.6 L 137.2 188.4 \" fill=\"#33CCCC\"/>\n",
       "<path class=\"atom-15\" d=\"M 219.0 106.6 L 232.8 106.6 L 232.8 109.3 L 222.1 109.3 L 222.1 116.3 L 231.6 116.3 L 231.6 119.0 L 222.1 119.0 L 222.1 129.8 L 219.0 129.8 L 219.0 106.6 \" fill=\"#33CCCC\"/>\n",
       "<path class=\"atom-16\" d=\"M 219.0 270.2 L 232.8 270.2 L 232.8 272.9 L 222.1 272.9 L 222.1 279.9 L 231.6 279.9 L 231.6 282.6 L 222.1 282.6 L 222.1 293.4 L 219.0 293.4 L 219.0 270.2 \" fill=\"#33CCCC\"/>\n",
       "<rect x=\"1\" y=\"5\" width=\"18.0\" height=\"18.0\" fill=\"rgb(31, 119, 179)\"/><text x=\"19.200000000000003\" y=\"20\" font-family=\"Helvetica\" font-size=\"12\" fill=\"black\">aC fused with aromatic ring: 2</text><rect x=\"1\" y=\"30\" width=\"18.0\" height=\"18.0\" fill=\"rgb(255, 127, 13)\"/><text x=\"19.200000000000003\" y=\"45\" font-family=\"Helvetica\" font-size=\"12\" fill=\"black\">CF3: 1</text><rect x=\"1\" y=\"55\" width=\"18.0\" height=\"18.0\" fill=\"rgb(44, 159, 44)\"/><text x=\"19.200000000000003\" y=\"70\" font-family=\"Helvetica\" font-size=\"12\" fill=\"black\">aC-Br: 4</text><rect x=\"1\" y=\"80\" width=\"18.0\" height=\"18.0\" fill=\"rgb(214, 39, 40)\"/><text x=\"19.200000000000003\" y=\"95\" font-family=\"Helvetica\" font-size=\"12\" fill=\"black\">NH (cyclic): 1</text><rect x=\"1\" y=\"105\" width=\"18.0\" height=\"18.0\" fill=\"rgb(148, 103, 188)\"/><text x=\"19.200000000000003\" y=\"120\" font-family=\"Helvetica\" font-size=\"12\" fill=\"black\">C=N (cyclic): 1</text><text x=\"400.0\" y=\"40\" font-family=\"Helvetica\" font-size=\"12\" font-weight=\"bold\" fill=\"black\" text-anchor=\"middle\"/></svg>"
      ],
      "text/plain": [
       "<IPython.core.display.SVG object>"
      ]
     },
     "execution_count": 9,
     "metadata": {},
     "output_type": "execute_result"
    }
   ],
   "source": [
    "sol = abdulelah_gani_p.get_groups(wrong_smiles, \"smiles\")\n",
    "\n",
    "sol.draw(width=800, height=400)"
   ]
  },
  {
   "cell_type": "code",
   "execution_count": 12,
   "metadata": {},
   "outputs": [
    {
     "data": {
      "image/svg+xml": [
       "<svg xmlns=\"http://www.w3.org/2000/svg\" xmlns:rdkit=\"http://www.rdkit.org/xml\" xmlns:xlink=\"http://www.w3.org/1999/xlink\" version=\"1.1\" baseProfile=\"full\" xml:space=\"preserve\" width=\"800px\" height=\"400px\" viewBox=\"0 0 800 400\">\n",
       "<!-- END OF HEADER -->\n",
       "<rect style=\"opacity:1.0;fill:#FFFFFF;stroke:none\" width=\"800.0\" height=\"400.0\" x=\"0.0\" y=\"0.0\"> </rect>\n",
       "<ellipse cx=\"652.4\" cy=\"118.2\" rx=\"19.9\" ry=\"16.4\" class=\"atom-0\" style=\"fill:#2CA02CA5;fill-rule:evenodd;stroke:#2CA02CA5;stroke-width:1.0px;stroke-linecap:butt;stroke-linejoin:miter;stroke-opacity:1\"/>\n",
       "<ellipse cx=\"575.3\" cy=\"159.1\" rx=\"16.4\" ry=\"16.4\" class=\"atom-1\" style=\"fill:#2CA02CA5;fill-rule:evenodd;stroke:#2CA02CA5;stroke-width:1.0px;stroke-linecap:butt;stroke-linejoin:miter;stroke-opacity:1\"/>\n",
       "<ellipse cx=\"575.3\" cy=\"240.9\" rx=\"16.4\" ry=\"16.4\" class=\"atom-2\" style=\"fill:#2CA02CA5;fill-rule:evenodd;stroke:#2CA02CA5;stroke-width:1.0px;stroke-linecap:butt;stroke-linejoin:miter;stroke-opacity:1\"/>\n",
       "<ellipse cx=\"652.4\" cy=\"281.8\" rx=\"19.9\" ry=\"16.4\" class=\"atom-3\" style=\"fill:#2CA02CA5;fill-rule:evenodd;stroke:#2CA02CA5;stroke-width:1.0px;stroke-linecap:butt;stroke-linejoin:miter;stroke-opacity:1\"/>\n",
       "<ellipse cx=\"504.4\" cy=\"281.8\" rx=\"16.4\" ry=\"16.4\" class=\"atom-4\" style=\"fill:#2CA02CA5;fill-rule:evenodd;stroke:#2CA02CA5;stroke-width:1.0px;stroke-linecap:butt;stroke-linejoin:miter;stroke-opacity:1\"/>\n",
       "<ellipse cx=\"510.7\" cy=\"363.6\" rx=\"19.9\" ry=\"16.4\" class=\"atom-5\" style=\"fill:#2CA02CA5;fill-rule:evenodd;stroke:#2CA02CA5;stroke-width:1.0px;stroke-linecap:butt;stroke-linejoin:miter;stroke-opacity:1\"/>\n",
       "<ellipse cx=\"433.6\" cy=\"240.9\" rx=\"16.4\" ry=\"16.4\" class=\"atom-6\" style=\"fill:#1F77B4A5;fill-rule:evenodd;stroke:#1F77B4A5;stroke-width:1.0px;stroke-linecap:butt;stroke-linejoin:miter;stroke-opacity:1\"/>\n",
       "<ellipse cx=\"355.8\" cy=\"266.2\" rx=\"16.4\" ry=\"16.4\" class=\"atom-7\" style=\"fill:#9467BDA5;fill-rule:evenodd;stroke:#9467BDA5;stroke-width:1.0px;stroke-linecap:butt;stroke-linejoin:miter;stroke-opacity:1\"/>\n",
       "<ellipse cx=\"307.7\" cy=\"200.0\" rx=\"16.4\" ry=\"16.4\" class=\"atom-8\" style=\"fill:#9467BDA5;fill-rule:evenodd;stroke:#9467BDA5;stroke-width:1.0px;stroke-linecap:butt;stroke-linejoin:miter;stroke-opacity:1\"/>\n",
       "<ellipse cx=\"355.8\" cy=\"121.1\" rx=\"16.4\" ry=\"34.4\" class=\"atom-9\" style=\"fill:#D62728A5;fill-rule:evenodd;stroke:#D62728A5;stroke-width:1.0px;stroke-linecap:butt;stroke-linejoin:miter;stroke-opacity:1\"/>\n",
       "<ellipse cx=\"433.6\" cy=\"159.1\" rx=\"16.4\" ry=\"16.4\" class=\"atom-10\" style=\"fill:#1F77B4A5;fill-rule:evenodd;stroke:#1F77B4A5;stroke-width:1.0px;stroke-linecap:butt;stroke-linejoin:miter;stroke-opacity:1\"/>\n",
       "<ellipse cx=\"504.4\" cy=\"118.2\" rx=\"16.4\" ry=\"16.4\" class=\"atom-11\" style=\"fill:#2CA02CA5;fill-rule:evenodd;stroke:#2CA02CA5;stroke-width:1.0px;stroke-linecap:butt;stroke-linejoin:miter;stroke-opacity:1\"/>\n",
       "<ellipse cx=\"510.7\" cy=\"36.4\" rx=\"19.9\" ry=\"16.4\" class=\"atom-12\" style=\"fill:#2CA02CA5;fill-rule:evenodd;stroke:#2CA02CA5;stroke-width:1.0px;stroke-linecap:butt;stroke-linejoin:miter;stroke-opacity:1\"/>\n",
       "<ellipse cx=\"225.9\" cy=\"200.0\" rx=\"16.4\" ry=\"16.4\" class=\"atom-13\" style=\"fill:#FF7F0EA5;fill-rule:evenodd;stroke:#FF7F0EA5;stroke-width:1.0px;stroke-linecap:butt;stroke-linejoin:miter;stroke-opacity:1\"/>\n",
       "<ellipse cx=\"144.1\" cy=\"200.0\" rx=\"16.4\" ry=\"16.4\" class=\"atom-14\" style=\"fill:#FF7F0EA5;fill-rule:evenodd;stroke:#FF7F0EA5;stroke-width:1.0px;stroke-linecap:butt;stroke-linejoin:miter;stroke-opacity:1\"/>\n",
       "<ellipse cx=\"225.9\" cy=\"118.2\" rx=\"16.4\" ry=\"16.4\" class=\"atom-15\" style=\"fill:#FF7F0EA5;fill-rule:evenodd;stroke:#FF7F0EA5;stroke-width:1.0px;stroke-linecap:butt;stroke-linejoin:miter;stroke-opacity:1\"/>\n",
       "<ellipse cx=\"225.9\" cy=\"281.8\" rx=\"16.4\" ry=\"16.4\" class=\"atom-16\" style=\"fill:#FF7F0EA5;fill-rule:evenodd;stroke:#FF7F0EA5;stroke-width:1.0px;stroke-linecap:butt;stroke-linejoin:miter;stroke-opacity:1\"/>\n",
       "<path class=\"bond-0 atom-0 atom-1\" d=\"M 635.6,124.3 L 605.4,141.7\" style=\"fill:none;fill-rule:evenodd;stroke:#7F4C19;stroke-width:2.0px;stroke-linecap:butt;stroke-linejoin:miter;stroke-opacity:1\"/>\n",
       "<path class=\"bond-0 atom-0 atom-1\" d=\"M 605.4,141.7 L 575.3,159.1\" style=\"fill:none;fill-rule:evenodd;stroke:#000000;stroke-width:2.0px;stroke-linecap:butt;stroke-linejoin:miter;stroke-opacity:1\"/>\n",
       "<path class=\"bond-1 atom-1 atom-2\" d=\"M 575.3,159.1 L 575.3,240.9\" style=\"fill:none;fill-rule:evenodd;stroke:#000000;stroke-width:2.0px;stroke-linecap:butt;stroke-linejoin:miter;stroke-opacity:1\"/>\n",
       "<path class=\"bond-1 atom-1 atom-2\" d=\"M 563.0,166.2 L 563.0,233.8\" style=\"fill:none;fill-rule:evenodd;stroke:#000000;stroke-width:2.0px;stroke-linecap:butt;stroke-linejoin:miter;stroke-opacity:1\"/>\n",
       "<path class=\"bond-2 atom-2 atom-3\" d=\"M 575.3,240.9 L 605.4,258.3\" style=\"fill:none;fill-rule:evenodd;stroke:#000000;stroke-width:2.0px;stroke-linecap:butt;stroke-linejoin:miter;stroke-opacity:1\"/>\n",
       "<path class=\"bond-2 atom-2 atom-3\" d=\"M 605.4,258.3 L 635.6,275.7\" style=\"fill:none;fill-rule:evenodd;stroke:#7F4C19;stroke-width:2.0px;stroke-linecap:butt;stroke-linejoin:miter;stroke-opacity:1\"/>\n",
       "<path class=\"bond-3 atom-2 atom-4\" d=\"M 575.3,240.9 L 504.4,281.8\" style=\"fill:none;fill-rule:evenodd;stroke:#000000;stroke-width:2.0px;stroke-linecap:butt;stroke-linejoin:miter;stroke-opacity:1\"/>\n",
       "<path class=\"bond-4 atom-4 atom-5\" d=\"M 504.4,281.8 L 504.4,315.6\" style=\"fill:none;fill-rule:evenodd;stroke:#000000;stroke-width:2.0px;stroke-linecap:butt;stroke-linejoin:miter;stroke-opacity:1\"/>\n",
       "<path class=\"bond-4 atom-4 atom-5\" d=\"M 504.4,315.6 L 504.4,349.3\" style=\"fill:none;fill-rule:evenodd;stroke:#7F4C19;stroke-width:2.0px;stroke-linecap:butt;stroke-linejoin:miter;stroke-opacity:1\"/>\n",
       "<path class=\"bond-5 atom-4 atom-6\" d=\"M 504.4,281.8 L 433.6,240.9\" style=\"fill:none;fill-rule:evenodd;stroke:#000000;stroke-width:2.0px;stroke-linecap:butt;stroke-linejoin:miter;stroke-opacity:1\"/>\n",
       "<path class=\"bond-5 atom-4 atom-6\" d=\"M 504.4,267.6 L 445.9,233.8\" style=\"fill:none;fill-rule:evenodd;stroke:#000000;stroke-width:2.0px;stroke-linecap:butt;stroke-linejoin:miter;stroke-opacity:1\"/>\n",
       "<path class=\"bond-6 atom-6 atom-7\" d=\"M 433.6,240.9 L 400.4,251.7\" style=\"fill:none;fill-rule:evenodd;stroke:#000000;stroke-width:2.0px;stroke-linecap:butt;stroke-linejoin:miter;stroke-opacity:1\"/>\n",
       "<path class=\"bond-6 atom-6 atom-7\" d=\"M 400.4,251.7 L 367.3,262.5\" style=\"fill:none;fill-rule:evenodd;stroke:#0000FF;stroke-width:2.0px;stroke-linecap:butt;stroke-linejoin:miter;stroke-opacity:1\"/>\n",
       "<path class=\"bond-7 atom-7 atom-8\" d=\"M 345.4,251.9 L 326.6,226.0\" style=\"fill:none;fill-rule:evenodd;stroke:#0000FF;stroke-width:2.0px;stroke-linecap:butt;stroke-linejoin:miter;stroke-opacity:1\"/>\n",
       "<path class=\"bond-7 atom-7 atom-8\" d=\"M 326.6,226.0 L 307.7,200.0\" style=\"fill:none;fill-rule:evenodd;stroke:#000000;stroke-width:2.0px;stroke-linecap:butt;stroke-linejoin:miter;stroke-opacity:1\"/>\n",
       "<path class=\"bond-7 atom-7 atom-8\" d=\"M 355.3,244.7 L 339.1,222.3\" style=\"fill:none;fill-rule:evenodd;stroke:#0000FF;stroke-width:2.0px;stroke-linecap:butt;stroke-linejoin:miter;stroke-opacity:1\"/>\n",
       "<path class=\"bond-7 atom-7 atom-8\" d=\"M 339.1,222.3 L 322.9,200.0\" style=\"fill:none;fill-rule:evenodd;stroke:#000000;stroke-width:2.0px;stroke-linecap:butt;stroke-linejoin:miter;stroke-opacity:1\"/>\n",
       "<path class=\"bond-8 atom-8 atom-9\" d=\"M 307.7,200.0 L 326.6,174.0\" style=\"fill:none;fill-rule:evenodd;stroke:#000000;stroke-width:2.0px;stroke-linecap:butt;stroke-linejoin:miter;stroke-opacity:1\"/>\n",
       "<path class=\"bond-8 atom-8 atom-9\" d=\"M 326.6,174.0 L 345.4,148.1\" style=\"fill:none;fill-rule:evenodd;stroke:#0000FF;stroke-width:2.0px;stroke-linecap:butt;stroke-linejoin:miter;stroke-opacity:1\"/>\n",
       "<path class=\"bond-9 atom-9 atom-10\" d=\"M 367.3,137.5 L 400.4,148.3\" style=\"fill:none;fill-rule:evenodd;stroke:#0000FF;stroke-width:2.0px;stroke-linecap:butt;stroke-linejoin:miter;stroke-opacity:1\"/>\n",
       "<path class=\"bond-9 atom-9 atom-10\" d=\"M 400.4,148.3 L 433.6,159.1\" style=\"fill:none;fill-rule:evenodd;stroke:#000000;stroke-width:2.0px;stroke-linecap:butt;stroke-linejoin:miter;stroke-opacity:1\"/>\n",
       "<path class=\"bond-10 atom-10 atom-11\" d=\"M 433.6,159.1 L 504.4,118.2\" style=\"fill:none;fill-rule:evenodd;stroke:#000000;stroke-width:2.0px;stroke-linecap:butt;stroke-linejoin:miter;stroke-opacity:1\"/>\n",
       "<path class=\"bond-10 atom-10 atom-11\" d=\"M 445.9,166.2 L 504.4,132.4\" style=\"fill:none;fill-rule:evenodd;stroke:#000000;stroke-width:2.0px;stroke-linecap:butt;stroke-linejoin:miter;stroke-opacity:1\"/>\n",
       "<path class=\"bond-11 atom-11 atom-12\" d=\"M 504.4,118.2 L 504.4,84.4\" style=\"fill:none;fill-rule:evenodd;stroke:#000000;stroke-width:2.0px;stroke-linecap:butt;stroke-linejoin:miter;stroke-opacity:1\"/>\n",
       "<path class=\"bond-11 atom-11 atom-12\" d=\"M 504.4,84.4 L 504.4,50.7\" style=\"fill:none;fill-rule:evenodd;stroke:#7F4C19;stroke-width:2.0px;stroke-linecap:butt;stroke-linejoin:miter;stroke-opacity:1\"/>\n",
       "<path class=\"bond-12 atom-8 atom-13\" d=\"M 307.7,200.0 L 225.9,200.0\" style=\"fill:none;fill-rule:evenodd;stroke:#000000;stroke-width:2.0px;stroke-linecap:butt;stroke-linejoin:miter;stroke-opacity:1\"/>\n",
       "<path class=\"bond-13 atom-13 atom-14\" d=\"M 225.9,200.0 L 189.8,200.0\" style=\"fill:none;fill-rule:evenodd;stroke:#000000;stroke-width:2.0px;stroke-linecap:butt;stroke-linejoin:miter;stroke-opacity:1\"/>\n",
       "<path class=\"bond-13 atom-13 atom-14\" d=\"M 189.8,200.0 L 153.7,200.0\" style=\"fill:none;fill-rule:evenodd;stroke:#33CCCC;stroke-width:2.0px;stroke-linecap:butt;stroke-linejoin:miter;stroke-opacity:1\"/>\n",
       "<path class=\"bond-14 atom-13 atom-15\" d=\"M 225.9,200.0 L 225.9,166.2\" style=\"fill:none;fill-rule:evenodd;stroke:#000000;stroke-width:2.0px;stroke-linecap:butt;stroke-linejoin:miter;stroke-opacity:1\"/>\n",
       "<path class=\"bond-14 atom-13 atom-15\" d=\"M 225.9,166.2 L 225.9,132.5\" style=\"fill:none;fill-rule:evenodd;stroke:#33CCCC;stroke-width:2.0px;stroke-linecap:butt;stroke-linejoin:miter;stroke-opacity:1\"/>\n",
       "<path class=\"bond-15 atom-13 atom-16\" d=\"M 225.9,200.0 L 225.9,233.8\" style=\"fill:none;fill-rule:evenodd;stroke:#000000;stroke-width:2.0px;stroke-linecap:butt;stroke-linejoin:miter;stroke-opacity:1\"/>\n",
       "<path class=\"bond-15 atom-13 atom-16\" d=\"M 225.9,233.8 L 225.9,267.5\" style=\"fill:none;fill-rule:evenodd;stroke:#33CCCC;stroke-width:2.0px;stroke-linecap:butt;stroke-linejoin:miter;stroke-opacity:1\"/>\n",
       "<path class=\"bond-16 atom-11 atom-1\" d=\"M 504.4,118.2 L 575.3,159.1\" style=\"fill:none;fill-rule:evenodd;stroke:#000000;stroke-width:2.0px;stroke-linecap:butt;stroke-linejoin:miter;stroke-opacity:1\"/>\n",
       "<path class=\"bond-17 atom-10 atom-6\" d=\"M 433.6,159.1 L 433.6,240.9\" style=\"fill:none;fill-rule:evenodd;stroke:#000000;stroke-width:2.0px;stroke-linecap:butt;stroke-linejoin:miter;stroke-opacity:1\"/>\n",
       "<path class=\"atom-0\" d=\"M 649.5 117.6 Q 651.8 118.2, 652.9 119.6 Q 654.0 120.9, 654.0 122.9 Q 654.0 126.1, 652.0 128.0 Q 649.9 129.8, 646.1 129.8 L 638.3 129.8 L 638.3 106.6 L 645.1 106.6 Q 649.1 106.6, 651.1 108.2 Q 653.1 109.8, 653.1 112.8 Q 653.1 116.3, 649.5 117.6 M 641.4 109.2 L 641.4 116.5 L 645.1 116.5 Q 647.4 116.5, 648.6 115.6 Q 649.8 114.6, 649.8 112.8 Q 649.8 109.2, 645.1 109.2 L 641.4 109.2 M 646.1 127.2 Q 648.3 127.2, 649.5 126.1 Q 650.7 125.0, 650.7 122.9 Q 650.7 121.0, 649.4 120.1 Q 648.1 119.1, 645.6 119.1 L 641.4 119.1 L 641.4 127.2 L 646.1 127.2 \" fill=\"#7F4C19\"/>\n",
       "<path class=\"atom-0\" d=\"M 659.3 113.0 L 659.6 115.3 Q 661.4 112.7, 664.3 112.7 Q 665.2 112.7, 666.4 113.0 L 665.9 115.7 Q 664.5 115.4, 663.8 115.4 Q 662.4 115.4, 661.5 116.0 Q 660.6 116.5, 659.9 117.8 L 659.9 129.8 L 656.8 129.8 L 656.8 113.0 L 659.3 113.0 \" fill=\"#7F4C19\"/>\n",
       "<path class=\"atom-3\" d=\"M 649.5 281.2 Q 651.8 281.8, 652.9 283.2 Q 654.0 284.6, 654.0 286.6 Q 654.0 289.8, 652.0 291.6 Q 649.9 293.4, 646.1 293.4 L 638.3 293.4 L 638.3 270.2 L 645.1 270.2 Q 649.1 270.2, 651.1 271.8 Q 653.1 273.4, 653.1 276.4 Q 653.1 279.9, 649.5 281.2 M 641.4 272.8 L 641.4 280.1 L 645.1 280.1 Q 647.4 280.1, 648.6 279.2 Q 649.8 278.2, 649.8 276.4 Q 649.8 272.8, 645.1 272.8 L 641.4 272.8 M 646.1 290.8 Q 648.3 290.8, 649.5 289.7 Q 650.7 288.6, 650.7 286.6 Q 650.7 284.7, 649.4 283.7 Q 648.1 282.7, 645.6 282.7 L 641.4 282.7 L 641.4 290.8 L 646.1 290.8 \" fill=\"#7F4C19\"/>\n",
       "<path class=\"atom-3\" d=\"M 659.3 276.6 L 659.6 278.9 Q 661.4 276.3, 664.3 276.3 Q 665.2 276.3, 666.4 276.6 L 665.9 279.4 Q 664.5 279.0, 663.8 279.0 Q 662.4 279.0, 661.5 279.6 Q 660.6 280.1, 659.9 281.4 L 659.9 293.4 L 656.8 293.4 L 656.8 276.6 L 659.3 276.6 \" fill=\"#7F4C19\"/>\n",
       "<path class=\"atom-5\" d=\"M 507.8 363.0 Q 510.1 363.7, 511.2 365.0 Q 512.3 366.4, 512.3 368.4 Q 512.3 371.6, 510.3 373.4 Q 508.2 375.2, 504.4 375.2 L 496.6 375.2 L 496.6 352.0 L 503.4 352.0 Q 507.4 352.0, 509.4 353.6 Q 511.4 355.2, 511.4 358.2 Q 511.4 361.7, 507.8 363.0 M 499.7 354.7 L 499.7 361.9 L 503.4 361.9 Q 505.7 361.9, 506.9 361.0 Q 508.1 360.1, 508.1 358.2 Q 508.1 354.7, 503.4 354.7 L 499.7 354.7 M 504.4 372.6 Q 506.6 372.6, 507.8 371.5 Q 509.0 370.4, 509.0 368.4 Q 509.0 366.5, 507.7 365.5 Q 506.4 364.5, 503.9 364.5 L 499.7 364.5 L 499.7 372.6 L 504.4 372.6 \" fill=\"#7F4C19\"/>\n",
       "<path class=\"atom-5\" d=\"M 517.6 358.4 L 517.9 360.7 Q 519.7 358.1, 522.6 358.1 Q 523.5 358.1, 524.7 358.4 L 524.3 361.2 Q 522.8 360.8, 522.1 360.8 Q 520.7 360.8, 519.8 361.4 Q 518.9 361.9, 518.2 363.2 L 518.2 375.2 L 515.1 375.2 L 515.1 358.4 L 517.6 358.4 \" fill=\"#7F4C19\"/>\n",
       "<path class=\"atom-7\" d=\"M 350.7 254.6 L 358.3 266.9 Q 359.0 268.1, 360.2 270.3 Q 361.4 272.5, 361.5 272.6 L 361.5 254.6 L 364.6 254.6 L 364.6 277.8 L 361.4 277.8 L 353.3 264.4 Q 352.3 262.8, 351.3 261.0 Q 350.3 259.2, 350.0 258.6 L 350.0 277.8 L 347.0 277.8 L 347.0 254.6 L 350.7 254.6 \" fill=\"#0000FF\"/>\n",
       "<path class=\"atom-9\" d=\"M 350.7 122.2 L 358.3 134.5 Q 359.0 135.7, 360.2 137.9 Q 361.4 140.1, 361.5 140.2 L 361.5 122.2 L 364.6 122.2 L 364.6 145.4 L 361.4 145.4 L 353.3 132.0 Q 352.3 130.4, 351.3 128.6 Q 350.3 126.8, 350.0 126.3 L 350.0 145.4 L 347.0 145.4 L 347.0 122.2 L 350.7 122.2 \" fill=\"#0000FF\"/>\n",
       "<path class=\"atom-9\" d=\"M 346.7 96.7 L 349.9 96.7 L 349.9 106.6 L 361.7 106.6 L 361.7 96.7 L 364.9 96.7 L 364.9 119.9 L 361.7 119.9 L 361.7 109.2 L 349.9 109.2 L 349.9 119.9 L 346.7 119.9 L 346.7 96.7 \" fill=\"#0000FF\"/>\n",
       "<path class=\"atom-12\" d=\"M 507.8 35.8 Q 510.1 36.4, 511.2 37.8 Q 512.3 39.1, 512.3 41.1 Q 512.3 44.3, 510.3 46.2 Q 508.2 48.0, 504.4 48.0 L 496.6 48.0 L 496.6 24.8 L 503.4 24.8 Q 507.4 24.8, 509.4 26.4 Q 511.4 28.0, 511.4 31.0 Q 511.4 34.5, 507.8 35.8 M 499.7 27.4 L 499.7 34.7 L 503.4 34.7 Q 505.7 34.7, 506.9 33.8 Q 508.1 32.8, 508.1 31.0 Q 508.1 27.4, 503.4 27.4 L 499.7 27.4 M 504.4 45.3 Q 506.6 45.3, 507.8 44.3 Q 509.0 43.2, 509.0 41.1 Q 509.0 39.2, 507.7 38.3 Q 506.4 37.3, 503.9 37.3 L 499.7 37.3 L 499.7 45.3 L 504.4 45.3 \" fill=\"#7F4C19\"/>\n",
       "<path class=\"atom-12\" d=\"M 517.6 31.1 L 517.9 33.5 Q 519.7 30.9, 522.6 30.9 Q 523.5 30.9, 524.7 31.2 L 524.3 33.9 Q 522.8 33.6, 522.1 33.6 Q 520.7 33.6, 519.8 34.2 Q 518.9 34.7, 518.2 36.0 L 518.2 48.0 L 515.1 48.0 L 515.1 31.1 L 517.6 31.1 \" fill=\"#7F4C19\"/>\n",
       "<path class=\"atom-14\" d=\"M 137.2 188.4 L 151.0 188.4 L 151.0 191.1 L 140.3 191.1 L 140.3 198.1 L 149.8 198.1 L 149.8 200.8 L 140.3 200.8 L 140.3 211.6 L 137.2 211.6 L 137.2 188.4 \" fill=\"#33CCCC\"/>\n",
       "<path class=\"atom-15\" d=\"M 219.0 106.6 L 232.8 106.6 L 232.8 109.3 L 222.1 109.3 L 222.1 116.3 L 231.6 116.3 L 231.6 119.0 L 222.1 119.0 L 222.1 129.8 L 219.0 129.8 L 219.0 106.6 \" fill=\"#33CCCC\"/>\n",
       "<path class=\"atom-16\" d=\"M 219.0 270.2 L 232.8 270.2 L 232.8 272.9 L 222.1 272.9 L 222.1 279.9 L 231.6 279.9 L 231.6 282.6 L 222.1 282.6 L 222.1 293.4 L 219.0 293.4 L 219.0 270.2 \" fill=\"#33CCCC\"/>\n",
       "<rect x=\"1\" y=\"5\" width=\"18.0\" height=\"18.0\" fill=\"rgb(31, 119, 179)\"/><text x=\"19.200000000000003\" y=\"20\" font-family=\"Helvetica\" font-size=\"12\" fill=\"black\">aC fused with aromatic ring: 2</text><rect x=\"1\" y=\"30\" width=\"18.0\" height=\"18.0\" fill=\"rgb(255, 127, 13)\"/><text x=\"19.200000000000003\" y=\"45\" font-family=\"Helvetica\" font-size=\"12\" fill=\"black\">CF3: 1</text><rect x=\"1\" y=\"55\" width=\"18.0\" height=\"18.0\" fill=\"rgb(44, 159, 44)\"/><text x=\"19.200000000000003\" y=\"70\" font-family=\"Helvetica\" font-size=\"12\" fill=\"black\">aC-Br: 4</text><rect x=\"1\" y=\"80\" width=\"18.0\" height=\"18.0\" fill=\"rgb(214, 39, 40)\"/><text x=\"19.200000000000003\" y=\"95\" font-family=\"Helvetica\" font-size=\"12\" fill=\"black\">NH (cyclic): 1</text><rect x=\"1\" y=\"105\" width=\"18.0\" height=\"18.0\" fill=\"rgb(148, 103, 188)\"/><text x=\"19.200000000000003\" y=\"120\" font-family=\"Helvetica\" font-size=\"12\" fill=\"black\">C=N (cyclic): 1</text><text x=\"400.0\" y=\"40\" font-family=\"Helvetica\" font-size=\"12\" font-weight=\"bold\" fill=\"black\" text-anchor=\"middle\"/></svg>"
      ],
      "text/plain": [
       "<IPython.core.display.SVG object>"
      ]
     },
     "execution_count": 12,
     "metadata": {},
     "output_type": "execute_result"
    }
   ],
   "source": [
    "smiles=\"Brc1c(Br)c(Br)c2N=C(Nc2c1Br)C(F)(F)F\"\n",
    "\n",
    "mol = abdulelah_gani_p.get_groups(smiles, \"smiles\")\n",
    "\n",
    "mol.draw(width=800, height=400)"
   ]
  },
  {
   "cell_type": "code",
   "execution_count": 11,
   "metadata": {},
   "outputs": [
    {
     "data": {
      "text/plain": [
       "SMILES\n",
       "CCn1cc(C(=O)O)c(=O)c2cc(F)c(cc12)N3CCN(C)CC3        2\n",
       "CCn1cc(C(=O)O)c(=O)c2cc(F)c(cc12)N3CCNC(C)C3        1\n",
       "CCn1cc(C(=O)O)c(=O)c2cc(F)c(cc12)N3CCNCC3           1\n",
       "CCn1cc(C(=O)O)c(=O)c2cc(F)c(N3CCN(C)CC3)c(F)c12     2\n",
       "CCn1cc(C(=O)O)c(=O)c2cc(F)c(N3CCNC(C)C3)c(F)c12     1\n",
       "CCn1cc(C(=O)O)c(=O)c2cc(F)c(N3CCNCC3)c(F)c12        1\n",
       "CCn1cc(C(=O)O)c(=O)c2cc(F)c(nc12)N3CCNCC3           1\n",
       "CCn1cc(C(=O)O)c(=O)c2cc3OCOc3cc12                   0\n",
       "CCn1cc(C(=O)O)c(=O)c2ccc(C)nc12                     0\n",
       "CCn1cc(C(=O)O)c(=O)c2cnc(nc12)N3CCNCC3              1\n",
       "CCn1cc(C(=O)OCOC(=O)C)c(=O)c2ccc(C)nc12             0\n",
       "CN1CCN(CC1)c2c(F)cc3c(=O)c(cn4C(C)COc2c34)C(=O)O    2\n",
       "Fc1cc2CCC(C)n3cc(C(=O)O)c(=O)c(c1)c23               0\n",
       "FCCn1cc(C(=O)O)c(=O)c2cc(F)c(N3CCN(C)CC3)c(F)c12    2\n",
       "O=c1ccn(C)c2ccccc12                                 0\n",
       "O=c1n2C=CC=Cc2nc3ccccc13                            0\n",
       "O=c1n2CCCCc2nc3ccccc13                              0\n",
       "O=c1n2CCCCCc2nc3ccccc13                             0\n",
       "Name: 176, dtype: int64"
      ]
     },
     "execution_count": 11,
     "metadata": {},
     "output_type": "execute_result"
    }
   ],
   "source": [
    "df[df[207]>0][176]"
   ]
  },
  {
   "cell_type": "code",
   "execution_count": 13,
   "metadata": {},
   "outputs": [],
   "source": [
    "from rdkit import Chem"
   ]
  },
  {
   "cell_type": "code",
   "execution_count": 16,
   "metadata": {},
   "outputs": [],
   "source": [
    "m = Chem.MolFromSmiles('C%(100)OC%(100)')"
   ]
  },
  {
   "cell_type": "code",
   "execution_count": 17,
   "metadata": {},
   "outputs": [
    {
     "data": {
      "image/png": "[encoded data removed]",
      "text/plain": [
       "<rdkit.Chem.rdchem.Mol at 0x7fdb291413f0>"
      ]
     },
     "execution_count": 17,
     "metadata": {},
     "output_type": "execute_result"
    }
   ],
   "source": [
    "m"
   ]
  }
 ],
 "metadata": {
  "kernelspec": {
   "display_name": "ugropy",
   "language": "python",
   "name": "python3"
  },
  "language_info": {
   "codemirror_mode": {
    "name": "ipython",
    "version": 3
   },
   "file_extension": ".py",
   "mimetype": "text/x-python",
   "name": "python",
   "nbconvert_exporter": "python",
   "pygments_lexer": "ipython3",
   "version": "3.10.12"
  }
 },
 "nbformat": 4,
 "nbformat_minor": 2
}
