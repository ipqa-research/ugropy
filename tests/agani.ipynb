{
 "cells": [
  {
   "cell_type": "code",
   "execution_count": 1,
   "metadata": {},
   "outputs": [],
   "source": [
    "from ugropy import abdulelah_gani_p, instantiate_mol_object\n",
    "\n",
    "import pandas as pd\n",
    "\n",
    "import numpy as np"
   ]
  },
  {
   "cell_type": "code",
   "execution_count": 2,
   "metadata": {},
   "outputs": [],
   "source": [
    "df = pd.read_csv(\"abdulelah_gani_frags/log_p.csv\", index_col=\"SMILES\", sep=\"|\", comment=\"?\")\n",
    "\n",
    "primary = np.linspace(1, 220, 220, dtype=int).astype(str)\n",
    "\n",
    "df = df[primary]\n",
    "df.rename(columns=lambda col: int(col) if col.isdigit() else col, inplace=True)"
   ]
  },
  {
   "cell_type": "code",
   "execution_count": 3,
   "metadata": {},
   "outputs": [
    {
     "name": "stdout",
     "output_type": "stream",
     "text": [
      "Brc1ccc(cc1)C(=O)NP(=O)(N2CC2)N3CC3\n",
      "44\n",
      "{}\n",
      "{}\n",
      "{15: 4, 97: 1, 126: 1, 168: 4, 176: 2, 201: 1}\n"
     ]
    }
   ],
   "source": [
    "for idx, smiles in enumerate(df.index):\n",
    "    solution = abdulelah_gani_p.get_groups(smiles, \"smiles\")\n",
    "    \n",
    "    # Filtrar las columnas de la fila que no sean iguales a 0\n",
    "    row = df.loc[smiles][df.loc[smiles] != 0]\n",
    "    \n",
    "    # Convertir la fila filtrada a diccionario\n",
    "    row_dict = row.to_dict()\n",
    "    \n",
    "    # Comparar con los subgrupos calculados\n",
    "    if solution.subgroups_numbers != row_dict:\n",
    "        print(smiles)\n",
    "        print(idx)\n",
    "        print(solution.subgroups)\n",
    "        print(solution.subgroups_numbers)\n",
    "        print(row_dict)\n",
    "        \n",
    "        wrong_smiles = smiles\n",
    "        break\n"
   ]
  },
  {
   "cell_type": "code",
   "execution_count": 4,
   "metadata": {},
   "outputs": [
    {
     "data": {
      "image/svg+xml": [
       "<svg xmlns=\"http://www.w3.org/2000/svg\" xmlns:rdkit=\"http://www.rdkit.org/xml\" xmlns:xlink=\"http://www.w3.org/1999/xlink\" version=\"1.1\" baseProfile=\"full\" xml:space=\"preserve\" width=\"900px\" height=\"400px\" viewBox=\"0 0 900 400\">\n",
       "<!-- END OF HEADER -->\n",
       "<rect style=\"opacity:1.0;fill:#FFFFFF;stroke:none\" width=\"900.0\" height=\"400.0\" x=\"0.0\" y=\"0.0\"> </rect>\n",
       "<path class=\"bond-0 atom-0 atom-1\" d=\"M 87.4,242.2 L 132.6,229.7\" style=\"fill:none;fill-rule:evenodd;stroke:#7F4C19;stroke-width:2.0px;stroke-linecap:butt;stroke-linejoin:miter;stroke-opacity:1\"/>\n",
       "<path class=\"bond-0 atom-0 atom-1\" d=\"M 132.6,229.7 L 177.8,217.2\" style=\"fill:none;fill-rule:evenodd;stroke:#000000;stroke-width:2.0px;stroke-linecap:butt;stroke-linejoin:miter;stroke-opacity:1\"/>\n",
       "<path class=\"bond-1 atom-1 atom-2\" d=\"M 177.8,217.2 L 203.9,117.1\" style=\"fill:none;fill-rule:evenodd;stroke:#000000;stroke-width:2.0px;stroke-linecap:butt;stroke-linejoin:miter;stroke-opacity:1\"/>\n",
       "<path class=\"bond-1 atom-1 atom-2\" d=\"M 195.1,212.5 L 216.7,129.7\" style=\"fill:none;fill-rule:evenodd;stroke:#000000;stroke-width:2.0px;stroke-linecap:butt;stroke-linejoin:miter;stroke-opacity:1\"/>\n",
       "<path class=\"bond-2 atom-2 atom-3\" d=\"M 203.9,117.1 L 303.6,89.6\" style=\"fill:none;fill-rule:evenodd;stroke:#000000;stroke-width:2.0px;stroke-linecap:butt;stroke-linejoin:miter;stroke-opacity:1\"/>\n",
       "<path class=\"bond-3 atom-3 atom-4\" d=\"M 303.6,89.6 L 377.3,162.2\" style=\"fill:none;fill-rule:evenodd;stroke:#000000;stroke-width:2.0px;stroke-linecap:butt;stroke-linejoin:miter;stroke-opacity:1\"/>\n",
       "<path class=\"bond-3 atom-3 atom-4\" d=\"M 299.1,106.9 L 360.1,167.0\" style=\"fill:none;fill-rule:evenodd;stroke:#000000;stroke-width:2.0px;stroke-linecap:butt;stroke-linejoin:miter;stroke-opacity:1\"/>\n",
       "<path class=\"bond-4 atom-4 atom-5\" d=\"M 377.3,162.2 L 351.3,262.4\" style=\"fill:none;fill-rule:evenodd;stroke:#000000;stroke-width:2.0px;stroke-linecap:butt;stroke-linejoin:miter;stroke-opacity:1\"/>\n",
       "<path class=\"bond-5 atom-5 atom-6\" d=\"M 351.3,262.4 L 251.5,289.9\" style=\"fill:none;fill-rule:evenodd;stroke:#000000;stroke-width:2.0px;stroke-linecap:butt;stroke-linejoin:miter;stroke-opacity:1\"/>\n",
       "<path class=\"bond-5 atom-5 atom-6\" d=\"M 338.5,249.8 L 256.0,272.5\" style=\"fill:none;fill-rule:evenodd;stroke:#000000;stroke-width:2.0px;stroke-linecap:butt;stroke-linejoin:miter;stroke-opacity:1\"/>\n",
       "<path class=\"bond-6 atom-4 atom-7\" d=\"M 377.3,162.2 L 477.1,134.7\" style=\"fill:none;fill-rule:evenodd;stroke:#000000;stroke-width:2.0px;stroke-linecap:butt;stroke-linejoin:miter;stroke-opacity:1\"/>\n",
       "<path class=\"bond-7 atom-7 atom-8\" d=\"M 483.5,141.0 L 494.7,97.9\" style=\"fill:none;fill-rule:evenodd;stroke:#000000;stroke-width:2.0px;stroke-linecap:butt;stroke-linejoin:miter;stroke-opacity:1\"/>\n",
       "<path class=\"bond-7 atom-7 atom-8\" d=\"M 494.7,97.9 L 505.9,54.7\" style=\"fill:none;fill-rule:evenodd;stroke:#FF0000;stroke-width:2.0px;stroke-linecap:butt;stroke-linejoin:miter;stroke-opacity:1\"/>\n",
       "<path class=\"bond-7 atom-7 atom-8\" d=\"M 468.5,137.1 L 479.7,93.9\" style=\"fill:none;fill-rule:evenodd;stroke:#000000;stroke-width:2.0px;stroke-linecap:butt;stroke-linejoin:miter;stroke-opacity:1\"/>\n",
       "<path class=\"bond-7 atom-7 atom-8\" d=\"M 479.7,93.9 L 490.9,50.8\" style=\"fill:none;fill-rule:evenodd;stroke:#FF0000;stroke-width:2.0px;stroke-linecap:butt;stroke-linejoin:miter;stroke-opacity:1\"/>\n",
       "<path class=\"bond-8 atom-7 atom-9\" d=\"M 477.1,134.7 L 506.9,164.1\" style=\"fill:none;fill-rule:evenodd;stroke:#000000;stroke-width:2.0px;stroke-linecap:butt;stroke-linejoin:miter;stroke-opacity:1\"/>\n",
       "<path class=\"bond-8 atom-7 atom-9\" d=\"M 506.9,164.1 L 536.6,193.4\" style=\"fill:none;fill-rule:evenodd;stroke:#0000FF;stroke-width:2.0px;stroke-linecap:butt;stroke-linejoin:miter;stroke-opacity:1\"/>\n",
       "<path class=\"bond-9 atom-9 atom-10\" d=\"M 565.0,203.5 L 601.5,193.4\" style=\"fill:none;fill-rule:evenodd;stroke:#0000FF;stroke-width:2.0px;stroke-linecap:butt;stroke-linejoin:miter;stroke-opacity:1\"/>\n",
       "<path class=\"bond-9 atom-9 atom-10\" d=\"M 601.5,193.4 L 638.1,183.3\" style=\"fill:none;fill-rule:evenodd;stroke:#FF7F00;stroke-width:2.0px;stroke-linecap:butt;stroke-linejoin:miter;stroke-opacity:1\"/>\n",
       "<path class=\"bond-10 atom-10 atom-11\" d=\"M 653.2,160.2 L 644.4,128.2\" style=\"fill:none;fill-rule:evenodd;stroke:#FF7F00;stroke-width:2.0px;stroke-linecap:butt;stroke-linejoin:miter;stroke-opacity:1\"/>\n",
       "<path class=\"bond-10 atom-10 atom-11\" d=\"M 644.4,128.2 L 635.5,96.2\" style=\"fill:none;fill-rule:evenodd;stroke:#FF0000;stroke-width:2.0px;stroke-linecap:butt;stroke-linejoin:miter;stroke-opacity:1\"/>\n",
       "<path class=\"bond-10 atom-10 atom-11\" d=\"M 638.2,164.3 L 629.4,132.3\" style=\"fill:none;fill-rule:evenodd;stroke:#FF7F00;stroke-width:2.0px;stroke-linecap:butt;stroke-linejoin:miter;stroke-opacity:1\"/>\n",
       "<path class=\"bond-10 atom-10 atom-11\" d=\"M 629.4,132.3 L 620.6,100.3\" style=\"fill:none;fill-rule:evenodd;stroke:#FF0000;stroke-width:2.0px;stroke-linecap:butt;stroke-linejoin:miter;stroke-opacity:1\"/>\n",
       "<path class=\"bond-11 atom-10 atom-12\" d=\"M 663.0,176.4 L 699.6,166.3\" style=\"fill:none;fill-rule:evenodd;stroke:#FF7F00;stroke-width:2.0px;stroke-linecap:butt;stroke-linejoin:miter;stroke-opacity:1\"/>\n",
       "<path class=\"bond-11 atom-10 atom-12\" d=\"M 699.6,166.3 L 736.2,156.2\" style=\"fill:none;fill-rule:evenodd;stroke:#0000FF;stroke-width:2.0px;stroke-linecap:butt;stroke-linejoin:miter;stroke-opacity:1\"/>\n",
       "<path class=\"bond-12 atom-12 atom-13\" d=\"M 764.5,138.0 L 793.7,108.3\" style=\"fill:none;fill-rule:evenodd;stroke:#0000FF;stroke-width:2.0px;stroke-linecap:butt;stroke-linejoin:miter;stroke-opacity:1\"/>\n",
       "<path class=\"bond-12 atom-12 atom-13\" d=\"M 793.7,108.3 L 823.0,78.6\" style=\"fill:none;fill-rule:evenodd;stroke:#000000;stroke-width:2.0px;stroke-linecap:butt;stroke-linejoin:miter;stroke-opacity:1\"/>\n",
       "<path class=\"bond-13 atom-13 atom-14\" d=\"M 823.0,78.6 L 850.5,178.4\" style=\"fill:none;fill-rule:evenodd;stroke:#000000;stroke-width:2.0px;stroke-linecap:butt;stroke-linejoin:miter;stroke-opacity:1\"/>\n",
       "<path class=\"bond-14 atom-10 atom-15\" d=\"M 655.4,197.4 L 664.3,229.7\" style=\"fill:none;fill-rule:evenodd;stroke:#FF7F00;stroke-width:2.0px;stroke-linecap:butt;stroke-linejoin:miter;stroke-opacity:1\"/>\n",
       "<path class=\"bond-14 atom-10 atom-15\" d=\"M 664.3,229.7 L 673.2,262.0\" style=\"fill:none;fill-rule:evenodd;stroke:#0000FF;stroke-width:2.0px;stroke-linecap:butt;stroke-linejoin:miter;stroke-opacity:1\"/>\n",
       "<path class=\"bond-15 atom-15 atom-16\" d=\"M 692.2,293.6 L 722.0,322.9\" style=\"fill:none;fill-rule:evenodd;stroke:#0000FF;stroke-width:2.0px;stroke-linecap:butt;stroke-linejoin:miter;stroke-opacity:1\"/>\n",
       "<path class=\"bond-15 atom-15 atom-16\" d=\"M 722.0,322.9 L 751.8,352.2\" style=\"fill:none;fill-rule:evenodd;stroke:#000000;stroke-width:2.0px;stroke-linecap:butt;stroke-linejoin:miter;stroke-opacity:1\"/>\n",
       "<path class=\"bond-16 atom-16 atom-17\" d=\"M 751.8,352.2 L 652.0,379.8\" style=\"fill:none;fill-rule:evenodd;stroke:#000000;stroke-width:2.0px;stroke-linecap:butt;stroke-linejoin:miter;stroke-opacity:1\"/>\n",
       "<path class=\"bond-17 atom-6 atom-1\" d=\"M 251.5,289.9 L 177.8,217.2\" style=\"fill:none;fill-rule:evenodd;stroke:#000000;stroke-width:2.0px;stroke-linecap:butt;stroke-linejoin:miter;stroke-opacity:1\"/>\n",
       "<path class=\"bond-18 atom-14 atom-12\" d=\"M 850.5,178.4 L 807.5,167.2\" style=\"fill:none;fill-rule:evenodd;stroke:#000000;stroke-width:2.0px;stroke-linecap:butt;stroke-linejoin:miter;stroke-opacity:1\"/>\n",
       "<path class=\"bond-18 atom-14 atom-12\" d=\"M 807.5,167.2 L 764.5,156.0\" style=\"fill:none;fill-rule:evenodd;stroke:#0000FF;stroke-width:2.0px;stroke-linecap:butt;stroke-linejoin:miter;stroke-opacity:1\"/>\n",
       "<path class=\"bond-19 atom-17 atom-15\" d=\"M 652.0,379.8 L 662.7,338.5\" style=\"fill:none;fill-rule:evenodd;stroke:#000000;stroke-width:2.0px;stroke-linecap:butt;stroke-linejoin:miter;stroke-opacity:1\"/>\n",
       "<path class=\"bond-19 atom-17 atom-15\" d=\"M 662.7,338.5 L 673.5,297.2\" style=\"fill:none;fill-rule:evenodd;stroke:#0000FF;stroke-width:2.0px;stroke-linecap:butt;stroke-linejoin:miter;stroke-opacity:1\"/>\n",
       "<path d=\"M 202.6,122.1 L 203.9,117.1 L 208.9,115.7\" style=\"fill:none;stroke:#000000;stroke-width:2.0px;stroke-linecap:butt;stroke-linejoin:miter;stroke-opacity:1;\"/>\n",
       "<path d=\"M 298.7,91.0 L 303.6,89.6 L 307.3,93.2\" style=\"fill:none;stroke:#000000;stroke-width:2.0px;stroke-linecap:butt;stroke-linejoin:miter;stroke-opacity:1;\"/>\n",
       "<path d=\"M 352.6,257.4 L 351.3,262.4 L 346.3,263.7\" style=\"fill:none;stroke:#000000;stroke-width:2.0px;stroke-linecap:butt;stroke-linejoin:miter;stroke-opacity:1;\"/>\n",
       "<path d=\"M 256.5,288.5 L 251.5,289.9 L 247.8,286.2\" style=\"fill:none;stroke:#000000;stroke-width:2.0px;stroke-linecap:butt;stroke-linejoin:miter;stroke-opacity:1;\"/>\n",
       "<path d=\"M 472.1,136.1 L 477.1,134.7 L 478.6,136.2\" style=\"fill:none;stroke:#000000;stroke-width:2.0px;stroke-linecap:butt;stroke-linejoin:miter;stroke-opacity:1;\"/>\n",
       "<path d=\"M 821.5,80.1 L 823.0,78.6 L 824.3,83.6\" style=\"fill:none;stroke:#000000;stroke-width:2.0px;stroke-linecap:butt;stroke-linejoin:miter;stroke-opacity:1;\"/>\n",
       "<path d=\"M 849.1,173.4 L 850.5,178.4 L 848.3,177.8\" style=\"fill:none;stroke:#000000;stroke-width:2.0px;stroke-linecap:butt;stroke-linejoin:miter;stroke-opacity:1;\"/>\n",
       "<path d=\"M 750.3,350.8 L 751.8,352.2 L 746.8,353.6\" style=\"fill:none;stroke:#000000;stroke-width:2.0px;stroke-linecap:butt;stroke-linejoin:miter;stroke-opacity:1;\"/>\n",
       "<path d=\"M 657.0,378.4 L 652.0,379.8 L 652.5,377.7\" style=\"fill:none;stroke:#000000;stroke-width:2.0px;stroke-linecap:butt;stroke-linejoin:miter;stroke-opacity:1;\"/>\n",
       "<path class=\"atom-0\" d=\"M 63.3 244.0 Q 66.0 244.8, 67.4 246.5 Q 68.8 248.1, 68.8 250.5 Q 68.8 254.5, 66.3 256.7 Q 63.8 258.9, 59.1 258.9 L 49.5 258.9 L 49.5 230.6 L 57.9 230.6 Q 62.7 230.6, 65.2 232.5 Q 67.6 234.5, 67.6 238.1 Q 67.6 242.4, 63.3 244.0 M 53.3 233.8 L 53.3 242.7 L 57.9 242.7 Q 60.7 242.7, 62.1 241.5 Q 63.6 240.4, 63.6 238.1 Q 63.6 233.8, 57.9 233.8 L 53.3 233.8 M 59.1 255.7 Q 61.8 255.7, 63.3 254.4 Q 64.8 253.1, 64.8 250.5 Q 64.8 248.2, 63.1 247.1 Q 61.5 245.9, 58.5 245.9 L 53.3 245.9 L 53.3 255.7 L 59.1 255.7 \" fill=\"#7F4C19\"/>\n",
       "<path class=\"atom-0\" d=\"M 75.2 238.3 L 75.7 241.2 Q 77.8 238.0, 81.3 238.0 Q 82.5 238.0, 84.0 238.4 L 83.4 241.7 Q 81.7 241.3, 80.7 241.3 Q 79.0 241.3, 77.9 242.0 Q 76.8 242.7, 75.9 244.2 L 75.9 258.9 L 72.2 258.9 L 72.2 238.3 L 75.2 238.3 \" fill=\"#7F4C19\"/>\n",
       "<path class=\"atom-8\" d=\"M 490.2 34.6 Q 490.2 27.8, 493.5 24.0 Q 496.9 20.2, 503.2 20.2 Q 509.4 20.2, 512.8 24.0 Q 516.2 27.8, 516.2 34.6 Q 516.2 41.5, 512.8 45.4 Q 509.4 49.3, 503.2 49.3 Q 496.9 49.3, 493.5 45.4 Q 490.2 41.6, 490.2 34.6 M 503.2 46.1 Q 507.5 46.1, 509.8 43.2 Q 512.2 40.3, 512.2 34.6 Q 512.2 29.1, 509.8 26.3 Q 507.5 23.4, 503.2 23.4 Q 498.8 23.4, 496.5 26.2 Q 494.2 29.0, 494.2 34.6 Q 494.2 40.4, 496.5 43.2 Q 498.8 46.1, 503.2 46.1 \" fill=\"#FF0000\"/>\n",
       "<path class=\"atom-9\" d=\"M 544.5 193.2 L 553.8 208.2 Q 554.7 209.7, 556.2 212.4 Q 557.7 215.0, 557.8 215.2 L 557.8 193.2 L 561.5 193.2 L 561.5 221.5 L 557.7 221.5 L 547.7 205.1 Q 546.5 203.2, 545.3 201.0 Q 544.1 198.8, 543.7 198.1 L 543.7 221.5 L 540.1 221.5 L 540.1 193.2 L 544.5 193.2 \" fill=\"#0000FF\"/>\n",
       "<path class=\"atom-9\" d=\"M 539.7 224.3 L 543.6 224.3 L 543.6 236.4 L 558.0 236.4 L 558.0 224.3 L 561.9 224.3 L 561.9 252.7 L 558.0 252.7 L 558.0 239.6 L 543.6 239.6 L 543.6 252.7 L 539.7 252.7 L 539.7 224.3 \" fill=\"#0000FF\"/>\n",
       "<path class=\"atom-10\" d=\"M 649.9 165.7 Q 654.7 165.7, 657.2 167.9 Q 659.6 170.0, 659.6 174.0 Q 659.6 177.9, 657.1 180.2 Q 654.6 182.4, 649.9 182.4 L 645.4 182.4 L 645.4 194.0 L 641.5 194.0 L 641.5 165.7 L 649.9 165.7 M 649.9 179.2 Q 652.6 179.2, 654.1 177.8 Q 655.6 176.5, 655.6 174.0 Q 655.6 171.5, 654.1 170.2 Q 652.7 168.9, 649.9 168.9 L 645.4 168.9 L 645.4 179.2 L 649.9 179.2 \" fill=\"#FF7F00\"/>\n",
       "<path class=\"atom-11\" d=\"M 610.1 80.2 Q 610.1 73.4, 613.4 69.6 Q 616.8 65.8, 623.1 65.8 Q 629.3 65.8, 632.7 69.6 Q 636.1 73.4, 636.1 80.2 Q 636.1 87.1, 632.7 91.0 Q 629.3 94.9, 623.1 94.9 Q 616.8 94.9, 613.4 91.0 Q 610.1 87.1, 610.1 80.2 M 623.1 91.7 Q 627.4 91.7, 629.7 88.8 Q 632.1 85.9, 632.1 80.2 Q 632.1 74.6, 629.7 71.8 Q 627.4 69.0, 623.1 69.0 Q 618.7 69.0, 616.4 71.8 Q 614.1 74.6, 614.1 80.2 Q 614.1 85.9, 616.4 88.8 Q 618.7 91.7, 623.1 91.7 \" fill=\"#FF0000\"/>\n",
       "<path class=\"atom-12\" d=\"M 744.1 138.2 L 753.3 153.2 Q 754.3 154.7, 755.7 157.3 Q 757.2 160.0, 757.3 160.2 L 757.3 138.2 L 761.1 138.2 L 761.1 166.5 L 757.2 166.5 L 747.2 150.1 Q 746.1 148.2, 744.8 146.0 Q 743.6 143.8, 743.3 143.1 L 743.3 166.5 L 739.6 166.5 L 739.6 138.2 L 744.1 138.2 \" fill=\"#0000FF\"/>\n",
       "<path class=\"atom-15\" d=\"M 671.8 265.4 L 681.1 280.4 Q 682.0 281.9, 683.5 284.6 Q 685.0 287.3, 685.0 287.4 L 685.0 265.4 L 688.8 265.4 L 688.8 293.8 L 684.9 293.8 L 675.0 277.4 Q 673.8 275.4, 672.6 273.2 Q 671.4 271.0, 671.0 270.4 L 671.0 293.8 L 667.3 293.8 L 667.3 265.4 L 671.8 265.4 \" fill=\"#0000FF\"/>\n",
       "<text x=\"450.0\" y=\"40\" font-family=\"Helvetica\" font-size=\"12\" font-weight=\"bold\" fill=\"black\" text-anchor=\"middle\"/></svg>"
      ],
      "text/plain": [
       "<IPython.core.display.SVG object>"
      ]
     },
     "execution_count": 4,
     "metadata": {},
     "output_type": "execute_result"
    }
   ],
   "source": [
    "sol = abdulelah_gani_p.get_groups(wrong_smiles, \"smiles\")\n",
    "\n",
    "sol.draw(width=900, height=400)"
   ]
  },
  {
   "cell_type": "code",
   "execution_count": 5,
   "metadata": {},
   "outputs": [
    {
     "data": {
      "image/svg+xml": [
       "<svg xmlns=\"http://www.w3.org/2000/svg\" xmlns:rdkit=\"http://www.rdkit.org/xml\" xmlns:xlink=\"http://www.w3.org/1999/xlink\" version=\"1.1\" baseProfile=\"full\" xml:space=\"preserve\" width=\"900px\" height=\"400px\" viewBox=\"0 0 900 400\">\n",
       "<!-- END OF HEADER -->\n",
       "<rect style=\"opacity:1.0;fill:#FFFFFF;stroke:none\" width=\"900.0\" height=\"400.0\" x=\"0.0\" y=\"0.0\"> </rect>\n",
       "<ellipse cx=\"702.4\" cy=\"118.2\" rx=\"19.9\" ry=\"16.4\" class=\"atom-0\" style=\"fill:#2CA02CA5;fill-rule:evenodd;stroke:#2CA02CA5;stroke-width:1.0px;stroke-linecap:butt;stroke-linejoin:miter;stroke-opacity:1\"/>\n",
       "<ellipse cx=\"625.3\" cy=\"159.1\" rx=\"16.4\" ry=\"16.4\" class=\"atom-1\" style=\"fill:#2CA02CA5;fill-rule:evenodd;stroke:#2CA02CA5;stroke-width:1.0px;stroke-linecap:butt;stroke-linejoin:miter;stroke-opacity:1\"/>\n",
       "<ellipse cx=\"625.3\" cy=\"240.9\" rx=\"16.4\" ry=\"16.4\" class=\"atom-2\" style=\"fill:#2CA02CA5;fill-rule:evenodd;stroke:#2CA02CA5;stroke-width:1.0px;stroke-linecap:butt;stroke-linejoin:miter;stroke-opacity:1\"/>\n",
       "<ellipse cx=\"702.4\" cy=\"281.8\" rx=\"19.9\" ry=\"16.4\" class=\"atom-3\" style=\"fill:#2CA02CA5;fill-rule:evenodd;stroke:#2CA02CA5;stroke-width:1.0px;stroke-linecap:butt;stroke-linejoin:miter;stroke-opacity:1\"/>\n",
       "<ellipse cx=\"554.4\" cy=\"281.8\" rx=\"16.4\" ry=\"16.4\" class=\"atom-4\" style=\"fill:#2CA02CA5;fill-rule:evenodd;stroke:#2CA02CA5;stroke-width:1.0px;stroke-linecap:butt;stroke-linejoin:miter;stroke-opacity:1\"/>\n",
       "<ellipse cx=\"560.7\" cy=\"363.6\" rx=\"19.9\" ry=\"16.4\" class=\"atom-5\" style=\"fill:#2CA02CA5;fill-rule:evenodd;stroke:#2CA02CA5;stroke-width:1.0px;stroke-linecap:butt;stroke-linejoin:miter;stroke-opacity:1\"/>\n",
       "<ellipse cx=\"483.6\" cy=\"240.9\" rx=\"16.4\" ry=\"16.4\" class=\"atom-6\" style=\"fill:#1F77B4A5;fill-rule:evenodd;stroke:#1F77B4A5;stroke-width:1.0px;stroke-linecap:butt;stroke-linejoin:miter;stroke-opacity:1\"/>\n",
       "<ellipse cx=\"405.8\" cy=\"266.2\" rx=\"16.4\" ry=\"16.4\" class=\"atom-7\" style=\"fill:#9467BDA5;fill-rule:evenodd;stroke:#9467BDA5;stroke-width:1.0px;stroke-linecap:butt;stroke-linejoin:miter;stroke-opacity:1\"/>\n",
       "<ellipse cx=\"357.7\" cy=\"200.0\" rx=\"16.4\" ry=\"16.4\" class=\"atom-8\" style=\"fill:#9467BDA5;fill-rule:evenodd;stroke:#9467BDA5;stroke-width:1.0px;stroke-linecap:butt;stroke-linejoin:miter;stroke-opacity:1\"/>\n",
       "<ellipse cx=\"405.8\" cy=\"121.1\" rx=\"16.4\" ry=\"34.4\" class=\"atom-9\" style=\"fill:#D62728A5;fill-rule:evenodd;stroke:#D62728A5;stroke-width:1.0px;stroke-linecap:butt;stroke-linejoin:miter;stroke-opacity:1\"/>\n",
       "<ellipse cx=\"483.6\" cy=\"159.1\" rx=\"16.4\" ry=\"16.4\" class=\"atom-10\" style=\"fill:#1F77B4A5;fill-rule:evenodd;stroke:#1F77B4A5;stroke-width:1.0px;stroke-linecap:butt;stroke-linejoin:miter;stroke-opacity:1\"/>\n",
       "<ellipse cx=\"554.4\" cy=\"118.2\" rx=\"16.4\" ry=\"16.4\" class=\"atom-11\" style=\"fill:#2CA02CA5;fill-rule:evenodd;stroke:#2CA02CA5;stroke-width:1.0px;stroke-linecap:butt;stroke-linejoin:miter;stroke-opacity:1\"/>\n",
       "<ellipse cx=\"560.7\" cy=\"36.4\" rx=\"19.9\" ry=\"16.4\" class=\"atom-12\" style=\"fill:#2CA02CA5;fill-rule:evenodd;stroke:#2CA02CA5;stroke-width:1.0px;stroke-linecap:butt;stroke-linejoin:miter;stroke-opacity:1\"/>\n",
       "<ellipse cx=\"275.9\" cy=\"200.0\" rx=\"16.4\" ry=\"16.4\" class=\"atom-13\" style=\"fill:#FF7F0EA5;fill-rule:evenodd;stroke:#FF7F0EA5;stroke-width:1.0px;stroke-linecap:butt;stroke-linejoin:miter;stroke-opacity:1\"/>\n",
       "<ellipse cx=\"194.1\" cy=\"200.0\" rx=\"16.4\" ry=\"16.4\" class=\"atom-14\" style=\"fill:#FF7F0EA5;fill-rule:evenodd;stroke:#FF7F0EA5;stroke-width:1.0px;stroke-linecap:butt;stroke-linejoin:miter;stroke-opacity:1\"/>\n",
       "<ellipse cx=\"275.9\" cy=\"118.2\" rx=\"16.4\" ry=\"16.4\" class=\"atom-15\" style=\"fill:#FF7F0EA5;fill-rule:evenodd;stroke:#FF7F0EA5;stroke-width:1.0px;stroke-linecap:butt;stroke-linejoin:miter;stroke-opacity:1\"/>\n",
       "<ellipse cx=\"275.9\" cy=\"281.8\" rx=\"16.4\" ry=\"16.4\" class=\"atom-16\" style=\"fill:#FF7F0EA5;fill-rule:evenodd;stroke:#FF7F0EA5;stroke-width:1.0px;stroke-linecap:butt;stroke-linejoin:miter;stroke-opacity:1\"/>\n",
       "<path class=\"bond-0 atom-0 atom-1\" d=\"M 685.6,124.3 L 655.4,141.7\" style=\"fill:none;fill-rule:evenodd;stroke:#7F4C19;stroke-width:2.0px;stroke-linecap:butt;stroke-linejoin:miter;stroke-opacity:1\"/>\n",
       "<path class=\"bond-0 atom-0 atom-1\" d=\"M 655.4,141.7 L 625.3,159.1\" style=\"fill:none;fill-rule:evenodd;stroke:#000000;stroke-width:2.0px;stroke-linecap:butt;stroke-linejoin:miter;stroke-opacity:1\"/>\n",
       "<path class=\"bond-1 atom-1 atom-2\" d=\"M 625.3,159.1 L 625.3,240.9\" style=\"fill:none;fill-rule:evenodd;stroke:#000000;stroke-width:2.0px;stroke-linecap:butt;stroke-linejoin:miter;stroke-opacity:1\"/>\n",
       "<path class=\"bond-1 atom-1 atom-2\" d=\"M 613.0,166.2 L 613.0,233.8\" style=\"fill:none;fill-rule:evenodd;stroke:#000000;stroke-width:2.0px;stroke-linecap:butt;stroke-linejoin:miter;stroke-opacity:1\"/>\n",
       "<path class=\"bond-2 atom-2 atom-3\" d=\"M 625.3,240.9 L 655.4,258.3\" style=\"fill:none;fill-rule:evenodd;stroke:#000000;stroke-width:2.0px;stroke-linecap:butt;stroke-linejoin:miter;stroke-opacity:1\"/>\n",
       "<path class=\"bond-2 atom-2 atom-3\" d=\"M 655.4,258.3 L 685.6,275.7\" style=\"fill:none;fill-rule:evenodd;stroke:#7F4C19;stroke-width:2.0px;stroke-linecap:butt;stroke-linejoin:miter;stroke-opacity:1\"/>\n",
       "<path class=\"bond-3 atom-2 atom-4\" d=\"M 625.3,240.9 L 554.4,281.8\" style=\"fill:none;fill-rule:evenodd;stroke:#000000;stroke-width:2.0px;stroke-linecap:butt;stroke-linejoin:miter;stroke-opacity:1\"/>\n",
       "<path class=\"bond-4 atom-4 atom-5\" d=\"M 554.4,281.8 L 554.4,315.6\" style=\"fill:none;fill-rule:evenodd;stroke:#000000;stroke-width:2.0px;stroke-linecap:butt;stroke-linejoin:miter;stroke-opacity:1\"/>\n",
       "<path class=\"bond-4 atom-4 atom-5\" d=\"M 554.4,315.6 L 554.4,349.3\" style=\"fill:none;fill-rule:evenodd;stroke:#7F4C19;stroke-width:2.0px;stroke-linecap:butt;stroke-linejoin:miter;stroke-opacity:1\"/>\n",
       "<path class=\"bond-5 atom-4 atom-6\" d=\"M 554.4,281.8 L 483.6,240.9\" style=\"fill:none;fill-rule:evenodd;stroke:#000000;stroke-width:2.0px;stroke-linecap:butt;stroke-linejoin:miter;stroke-opacity:1\"/>\n",
       "<path class=\"bond-5 atom-4 atom-6\" d=\"M 554.4,267.6 L 495.9,233.8\" style=\"fill:none;fill-rule:evenodd;stroke:#000000;stroke-width:2.0px;stroke-linecap:butt;stroke-linejoin:miter;stroke-opacity:1\"/>\n",
       "<path class=\"bond-6 atom-6 atom-7\" d=\"M 483.6,240.9 L 450.4,251.7\" style=\"fill:none;fill-rule:evenodd;stroke:#000000;stroke-width:2.0px;stroke-linecap:butt;stroke-linejoin:miter;stroke-opacity:1\"/>\n",
       "<path class=\"bond-6 atom-6 atom-7\" d=\"M 450.4,251.7 L 417.3,262.5\" style=\"fill:none;fill-rule:evenodd;stroke:#0000FF;stroke-width:2.0px;stroke-linecap:butt;stroke-linejoin:miter;stroke-opacity:1\"/>\n",
       "<path class=\"bond-7 atom-7 atom-8\" d=\"M 395.4,251.9 L 376.6,226.0\" style=\"fill:none;fill-rule:evenodd;stroke:#0000FF;stroke-width:2.0px;stroke-linecap:butt;stroke-linejoin:miter;stroke-opacity:1\"/>\n",
       "<path class=\"bond-7 atom-7 atom-8\" d=\"M 376.6,226.0 L 357.7,200.0\" style=\"fill:none;fill-rule:evenodd;stroke:#000000;stroke-width:2.0px;stroke-linecap:butt;stroke-linejoin:miter;stroke-opacity:1\"/>\n",
       "<path class=\"bond-7 atom-7 atom-8\" d=\"M 405.3,244.7 L 389.1,222.3\" style=\"fill:none;fill-rule:evenodd;stroke:#0000FF;stroke-width:2.0px;stroke-linecap:butt;stroke-linejoin:miter;stroke-opacity:1\"/>\n",
       "<path class=\"bond-7 atom-7 atom-8\" d=\"M 389.1,222.3 L 372.9,200.0\" style=\"fill:none;fill-rule:evenodd;stroke:#000000;stroke-width:2.0px;stroke-linecap:butt;stroke-linejoin:miter;stroke-opacity:1\"/>\n",
       "<path class=\"bond-8 atom-8 atom-9\" d=\"M 357.7,200.0 L 376.6,174.0\" style=\"fill:none;fill-rule:evenodd;stroke:#000000;stroke-width:2.0px;stroke-linecap:butt;stroke-linejoin:miter;stroke-opacity:1\"/>\n",
       "<path class=\"bond-8 atom-8 atom-9\" d=\"M 376.6,174.0 L 395.4,148.1\" style=\"fill:none;fill-rule:evenodd;stroke:#0000FF;stroke-width:2.0px;stroke-linecap:butt;stroke-linejoin:miter;stroke-opacity:1\"/>\n",
       "<path class=\"bond-9 atom-9 atom-10\" d=\"M 417.3,137.5 L 450.4,148.3\" style=\"fill:none;fill-rule:evenodd;stroke:#0000FF;stroke-width:2.0px;stroke-linecap:butt;stroke-linejoin:miter;stroke-opacity:1\"/>\n",
       "<path class=\"bond-9 atom-9 atom-10\" d=\"M 450.4,148.3 L 483.6,159.1\" style=\"fill:none;fill-rule:evenodd;stroke:#000000;stroke-width:2.0px;stroke-linecap:butt;stroke-linejoin:miter;stroke-opacity:1\"/>\n",
       "<path class=\"bond-10 atom-10 atom-11\" d=\"M 483.6,159.1 L 554.4,118.2\" style=\"fill:none;fill-rule:evenodd;stroke:#000000;stroke-width:2.0px;stroke-linecap:butt;stroke-linejoin:miter;stroke-opacity:1\"/>\n",
       "<path class=\"bond-10 atom-10 atom-11\" d=\"M 495.9,166.2 L 554.4,132.4\" style=\"fill:none;fill-rule:evenodd;stroke:#000000;stroke-width:2.0px;stroke-linecap:butt;stroke-linejoin:miter;stroke-opacity:1\"/>\n",
       "<path class=\"bond-11 atom-11 atom-12\" d=\"M 554.4,118.2 L 554.4,84.4\" style=\"fill:none;fill-rule:evenodd;stroke:#000000;stroke-width:2.0px;stroke-linecap:butt;stroke-linejoin:miter;stroke-opacity:1\"/>\n",
       "<path class=\"bond-11 atom-11 atom-12\" d=\"M 554.4,84.4 L 554.4,50.7\" style=\"fill:none;fill-rule:evenodd;stroke:#7F4C19;stroke-width:2.0px;stroke-linecap:butt;stroke-linejoin:miter;stroke-opacity:1\"/>\n",
       "<path class=\"bond-12 atom-8 atom-13\" d=\"M 357.7,200.0 L 275.9,200.0\" style=\"fill:none;fill-rule:evenodd;stroke:#000000;stroke-width:2.0px;stroke-linecap:butt;stroke-linejoin:miter;stroke-opacity:1\"/>\n",
       "<path class=\"bond-13 atom-13 atom-14\" d=\"M 275.9,200.0 L 239.8,200.0\" style=\"fill:none;fill-rule:evenodd;stroke:#000000;stroke-width:2.0px;stroke-linecap:butt;stroke-linejoin:miter;stroke-opacity:1\"/>\n",
       "<path class=\"bond-13 atom-13 atom-14\" d=\"M 239.8,200.0 L 203.7,200.0\" style=\"fill:none;fill-rule:evenodd;stroke:#33CCCC;stroke-width:2.0px;stroke-linecap:butt;stroke-linejoin:miter;stroke-opacity:1\"/>\n",
       "<path class=\"bond-14 atom-13 atom-15\" d=\"M 275.9,200.0 L 275.9,166.2\" style=\"fill:none;fill-rule:evenodd;stroke:#000000;stroke-width:2.0px;stroke-linecap:butt;stroke-linejoin:miter;stroke-opacity:1\"/>\n",
       "<path class=\"bond-14 atom-13 atom-15\" d=\"M 275.9,166.2 L 275.9,132.5\" style=\"fill:none;fill-rule:evenodd;stroke:#33CCCC;stroke-width:2.0px;stroke-linecap:butt;stroke-linejoin:miter;stroke-opacity:1\"/>\n",
       "<path class=\"bond-15 atom-13 atom-16\" d=\"M 275.9,200.0 L 275.9,233.8\" style=\"fill:none;fill-rule:evenodd;stroke:#000000;stroke-width:2.0px;stroke-linecap:butt;stroke-linejoin:miter;stroke-opacity:1\"/>\n",
       "<path class=\"bond-15 atom-13 atom-16\" d=\"M 275.9,233.8 L 275.9,267.5\" style=\"fill:none;fill-rule:evenodd;stroke:#33CCCC;stroke-width:2.0px;stroke-linecap:butt;stroke-linejoin:miter;stroke-opacity:1\"/>\n",
       "<path class=\"bond-16 atom-11 atom-1\" d=\"M 554.4,118.2 L 625.3,159.1\" style=\"fill:none;fill-rule:evenodd;stroke:#000000;stroke-width:2.0px;stroke-linecap:butt;stroke-linejoin:miter;stroke-opacity:1\"/>\n",
       "<path class=\"bond-17 atom-10 atom-6\" d=\"M 483.6,159.1 L 483.6,240.9\" style=\"fill:none;fill-rule:evenodd;stroke:#000000;stroke-width:2.0px;stroke-linecap:butt;stroke-linejoin:miter;stroke-opacity:1\"/>\n",
       "<path class=\"atom-0\" d=\"M 699.5 117.6 Q 701.8 118.2, 702.9 119.6 Q 704.0 120.9, 704.0 122.9 Q 704.0 126.1, 702.0 128.0 Q 699.9 129.8, 696.1 129.8 L 688.3 129.8 L 688.3 106.6 L 695.1 106.6 Q 699.1 106.6, 701.1 108.2 Q 703.1 109.8, 703.1 112.8 Q 703.1 116.3, 699.5 117.6 M 691.4 109.2 L 691.4 116.5 L 695.1 116.5 Q 697.4 116.5, 698.6 115.6 Q 699.8 114.6, 699.8 112.8 Q 699.8 109.2, 695.1 109.2 L 691.4 109.2 M 696.1 127.2 Q 698.3 127.2, 699.5 126.1 Q 700.7 125.0, 700.7 122.9 Q 700.7 121.0, 699.4 120.1 Q 698.1 119.1, 695.6 119.1 L 691.4 119.1 L 691.4 127.2 L 696.1 127.2 \" fill=\"#7F4C19\"/>\n",
       "<path class=\"atom-0\" d=\"M 709.3 113.0 L 709.6 115.3 Q 711.4 112.7, 714.3 112.7 Q 715.2 112.7, 716.4 113.0 L 715.9 115.7 Q 714.5 115.4, 713.8 115.4 Q 712.4 115.4, 711.5 116.0 Q 710.6 116.5, 709.9 117.8 L 709.9 129.8 L 706.8 129.8 L 706.8 113.0 L 709.3 113.0 \" fill=\"#7F4C19\"/>\n",
       "<path class=\"atom-3\" d=\"M 699.5 281.2 Q 701.8 281.8, 702.9 283.2 Q 704.0 284.6, 704.0 286.6 Q 704.0 289.8, 702.0 291.6 Q 699.9 293.4, 696.1 293.4 L 688.3 293.4 L 688.3 270.2 L 695.1 270.2 Q 699.1 270.2, 701.1 271.8 Q 703.1 273.4, 703.1 276.4 Q 703.1 279.9, 699.5 281.2 M 691.4 272.8 L 691.4 280.1 L 695.1 280.1 Q 697.4 280.1, 698.6 279.2 Q 699.8 278.2, 699.8 276.4 Q 699.8 272.8, 695.1 272.8 L 691.4 272.8 M 696.1 290.8 Q 698.3 290.8, 699.5 289.7 Q 700.7 288.6, 700.7 286.6 Q 700.7 284.7, 699.4 283.7 Q 698.1 282.7, 695.6 282.7 L 691.4 282.7 L 691.4 290.8 L 696.1 290.8 \" fill=\"#7F4C19\"/>\n",
       "<path class=\"atom-3\" d=\"M 709.3 276.6 L 709.6 278.9 Q 711.4 276.3, 714.3 276.3 Q 715.2 276.3, 716.4 276.6 L 715.9 279.4 Q 714.5 279.0, 713.8 279.0 Q 712.4 279.0, 711.5 279.6 Q 710.6 280.1, 709.9 281.4 L 709.9 293.4 L 706.8 293.4 L 706.8 276.6 L 709.3 276.6 \" fill=\"#7F4C19\"/>\n",
       "<path class=\"atom-5\" d=\"M 557.8 363.0 Q 560.1 363.7, 561.2 365.0 Q 562.3 366.4, 562.3 368.4 Q 562.3 371.6, 560.3 373.4 Q 558.2 375.2, 554.4 375.2 L 546.6 375.2 L 546.6 352.0 L 553.4 352.0 Q 557.4 352.0, 559.4 353.6 Q 561.4 355.2, 561.4 358.2 Q 561.4 361.7, 557.8 363.0 M 549.7 354.7 L 549.7 361.9 L 553.4 361.9 Q 555.7 361.9, 556.9 361.0 Q 558.1 360.1, 558.1 358.2 Q 558.1 354.7, 553.4 354.7 L 549.7 354.7 M 554.4 372.6 Q 556.6 372.6, 557.8 371.5 Q 559.0 370.4, 559.0 368.4 Q 559.0 366.5, 557.7 365.5 Q 556.4 364.5, 553.9 364.5 L 549.7 364.5 L 549.7 372.6 L 554.4 372.6 \" fill=\"#7F4C19\"/>\n",
       "<path class=\"atom-5\" d=\"M 567.6 358.4 L 567.9 360.7 Q 569.7 358.1, 572.6 358.1 Q 573.5 358.1, 574.7 358.4 L 574.3 361.2 Q 572.8 360.8, 572.1 360.8 Q 570.7 360.8, 569.8 361.4 Q 568.9 361.9, 568.2 363.2 L 568.2 375.2 L 565.1 375.2 L 565.1 358.4 L 567.6 358.4 \" fill=\"#7F4C19\"/>\n",
       "<path class=\"atom-7\" d=\"M 400.7 254.6 L 408.3 266.9 Q 409.0 268.1, 410.2 270.3 Q 411.4 272.5, 411.5 272.6 L 411.5 254.6 L 414.6 254.6 L 414.6 277.8 L 411.4 277.8 L 403.3 264.4 Q 402.3 262.8, 401.3 261.0 Q 400.3 259.2, 400.0 258.6 L 400.0 277.8 L 397.0 277.8 L 397.0 254.6 L 400.7 254.6 \" fill=\"#0000FF\"/>\n",
       "<path class=\"atom-9\" d=\"M 400.7 122.2 L 408.3 134.5 Q 409.0 135.7, 410.2 137.9 Q 411.4 140.1, 411.5 140.2 L 411.5 122.2 L 414.6 122.2 L 414.6 145.4 L 411.4 145.4 L 403.3 132.0 Q 402.3 130.4, 401.3 128.6 Q 400.3 126.8, 400.0 126.3 L 400.0 145.4 L 397.0 145.4 L 397.0 122.2 L 400.7 122.2 \" fill=\"#0000FF\"/>\n",
       "<path class=\"atom-9\" d=\"M 396.7 96.7 L 399.9 96.7 L 399.9 106.6 L 411.7 106.6 L 411.7 96.7 L 414.9 96.7 L 414.9 119.9 L 411.7 119.9 L 411.7 109.2 L 399.9 109.2 L 399.9 119.9 L 396.7 119.9 L 396.7 96.7 \" fill=\"#0000FF\"/>\n",
       "<path class=\"atom-12\" d=\"M 557.8 35.8 Q 560.1 36.4, 561.2 37.8 Q 562.3 39.1, 562.3 41.1 Q 562.3 44.3, 560.3 46.2 Q 558.2 48.0, 554.4 48.0 L 546.6 48.0 L 546.6 24.8 L 553.4 24.8 Q 557.4 24.8, 559.4 26.4 Q 561.4 28.0, 561.4 31.0 Q 561.4 34.5, 557.8 35.8 M 549.7 27.4 L 549.7 34.7 L 553.4 34.7 Q 555.7 34.7, 556.9 33.8 Q 558.1 32.8, 558.1 31.0 Q 558.1 27.4, 553.4 27.4 L 549.7 27.4 M 554.4 45.3 Q 556.6 45.3, 557.8 44.3 Q 559.0 43.2, 559.0 41.1 Q 559.0 39.2, 557.7 38.3 Q 556.4 37.3, 553.9 37.3 L 549.7 37.3 L 549.7 45.3 L 554.4 45.3 \" fill=\"#7F4C19\"/>\n",
       "<path class=\"atom-12\" d=\"M 567.6 31.1 L 567.9 33.5 Q 569.7 30.9, 572.6 30.9 Q 573.5 30.9, 574.7 31.2 L 574.3 33.9 Q 572.8 33.6, 572.1 33.6 Q 570.7 33.6, 569.8 34.2 Q 568.9 34.7, 568.2 36.0 L 568.2 48.0 L 565.1 48.0 L 565.1 31.1 L 567.6 31.1 \" fill=\"#7F4C19\"/>\n",
       "<path class=\"atom-14\" d=\"M 187.2 188.4 L 201.0 188.4 L 201.0 191.1 L 190.3 191.1 L 190.3 198.1 L 199.8 198.1 L 199.8 200.8 L 190.3 200.8 L 190.3 211.6 L 187.2 211.6 L 187.2 188.4 \" fill=\"#33CCCC\"/>\n",
       "<path class=\"atom-15\" d=\"M 269.0 106.6 L 282.8 106.6 L 282.8 109.3 L 272.1 109.3 L 272.1 116.3 L 281.6 116.3 L 281.6 119.0 L 272.1 119.0 L 272.1 129.8 L 269.0 129.8 L 269.0 106.6 \" fill=\"#33CCCC\"/>\n",
       "<path class=\"atom-16\" d=\"M 269.0 270.2 L 282.8 270.2 L 282.8 272.9 L 272.1 272.9 L 272.1 279.9 L 281.6 279.9 L 281.6 282.6 L 272.1 282.6 L 272.1 293.4 L 269.0 293.4 L 269.0 270.2 \" fill=\"#33CCCC\"/>\n",
       "<rect x=\"1\" y=\"5\" width=\"18.0\" height=\"18.0\" fill=\"rgb(31, 119, 179)\"/><text x=\"19.200000000000003\" y=\"20\" font-family=\"Helvetica\" font-size=\"12\" fill=\"black\">aC fused with non-aromatic ring: 2</text><rect x=\"1\" y=\"30\" width=\"18.0\" height=\"18.0\" fill=\"rgb(255, 127, 13)\"/><text x=\"19.200000000000003\" y=\"45\" font-family=\"Helvetica\" font-size=\"12\" fill=\"black\">CF3: 1</text><rect x=\"1\" y=\"55\" width=\"18.0\" height=\"18.0\" fill=\"rgb(44, 159, 44)\"/><text x=\"19.200000000000003\" y=\"70\" font-family=\"Helvetica\" font-size=\"12\" fill=\"black\">aC-Br: 4</text><rect x=\"1\" y=\"80\" width=\"18.0\" height=\"18.0\" fill=\"rgb(214, 39, 40)\"/><text x=\"19.200000000000003\" y=\"95\" font-family=\"Helvetica\" font-size=\"12\" fill=\"black\">NH (cyclic): 1</text><rect x=\"1\" y=\"105\" width=\"18.0\" height=\"18.0\" fill=\"rgb(148, 103, 188)\"/><text x=\"19.200000000000003\" y=\"120\" font-family=\"Helvetica\" font-size=\"12\" fill=\"black\">C=N (cyclic): 1</text><text x=\"450.0\" y=\"40\" font-family=\"Helvetica\" font-size=\"12\" font-weight=\"bold\" fill=\"black\" text-anchor=\"middle\"/></svg>"
      ],
      "text/plain": [
       "<IPython.core.display.SVG object>"
      ]
     },
     "execution_count": 5,
     "metadata": {},
     "output_type": "execute_result"
    }
   ],
   "source": [
    "smiles = 'Brc1c(Br)c(Br)c2N=C(Nc2c1Br)C(F)(F)F'\n",
    "\n",
    "sol = abdulelah_gani_p.get_groups(smiles, \"smiles\")\n",
    "\n",
    "sol.draw(width=900, height=400)"
   ]
  }
 ],
 "metadata": {
  "kernelspec": {
   "display_name": "ugropy",
   "language": "python",
   "name": "python3"
  },
  "language_info": {
   "codemirror_mode": {
    "name": "ipython",
    "version": 3
   },
   "file_extension": ".py",
   "mimetype": "text/x-python",
   "name": "python",
   "nbconvert_exporter": "python",
   "pygments_lexer": "ipython3",
   "version": "3.10.12"
  }
 },
 "nbformat": 4,
 "nbformat_minor": 2
}
