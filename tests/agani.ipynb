{
 "cells": [
  {
   "cell_type": "code",
   "execution_count": 1,
   "metadata": {},
   "outputs": [],
   "source": [
    "from ugropy import abdulelah_gani, abdulelah_gani_p, instantiate_mol_object\n",
    "\n",
    "import pandas as pd\n",
    "\n",
    "import numpy as np\n",
    "\n",
    "from rdkit.Chem import Draw\n",
    "from rdkit import Chem"
   ]
  },
  {
   "cell_type": "code",
   "execution_count": 2,
   "metadata": {},
   "outputs": [
    {
     "name": "stdout",
     "output_type": "stream",
     "text": [
      "1704\n"
     ]
    }
   ],
   "source": [
    "df = pd.read_csv(\"abdulelah_gani_frags/w.csv\", index_col=\"SMILES\", sep=\"|\", comment=\"?\")\n",
    "\n",
    "primary = np.linspace(1, 220, 220, dtype=int).astype(str)\n",
    "\n",
    "df = df[primary]\n",
    "df.rename(columns=lambda col: int(col) if col.isdigit() else col, inplace=True)\n",
    "\n",
    "df.dropna(inplace=True)\n",
    "\n",
    "print(len(df))"
   ]
  },
  {
   "cell_type": "code",
   "execution_count": 3,
   "metadata": {},
   "outputs": [],
   "source": [
    "for idx, smiles in enumerate(df.index):\n",
    "    try:  \n",
    "        solution = abdulelah_gani_p.get_groups(smiles, \"smiles\", search_multiple_solutions=True)\n",
    "    except Exception as e:\n",
    "        print(smiles)\n",
    "        print(idx)\n",
    "        print(df.loc[smiles])\n",
    "        raise e        \n",
    "    \n",
    "    # Filtrar las columnas de la fila que no sean iguales a 0\n",
    "    row = df.loc[smiles][df.loc[smiles] != 0]\n",
    "    \n",
    "    # Convertir la fila filtrada a diccionario\n",
    "    row_dict = row.to_dict()\n",
    "\n",
    "    # Verificar si ninguna solución tiene subgroups_numbers igual a row_dict\n",
    "    if all([sol.subgroups_numbers != row_dict for sol in solution]):\n",
    "        print(smiles)\n",
    "        print(idx)\n",
    "        print(\"Subgrupos:\")\n",
    "        print(\"\\n\".join(str(sol.subgroups) for sol in solution))  # Convertir a string y unir con saltos de línea\n",
    "        print(\"Subgrupos por número:\")\n",
    "        print(\"\\n\".join(str(sol.subgroups_numbers) for sol in solution))  # Convertir a string y unir con saltos de línea\n",
    "        print(\"Gani: \")\n",
    "        print(row_dict)\n",
    "        \n",
    "        gani_groups = {}\n",
    "        for group, ocurr in row_dict.items():\n",
    "            group_name = abdulelah_gani_p.subgroups_info.loc[abdulelah_gani_p.subgroups_info[\"group_number\"] == group].index[0]\n",
    "            gani_groups[group_name] = ocurr\n",
    "            \n",
    "        print(\"Gani group names:\")\n",
    "        print(gani_groups)\n",
    "        \n",
    "        wrong_smiles = smiles\n",
    "        break\n"
   ]
  },
  {
   "cell_type": "code",
   "execution_count": 4,
   "metadata": {},
   "outputs": [
    {
     "ename": "NameError",
     "evalue": "name 'wrong_smiles' is not defined",
     "output_type": "error",
     "traceback": [
      "\u001b[0;31m---------------------------------------------------------------------------\u001b[0m",
      "\u001b[0;31mNameError\u001b[0m                                 Traceback (most recent call last)",
      "Cell \u001b[0;32mIn[4], line 1\u001b[0m\n\u001b[0;32m----> 1\u001b[0m sol \u001b[38;5;241m=\u001b[39m abdulelah_gani_p\u001b[38;5;241m.\u001b[39mget_groups(\u001b[43mwrong_smiles\u001b[49m, \u001b[38;5;124m\"\u001b[39m\u001b[38;5;124msmiles\u001b[39m\u001b[38;5;124m\"\u001b[39m)\n\u001b[1;32m      3\u001b[0m sol\u001b[38;5;241m.\u001b[39mdraw(width\u001b[38;5;241m=\u001b[39m\u001b[38;5;241m900\u001b[39m, height\u001b[38;5;241m=\u001b[39m\u001b[38;5;241m400\u001b[39m)\n",
      "\u001b[0;31mNameError\u001b[0m: name 'wrong_smiles' is not defined"
     ]
    }
   ],
   "source": [
    "sol = abdulelah_gani_p.get_groups(wrong_smiles, \"smiles\")\n",
    "\n",
    "sol.draw(width=900, height=400)"
   ]
  },
  {
   "cell_type": "code",
   "execution_count": null,
   "metadata": {},
   "outputs": [
    {
     "data": {
      "text/html": [
       "0.41369547915879074 dimensionless"
      ],
      "text/latex": [
       "$0.41369547915879074\\ \\mathrm{dimensionless}$"
      ],
      "text/plain": [
       "<Quantity(0.413695479, 'dimensionless')>"
      ]
     },
     "execution_count": 5,
     "metadata": {},
     "output_type": "execute_result"
    }
   ],
   "source": [
    "sm = abdulelah_gani.get_groups(wrong_smiles, \"smiles\")\n",
    "\n",
    "sm.acentric_factor"
   ]
  }
 ],
 "metadata": {
  "kernelspec": {
   "display_name": "ugropy",
   "language": "python",
   "name": "python3"
  },
  "language_info": {
   "codemirror_mode": {
    "name": "ipython",
    "version": 3
   },
   "file_extension": ".py",
   "mimetype": "text/x-python",
   "name": "python",
   "nbconvert_exporter": "python",
   "pygments_lexer": "ipython3",
   "version": "3.10.12"
  }
 },
 "nbformat": 4,
 "nbformat_minor": 2
}
