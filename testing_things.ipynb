{
 "cells": [
  {
   "cell_type": "code",
   "execution_count": 1,
   "metadata": {},
   "outputs": [],
   "source": [
    "from ugropy import unifac"
   ]
  },
  {
   "cell_type": "code",
   "execution_count": 2,
   "metadata": {},
   "outputs": [],
   "source": [
    "coso = unifac.get_groups('COC(=O)CC1=CC=CC=C1', \"smiles\", search_multiple_solutions=True)"
   ]
  },
  {
   "cell_type": "code",
   "execution_count": 3,
   "metadata": {},
   "outputs": [
    {
     "data": {
      "image/svg+xml": [
       "<svg xmlns=\"http://www.w3.org/2000/svg\" xmlns:rdkit=\"http://www.rdkit.org/xml\" xmlns:xlink=\"http://www.w3.org/1999/xlink\" version=\"1.1\" baseProfile=\"full\" xml:space=\"preserve\" width=\"600px\" height=\"200px\" viewBox=\"0 0 600 200\">\n",
       "<!-- END OF HEADER -->\n",
       "<rect style=\"opacity:1.0;fill:#FFFFFF;stroke:none\" width=\"600.0\" height=\"200.0\" x=\"0.0\" y=\"0.0\"> </rect>\n",
       "<ellipse cx=\"99.7\" cy=\"87.3\" rx=\"15.1\" ry=\"15.1\" class=\"atom-0\" style=\"fill:#1F77B4A5;fill-rule:evenodd;stroke:#1F77B4A5;stroke-width:1.0px;stroke-linecap:butt;stroke-linejoin:miter;stroke-opacity:1\"/>\n",
       "<ellipse cx=\"158.8\" cy=\"135.0\" rx=\"15.1\" ry=\"15.6\" class=\"atom-1\" style=\"fill:#D62728A5;fill-rule:evenodd;stroke:#D62728A5;stroke-width:1.0px;stroke-linecap:butt;stroke-linejoin:miter;stroke-opacity:1\"/>\n",
       "<ellipse cx=\"229.4\" cy=\"107.4\" rx=\"15.1\" ry=\"15.1\" class=\"atom-2\" style=\"fill:#D62728A5;fill-rule:evenodd;stroke:#D62728A5;stroke-width:1.0px;stroke-linecap:butt;stroke-linejoin:miter;stroke-opacity:1\"/>\n",
       "<ellipse cx=\"241.0\" cy=\"32.7\" rx=\"15.1\" ry=\"15.6\" class=\"atom-3\" style=\"fill:#D62728A5;fill-rule:evenodd;stroke:#D62728A5;stroke-width:1.0px;stroke-linecap:butt;stroke-linejoin:miter;stroke-opacity:1\"/>\n",
       "<ellipse cx=\"288.4\" cy=\"154.8\" rx=\"15.1\" ry=\"15.1\" class=\"atom-4\" style=\"fill:#2CA02CA5;fill-rule:evenodd;stroke:#2CA02CA5;stroke-width:1.0px;stroke-linecap:butt;stroke-linejoin:miter;stroke-opacity:1\"/>\n",
       "<ellipse cx=\"359.0\" cy=\"127.4\" rx=\"15.1\" ry=\"15.1\" class=\"atom-5\" style=\"fill:#2CA02CA5;fill-rule:evenodd;stroke:#2CA02CA5;stroke-width:1.0px;stroke-linecap:butt;stroke-linejoin:miter;stroke-opacity:1\"/>\n",
       "<ellipse cx=\"370.6\" cy=\"52.6\" rx=\"15.1\" ry=\"15.1\" class=\"atom-6\" style=\"fill:#FF7F0EA5;fill-rule:evenodd;stroke:#FF7F0EA5;stroke-width:1.0px;stroke-linecap:butt;stroke-linejoin:miter;stroke-opacity:1\"/>\n",
       "<ellipse cx=\"441.2\" cy=\"25.1\" rx=\"15.1\" ry=\"15.1\" class=\"atom-7\" style=\"fill:#FF7F0EA5;fill-rule:evenodd;stroke:#FF7F0EA5;stroke-width:1.0px;stroke-linecap:butt;stroke-linejoin:miter;stroke-opacity:1\"/>\n",
       "<ellipse cx=\"500.3\" cy=\"72.6\" rx=\"15.1\" ry=\"15.1\" class=\"atom-8\" style=\"fill:#FF7F0EA5;fill-rule:evenodd;stroke:#FF7F0EA5;stroke-width:1.0px;stroke-linecap:butt;stroke-linejoin:miter;stroke-opacity:1\"/>\n",
       "<ellipse cx=\"488.7\" cy=\"147.4\" rx=\"15.1\" ry=\"15.1\" class=\"atom-9\" style=\"fill:#FF7F0EA5;fill-rule:evenodd;stroke:#FF7F0EA5;stroke-width:1.0px;stroke-linecap:butt;stroke-linejoin:miter;stroke-opacity:1\"/>\n",
       "<ellipse cx=\"418.1\" cy=\"174.9\" rx=\"15.1\" ry=\"15.1\" class=\"atom-10\" style=\"fill:#FF7F0EA5;fill-rule:evenodd;stroke:#FF7F0EA5;stroke-width:1.0px;stroke-linecap:butt;stroke-linejoin:miter;stroke-opacity:1\"/>\n",
       "<path class=\"bond-0 atom-0 atom-1\" d=\"M 99.7,87.3 L 123.1,106.1\" style=\"fill:none;fill-rule:evenodd;stroke:#000000;stroke-width:2.0px;stroke-linecap:butt;stroke-linejoin:miter;stroke-opacity:1\"/>\n",
       "<path class=\"bond-0 atom-0 atom-1\" d=\"M 123.1,106.1 L 146.4,124.9\" style=\"fill:none;fill-rule:evenodd;stroke:#FF0000;stroke-width:2.0px;stroke-linecap:butt;stroke-linejoin:miter;stroke-opacity:1\"/>\n",
       "<path class=\"bond-1 atom-1 atom-2\" d=\"M 171.1,130.0 L 200.3,118.7\" style=\"fill:none;fill-rule:evenodd;stroke:#FF0000;stroke-width:2.0px;stroke-linecap:butt;stroke-linejoin:miter;stroke-opacity:1\"/>\n",
       "<path class=\"bond-1 atom-1 atom-2\" d=\"M 200.3,118.7 L 229.4,107.4\" style=\"fill:none;fill-rule:evenodd;stroke:#000000;stroke-width:2.0px;stroke-linecap:butt;stroke-linejoin:miter;stroke-opacity:1\"/>\n",
       "<path class=\"bond-2 atom-2 atom-3\" d=\"M 234.5,111.5 L 239.5,79.3\" style=\"fill:none;fill-rule:evenodd;stroke:#000000;stroke-width:2.0px;stroke-linecap:butt;stroke-linejoin:miter;stroke-opacity:1\"/>\n",
       "<path class=\"bond-2 atom-2 atom-3\" d=\"M 239.5,79.3 L 244.5,47.1\" style=\"fill:none;fill-rule:evenodd;stroke:#FF0000;stroke-width:2.0px;stroke-linecap:butt;stroke-linejoin:miter;stroke-opacity:1\"/>\n",
       "<path class=\"bond-2 atom-2 atom-3\" d=\"M 223.3,109.7 L 228.3,77.5\" style=\"fill:none;fill-rule:evenodd;stroke:#000000;stroke-width:2.0px;stroke-linecap:butt;stroke-linejoin:miter;stroke-opacity:1\"/>\n",
       "<path class=\"bond-2 atom-2 atom-3\" d=\"M 228.3,77.5 L 233.2,45.3\" style=\"fill:none;fill-rule:evenodd;stroke:#FF0000;stroke-width:2.0px;stroke-linecap:butt;stroke-linejoin:miter;stroke-opacity:1\"/>\n",
       "<path class=\"bond-3 atom-2 atom-4\" d=\"M 229.4,107.4 L 288.4,154.8\" style=\"fill:none;fill-rule:evenodd;stroke:#000000;stroke-width:2.0px;stroke-linecap:butt;stroke-linejoin:miter;stroke-opacity:1\"/>\n",
       "<path class=\"bond-4 atom-4 atom-5\" d=\"M 288.4,154.8 L 359.0,127.4\" style=\"fill:none;fill-rule:evenodd;stroke:#000000;stroke-width:2.0px;stroke-linecap:butt;stroke-linejoin:miter;stroke-opacity:1\"/>\n",
       "<path class=\"bond-5 atom-5 atom-6\" d=\"M 359.0,127.4 L 370.6,52.6\" style=\"fill:none;fill-rule:evenodd;stroke:#000000;stroke-width:2.0px;stroke-linecap:butt;stroke-linejoin:miter;stroke-opacity:1\"/>\n",
       "<path class=\"bond-5 atom-5 atom-6\" d=\"M 371.3,122.7 L 380.8,60.8\" style=\"fill:none;fill-rule:evenodd;stroke:#000000;stroke-width:2.0px;stroke-linecap:butt;stroke-linejoin:miter;stroke-opacity:1\"/>\n",
       "<path class=\"bond-6 atom-6 atom-7\" d=\"M 370.6,52.6 L 441.2,25.1\" style=\"fill:none;fill-rule:evenodd;stroke:#000000;stroke-width:2.0px;stroke-linecap:butt;stroke-linejoin:miter;stroke-opacity:1\"/>\n",
       "<path class=\"bond-7 atom-7 atom-8\" d=\"M 441.2,25.1 L 500.3,72.6\" style=\"fill:none;fill-rule:evenodd;stroke:#000000;stroke-width:2.0px;stroke-linecap:butt;stroke-linejoin:miter;stroke-opacity:1\"/>\n",
       "<path class=\"bond-7 atom-7 atom-8\" d=\"M 439.2,38.1 L 488.0,77.3\" style=\"fill:none;fill-rule:evenodd;stroke:#000000;stroke-width:2.0px;stroke-linecap:butt;stroke-linejoin:miter;stroke-opacity:1\"/>\n",
       "<path class=\"bond-8 atom-8 atom-9\" d=\"M 500.3,72.6 L 488.7,147.4\" style=\"fill:none;fill-rule:evenodd;stroke:#000000;stroke-width:2.0px;stroke-linecap:butt;stroke-linejoin:miter;stroke-opacity:1\"/>\n",
       "<path class=\"bond-9 atom-9 atom-10\" d=\"M 488.7,147.4 L 418.1,174.9\" style=\"fill:none;fill-rule:evenodd;stroke:#000000;stroke-width:2.0px;stroke-linecap:butt;stroke-linejoin:miter;stroke-opacity:1\"/>\n",
       "<path class=\"bond-9 atom-9 atom-10\" d=\"M 478.5,139.2 L 420.1,161.9\" style=\"fill:none;fill-rule:evenodd;stroke:#000000;stroke-width:2.0px;stroke-linecap:butt;stroke-linejoin:miter;stroke-opacity:1\"/>\n",
       "<path class=\"bond-10 atom-10 atom-5\" d=\"M 418.1,174.9 L 359.0,127.4\" style=\"fill:none;fill-rule:evenodd;stroke:#000000;stroke-width:2.0px;stroke-linecap:butt;stroke-linejoin:miter;stroke-opacity:1\"/>\n",
       "<path d=\"M 227.9,107.9 L 229.4,107.4 L 232.3,109.7\" style=\"fill:none;stroke:#000000;stroke-width:2.0px;stroke-linecap:butt;stroke-linejoin:miter;stroke-opacity:1;\"/>\n",
       "<path d=\"M 285.5,152.4 L 288.4,154.8 L 292.0,153.4\" style=\"fill:none;stroke:#000000;stroke-width:2.0px;stroke-linecap:butt;stroke-linejoin:miter;stroke-opacity:1;\"/>\n",
       "<path d=\"M 370.0,56.3 L 370.6,52.6 L 374.1,51.2\" style=\"fill:none;stroke:#000000;stroke-width:2.0px;stroke-linecap:butt;stroke-linejoin:miter;stroke-opacity:1;\"/>\n",
       "<path d=\"M 437.7,26.5 L 441.2,25.1 L 444.2,27.5\" style=\"fill:none;stroke:#000000;stroke-width:2.0px;stroke-linecap:butt;stroke-linejoin:miter;stroke-opacity:1;\"/>\n",
       "<path d=\"M 497.3,70.2 L 500.3,72.6 L 499.7,76.3\" style=\"fill:none;stroke:#000000;stroke-width:2.0px;stroke-linecap:butt;stroke-linejoin:miter;stroke-opacity:1;\"/>\n",
       "<path d=\"M 489.3,143.7 L 488.7,147.4 L 485.2,148.8\" style=\"fill:none;stroke:#000000;stroke-width:2.0px;stroke-linecap:butt;stroke-linejoin:miter;stroke-opacity:1;\"/>\n",
       "<path d=\"M 421.6,173.5 L 418.1,174.9 L 415.1,172.5\" style=\"fill:none;stroke:#000000;stroke-width:2.0px;stroke-linecap:butt;stroke-linejoin:miter;stroke-opacity:1;\"/>\n",
       "<path class=\"atom-1\" d=\"M 148.9 134.8 Q 148.9 129.7, 151.5 126.8 Q 154.0 123.9, 158.8 123.9 Q 163.5 123.9, 166.1 126.8 Q 168.6 129.7, 168.6 134.8 Q 168.6 140.1, 166.1 143.0 Q 163.5 146.0, 158.8 146.0 Q 154.1 146.0, 151.5 143.0 Q 148.9 140.1, 148.9 134.8 M 158.8 143.5 Q 162.1 143.5, 163.8 141.4 Q 165.6 139.1, 165.6 134.8 Q 165.6 130.6, 163.8 128.5 Q 162.1 126.4, 158.8 126.4 Q 155.5 126.4, 153.7 128.5 Q 152.0 130.6, 152.0 134.8 Q 152.0 139.2, 153.7 141.4 Q 155.5 143.5, 158.8 143.5 \" fill=\"#FF0000\"/>\n",
       "<path class=\"atom-3\" d=\"M 231.1 32.6 Q 231.1 27.4, 233.7 24.6 Q 236.2 21.7, 241.0 21.7 Q 245.7 21.7, 248.3 24.6 Q 250.8 27.4, 250.8 32.6 Q 250.8 37.8, 248.2 40.8 Q 245.7 43.7, 241.0 43.7 Q 236.2 43.7, 233.7 40.8 Q 231.1 37.8, 231.1 32.6 M 241.0 41.3 Q 244.2 41.3, 246.0 39.1 Q 247.8 36.9, 247.8 32.6 Q 247.8 28.4, 246.0 26.3 Q 244.2 24.1, 241.0 24.1 Q 237.7 24.1, 235.9 26.2 Q 234.1 28.3, 234.1 32.6 Q 234.1 36.9, 235.9 39.1 Q 237.7 41.3, 241.0 41.3 \" fill=\"#FF0000\"/>\n",
       "<rect x=\"1\" y=\"5\" width=\"18.0\" height=\"18.0\" fill=\"rgb(31, 119, 179)\"/><text x=\"19.200000000000003\" y=\"20\" font-family=\"Helvetica\" font-size=\"12\" fill=\"black\">CH3: 1</text><rect x=\"1\" y=\"30\" width=\"18.0\" height=\"18.0\" fill=\"rgb(255, 127, 13)\"/><text x=\"19.200000000000003\" y=\"45\" font-family=\"Helvetica\" font-size=\"12\" fill=\"black\">ACH: 5</text><rect x=\"1\" y=\"55\" width=\"18.0\" height=\"18.0\" fill=\"rgb(44, 159, 44)\"/><text x=\"19.200000000000003\" y=\"70\" font-family=\"Helvetica\" font-size=\"12\" fill=\"black\">ACCH2: 1</text><rect x=\"1\" y=\"80\" width=\"18.0\" height=\"18.0\" fill=\"rgb(214, 39, 40)\"/><text x=\"19.200000000000003\" y=\"95\" font-family=\"Helvetica\" font-size=\"12\" fill=\"black\">COO: 1</text><text x=\"300.0\" y=\"40\" font-family=\"Helvetica\" font-size=\"12\" font-weight=\"bold\" fill=\"black\" text-anchor=\"middle\"/></svg>"
      ],
      "text/plain": [
       "<IPython.core.display.SVG object>"
      ]
     },
     "execution_count": 3,
     "metadata": {},
     "output_type": "execute_result"
    }
   ],
   "source": [
    "coso[0].draw(width=600)"
   ]
  },
  {
   "cell_type": "code",
   "execution_count": 6,
   "metadata": {},
   "outputs": [
    {
     "data": {
      "image/svg+xml": [
       "<svg xmlns=\"http://www.w3.org/2000/svg\" xmlns:rdkit=\"http://www.rdkit.org/xml\" xmlns:xlink=\"http://www.w3.org/1999/xlink\" version=\"1.1\" baseProfile=\"full\" xml:space=\"preserve\" width=\"600px\" height=\"200px\" viewBox=\"0 0 600 200\">\n",
       "<!-- END OF HEADER -->\n",
       "<rect style=\"opacity:1.0;fill:#FFFFFF;stroke:none\" width=\"600.0\" height=\"200.0\" x=\"0.0\" y=\"0.0\"> </rect>\n",
       "<ellipse cx=\"99.7\" cy=\"87.3\" rx=\"15.1\" ry=\"15.1\" class=\"atom-0\" style=\"fill:#1F77B4A5;fill-rule:evenodd;stroke:#1F77B4A5;stroke-width:1.0px;stroke-linecap:butt;stroke-linejoin:miter;stroke-opacity:1\"/>\n",
       "<ellipse cx=\"158.8\" cy=\"135.0\" rx=\"15.1\" ry=\"15.6\" class=\"atom-1\" style=\"fill:#D62728A5;fill-rule:evenodd;stroke:#D62728A5;stroke-width:1.0px;stroke-linecap:butt;stroke-linejoin:miter;stroke-opacity:1\"/>\n",
       "<ellipse cx=\"229.4\" cy=\"107.4\" rx=\"15.1\" ry=\"15.1\" class=\"atom-2\" style=\"fill:#D62728A5;fill-rule:evenodd;stroke:#D62728A5;stroke-width:1.0px;stroke-linecap:butt;stroke-linejoin:miter;stroke-opacity:1\"/>\n",
       "<ellipse cx=\"241.0\" cy=\"32.7\" rx=\"15.1\" ry=\"15.6\" class=\"atom-3\" style=\"fill:#D62728A5;fill-rule:evenodd;stroke:#D62728A5;stroke-width:1.0px;stroke-linecap:butt;stroke-linejoin:miter;stroke-opacity:1\"/>\n",
       "<ellipse cx=\"288.4\" cy=\"154.8\" rx=\"15.1\" ry=\"15.1\" class=\"atom-4\" style=\"fill:#2CA02CA5;fill-rule:evenodd;stroke:#2CA02CA5;stroke-width:1.0px;stroke-linecap:butt;stroke-linejoin:miter;stroke-opacity:1\"/>\n",
       "<ellipse cx=\"359.0\" cy=\"127.4\" rx=\"15.1\" ry=\"15.1\" class=\"atom-5\" style=\"fill:#2CA02CA5;fill-rule:evenodd;stroke:#2CA02CA5;stroke-width:1.0px;stroke-linecap:butt;stroke-linejoin:miter;stroke-opacity:1\"/>\n",
       "<ellipse cx=\"370.6\" cy=\"52.6\" rx=\"15.1\" ry=\"15.1\" class=\"atom-6\" style=\"fill:#FF7F0EA5;fill-rule:evenodd;stroke:#FF7F0EA5;stroke-width:1.0px;stroke-linecap:butt;stroke-linejoin:miter;stroke-opacity:1\"/>\n",
       "<ellipse cx=\"441.2\" cy=\"25.1\" rx=\"15.1\" ry=\"15.1\" class=\"atom-7\" style=\"fill:#FF7F0EA5;fill-rule:evenodd;stroke:#FF7F0EA5;stroke-width:1.0px;stroke-linecap:butt;stroke-linejoin:miter;stroke-opacity:1\"/>\n",
       "<ellipse cx=\"500.3\" cy=\"72.6\" rx=\"15.1\" ry=\"15.1\" class=\"atom-8\" style=\"fill:#FF7F0EA5;fill-rule:evenodd;stroke:#FF7F0EA5;stroke-width:1.0px;stroke-linecap:butt;stroke-linejoin:miter;stroke-opacity:1\"/>\n",
       "<ellipse cx=\"488.7\" cy=\"147.4\" rx=\"15.1\" ry=\"15.1\" class=\"atom-9\" style=\"fill:#FF7F0EA5;fill-rule:evenodd;stroke:#FF7F0EA5;stroke-width:1.0px;stroke-linecap:butt;stroke-linejoin:miter;stroke-opacity:1\"/>\n",
       "<ellipse cx=\"418.1\" cy=\"174.9\" rx=\"15.1\" ry=\"15.1\" class=\"atom-10\" style=\"fill:#FF7F0EA5;fill-rule:evenodd;stroke:#FF7F0EA5;stroke-width:1.0px;stroke-linecap:butt;stroke-linejoin:miter;stroke-opacity:1\"/>\n",
       "<path class=\"bond-0 atom-0 atom-1\" d=\"M 99.7,87.3 L 123.1,106.1\" style=\"fill:none;fill-rule:evenodd;stroke:#000000;stroke-width:2.0px;stroke-linecap:butt;stroke-linejoin:miter;stroke-opacity:1\"/>\n",
       "<path class=\"bond-0 atom-0 atom-1\" d=\"M 123.1,106.1 L 146.4,124.9\" style=\"fill:none;fill-rule:evenodd;stroke:#FF0000;stroke-width:2.0px;stroke-linecap:butt;stroke-linejoin:miter;stroke-opacity:1\"/>\n",
       "<path class=\"bond-1 atom-1 atom-2\" d=\"M 171.1,130.0 L 200.3,118.7\" style=\"fill:none;fill-rule:evenodd;stroke:#FF0000;stroke-width:2.0px;stroke-linecap:butt;stroke-linejoin:miter;stroke-opacity:1\"/>\n",
       "<path class=\"bond-1 atom-1 atom-2\" d=\"M 200.3,118.7 L 229.4,107.4\" style=\"fill:none;fill-rule:evenodd;stroke:#000000;stroke-width:2.0px;stroke-linecap:butt;stroke-linejoin:miter;stroke-opacity:1\"/>\n",
       "<path class=\"bond-2 atom-2 atom-3\" d=\"M 234.5,111.5 L 239.5,79.3\" style=\"fill:none;fill-rule:evenodd;stroke:#000000;stroke-width:2.0px;stroke-linecap:butt;stroke-linejoin:miter;stroke-opacity:1\"/>\n",
       "<path class=\"bond-2 atom-2 atom-3\" d=\"M 239.5,79.3 L 244.5,47.1\" style=\"fill:none;fill-rule:evenodd;stroke:#FF0000;stroke-width:2.0px;stroke-linecap:butt;stroke-linejoin:miter;stroke-opacity:1\"/>\n",
       "<path class=\"bond-2 atom-2 atom-3\" d=\"M 223.3,109.7 L 228.3,77.5\" style=\"fill:none;fill-rule:evenodd;stroke:#000000;stroke-width:2.0px;stroke-linecap:butt;stroke-linejoin:miter;stroke-opacity:1\"/>\n",
       "<path class=\"bond-2 atom-2 atom-3\" d=\"M 228.3,77.5 L 233.2,45.3\" style=\"fill:none;fill-rule:evenodd;stroke:#FF0000;stroke-width:2.0px;stroke-linecap:butt;stroke-linejoin:miter;stroke-opacity:1\"/>\n",
       "<path class=\"bond-3 atom-2 atom-4\" d=\"M 229.4,107.4 L 288.4,154.8\" style=\"fill:none;fill-rule:evenodd;stroke:#000000;stroke-width:2.0px;stroke-linecap:butt;stroke-linejoin:miter;stroke-opacity:1\"/>\n",
       "<path class=\"bond-4 atom-4 atom-5\" d=\"M 288.4,154.8 L 359.0,127.4\" style=\"fill:none;fill-rule:evenodd;stroke:#000000;stroke-width:2.0px;stroke-linecap:butt;stroke-linejoin:miter;stroke-opacity:1\"/>\n",
       "<path class=\"bond-5 atom-5 atom-6\" d=\"M 359.0,127.4 L 370.6,52.6\" style=\"fill:none;fill-rule:evenodd;stroke:#000000;stroke-width:2.0px;stroke-linecap:butt;stroke-linejoin:miter;stroke-opacity:1\"/>\n",
       "<path class=\"bond-5 atom-5 atom-6\" d=\"M 371.3,122.7 L 380.8,60.8\" style=\"fill:none;fill-rule:evenodd;stroke:#000000;stroke-width:2.0px;stroke-linecap:butt;stroke-linejoin:miter;stroke-opacity:1\"/>\n",
       "<path class=\"bond-6 atom-6 atom-7\" d=\"M 370.6,52.6 L 441.2,25.1\" style=\"fill:none;fill-rule:evenodd;stroke:#000000;stroke-width:2.0px;stroke-linecap:butt;stroke-linejoin:miter;stroke-opacity:1\"/>\n",
       "<path class=\"bond-7 atom-7 atom-8\" d=\"M 441.2,25.1 L 500.3,72.6\" style=\"fill:none;fill-rule:evenodd;stroke:#000000;stroke-width:2.0px;stroke-linecap:butt;stroke-linejoin:miter;stroke-opacity:1\"/>\n",
       "<path class=\"bond-7 atom-7 atom-8\" d=\"M 439.2,38.1 L 488.0,77.3\" style=\"fill:none;fill-rule:evenodd;stroke:#000000;stroke-width:2.0px;stroke-linecap:butt;stroke-linejoin:miter;stroke-opacity:1\"/>\n",
       "<path class=\"bond-8 atom-8 atom-9\" d=\"M 500.3,72.6 L 488.7,147.4\" style=\"fill:none;fill-rule:evenodd;stroke:#000000;stroke-width:2.0px;stroke-linecap:butt;stroke-linejoin:miter;stroke-opacity:1\"/>\n",
       "<path class=\"bond-9 atom-9 atom-10\" d=\"M 488.7,147.4 L 418.1,174.9\" style=\"fill:none;fill-rule:evenodd;stroke:#000000;stroke-width:2.0px;stroke-linecap:butt;stroke-linejoin:miter;stroke-opacity:1\"/>\n",
       "<path class=\"bond-9 atom-9 atom-10\" d=\"M 478.5,139.2 L 420.1,161.9\" style=\"fill:none;fill-rule:evenodd;stroke:#000000;stroke-width:2.0px;stroke-linecap:butt;stroke-linejoin:miter;stroke-opacity:1\"/>\n",
       "<path class=\"bond-10 atom-10 atom-5\" d=\"M 418.1,174.9 L 359.0,127.4\" style=\"fill:none;fill-rule:evenodd;stroke:#000000;stroke-width:2.0px;stroke-linecap:butt;stroke-linejoin:miter;stroke-opacity:1\"/>\n",
       "<path d=\"M 227.9,107.9 L 229.4,107.4 L 232.3,109.7\" style=\"fill:none;stroke:#000000;stroke-width:2.0px;stroke-linecap:butt;stroke-linejoin:miter;stroke-opacity:1;\"/>\n",
       "<path d=\"M 285.5,152.4 L 288.4,154.8 L 292.0,153.4\" style=\"fill:none;stroke:#000000;stroke-width:2.0px;stroke-linecap:butt;stroke-linejoin:miter;stroke-opacity:1;\"/>\n",
       "<path d=\"M 370.0,56.3 L 370.6,52.6 L 374.1,51.2\" style=\"fill:none;stroke:#000000;stroke-width:2.0px;stroke-linecap:butt;stroke-linejoin:miter;stroke-opacity:1;\"/>\n",
       "<path d=\"M 437.7,26.5 L 441.2,25.1 L 444.2,27.5\" style=\"fill:none;stroke:#000000;stroke-width:2.0px;stroke-linecap:butt;stroke-linejoin:miter;stroke-opacity:1;\"/>\n",
       "<path d=\"M 497.3,70.2 L 500.3,72.6 L 499.7,76.3\" style=\"fill:none;stroke:#000000;stroke-width:2.0px;stroke-linecap:butt;stroke-linejoin:miter;stroke-opacity:1;\"/>\n",
       "<path d=\"M 489.3,143.7 L 488.7,147.4 L 485.2,148.8\" style=\"fill:none;stroke:#000000;stroke-width:2.0px;stroke-linecap:butt;stroke-linejoin:miter;stroke-opacity:1;\"/>\n",
       "<path d=\"M 421.6,173.5 L 418.1,174.9 L 415.1,172.5\" style=\"fill:none;stroke:#000000;stroke-width:2.0px;stroke-linecap:butt;stroke-linejoin:miter;stroke-opacity:1;\"/>\n",
       "<path class=\"atom-1\" d=\"M 148.9 134.8 Q 148.9 129.7, 151.5 126.8 Q 154.0 123.9, 158.8 123.9 Q 163.5 123.9, 166.1 126.8 Q 168.6 129.7, 168.6 134.8 Q 168.6 140.1, 166.1 143.0 Q 163.5 146.0, 158.8 146.0 Q 154.1 146.0, 151.5 143.0 Q 148.9 140.1, 148.9 134.8 M 158.8 143.5 Q 162.1 143.5, 163.8 141.4 Q 165.6 139.1, 165.6 134.8 Q 165.6 130.6, 163.8 128.5 Q 162.1 126.4, 158.8 126.4 Q 155.5 126.4, 153.7 128.5 Q 152.0 130.6, 152.0 134.8 Q 152.0 139.2, 153.7 141.4 Q 155.5 143.5, 158.8 143.5 \" fill=\"#FF0000\"/>\n",
       "<path class=\"atom-3\" d=\"M 231.1 32.6 Q 231.1 27.4, 233.7 24.6 Q 236.2 21.7, 241.0 21.7 Q 245.7 21.7, 248.3 24.6 Q 250.8 27.4, 250.8 32.6 Q 250.8 37.8, 248.2 40.8 Q 245.7 43.7, 241.0 43.7 Q 236.2 43.7, 233.7 40.8 Q 231.1 37.8, 231.1 32.6 M 241.0 41.3 Q 244.2 41.3, 246.0 39.1 Q 247.8 36.9, 247.8 32.6 Q 247.8 28.4, 246.0 26.3 Q 244.2 24.1, 241.0 24.1 Q 237.7 24.1, 235.9 26.2 Q 234.1 28.3, 234.1 32.6 Q 234.1 36.9, 235.9 39.1 Q 237.7 41.3, 241.0 41.3 \" fill=\"#FF0000\"/>\n",
       "<rect x=\"1\" y=\"5\" width=\"18.0\" height=\"18.0\" fill=\"rgb(31, 119, 179)\"/><text x=\"19.200000000000003\" y=\"20\" font-family=\"Helvetica\" font-size=\"12\" fill=\"black\">CH3: 1</text><rect x=\"1\" y=\"30\" width=\"18.0\" height=\"18.0\" fill=\"rgb(255, 127, 13)\"/><text x=\"19.200000000000003\" y=\"45\" font-family=\"Helvetica\" font-size=\"12\" fill=\"black\">ACH: 5</text><rect x=\"1\" y=\"55\" width=\"18.0\" height=\"18.0\" fill=\"rgb(44, 159, 44)\"/><text x=\"19.200000000000003\" y=\"70\" font-family=\"Helvetica\" font-size=\"12\" fill=\"black\">ACCH2: 1</text><rect x=\"1\" y=\"80\" width=\"18.0\" height=\"18.0\" fill=\"rgb(214, 39, 40)\"/><text x=\"19.200000000000003\" y=\"95\" font-family=\"Helvetica\" font-size=\"12\" fill=\"black\">COO: 1</text><text x=\"300.0\" y=\"40\" font-family=\"Helvetica\" font-size=\"12\" font-weight=\"bold\" fill=\"black\" text-anchor=\"middle\"/></svg>"
      ],
      "text/plain": [
       "<IPython.core.display.SVG object>"
      ]
     },
     "execution_count": 6,
     "metadata": {},
     "output_type": "execute_result"
    }
   ],
   "source": [
    "coso[1].draw(width=600)"
   ]
  },
  {
   "cell_type": "code",
   "execution_count": 23,
   "metadata": {},
   "outputs": [
    {
     "name": "stdout",
     "output_type": "stream",
     "text": [
      "7.12 ms ± 50.4 μs per loop (mean ± std. dev. of 7 runs, 100 loops each)\n"
     ]
    }
   ],
   "source": [
    "dios = unifac.get_groups(\"C13=C(C(=C(C(=C1C)C)CC2=C(C(=C(C(=C2C)CC)O[H])N([H])[H])C)C)CCCC3\", \"smiles\")[0]"
   ]
  },
  {
   "cell_type": "code",
   "execution_count": 24,
   "metadata": {},
   "outputs": [
    {
     "data": {
      "image/svg+xml": [
       "<svg xmlns=\"http://www.w3.org/2000/svg\" xmlns:rdkit=\"http://www.rdkit.org/xml\" xmlns:xlink=\"http://www.w3.org/1999/xlink\" version=\"1.1\" baseProfile=\"full\" xml:space=\"preserve\" width=\"1000px\" height=\"450px\" viewBox=\"0 0 1000 450\">\n",
       "<!-- END OF HEADER -->\n",
       "<rect style=\"opacity:1.0;fill:#FFFFFF;stroke:none\" width=\"1000.0\" height=\"450.0\" x=\"0.0\" y=\"0.0\"> </rect>\n",
       "<ellipse cx=\"701.7\" cy=\"196.4\" rx=\"17.5\" ry=\"17.5\" class=\"atom-0\" style=\"fill:#9467BDA5;fill-rule:evenodd;stroke:#9467BDA5;stroke-width:1.0px;stroke-linecap:butt;stroke-linejoin:miter;stroke-opacity:1\"/>\n",
       "<ellipse cx=\"696.4\" cy=\"283.7\" rx=\"17.5\" ry=\"17.5\" class=\"atom-1\" style=\"fill:#9467BDA5;fill-rule:evenodd;stroke:#9467BDA5;stroke-width:1.0px;stroke-linecap:butt;stroke-linejoin:miter;stroke-opacity:1\"/>\n",
       "<ellipse cx=\"618.2\" cy=\"322.7\" rx=\"17.5\" ry=\"17.5\" class=\"atom-2\" style=\"fill:#D62728A5;fill-rule:evenodd;stroke:#D62728A5;stroke-width:1.0px;stroke-linecap:butt;stroke-linejoin:miter;stroke-opacity:1\"/>\n",
       "<ellipse cx=\"545.2\" cy=\"274.5\" rx=\"17.5\" ry=\"17.5\" class=\"atom-3\" style=\"fill:#2CA02CA5;fill-rule:evenodd;stroke:#2CA02CA5;stroke-width:1.0px;stroke-linecap:butt;stroke-linejoin:miter;stroke-opacity:1\"/>\n",
       "<ellipse cx=\"550.5\" cy=\"187.2\" rx=\"17.5\" ry=\"17.5\" class=\"atom-4\" style=\"fill:#D62728A5;fill-rule:evenodd;stroke:#D62728A5;stroke-width:1.0px;stroke-linecap:butt;stroke-linejoin:miter;stroke-opacity:1\"/>\n",
       "<ellipse cx=\"628.7\" cy=\"148.2\" rx=\"17.5\" ry=\"17.5\" class=\"atom-5\" style=\"fill:#D62728A5;fill-rule:evenodd;stroke:#D62728A5;stroke-width:1.0px;stroke-linecap:butt;stroke-linejoin:miter;stroke-opacity:1\"/>\n",
       "<ellipse cx=\"634.0\" cy=\"60.9\" rx=\"17.5\" ry=\"17.5\" class=\"atom-6\" style=\"fill:#D62728A5;fill-rule:evenodd;stroke:#D62728A5;stroke-width:1.0px;stroke-linecap:butt;stroke-linejoin:miter;stroke-opacity:1\"/>\n",
       "<ellipse cx=\"502.0\" cy=\"145.9\" rx=\"17.5\" ry=\"17.5\" class=\"atom-7\" style=\"fill:#D62728A5;fill-rule:evenodd;stroke:#D62728A5;stroke-width:1.0px;stroke-linecap:butt;stroke-linejoin:miter;stroke-opacity:1\"/>\n",
       "<ellipse cx=\"467.0\" cy=\"313.6\" rx=\"17.5\" ry=\"17.5\" class=\"atom-8\" style=\"fill:#9467BDA5;fill-rule:evenodd;stroke:#9467BDA5;stroke-width:1.0px;stroke-linecap:butt;stroke-linejoin:miter;stroke-opacity:1\"/>\n",
       "<ellipse cx=\"394.1\" cy=\"265.3\" rx=\"17.5\" ry=\"17.5\" class=\"atom-9\" style=\"fill:#9467BDA5;fill-rule:evenodd;stroke:#9467BDA5;stroke-width:1.0px;stroke-linecap:butt;stroke-linejoin:miter;stroke-opacity:1\"/>\n",
       "<ellipse cx=\"399.4\" cy=\"178.1\" rx=\"17.5\" ry=\"17.5\" class=\"atom-10\" style=\"fill:#D62728A5;fill-rule:evenodd;stroke:#D62728A5;stroke-width:1.0px;stroke-linecap:butt;stroke-linejoin:miter;stroke-opacity:1\"/>\n",
       "<ellipse cx=\"326.4\" cy=\"129.8\" rx=\"17.5\" ry=\"17.5\" class=\"atom-11\" style=\"fill:#E377C2A5;fill-rule:evenodd;stroke:#E377C2A5;stroke-width:1.0px;stroke-linecap:butt;stroke-linejoin:miter;stroke-opacity:1\"/>\n",
       "<ellipse cx=\"248.2\" cy=\"168.9\" rx=\"17.5\" ry=\"17.5\" class=\"atom-12\" style=\"fill:#8C564BA5;fill-rule:evenodd;stroke:#8C564BA5;stroke-width:1.0px;stroke-linecap:butt;stroke-linejoin:miter;stroke-opacity:1\"/>\n",
       "<ellipse cx=\"242.9\" cy=\"256.2\" rx=\"17.5\" ry=\"17.5\" class=\"atom-13\" style=\"fill:#9467BDA5;fill-rule:evenodd;stroke:#9467BDA5;stroke-width:1.0px;stroke-linecap:butt;stroke-linejoin:miter;stroke-opacity:1\"/>\n",
       "<ellipse cx=\"315.8\" cy=\"304.4\" rx=\"17.5\" ry=\"17.5\" class=\"atom-14\" style=\"fill:#D62728A5;fill-rule:evenodd;stroke:#D62728A5;stroke-width:1.0px;stroke-linecap:butt;stroke-linejoin:miter;stroke-opacity:1\"/>\n",
       "<ellipse cx=\"310.5\" cy=\"391.7\" rx=\"17.5\" ry=\"17.5\" class=\"atom-15\" style=\"fill:#D62728A5;fill-rule:evenodd;stroke:#D62728A5;stroke-width:1.0px;stroke-linecap:butt;stroke-linejoin:miter;stroke-opacity:1\"/>\n",
       "<ellipse cx=\"164.7\" cy=\"295.2\" rx=\"17.5\" ry=\"17.5\" class=\"atom-16\" style=\"fill:#9467BDA5;fill-rule:evenodd;stroke:#9467BDA5;stroke-width:1.0px;stroke-linecap:butt;stroke-linejoin:miter;stroke-opacity:1\"/>\n",
       "<ellipse cx=\"159.4\" cy=\"382.5\" rx=\"17.5\" ry=\"17.5\" class=\"atom-17\" style=\"fill:#1F77B4A5;fill-rule:evenodd;stroke:#1F77B4A5;stroke-width:1.0px;stroke-linecap:butt;stroke-linejoin:miter;stroke-opacity:1\"/>\n",
       "<ellipse cx=\"163.0\" cy=\"120.9\" rx=\"33.4\" ry=\"18.0\" class=\"atom-18\" style=\"fill:#8C564BA5;fill-rule:evenodd;stroke:#8C564BA5;stroke-width:1.0px;stroke-linecap:butt;stroke-linejoin:miter;stroke-opacity:1\"/>\n",
       "<ellipse cx=\"351.7\" cy=\"48.8\" rx=\"41.5\" ry=\"26.3\" class=\"atom-19\" style=\"fill:#E377C2A5;fill-rule:evenodd;stroke:#E377C2A5;stroke-width:1.0px;stroke-linecap:butt;stroke-linejoin:miter;stroke-opacity:1\"/>\n",
       "<ellipse cx=\"452.5\" cy=\"142.9\" rx=\"17.5\" ry=\"17.5\" class=\"atom-20\" style=\"fill:#D62728A5;fill-rule:evenodd;stroke:#D62728A5;stroke-width:1.0px;stroke-linecap:butt;stroke-linejoin:miter;stroke-opacity:1\"/>\n",
       "<ellipse cx=\"612.9\" cy=\"410.0\" rx=\"17.5\" ry=\"17.5\" class=\"atom-21\" style=\"fill:#D62728A5;fill-rule:evenodd;stroke:#D62728A5;stroke-width:1.0px;stroke-linecap:butt;stroke-linejoin:miter;stroke-opacity:1\"/>\n",
       "<ellipse cx=\"769.3\" cy=\"331.9\" rx=\"17.5\" ry=\"17.5\" class=\"atom-22\" style=\"fill:#9467BDA5;fill-rule:evenodd;stroke:#9467BDA5;stroke-width:1.0px;stroke-linecap:butt;stroke-linejoin:miter;stroke-opacity:1\"/>\n",
       "<ellipse cx=\"847.5\" cy=\"292.9\" rx=\"17.5\" ry=\"17.5\" class=\"atom-23\" style=\"fill:#FF7F0EA5;fill-rule:evenodd;stroke:#FF7F0EA5;stroke-width:1.0px;stroke-linecap:butt;stroke-linejoin:miter;stroke-opacity:1\"/>\n",
       "<ellipse cx=\"852.8\" cy=\"205.6\" rx=\"17.5\" ry=\"17.5\" class=\"atom-24\" style=\"fill:#FF7F0EA5;fill-rule:evenodd;stroke:#FF7F0EA5;stroke-width:1.0px;stroke-linecap:butt;stroke-linejoin:miter;stroke-opacity:1\"/>\n",
       "<ellipse cx=\"779.9\" cy=\"157.4\" rx=\"17.5\" ry=\"17.5\" class=\"atom-25\" style=\"fill:#9467BDA5;fill-rule:evenodd;stroke:#9467BDA5;stroke-width:1.0px;stroke-linecap:butt;stroke-linejoin:miter;stroke-opacity:1\"/>\n",
       "<path class=\"bond-0 atom-0 atom-1\" d=\"M 701.7,196.4 L 696.4,283.7\" style=\"fill:none;fill-rule:evenodd;stroke:#000000;stroke-width:2.0px;stroke-linecap:butt;stroke-linejoin:miter;stroke-opacity:1\"/>\n",
       "<path class=\"bond-1 atom-1 atom-2\" d=\"M 696.4,283.7 L 618.2,322.7\" style=\"fill:none;fill-rule:evenodd;stroke:#000000;stroke-width:2.0px;stroke-linecap:butt;stroke-linejoin:miter;stroke-opacity:1\"/>\n",
       "<path class=\"bond-1 atom-1 atom-2\" d=\"M 684.0,275.5 L 619.1,307.9\" style=\"fill:none;fill-rule:evenodd;stroke:#000000;stroke-width:2.0px;stroke-linecap:butt;stroke-linejoin:miter;stroke-opacity:1\"/>\n",
       "<path class=\"bond-2 atom-2 atom-3\" d=\"M 618.2,322.7 L 545.2,274.5\" style=\"fill:none;fill-rule:evenodd;stroke:#000000;stroke-width:2.0px;stroke-linecap:butt;stroke-linejoin:miter;stroke-opacity:1\"/>\n",
       "<path class=\"bond-3 atom-3 atom-4\" d=\"M 545.2,274.5 L 550.5,187.2\" style=\"fill:none;fill-rule:evenodd;stroke:#000000;stroke-width:2.0px;stroke-linecap:butt;stroke-linejoin:miter;stroke-opacity:1\"/>\n",
       "<path class=\"bond-3 atom-3 atom-4\" d=\"M 558.5,267.9 L 562.9,195.4\" style=\"fill:none;fill-rule:evenodd;stroke:#000000;stroke-width:2.0px;stroke-linecap:butt;stroke-linejoin:miter;stroke-opacity:1\"/>\n",
       "<path class=\"bond-4 atom-4 atom-5\" d=\"M 550.5,187.2 L 628.7,148.2\" style=\"fill:none;fill-rule:evenodd;stroke:#000000;stroke-width:2.0px;stroke-linecap:butt;stroke-linejoin:miter;stroke-opacity:1\"/>\n",
       "<path class=\"bond-5 atom-5 atom-6\" d=\"M 628.7,148.2 L 634.0,60.9\" style=\"fill:none;fill-rule:evenodd;stroke:#000000;stroke-width:2.0px;stroke-linecap:butt;stroke-linejoin:miter;stroke-opacity:1\"/>\n",
       "<path class=\"bond-6 atom-4 atom-7\" d=\"M 550.5,187.2 L 502.0,145.9\" style=\"fill:none;fill-rule:evenodd;stroke:#000000;stroke-width:2.0px;stroke-linecap:butt;stroke-linejoin:miter;stroke-opacity:1\"/>\n",
       "<path class=\"bond-7 atom-3 atom-8\" d=\"M 545.2,274.5 L 467.0,313.6\" style=\"fill:none;fill-rule:evenodd;stroke:#000000;stroke-width:2.0px;stroke-linecap:butt;stroke-linejoin:miter;stroke-opacity:1\"/>\n",
       "<path class=\"bond-8 atom-8 atom-9\" d=\"M 467.0,313.6 L 394.1,265.3\" style=\"fill:none;fill-rule:evenodd;stroke:#000000;stroke-width:2.0px;stroke-linecap:butt;stroke-linejoin:miter;stroke-opacity:1\"/>\n",
       "<path class=\"bond-9 atom-9 atom-10\" d=\"M 394.1,265.3 L 399.4,178.1\" style=\"fill:none;fill-rule:evenodd;stroke:#000000;stroke-width:2.0px;stroke-linecap:butt;stroke-linejoin:miter;stroke-opacity:1\"/>\n",
       "<path class=\"bond-9 atom-9 atom-10\" d=\"M 381.7,257.2 L 386.1,184.7\" style=\"fill:none;fill-rule:evenodd;stroke:#000000;stroke-width:2.0px;stroke-linecap:butt;stroke-linejoin:miter;stroke-opacity:1\"/>\n",
       "<path class=\"bond-10 atom-10 atom-11\" d=\"M 399.4,178.1 L 326.4,129.8\" style=\"fill:none;fill-rule:evenodd;stroke:#000000;stroke-width:2.0px;stroke-linecap:butt;stroke-linejoin:miter;stroke-opacity:1\"/>\n",
       "<path class=\"bond-11 atom-11 atom-12\" d=\"M 326.4,129.8 L 248.2,168.9\" style=\"fill:none;fill-rule:evenodd;stroke:#000000;stroke-width:2.0px;stroke-linecap:butt;stroke-linejoin:miter;stroke-opacity:1\"/>\n",
       "<path class=\"bond-11 atom-11 atom-12\" d=\"M 325.5,144.7 L 260.6,177.1\" style=\"fill:none;fill-rule:evenodd;stroke:#000000;stroke-width:2.0px;stroke-linecap:butt;stroke-linejoin:miter;stroke-opacity:1\"/>\n",
       "<path class=\"bond-12 atom-12 atom-13\" d=\"M 248.2,168.9 L 242.9,256.2\" style=\"fill:none;fill-rule:evenodd;stroke:#000000;stroke-width:2.0px;stroke-linecap:butt;stroke-linejoin:miter;stroke-opacity:1\"/>\n",
       "<path class=\"bond-13 atom-13 atom-14\" d=\"M 242.9,256.2 L 315.8,304.4\" style=\"fill:none;fill-rule:evenodd;stroke:#000000;stroke-width:2.0px;stroke-linecap:butt;stroke-linejoin:miter;stroke-opacity:1\"/>\n",
       "<path class=\"bond-13 atom-13 atom-14\" d=\"M 256.2,249.5 L 316.7,289.6\" style=\"fill:none;fill-rule:evenodd;stroke:#000000;stroke-width:2.0px;stroke-linecap:butt;stroke-linejoin:miter;stroke-opacity:1\"/>\n",
       "<path class=\"bond-14 atom-14 atom-15\" d=\"M 315.8,304.4 L 310.5,391.7\" style=\"fill:none;fill-rule:evenodd;stroke:#000000;stroke-width:2.0px;stroke-linecap:butt;stroke-linejoin:miter;stroke-opacity:1\"/>\n",
       "<path class=\"bond-15 atom-13 atom-16\" d=\"M 242.9,256.2 L 164.7,295.2\" style=\"fill:none;fill-rule:evenodd;stroke:#000000;stroke-width:2.0px;stroke-linecap:butt;stroke-linejoin:miter;stroke-opacity:1\"/>\n",
       "<path class=\"bond-16 atom-16 atom-17\" d=\"M 164.7,295.2 L 159.4,382.5\" style=\"fill:none;fill-rule:evenodd;stroke:#000000;stroke-width:2.0px;stroke-linecap:butt;stroke-linejoin:miter;stroke-opacity:1\"/>\n",
       "<path class=\"bond-17 atom-12 atom-18\" d=\"M 248.2,168.9 L 218.8,149.5\" style=\"fill:none;fill-rule:evenodd;stroke:#000000;stroke-width:2.0px;stroke-linecap:butt;stroke-linejoin:miter;stroke-opacity:1\"/>\n",
       "<path class=\"bond-17 atom-12 atom-18\" d=\"M 218.8,149.5 L 189.5,130.1\" style=\"fill:none;fill-rule:evenodd;stroke:#FF0000;stroke-width:2.0px;stroke-linecap:butt;stroke-linejoin:miter;stroke-opacity:1\"/>\n",
       "<path class=\"bond-18 atom-11 atom-19\" d=\"M 326.4,129.8 L 328.6,93.8\" style=\"fill:none;fill-rule:evenodd;stroke:#000000;stroke-width:2.0px;stroke-linecap:butt;stroke-linejoin:miter;stroke-opacity:1\"/>\n",
       "<path class=\"bond-18 atom-11 atom-19\" d=\"M 328.6,93.8 L 330.8,57.8\" style=\"fill:none;fill-rule:evenodd;stroke:#0000FF;stroke-width:2.0px;stroke-linecap:butt;stroke-linejoin:miter;stroke-opacity:1\"/>\n",
       "<path class=\"bond-19 atom-10 atom-20\" d=\"M 399.4,178.1 L 452.5,142.9\" style=\"fill:none;fill-rule:evenodd;stroke:#000000;stroke-width:2.0px;stroke-linecap:butt;stroke-linejoin:miter;stroke-opacity:1\"/>\n",
       "<path class=\"bond-20 atom-2 atom-21\" d=\"M 618.2,322.7 L 612.9,410.0\" style=\"fill:none;fill-rule:evenodd;stroke:#000000;stroke-width:2.0px;stroke-linecap:butt;stroke-linejoin:miter;stroke-opacity:1\"/>\n",
       "<path class=\"bond-21 atom-1 atom-22\" d=\"M 696.4,283.7 L 769.3,331.9\" style=\"fill:none;fill-rule:evenodd;stroke:#000000;stroke-width:2.0px;stroke-linecap:butt;stroke-linejoin:miter;stroke-opacity:1\"/>\n",
       "<path class=\"bond-22 atom-22 atom-23\" d=\"M 769.3,331.9 L 847.5,292.9\" style=\"fill:none;fill-rule:evenodd;stroke:#000000;stroke-width:2.0px;stroke-linecap:butt;stroke-linejoin:miter;stroke-opacity:1\"/>\n",
       "<path class=\"bond-23 atom-23 atom-24\" d=\"M 847.5,292.9 L 852.8,205.6\" style=\"fill:none;fill-rule:evenodd;stroke:#000000;stroke-width:2.0px;stroke-linecap:butt;stroke-linejoin:miter;stroke-opacity:1\"/>\n",
       "<path class=\"bond-24 atom-24 atom-25\" d=\"M 852.8,205.6 L 779.9,157.4\" style=\"fill:none;fill-rule:evenodd;stroke:#000000;stroke-width:2.0px;stroke-linecap:butt;stroke-linejoin:miter;stroke-opacity:1\"/>\n",
       "<path class=\"bond-25 atom-5 atom-0\" d=\"M 628.7,148.2 L 701.7,196.4\" style=\"fill:none;fill-rule:evenodd;stroke:#000000;stroke-width:2.0px;stroke-linecap:butt;stroke-linejoin:miter;stroke-opacity:1\"/>\n",
       "<path class=\"bond-25 atom-5 atom-0\" d=\"M 627.8,163.0 L 688.4,203.1\" style=\"fill:none;fill-rule:evenodd;stroke:#000000;stroke-width:2.0px;stroke-linecap:butt;stroke-linejoin:miter;stroke-opacity:1\"/>\n",
       "<path class=\"bond-26 atom-14 atom-9\" d=\"M 315.8,304.4 L 394.1,265.3\" style=\"fill:none;fill-rule:evenodd;stroke:#000000;stroke-width:2.0px;stroke-linecap:butt;stroke-linejoin:miter;stroke-opacity:1\"/>\n",
       "<path class=\"bond-27 atom-25 atom-0\" d=\"M 779.9,157.4 L 701.7,196.4\" style=\"fill:none;fill-rule:evenodd;stroke:#000000;stroke-width:2.0px;stroke-linecap:butt;stroke-linejoin:miter;stroke-opacity:1\"/>\n",
       "<path d=\"M 470.9,311.6 L 467.0,313.6 L 463.3,311.2\" style=\"fill:none;stroke:#000000;stroke-width:2.0px;stroke-linecap:butt;stroke-linejoin:miter;stroke-opacity:1;\"/>\n",
       "<path d=\"M 168.6,293.3 L 164.7,295.2 L 164.4,299.6\" style=\"fill:none;stroke:#000000;stroke-width:2.0px;stroke-linecap:butt;stroke-linejoin:miter;stroke-opacity:1;\"/>\n",
       "<path d=\"M 765.7,329.5 L 769.3,331.9 L 773.2,330.0\" style=\"fill:none;stroke:#000000;stroke-width:2.0px;stroke-linecap:butt;stroke-linejoin:miter;stroke-opacity:1;\"/>\n",
       "<path d=\"M 843.6,294.8 L 847.5,292.9 L 847.8,288.5\" style=\"fill:none;stroke:#000000;stroke-width:2.0px;stroke-linecap:butt;stroke-linejoin:miter;stroke-opacity:1;\"/>\n",
       "<path d=\"M 852.6,210.0 L 852.8,205.6 L 849.2,203.2\" style=\"fill:none;stroke:#000000;stroke-width:2.0px;stroke-linecap:butt;stroke-linejoin:miter;stroke-opacity:1;\"/>\n",
       "<path d=\"M 783.6,159.8 L 779.9,157.4 L 776.0,159.3\" style=\"fill:none;stroke:#000000;stroke-width:2.0px;stroke-linecap:butt;stroke-linejoin:miter;stroke-opacity:1;\"/>\n",
       "<path class=\"atom-18\" d=\"M 139.4 108.4 L 142.8 108.4 L 142.8 119.0 L 155.5 119.0 L 155.5 108.4 L 158.8 108.4 L 158.8 133.2 L 155.5 133.2 L 155.5 121.8 L 142.8 121.8 L 142.8 133.2 L 139.4 133.2 L 139.4 108.4 \" fill=\"#FF0000\"/>\n",
       "<path class=\"atom-18\" d=\"M 163.9 120.7 Q 163.9 114.8, 166.8 111.5 Q 169.8 108.2, 175.3 108.2 Q 180.8 108.2, 183.7 111.5 Q 186.6 114.8, 186.6 120.7 Q 186.6 126.8, 183.7 130.2 Q 180.7 133.6, 175.3 133.6 Q 169.8 133.6, 166.8 130.2 Q 163.9 126.8, 163.9 120.7 M 175.3 130.8 Q 179.0 130.8, 181.1 128.3 Q 183.1 125.7, 183.1 120.7 Q 183.1 115.9, 181.1 113.4 Q 179.0 110.9, 175.3 110.9 Q 171.5 110.9, 169.4 113.4 Q 167.4 115.8, 167.4 120.7 Q 167.4 125.7, 169.4 128.3 Q 171.5 130.8, 175.3 130.8 \" fill=\"#FF0000\"/>\n",
       "<path class=\"atom-19\" d=\"M 326.2 30.2 L 334.4 43.3 Q 335.2 44.6, 336.5 46.9 Q 337.8 49.3, 337.8 49.4 L 337.8 30.2 L 341.1 30.2 L 341.1 55.0 L 337.7 55.0 L 329.0 40.6 Q 328.0 38.9, 326.9 37.0 Q 325.9 35.1, 325.6 34.5 L 325.6 55.0 L 322.3 55.0 L 322.3 30.2 L 326.2 30.2 \" fill=\"#0000FF\"/>\n",
       "<path class=\"atom-19\" d=\"M 345.8 30.2 L 349.2 30.2 L 349.2 40.7 L 361.9 40.7 L 361.9 30.2 L 365.2 30.2 L 365.2 55.0 L 361.9 55.0 L 361.9 43.5 L 349.2 43.5 L 349.2 55.0 L 345.8 55.0 L 345.8 30.2 \" fill=\"#0000FF\"/>\n",
       "<path class=\"atom-19\" d=\"M 370.1 54.1 Q 370.7 52.5, 372.1 51.7 Q 373.5 50.8, 375.5 50.8 Q 378.0 50.8, 379.4 52.1 Q 380.8 53.5, 380.8 55.9 Q 380.8 58.3, 379.0 60.5 Q 377.2 62.8, 373.5 65.5 L 381.0 65.5 L 381.0 67.3 L 370.0 67.3 L 370.0 65.8 Q 373.1 63.6, 374.9 62.0 Q 376.7 60.4, 377.6 58.9 Q 378.4 57.5, 378.4 56.0 Q 378.4 54.4, 377.7 53.5 Q 376.9 52.7, 375.5 52.7 Q 374.2 52.7, 373.3 53.2 Q 372.4 53.7, 371.8 54.9 L 370.1 54.1 \" fill=\"#0000FF\"/>\n",
       "<rect x=\"1\" y=\"5\" width=\"21.0\" height=\"21.0\" fill=\"rgb(31, 119, 179)\"/><text x=\"22.400000000000002\" y=\"20\" font-family=\"Helvetica\" font-size=\"14\" fill=\"black\">CH3: 1</text><rect x=\"1\" y=\"30\" width=\"21.0\" height=\"21.0\" fill=\"rgb(255, 127, 13)\"/><text x=\"22.400000000000002\" y=\"45\" font-family=\"Helvetica\" font-size=\"14\" fill=\"black\">CH2: 2</text><rect x=\"1\" y=\"55\" width=\"21.0\" height=\"21.0\" fill=\"rgb(44, 159, 44)\"/><text x=\"22.400000000000002\" y=\"70\" font-family=\"Helvetica\" font-size=\"14\" fill=\"black\">AC: 1</text><rect x=\"1\" y=\"80\" width=\"21.0\" height=\"21.0\" fill=\"rgb(214, 39, 40)\"/><text x=\"22.400000000000002\" y=\"95\" font-family=\"Helvetica\" font-size=\"14\" fill=\"black\">ACCH3: 5</text><rect x=\"1\" y=\"105\" width=\"21.0\" height=\"21.0\" fill=\"rgb(148, 103, 188)\"/><text x=\"22.400000000000002\" y=\"120\" font-family=\"Helvetica\" font-size=\"14\" fill=\"black\">ACCH2: 4</text><rect x=\"1\" y=\"130\" width=\"21.0\" height=\"21.0\" fill=\"rgb(140, 85, 75)\"/><text x=\"22.400000000000002\" y=\"145\" font-family=\"Helvetica\" font-size=\"14\" fill=\"black\">ACOH: 1</text><rect x=\"1\" y=\"155\" width=\"21.0\" height=\"21.0\" fill=\"rgb(227, 119, 193)\"/><text x=\"22.400000000000002\" y=\"170\" font-family=\"Helvetica\" font-size=\"14\" fill=\"black\">ACNH2: 1</text><text x=\"500.0\" y=\"40\" font-family=\"Helvetica\" font-size=\"50\" font-weight=\"bold\" fill=\"black\" text-anchor=\"middle\">ugropy</text></svg>"
      ],
      "text/plain": [
       "<IPython.core.display.SVG object>"
      ]
     },
     "execution_count": 24,
     "metadata": {},
     "output_type": "execute_result"
    }
   ],
   "source": [
    "dios.draw(\n",
    "    title=\"ugropy\",\n",
    "    width=1000,\n",
    "    height=450,\n",
    "    title_font_size=50,\n",
    "    legend_font_size=14\n",
    ")"
   ]
  }
 ],
 "metadata": {
  "kernelspec": {
   "display_name": "ugropy",
   "language": "python",
   "name": "python3"
  },
  "language_info": {
   "codemirror_mode": {
    "name": "ipython",
    "version": 3
   },
   "file_extension": ".py",
   "mimetype": "text/x-python",
   "name": "python",
   "nbconvert_exporter": "python",
   "pygments_lexer": "ipython3",
   "version": "3.10.12"
  }
 },
 "nbformat": 4,
 "nbformat_minor": 2
}
