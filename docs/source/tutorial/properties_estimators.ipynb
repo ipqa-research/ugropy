{
 "cells": [
  {
   "cell_type": "markdown",
   "metadata": {},
   "source": [
    "## Properties estimators\n",
    "\n",
    "[![Open In Colab](https://colab.research.google.com/assets/colab-badge.svg)](https://colab.research.google.com/github/ipqa-research/ugropy/blob/main/docs/source/tutorial/properties_estimators.ipynb)\n",
    "\n",
    "Some group contribution models could be used to predict properties of pure\n",
    "substances.\n",
    "\n",
    "### Joback model\n",
    "\n",
    "The Joback model is a well known model to estimate properties of pure \n",
    "substances. We can use it independently of the Groups class by doing:"
   ]
  },
  {
   "cell_type": "code",
   "execution_count": 1,
   "metadata": {},
   "outputs": [],
   "source": [
    "try:\n",
    "  import google.colab\n",
    "  IN_COLAB = True\n",
    "except:\n",
    "  IN_COLAB = False\n",
    "\n",
    "\n",
    "if IN_COLAB:\n",
    "  %pip install ugropy"
   ]
  },
  {
   "cell_type": "code",
   "execution_count": 37,
   "metadata": {},
   "outputs": [],
   "source": [
    "from ugropy import joback\n",
    "\n",
    "toluene = joback.get_groups(\"toluene\")"
   ]
  },
  {
   "cell_type": "code",
   "execution_count": 38,
   "metadata": {},
   "outputs": [
    {
     "data": {
      "image/svg+xml": [
       "<svg xmlns=\"http://www.w3.org/2000/svg\" xmlns:rdkit=\"http://www.rdkit.org/xml\" xmlns:xlink=\"http://www.w3.org/1999/xlink\" version=\"1.1\" baseProfile=\"full\" xml:space=\"preserve\" width=\"400px\" height=\"200px\" viewBox=\"0 0 400 200\">\n",
       "<!-- END OF HEADER -->\n",
       "<rect style=\"opacity:1.0;fill:#FFFFFF;stroke:none\" width=\"400.0\" height=\"200.0\" x=\"0.0\" y=\"0.0\"> </rect>\n",
       "<ellipse cx=\"326.6\" cy=\"100.0\" rx=\"16.9\" ry=\"16.9\" class=\"atom-0\" style=\"fill:#1F77B4A5;fill-rule:evenodd;stroke:#1F77B4A5;stroke-width:1.0px;stroke-linecap:butt;stroke-linejoin:miter;stroke-opacity:1\"/>\n",
       "<ellipse cx=\"242.2\" cy=\"100.0\" rx=\"16.9\" ry=\"16.9\" class=\"atom-1\" style=\"fill:#2CA02CA5;fill-rule:evenodd;stroke:#2CA02CA5;stroke-width:1.0px;stroke-linecap:butt;stroke-linejoin:miter;stroke-opacity:1\"/>\n",
       "<ellipse cx=\"200.0\" cy=\"173.1\" rx=\"16.9\" ry=\"16.9\" class=\"atom-2\" style=\"fill:#FF7F0EA5;fill-rule:evenodd;stroke:#FF7F0EA5;stroke-width:1.0px;stroke-linecap:butt;stroke-linejoin:miter;stroke-opacity:1\"/>\n",
       "<ellipse cx=\"115.6\" cy=\"173.1\" rx=\"16.9\" ry=\"16.9\" class=\"atom-3\" style=\"fill:#FF7F0EA5;fill-rule:evenodd;stroke:#FF7F0EA5;stroke-width:1.0px;stroke-linecap:butt;stroke-linejoin:miter;stroke-opacity:1\"/>\n",
       "<ellipse cx=\"73.4\" cy=\"100.0\" rx=\"16.9\" ry=\"16.9\" class=\"atom-4\" style=\"fill:#FF7F0EA5;fill-rule:evenodd;stroke:#FF7F0EA5;stroke-width:1.0px;stroke-linecap:butt;stroke-linejoin:miter;stroke-opacity:1\"/>\n",
       "<ellipse cx=\"115.6\" cy=\"26.9\" rx=\"16.9\" ry=\"16.9\" class=\"atom-5\" style=\"fill:#FF7F0EA5;fill-rule:evenodd;stroke:#FF7F0EA5;stroke-width:1.0px;stroke-linecap:butt;stroke-linejoin:miter;stroke-opacity:1\"/>\n",
       "<ellipse cx=\"200.0\" cy=\"26.9\" rx=\"16.9\" ry=\"16.9\" class=\"atom-6\" style=\"fill:#FF7F0EA5;fill-rule:evenodd;stroke:#FF7F0EA5;stroke-width:1.0px;stroke-linecap:butt;stroke-linejoin:miter;stroke-opacity:1\"/>\n",
       "<path class=\"bond-0 atom-0 atom-1\" d=\"M 326.6,100.0 L 242.2,100.0\" style=\"fill:none;fill-rule:evenodd;stroke:#000000;stroke-width:2.0px;stroke-linecap:butt;stroke-linejoin:miter;stroke-opacity:1\"/>\n",
       "<path class=\"bond-1 atom-1 atom-2\" d=\"M 242.2,100.0 L 200.0,173.1\" style=\"fill:none;fill-rule:evenodd;stroke:#000000;stroke-width:2.0px;stroke-linecap:butt;stroke-linejoin:miter;stroke-opacity:1\"/>\n",
       "<path class=\"bond-1 atom-1 atom-2\" d=\"M 227.6,100.0 L 192.7,160.5\" style=\"fill:none;fill-rule:evenodd;stroke:#000000;stroke-width:2.0px;stroke-linecap:butt;stroke-linejoin:miter;stroke-opacity:1\"/>\n",
       "<path class=\"bond-2 atom-2 atom-3\" d=\"M 200.0,173.1 L 115.6,173.1\" style=\"fill:none;fill-rule:evenodd;stroke:#000000;stroke-width:2.0px;stroke-linecap:butt;stroke-linejoin:miter;stroke-opacity:1\"/>\n",
       "<path class=\"bond-3 atom-3 atom-4\" d=\"M 115.6,173.1 L 73.4,100.0\" style=\"fill:none;fill-rule:evenodd;stroke:#000000;stroke-width:2.0px;stroke-linecap:butt;stroke-linejoin:miter;stroke-opacity:1\"/>\n",
       "<path class=\"bond-3 atom-3 atom-4\" d=\"M 122.9,160.5 L 88.0,100.0\" style=\"fill:none;fill-rule:evenodd;stroke:#000000;stroke-width:2.0px;stroke-linecap:butt;stroke-linejoin:miter;stroke-opacity:1\"/>\n",
       "<path class=\"bond-4 atom-4 atom-5\" d=\"M 73.4,100.0 L 115.6,26.9\" style=\"fill:none;fill-rule:evenodd;stroke:#000000;stroke-width:2.0px;stroke-linecap:butt;stroke-linejoin:miter;stroke-opacity:1\"/>\n",
       "<path class=\"bond-5 atom-5 atom-6\" d=\"M 115.6,26.9 L 200.0,26.9\" style=\"fill:none;fill-rule:evenodd;stroke:#000000;stroke-width:2.0px;stroke-linecap:butt;stroke-linejoin:miter;stroke-opacity:1\"/>\n",
       "<path class=\"bond-5 atom-5 atom-6\" d=\"M 122.9,39.5 L 192.7,39.5\" style=\"fill:none;fill-rule:evenodd;stroke:#000000;stroke-width:2.0px;stroke-linecap:butt;stroke-linejoin:miter;stroke-opacity:1\"/>\n",
       "<path class=\"bond-6 atom-6 atom-1\" d=\"M 200.0,26.9 L 242.2,100.0\" style=\"fill:none;fill-rule:evenodd;stroke:#000000;stroke-width:2.0px;stroke-linecap:butt;stroke-linejoin:miter;stroke-opacity:1\"/>\n",
       "<path d=\"M 202.1,169.5 L 200.0,173.1 L 195.8,173.1\" style=\"fill:none;stroke:#000000;stroke-width:2.0px;stroke-linecap:butt;stroke-linejoin:miter;stroke-opacity:1;\"/>\n",
       "<path d=\"M 119.8,173.1 L 115.6,173.1 L 113.5,169.5\" style=\"fill:none;stroke:#000000;stroke-width:2.0px;stroke-linecap:butt;stroke-linejoin:miter;stroke-opacity:1;\"/>\n",
       "<path d=\"M 75.5,103.7 L 73.4,100.0 L 75.5,96.3\" style=\"fill:none;stroke:#000000;stroke-width:2.0px;stroke-linecap:butt;stroke-linejoin:miter;stroke-opacity:1;\"/>\n",
       "<path d=\"M 113.5,30.5 L 115.6,26.9 L 119.8,26.9\" style=\"fill:none;stroke:#000000;stroke-width:2.0px;stroke-linecap:butt;stroke-linejoin:miter;stroke-opacity:1;\"/>\n",
       "<path d=\"M 195.8,26.9 L 200.0,26.9 L 202.1,30.5\" style=\"fill:none;stroke:#000000;stroke-width:2.0px;stroke-linecap:butt;stroke-linejoin:miter;stroke-opacity:1;\"/>\n",
       "<rect x=\"1\" y=\"5\" width=\"18.0\" height=\"18.0\" fill=\"rgb(31, 119, 179)\"/><text x=\"19.200000000000003\" y=\"20\" font-family=\"Helvetica\" font-size=\"12\" fill=\"black\">-CH3: 1</text><rect x=\"1\" y=\"30\" width=\"18.0\" height=\"18.0\" fill=\"rgb(255, 127, 13)\"/><text x=\"19.200000000000003\" y=\"45\" font-family=\"Helvetica\" font-size=\"12\" fill=\"black\">ring=CH-: 5</text><rect x=\"1\" y=\"55\" width=\"18.0\" height=\"18.0\" fill=\"rgb(44, 159, 44)\"/><text x=\"19.200000000000003\" y=\"70\" font-family=\"Helvetica\" font-size=\"12\" fill=\"black\">ring=C&lt;: 1</text><text x=\"200.0\" y=\"40\" font-family=\"Helvetica\" font-size=\"12\" font-weight=\"bold\" fill=\"black\" text-anchor=\"middle\"/></svg>"
      ],
      "text/plain": [
       "<IPython.core.display.SVG object>"
      ]
     },
     "execution_count": 38,
     "metadata": {},
     "output_type": "execute_result"
    }
   ],
   "source": [
    "toluene.draw(width=400)"
   ]
  },
  {
   "cell_type": "code",
   "execution_count": 39,
   "metadata": {},
   "outputs": [
    {
     "name": "stdout",
     "output_type": "stream",
     "text": [
      "41.144119209325225  bar\n",
      "319.5  cm^3/mol\n",
      "598.0611700010388  K\n",
      "0.25208296412216535\n",
      "195.07  K\n"
     ]
    }
   ],
   "source": [
    "print(toluene.critical_pressure, \" bar\")\n",
    "print(toluene.critical_volume, \" cm^3/mol\")\n",
    "print(toluene.critical_temperature, \" K\")\n",
    "print(toluene.acentric_factor)\n",
    "print(toluene.fusion_temperature, \" K\")"
   ]
  },
  {
   "cell_type": "code",
   "execution_count": 40,
   "metadata": {},
   "outputs": [
    {
     "name": "stdout",
     "output_type": "stream",
     "text": [
      "0.923433500943906  bar\n"
     ]
    }
   ],
   "source": [
    "print(toluene.vapor_pressure(110 + 273.15), \" bar\")"
   ]
  },
  {
   "cell_type": "code",
   "execution_count": 43,
   "metadata": {},
   "outputs": [
    {
     "name": "stdout",
     "output_type": "stream",
     "text": [
      "0.0004848511681835698  [N/s/m^2]\n"
     ]
    }
   ],
   "source": [
    "print(toluene.viscosity_liquid(25 + 273.15), \" [N/s/m^2]\")"
   ]
  },
  {
   "cell_type": "code",
   "execution_count": 42,
   "metadata": {},
   "outputs": [
    {
     "name": "stdout",
     "output_type": "stream",
     "text": [
      "174.140191226778  [J/mol/K]\n"
     ]
    }
   ],
   "source": [
    "print(toluene.heat_capacity_liquid(50 + 273.15), \" [J/mol/K]\")"
   ]
  },
  {
   "cell_type": "markdown",
   "metadata": {},
   "source": [
    "You can check the full documentation and check all the properties you can \n",
    "estimate by doing:"
   ]
  },
  {
   "cell_type": "code",
   "execution_count": 45,
   "metadata": {},
   "outputs": [
    {
     "name": "stdout",
     "output_type": "stream",
     "text": [
      "\u001b[0;31mType:\u001b[0m        JobackFragmentationResult\n",
      "\u001b[0;31mString form:\u001b[0m <ugropy.core.frag_classes.joback.joback_result.JobackFragmentationResult object at 0x7f88edb3f2b0>\n",
      "\u001b[0;31mFile:\u001b[0m        ~/code/ugropy/ugropy/core/frag_classes/joback/joback_result.py\n",
      "\u001b[0;31mDocstring:\u001b[0m  \n",
      "Joback group contribution properties estimator.\n",
      "\n",
      "The class recieves either the Joback and Reid model's :cite:p:`joback1,\n",
      "joback2` groups, name or smiles of a molecule and estimates the its\n",
      "properties.\n",
      "\n",
      "Parameters\n",
      "----------\n",
      "molecule : Chem.rdchem.Mol\n",
      "    RDKit molecule object.\n",
      "subgroups : dict\n",
      "    Dictionary of subgroups.\n",
      "subgroups_atoms_indexes : dict\n",
      "    Dictionary of subgroups atoms indexes.\n",
      "properties_contributions : pd.DataFrame\n",
      "    DataFrame with Joback's properties contributions.\n",
      "normal_boiling_point : float, optional\n",
      "    User provided experimental normal boiling point [K].\n",
      "\n",
      "Attributes\n",
      "----------\n",
      "subgroups : dict\n",
      "    Joback functional groups of the molecule.\n",
      "experimental_boiling_temperature : float\n",
      "    User provided experimental normal boiling point [K].\n",
      "critical_temperature : float\n",
      "    Joback estimated critical temperature [K].\n",
      "critical_pressure : float\n",
      "    Joback estimated critical pressure [bar].\n",
      "critical_volume : float\n",
      "    Joback estimated critical volume [cm³/mol].\n",
      "normal_boiling_point : float\n",
      "    Joback estimated normal boiling point [K].\n",
      "fusion_temperature : float\n",
      "    Joback estimated fusion temperature [K].\n",
      "h_formation : float\n",
      "    Joback estimated enthalpy of formation ideal gas at 298 K [kJ/mol].\n",
      "g_formation : float\n",
      "    Joback estimated Gibbs energy of formation ideal gas at 298 K [K].\n",
      "heat_capacity_ideal_gas_params : dict\n",
      "    Joback estimated Reid's ideal gas heat capacity equation parameters\n",
      "    [J/mol/K].\n",
      "h_fusion : float\n",
      "    Joback estimated fusion enthalpy [kJ/mol].\n",
      "h_vaporization : float\n",
      "    Joback estimated vaporization enthalpy at the normal boiling point\n",
      "    [kJ/mol].\n",
      "sum_na : float\n",
      "    Joback n_A contribution to liquid viscosity [N/s/m²].\n",
      "sum_nb : float\n",
      "    Joback n_B contribution to liquid viscosity [N/s/m²].\n",
      "molecular_weight : float\n",
      "    Molecular weight from Joback's subgroups [g/mol].\n",
      "acentric_factor : float\n",
      "    Acentric factor from Lee and Kesler's equation :cite:p:`joback1`.\n",
      "vapor_pressure_params : dict\n",
      "    Vapor pressure G and k parameters for the Riedel-Plank-Miller\n",
      "    :cite:p:`joback1` equation [bar]."
     ]
    }
   ],
   "source": [
    "?toluene"
   ]
  },
  {
   "cell_type": "markdown",
   "metadata": {},
   "source": [
    "Joback model allows the user to provide the experimental normal boiling\n",
    "temperature of the subtance to increase the accuracy of some properties\n",
    "estimations. This value will be used instead of the Joback estimated normal\n",
    "boiling temperature to calculate some properties, for example the critical\n",
    "temperature."
   ]
  },
  {
   "cell_type": "code",
   "execution_count": 46,
   "metadata": {},
   "outputs": [],
   "source": [
    "toluene = joback.get_groups(\"toluene\", normal_boiling_point=(110.6 + 273.15))"
   ]
  },
  {
   "cell_type": "code",
   "execution_count": 47,
   "metadata": {},
   "outputs": [
    {
     "name": "stdout",
     "output_type": "stream",
     "text": [
      "593.8980798775972  K\n"
     ]
    }
   ],
   "source": [
    "print(toluene.critical_temperature, \" K\")"
   ]
  },
  {
   "cell_type": "code",
   "execution_count": 48,
   "metadata": {},
   "outputs": [
    {
     "name": "stdout",
     "output_type": "stream",
     "text": [
      "1.0132500000000007  bar\n"
     ]
    }
   ],
   "source": [
    "print(toluene.vapor_pressure(110.6 + 273.15), \" bar\")"
   ]
  }
 ],
 "metadata": {
  "kernelspec": {
   "display_name": "ugropy",
   "language": "python",
   "name": "python3"
  },
  "language_info": {
   "codemirror_mode": {
    "name": "ipython",
    "version": 3
   },
   "file_extension": ".py",
   "mimetype": "text/x-python",
   "name": "python",
   "nbconvert_exporter": "python",
   "pygments_lexer": "ipython3",
   "version": "3.10.12"
  }
 },
 "nbformat": 4,
 "nbformat_minor": 2
}
