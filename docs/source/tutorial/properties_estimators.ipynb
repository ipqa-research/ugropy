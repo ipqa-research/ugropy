{
 "cells": [
  {
   "cell_type": "markdown",
   "metadata": {},
   "source": [
    "## Properties estimators\n",
    "\n",
    "[![Open In Colab](https://colab.research.google.com/assets/colab-badge.svg)](https://colab.research.google.com/github/ipqa-research/ugropy/blob/main/docs/source/tutorial/properties_estimators.ipynb)\n",
    "\n",
    "Some group contribution models could be used to predict properties of pure\n",
    "substances.\n",
    "\n",
    "### Joback model\n",
    "\n",
    "The Joback model is a well known model to estimate properties of pure \n",
    "substances. We can use it independently of the Groups class by doing:"
   ]
  },
  {
   "cell_type": "code",
   "execution_count": 1,
   "metadata": {},
   "outputs": [],
   "source": [
    "try:\n",
    "  import google.colab\n",
    "  IN_COLAB = True\n",
    "except:\n",
    "  IN_COLAB = False\n",
    "\n",
    "\n",
    "if IN_COLAB:\n",
    "  %pip install ugropy"
   ]
  },
  {
   "cell_type": "code",
   "execution_count": 1,
   "metadata": {},
   "outputs": [],
   "source": [
    "from ugropy import joback\n",
    "\n",
    "toluene = joback.get_groups(\"toluene\")"
   ]
  },
  {
   "cell_type": "code",
   "execution_count": 2,
   "metadata": {},
   "outputs": [
    {
     "data": {
      "image/svg+xml": [
       "<svg xmlns=\"http://www.w3.org/2000/svg\" xmlns:rdkit=\"http://www.rdkit.org/xml\" xmlns:xlink=\"http://www.w3.org/1999/xlink\" version=\"1.1\" baseProfile=\"full\" xml:space=\"preserve\" width=\"400px\" height=\"200px\" viewBox=\"0 0 400 200\">\n",
       "<!-- END OF HEADER -->\n",
       "<rect style=\"opacity:1.0;fill:#FFFFFF;stroke:none\" width=\"400.0\" height=\"200.0\" x=\"0.0\" y=\"0.0\"> </rect>\n",
       "<ellipse cx=\"326.6\" cy=\"100.0\" rx=\"16.9\" ry=\"16.9\" class=\"atom-0\" style=\"fill:#1F77B4A5;fill-rule:evenodd;stroke:#1F77B4A5;stroke-width:1.0px;stroke-linecap:butt;stroke-linejoin:miter;stroke-opacity:1\"/>\n",
       "<ellipse cx=\"242.2\" cy=\"100.0\" rx=\"16.9\" ry=\"16.9\" class=\"atom-1\" style=\"fill:#2CA02CA5;fill-rule:evenodd;stroke:#2CA02CA5;stroke-width:1.0px;stroke-linecap:butt;stroke-linejoin:miter;stroke-opacity:1\"/>\n",
       "<ellipse cx=\"200.0\" cy=\"173.1\" rx=\"16.9\" ry=\"16.9\" class=\"atom-2\" style=\"fill:#FF7F0EA5;fill-rule:evenodd;stroke:#FF7F0EA5;stroke-width:1.0px;stroke-linecap:butt;stroke-linejoin:miter;stroke-opacity:1\"/>\n",
       "<ellipse cx=\"115.6\" cy=\"173.1\" rx=\"16.9\" ry=\"16.9\" class=\"atom-3\" style=\"fill:#FF7F0EA5;fill-rule:evenodd;stroke:#FF7F0EA5;stroke-width:1.0px;stroke-linecap:butt;stroke-linejoin:miter;stroke-opacity:1\"/>\n",
       "<ellipse cx=\"73.4\" cy=\"100.0\" rx=\"16.9\" ry=\"16.9\" class=\"atom-4\" style=\"fill:#FF7F0EA5;fill-rule:evenodd;stroke:#FF7F0EA5;stroke-width:1.0px;stroke-linecap:butt;stroke-linejoin:miter;stroke-opacity:1\"/>\n",
       "<ellipse cx=\"115.6\" cy=\"26.9\" rx=\"16.9\" ry=\"16.9\" class=\"atom-5\" style=\"fill:#FF7F0EA5;fill-rule:evenodd;stroke:#FF7F0EA5;stroke-width:1.0px;stroke-linecap:butt;stroke-linejoin:miter;stroke-opacity:1\"/>\n",
       "<ellipse cx=\"200.0\" cy=\"26.9\" rx=\"16.9\" ry=\"16.9\" class=\"atom-6\" style=\"fill:#FF7F0EA5;fill-rule:evenodd;stroke:#FF7F0EA5;stroke-width:1.0px;stroke-linecap:butt;stroke-linejoin:miter;stroke-opacity:1\"/>\n",
       "<path class=\"bond-0 atom-0 atom-1\" d=\"M 326.6,100.0 L 242.2,100.0\" style=\"fill:none;fill-rule:evenodd;stroke:#000000;stroke-width:2.0px;stroke-linecap:butt;stroke-linejoin:miter;stroke-opacity:1\"/>\n",
       "<path class=\"bond-1 atom-1 atom-2\" d=\"M 242.2,100.0 L 200.0,173.1\" style=\"fill:none;fill-rule:evenodd;stroke:#000000;stroke-width:2.0px;stroke-linecap:butt;stroke-linejoin:miter;stroke-opacity:1\"/>\n",
       "<path class=\"bond-1 atom-1 atom-2\" d=\"M 227.6,100.0 L 192.7,160.5\" style=\"fill:none;fill-rule:evenodd;stroke:#000000;stroke-width:2.0px;stroke-linecap:butt;stroke-linejoin:miter;stroke-opacity:1\"/>\n",
       "<path class=\"bond-2 atom-2 atom-3\" d=\"M 200.0,173.1 L 115.6,173.1\" style=\"fill:none;fill-rule:evenodd;stroke:#000000;stroke-width:2.0px;stroke-linecap:butt;stroke-linejoin:miter;stroke-opacity:1\"/>\n",
       "<path class=\"bond-3 atom-3 atom-4\" d=\"M 115.6,173.1 L 73.4,100.0\" style=\"fill:none;fill-rule:evenodd;stroke:#000000;stroke-width:2.0px;stroke-linecap:butt;stroke-linejoin:miter;stroke-opacity:1\"/>\n",
       "<path class=\"bond-3 atom-3 atom-4\" d=\"M 122.9,160.5 L 88.0,100.0\" style=\"fill:none;fill-rule:evenodd;stroke:#000000;stroke-width:2.0px;stroke-linecap:butt;stroke-linejoin:miter;stroke-opacity:1\"/>\n",
       "<path class=\"bond-4 atom-4 atom-5\" d=\"M 73.4,100.0 L 115.6,26.9\" style=\"fill:none;fill-rule:evenodd;stroke:#000000;stroke-width:2.0px;stroke-linecap:butt;stroke-linejoin:miter;stroke-opacity:1\"/>\n",
       "<path class=\"bond-5 atom-5 atom-6\" d=\"M 115.6,26.9 L 200.0,26.9\" style=\"fill:none;fill-rule:evenodd;stroke:#000000;stroke-width:2.0px;stroke-linecap:butt;stroke-linejoin:miter;stroke-opacity:1\"/>\n",
       "<path class=\"bond-5 atom-5 atom-6\" d=\"M 122.9,39.5 L 192.7,39.5\" style=\"fill:none;fill-rule:evenodd;stroke:#000000;stroke-width:2.0px;stroke-linecap:butt;stroke-linejoin:miter;stroke-opacity:1\"/>\n",
       "<path class=\"bond-6 atom-6 atom-1\" d=\"M 200.0,26.9 L 242.2,100.0\" style=\"fill:none;fill-rule:evenodd;stroke:#000000;stroke-width:2.0px;stroke-linecap:butt;stroke-linejoin:miter;stroke-opacity:1\"/>\n",
       "<path d=\"M 202.1,169.5 L 200.0,173.1 L 195.8,173.1\" style=\"fill:none;stroke:#000000;stroke-width:2.0px;stroke-linecap:butt;stroke-linejoin:miter;stroke-opacity:1;\"/>\n",
       "<path d=\"M 119.8,173.1 L 115.6,173.1 L 113.5,169.5\" style=\"fill:none;stroke:#000000;stroke-width:2.0px;stroke-linecap:butt;stroke-linejoin:miter;stroke-opacity:1;\"/>\n",
       "<path d=\"M 75.5,103.7 L 73.4,100.0 L 75.5,96.3\" style=\"fill:none;stroke:#000000;stroke-width:2.0px;stroke-linecap:butt;stroke-linejoin:miter;stroke-opacity:1;\"/>\n",
       "<path d=\"M 113.5,30.5 L 115.6,26.9 L 119.8,26.9\" style=\"fill:none;stroke:#000000;stroke-width:2.0px;stroke-linecap:butt;stroke-linejoin:miter;stroke-opacity:1;\"/>\n",
       "<path d=\"M 195.8,26.9 L 200.0,26.9 L 202.1,30.5\" style=\"fill:none;stroke:#000000;stroke-width:2.0px;stroke-linecap:butt;stroke-linejoin:miter;stroke-opacity:1;\"/>\n",
       "<rect x=\"1\" y=\"5\" width=\"18.0\" height=\"18.0\" fill=\"rgb(31, 119, 179)\"/><text x=\"19.200000000000003\" y=\"20\" font-family=\"Helvetica\" font-size=\"12\" fill=\"black\">-CH3: 1</text><rect x=\"1\" y=\"30\" width=\"18.0\" height=\"18.0\" fill=\"rgb(255, 127, 13)\"/><text x=\"19.200000000000003\" y=\"45\" font-family=\"Helvetica\" font-size=\"12\" fill=\"black\">ring=CH-: 5</text><rect x=\"1\" y=\"55\" width=\"18.0\" height=\"18.0\" fill=\"rgb(44, 159, 44)\"/><text x=\"19.200000000000003\" y=\"70\" font-family=\"Helvetica\" font-size=\"12\" fill=\"black\">ring=C&lt;: 1</text><text x=\"200.0\" y=\"40\" font-family=\"Helvetica\" font-size=\"12\" font-weight=\"bold\" fill=\"black\" text-anchor=\"middle\"/></svg>"
      ],
      "text/plain": [
       "<IPython.core.display.SVG object>"
      ]
     },
     "execution_count": 2,
     "metadata": {},
     "output_type": "execute_result"
    }
   ],
   "source": [
    "toluene.draw(width=400)"
   ]
  },
  {
   "cell_type": "code",
   "execution_count": 3,
   "metadata": {},
   "outputs": [
    {
     "name": "stdout",
     "output_type": "stream",
     "text": [
      "41.144119209325225 bar\n",
      "319.5 centimeter ** 3 / mole\n",
      "598.0611700010388 kelvin\n",
      "0.25208296412216535 dimensionless\n",
      "195.07 kelvin\n"
     ]
    }
   ],
   "source": [
    "print(toluene.critical_pressure)\n",
    "print(toluene.critical_volume)\n",
    "print(toluene.critical_temperature)\n",
    "print(toluene.acentric_factor)\n",
    "print(toluene.fusion_temperature)"
   ]
  },
  {
   "cell_type": "markdown",
   "metadata": {},
   "source": [
    "You may notice that the attributes of the `Joback` class are numbers with \n",
    "units. This is possible thanks to the `pint` library. The `pint` library\n",
    "allows us to work with units in a very simple way. For example, we can\n",
    "convert the value of the `critical_pressure` attribute to pascal by doing:"
   ]
  },
  {
   "cell_type": "code",
   "execution_count": 5,
   "metadata": {},
   "outputs": [
    {
     "data": {
      "text/html": [
       "4114411.9209325225 pascal"
      ],
      "text/latex": [
       "$4114411.9209325225\\ \\mathrm{pascal}$"
      ],
      "text/plain": [
       "<Quantity(4114411.92, 'pascal')>"
      ]
     },
     "execution_count": 5,
     "metadata": {},
     "output_type": "execute_result"
    }
   ],
   "source": [
    "toluene.critical_pressure.to(\"Pa\")"
   ]
  },
  {
   "cell_type": "markdown",
   "metadata": {},
   "source": [
    "If you want to obtain the value of the attribute without units, you can\n",
    "use the `magnitude` attribute:"
   ]
  },
  {
   "cell_type": "code",
   "execution_count": 6,
   "metadata": {},
   "outputs": [
    {
     "data": {
      "text/plain": [
       "np.float64(41.144119209325225)"
      ]
     },
     "execution_count": 6,
     "metadata": {},
     "output_type": "execute_result"
    }
   ],
   "source": [
    "toluene.critical_pressure.magnitude"
   ]
  },
  {
   "cell_type": "markdown",
   "metadata": {},
   "source": [
    "Or combine all that we know:"
   ]
  },
  {
   "cell_type": "code",
   "execution_count": 8,
   "metadata": {},
   "outputs": [
    {
     "data": {
      "text/plain": [
       "np.float64(30860.62289092802)"
      ]
     },
     "execution_count": 8,
     "metadata": {},
     "output_type": "execute_result"
    }
   ],
   "source": [
    "toluene.critical_pressure.to(\"mmHg\").magnitude"
   ]
  },
  {
   "cell_type": "markdown",
   "metadata": {},
   "source": [
    "For more information about the `pint` library, you can visit their \n",
    "documentation."
   ]
  },
  {
   "cell_type": "markdown",
   "metadata": {},
   "source": [
    "On the other hand, we can use the `Joback` class to estimate\n",
    "temperature-dependent properties of the molecule (also with `pint` units). In\n",
    "the API documentation you can check the available methods to estimate\n",
    "properties and how its done."
   ]
  },
  {
   "cell_type": "code",
   "execution_count": 10,
   "metadata": {},
   "outputs": [
    {
     "name": "stdout",
     "output_type": "stream",
     "text": [
      "0.923433500943906 bar\n"
     ]
    }
   ],
   "source": [
    "print(toluene.vapor_pressure(110 + 273.15))"
   ]
  },
  {
   "cell_type": "code",
   "execution_count": 11,
   "metadata": {},
   "outputs": [
    {
     "name": "stdout",
     "output_type": "stream",
     "text": [
      "0.0004848511681835698 pascal * second\n"
     ]
    }
   ],
   "source": [
    "print(toluene.viscosity_liquid(25 + 273.15))"
   ]
  },
  {
   "cell_type": "code",
   "execution_count": 12,
   "metadata": {},
   "outputs": [
    {
     "name": "stdout",
     "output_type": "stream",
     "text": [
      "174.140191226778 joule / kelvin / mole\n"
     ]
    }
   ],
   "source": [
    "print(toluene.heat_capacity_liquid(50 + 273.15))"
   ]
  },
  {
   "cell_type": "code",
   "execution_count": 13,
   "metadata": {},
   "outputs": [
    {
     "data": {
      "text/html": [
       "150.13004821343338 joule/(kelvin mole)"
      ],
      "text/latex": [
       "$150.13004821343338\\ \\frac{\\mathrm{joule}}{\\left(\\mathrm{kelvin} \\cdot \\mathrm{mole}\\right)}$"
      ],
      "text/plain": [
       "<Quantity(150.130048, 'joule / mole / kelvin')>"
      ]
     },
     "execution_count": 13,
     "metadata": {},
     "output_type": "execute_result"
    }
   ],
   "source": [
    "toluene.heat_capacity_ideal_gas(150 + 273.15)"
   ]
  },
  {
   "cell_type": "markdown",
   "metadata": {},
   "source": [
    "You can check the full documentation and check all the properties you can \n",
    "estimate by doing:"
   ]
  },
  {
   "cell_type": "code",
   "execution_count": 14,
   "metadata": {},
   "outputs": [
    {
     "name": "stdout",
     "output_type": "stream",
     "text": [
      "\u001b[0;31mType:\u001b[0m        JobackFragmentationResult\n",
      "\u001b[0;31mString form:\u001b[0m <ugropy.core.frag_classes.joback.joback_result.JobackFragmentationResult object at 0x7f18d201a470>\n",
      "\u001b[0;31mFile:\u001b[0m        ~/code/ugropy/ugropy/core/frag_classes/joback/joback_result.py\n",
      "\u001b[0;31mDocstring:\u001b[0m  \n",
      "Joback group contribution properties estimator.\n",
      "\n",
      "The class recieves either the Joback and Reid model's :cite:p:`joback1,\n",
      "joback2` groups, name or smiles of a molecule and estimates the its\n",
      "properties.\n",
      "\n",
      "Parameters\n",
      "----------\n",
      "molecule : Chem.rdchem.Mol\n",
      "    RDKit molecule object.\n",
      "subgroups : dict\n",
      "    Dictionary of subgroups.\n",
      "subgroups_atoms_indexes : dict\n",
      "    Dictionary of subgroups atoms indexes.\n",
      "properties_contributions : pd.DataFrame\n",
      "    DataFrame with Joback's properties contributions.\n",
      "normal_boiling_point : float, optional\n",
      "    User provided experimental normal boiling point [K].\n",
      "\n",
      "Attributes\n",
      "----------\n",
      "subgroups : dict\n",
      "    Joback functional groups of the molecule.\n",
      "experimental_boiling_temperature : pint.Quantity\n",
      "    User provided experimental normal boiling point [K].\n",
      "critical_temperature : pint.Quantity\n",
      "    Joback estimated critical temperature [K].\n",
      "critical_pressure : pint.Quantity\n",
      "    Joback estimated critical pressure [bar].\n",
      "critical_volume : pint.Quantity\n",
      "    Joback estimated critical volume [cm³/mol].\n",
      "normal_boiling_point : pint.Quantity\n",
      "    Joback estimated normal boiling point [K].\n",
      "fusion_temperature : pint.Quantity\n",
      "    Joback estimated fusion temperature [K].\n",
      "ig_formation_formation : pint.Quantity\n",
      "    Joback estimated enthalpy of formation ideal gas at 298 K [kJ/mol].\n",
      "ig_gibbs_formation : pint.Quantity\n",
      "    Joback estimated Gibbs energy of formation ideal gas at 298 K [K].\n",
      "heat_capacity_ideal_gas_params : dict\n",
      "    Joback estimated Reid's ideal gas heat capacity equation parameters\n",
      "    [J/mol/K].\n",
      "fusion_enthalpy : pint.Quantity\n",
      "    Joback estimated fusion enthalpy [kJ/mol].\n",
      "vaporization_enthalpy : pint.Quantity\n",
      "    Joback estimated vaporization enthalpy at the normal boiling point\n",
      "    [kJ/mol].\n",
      "sum_na : float\n",
      "    Joback n_A contribution to liquid viscosity [Pa s].\n",
      "sum_nb : float\n",
      "    Joback n_B contribution to liquid viscosity [Pa s].\n",
      "molecular_weight : pint.Quantity\n",
      "    Molecular weight from Joback's subgroups [g/mol].\n",
      "acentric_factor : pint.Quantity\n",
      "    Acentric factor from Lee and Kesler's equation :cite:p:`joback1`.\n",
      "vapor_pressure_params : dict\n",
      "    Vapor pressure G and k parameters for the Riedel-Plank-Miller\n",
      "    equation [bar] :cite:p:`joback1`."
     ]
    }
   ],
   "source": [
    "?toluene"
   ]
  },
  {
   "cell_type": "markdown",
   "metadata": {},
   "source": [
    "Joback model allows the user to provide the experimental normal boiling\n",
    "temperature of the subtance to increase the accuracy of some properties\n",
    "estimations. This value will be used instead of the Joback estimated normal\n",
    "boiling temperature to calculate some properties, for example the critical\n",
    "temperature."
   ]
  },
  {
   "cell_type": "code",
   "execution_count": 15,
   "metadata": {},
   "outputs": [],
   "source": [
    "toluene = joback.get_groups(\"toluene\", normal_boiling_point=(110.6 + 273.15))"
   ]
  },
  {
   "cell_type": "code",
   "execution_count": 17,
   "metadata": {},
   "outputs": [
    {
     "name": "stdout",
     "output_type": "stream",
     "text": [
      "593.8980798775972 kelvin\n"
     ]
    }
   ],
   "source": [
    "print(toluene.critical_temperature)"
   ]
  },
  {
   "cell_type": "code",
   "execution_count": 18,
   "metadata": {},
   "outputs": [
    {
     "name": "stdout",
     "output_type": "stream",
     "text": [
      "1.0132500000000007 bar\n"
     ]
    }
   ],
   "source": [
    "print(toluene.vapor_pressure(110.6 + 273.15))"
   ]
  },
  {
   "cell_type": "markdown",
   "metadata": {},
   "source": [
    "### Abdulelah-Gani model\n",
    "\n",
    "https://github.com/PEESEgroup/Pure-Component-Property-Estimation\n",
    "\n",
    "The recently developed Abdulelah-Gani model is also available in `ugropy`. This\n",
    "model is on an early stage of development and it is not as complete as the \n",
    "original publication. Some of tertiary structures are not yet implemented and \n",
    "for that, the properties that depend on them are not available. Let's see how\n",
    "to use it:"
   ]
  },
  {
   "cell_type": "code",
   "execution_count": 50,
   "metadata": {},
   "outputs": [],
   "source": [
    "from ugropy import abdulelah_gani"
   ]
  },
  {
   "cell_type": "code",
   "execution_count": 51,
   "metadata": {},
   "outputs": [],
   "source": [
    "adrenaline = abdulelah_gani.get_groups(\"adrenaline\")"
   ]
  },
  {
   "cell_type": "code",
   "execution_count": 52,
   "metadata": {},
   "outputs": [
    {
     "data": {
      "text/plain": [
       "{'CH3': 1, 'aCH': 3, 'aC-CH': 1, 'OH': 1, 'aC-OH': 2, 'CH2NH': 1}"
      ]
     },
     "execution_count": 52,
     "metadata": {},
     "output_type": "execute_result"
    }
   ],
   "source": [
    "adrenaline.primary.subgroups"
   ]
  },
  {
   "cell_type": "code",
   "execution_count": 53,
   "metadata": {},
   "outputs": [
    {
     "data": {
      "text/plain": [
       "{'CHm(OH)CHn(NHp) (m,n,p in 0..2)': 1,\n",
       " 'aC-CHn-OH (n in 1..2)': 1,\n",
       " 'AROMRINGs1s2s4': 1}"
      ]
     },
     "execution_count": 53,
     "metadata": {},
     "output_type": "execute_result"
    }
   ],
   "source": [
    "adrenaline.secondary.subgroups"
   ]
  },
  {
   "cell_type": "code",
   "execution_count": 54,
   "metadata": {},
   "outputs": [
    {
     "data": {
      "text/plain": [
       "{}"
      ]
     },
     "execution_count": 54,
     "metadata": {},
     "output_type": "execute_result"
    }
   ],
   "source": [
    "adrenaline.tertiary.subgroups"
   ]
  },
  {
   "cell_type": "markdown",
   "metadata": {},
   "source": [
    "As you can see, The Abdulelah-Gani model includes different kinds of subgropus.\n",
    "The primary structures works as the other models we have discussed before. The\n",
    "secondary and tertiary are additional structures that are used to increase\n",
    "the accuracy of the estimations. Also, differentiates isomers. For example:"
   ]
  },
  {
   "cell_type": "code",
   "execution_count": 55,
   "metadata": {},
   "outputs": [],
   "source": [
    "hexa23 = abdulelah_gani.get_groups(\"2,3-dimethylhexane\")\n",
    "hexa24 = abdulelah_gani.get_groups(\"2,4-dimethylhexane\")"
   ]
  },
  {
   "cell_type": "code",
   "execution_count": 56,
   "metadata": {},
   "outputs": [
    {
     "data": {
      "text/html": [
       "564.8418659474339 kelvin"
      ],
      "text/latex": [
       "$564.8418659474339\\ \\mathrm{kelvin}$"
      ],
      "text/plain": [
       "<Quantity(564.841866, 'kelvin')>"
      ]
     },
     "execution_count": 56,
     "metadata": {},
     "output_type": "execute_result"
    }
   ],
   "source": [
    "hexa23.critical_temperature"
   ]
  },
  {
   "cell_type": "code",
   "execution_count": 57,
   "metadata": {},
   "outputs": [
    {
     "data": {
      "text/html": [
       "549.3932758799738 kelvin"
      ],
      "text/latex": [
       "$549.3932758799738\\ \\mathrm{kelvin}$"
      ],
      "text/plain": [
       "<Quantity(549.393276, 'kelvin')>"
      ]
     },
     "execution_count": 57,
     "metadata": {},
     "output_type": "execute_result"
    }
   ],
   "source": [
    "hexa24.critical_temperature"
   ]
  },
  {
   "cell_type": "code",
   "execution_count": 58,
   "metadata": {},
   "outputs": [
    {
     "name": "stdout",
     "output_type": "stream",
     "text": [
      "{'CH3': 4, 'CH2': 2, 'CH': 2}\n",
      "{'CH3': 4, 'CH2': 2, 'CH': 2}\n"
     ]
    }
   ],
   "source": [
    "print(hexa23.primary.subgroups)\n",
    "print(hexa24.primary.subgroups)"
   ]
  },
  {
   "cell_type": "code",
   "execution_count": null,
   "metadata": {},
   "outputs": [
    {
     "name": "stdout",
     "output_type": "stream",
     "text": [
      "{'(CH3)2CH': 1, 'CH(CH3)CH(CH3)': 1}\n",
      "{'(CH3)2CH': 1}\n"
     ]
    }
   ],
   "source": [
    "print(hexa23.secondary.subgroups)\n",
    "print(hexa24.secondary.subgroups)"
   ]
  },
  {
   "cell_type": "markdown",
   "metadata": {},
   "source": [
    "As you can see, both molecules have the same primary structure but different\n",
    "secondary structures. This is why the properties are different. On a Property \n",
    "Estimator that only have primary structures like the Joback model we would get\n",
    "the same properties for both molecules."
   ]
  },
  {
   "cell_type": "code",
   "execution_count": 60,
   "metadata": {},
   "outputs": [
    {
     "name": "stdout",
     "output_type": "stream",
     "text": [
      "552.9339856842008 kelvin\n",
      "552.9339856842008 kelvin\n"
     ]
    }
   ],
   "source": [
    "print(joback.get_groups(\"2,3-dimethylhexane\").critical_temperature)\n",
    "print(joback.get_groups(\"2,4-dimethylhexane\").critical_temperature)"
   ]
  },
  {
   "cell_type": "markdown",
   "metadata": {},
   "source": [
    "All the properties that can be estimated with the Abdulelah-Gani model are:"
   ]
  },
  {
   "cell_type": "code",
   "execution_count": 61,
   "metadata": {},
   "outputs": [
    {
     "name": "stdout",
     "output_type": "stream",
     "text": [
      "564.8418659474339 kelvin\n",
      "26.35038783694938 bar\n",
      "465.335 centimeter ** 3 / mole\n",
      "0.35672642267081217 dimensionless\n",
      "-214.82596509091175 kilojoule / mole\n",
      "15.59002996305599 kilojoule / mole\n"
     ]
    }
   ],
   "source": [
    "print(hexa23.critical_temperature)\n",
    "print(hexa23.critical_pressure)\n",
    "print(hexa23.critical_volume)\n",
    "print(hexa23.acentric_factor)\n",
    "print(hexa23.ig_formation_enthalpy)\n",
    "print(hexa23.ig_formation_gibbs)"
   ]
  },
  {
   "cell_type": "markdown",
   "metadata": {},
   "source": [
    "If you refer yo the original publication you will notice that the \n",
    "Abdulelah-Gani model allows to estimate the properties by to methods:\n",
    "\n",
    "- GC-SIMPLE: Algebraic correlations\n",
    "- ML: trained neural networks\n",
    "\n",
    "`ugropy` evaluates the properties using the GC-SIMPLE method. The ML method\n",
    "is not provided in this library. To learn how evaluate the properties with the\n",
    "ML method, please refer to the original publication supplementary material:\n",
    "\n",
    "https://github.com/PEESEgroup/Pure-Component-Property-Estimation\n",
    "\n",
    "However, `ugropy`helps you a little to evaluate the trained neural networks.\n",
    "The fragmentation results give you the numpy array needed to evaluate the ML \n",
    "model ready to use:"
   ]
  },
  {
   "cell_type": "code",
   "execution_count": 62,
   "metadata": {},
   "outputs": [
    {
     "data": {
      "text/plain": [
       "array([[4, 2, 2, 0, 0, 0, 0, 0, 0, 0, 0, 0, 0, 0, 0, 0, 0, 0, 0, 0, 0, 0,\n",
       "        0, 0, 0, 0, 0, 0, 0, 0, 0, 0, 0, 0, 0, 0, 0, 0, 0, 0, 0, 0, 0, 0,\n",
       "        0, 0, 0, 0, 0, 0, 0, 0, 0, 0, 0, 0, 0, 0, 0, 0, 0, 0, 0, 0, 0, 0,\n",
       "        0, 0, 0, 0, 0, 0, 0, 0, 0, 0, 0, 0, 0, 0, 0, 0, 0, 0, 0, 0, 0, 0,\n",
       "        0, 0, 0, 0, 0, 0, 0, 0, 0, 0, 0, 0, 0, 0, 0, 0, 0, 0, 0, 0, 0, 0,\n",
       "        0, 0, 0, 0, 0, 0, 0, 0, 0, 0, 0, 0, 0, 0, 0, 0, 0, 0, 0, 0, 0, 0,\n",
       "        0, 0, 0, 0, 0, 0, 0, 0, 0, 0, 0, 0, 0, 0, 0, 0, 0, 0, 0, 0, 0, 0,\n",
       "        0, 0, 0, 0, 0, 0, 0, 0, 0, 0, 0, 0, 0, 0, 0, 0, 0, 0, 0, 0, 0, 0,\n",
       "        0, 0, 0, 0, 0, 0, 0, 0, 0, 0, 0, 0, 0, 0, 0, 0, 0, 0, 0, 0, 0, 0,\n",
       "        0, 0, 0, 0, 0, 0, 0, 0, 0, 0, 0, 0, 0, 0, 0, 0, 0, 0, 0, 0, 0, 0,\n",
       "        1, 0, 1, 0, 0, 0, 0, 0, 0, 0, 0, 0, 0, 0, 0, 0, 0, 0, 0, 0, 0, 0,\n",
       "        0, 0, 0, 0, 0, 0, 0, 0, 0, 0, 0, 0, 0, 0, 0, 0, 0, 0, 0, 0, 0, 0,\n",
       "        0, 0, 0, 0, 0, 0, 0, 0, 0, 0, 0, 0, 0, 0, 0, 0, 0, 0, 0, 0, 0, 0,\n",
       "        0, 0, 0, 0, 0, 0, 0, 0, 0, 0, 0, 0, 0, 0, 0, 0, 0, 0, 0, 0, 0, 0,\n",
       "        0, 0, 0, 0, 0, 0, 0, 0, 0, 0, 0, 0, 0, 0, 0, 0, 0, 0, 0, 0, 0, 0,\n",
       "        0, 0, 0, 0, 0, 0, 0, 0, 0, 0, 0, 0, 0, 0, 0, 0, 0, 0, 0, 0, 0, 0,\n",
       "        0, 0, 0, 0, 0, 0, 0, 0, 0, 0, 0, 0, 0, 0, 0, 0, 0, 0, 0, 0, 0, 0,\n",
       "        0, 0, 0, 0, 0, 0, 0, 0, 0, 0, 0, 0, 0, 0, 0, 0, 0, 0, 0, 0, 0, 0,\n",
       "        0, 0, 0, 0, 0, 0, 0, 0, 0, 0, 0, 0, 0, 0, 0, 0, 0, 0, 0, 0, 0, 0,\n",
       "        0, 0, 0, 0, 0, 0]])"
      ]
     },
     "execution_count": 62,
     "metadata": {},
     "output_type": "execute_result"
    }
   ],
   "source": [
    "hexa23.ml_vector"
   ]
  },
  {
   "cell_type": "markdown",
   "metadata": {},
   "source": [
    "To visualize the fragmentation results you can use the `draw` method\n",
    "for each structure type:"
   ]
  },
  {
   "cell_type": "code",
   "execution_count": 71,
   "metadata": {},
   "outputs": [
    {
     "data": {
      "image/svg+xml": [
       "<svg xmlns=\"http://www.w3.org/2000/svg\" xmlns:rdkit=\"http://www.rdkit.org/xml\" xmlns:xlink=\"http://www.w3.org/1999/xlink\" version=\"1.1\" baseProfile=\"full\" xml:space=\"preserve\" width=\"700px\" height=\"200px\" viewBox=\"0 0 700 200\">\n",
       "<!-- END OF HEADER -->\n",
       "<rect style=\"opacity:1.0;fill:#FFFFFF;stroke:none\" width=\"700.0\" height=\"200.0\" x=\"0.0\" y=\"0.0\"> </rect>\n",
       "<ellipse cx=\"474.0\" cy=\"30.3\" rx=\"13.8\" ry=\"13.8\" class=\"atom-0\" style=\"fill:#1F77B4A5;fill-rule:evenodd;stroke:#1F77B4A5;stroke-width:1.0px;stroke-linecap:butt;stroke-linejoin:miter;stroke-opacity:1\"/>\n",
       "<ellipse cx=\"453.2\" cy=\"95.9\" rx=\"13.8\" ry=\"13.8\" class=\"atom-1\" style=\"fill:#FF7F0EA5;fill-rule:evenodd;stroke:#FF7F0EA5;stroke-width:1.0px;stroke-linecap:butt;stroke-linejoin:miter;stroke-opacity:1\"/>\n",
       "<ellipse cx=\"386.0\" cy=\"110.6\" rx=\"13.8\" ry=\"13.8\" class=\"atom-2\" style=\"fill:#2CA02CA5;fill-rule:evenodd;stroke:#2CA02CA5;stroke-width:1.0px;stroke-linecap:butt;stroke-linejoin:miter;stroke-opacity:1\"/>\n",
       "<ellipse cx=\"365.2\" cy=\"176.2\" rx=\"13.8\" ry=\"13.8\" class=\"atom-3\" style=\"fill:#1F77B4A5;fill-rule:evenodd;stroke:#1F77B4A5;stroke-width:1.0px;stroke-linecap:butt;stroke-linejoin:miter;stroke-opacity:1\"/>\n",
       "<ellipse cx=\"339.6\" cy=\"59.8\" rx=\"13.8\" ry=\"13.8\" class=\"atom-4\" style=\"fill:#FF7F0EA5;fill-rule:evenodd;stroke:#FF7F0EA5;stroke-width:1.0px;stroke-linecap:butt;stroke-linejoin:miter;stroke-opacity:1\"/>\n",
       "<ellipse cx=\"272.4\" cy=\"74.6\" rx=\"13.8\" ry=\"13.8\" class=\"atom-5\" style=\"fill:#2CA02CA5;fill-rule:evenodd;stroke:#2CA02CA5;stroke-width:1.0px;stroke-linecap:butt;stroke-linejoin:miter;stroke-opacity:1\"/>\n",
       "<ellipse cx=\"226.0\" cy=\"23.8\" rx=\"13.8\" ry=\"13.8\" class=\"atom-6\" style=\"fill:#1F77B4A5;fill-rule:evenodd;stroke:#1F77B4A5;stroke-width:1.0px;stroke-linecap:butt;stroke-linejoin:miter;stroke-opacity:1\"/>\n",
       "<ellipse cx=\"251.6\" cy=\"140.2\" rx=\"13.8\" ry=\"13.8\" class=\"atom-7\" style=\"fill:#1F77B4A5;fill-rule:evenodd;stroke:#1F77B4A5;stroke-width:1.0px;stroke-linecap:butt;stroke-linejoin:miter;stroke-opacity:1\"/>\n",
       "<path class=\"bond-0 atom-0 atom-1\" d=\"M 474.0,30.3 L 453.2,95.9\" style=\"fill:none;fill-rule:evenodd;stroke:#000000;stroke-width:2.0px;stroke-linecap:butt;stroke-linejoin:miter;stroke-opacity:1\"/>\n",
       "<path class=\"bond-1 atom-1 atom-2\" d=\"M 453.2,95.9 L 386.0,110.6\" style=\"fill:none;fill-rule:evenodd;stroke:#000000;stroke-width:2.0px;stroke-linecap:butt;stroke-linejoin:miter;stroke-opacity:1\"/>\n",
       "<path class=\"bond-2 atom-2 atom-3\" d=\"M 386.0,110.6 L 365.2,176.2\" style=\"fill:none;fill-rule:evenodd;stroke:#000000;stroke-width:2.0px;stroke-linecap:butt;stroke-linejoin:miter;stroke-opacity:1\"/>\n",
       "<path class=\"bond-3 atom-2 atom-4\" d=\"M 386.0,110.6 L 339.6,59.8\" style=\"fill:none;fill-rule:evenodd;stroke:#000000;stroke-width:2.0px;stroke-linecap:butt;stroke-linejoin:miter;stroke-opacity:1\"/>\n",
       "<path class=\"bond-4 atom-4 atom-5\" d=\"M 339.6,59.8 L 272.4,74.6\" style=\"fill:none;fill-rule:evenodd;stroke:#000000;stroke-width:2.0px;stroke-linecap:butt;stroke-linejoin:miter;stroke-opacity:1\"/>\n",
       "<path class=\"bond-5 atom-5 atom-6\" d=\"M 272.4,74.6 L 226.0,23.8\" style=\"fill:none;fill-rule:evenodd;stroke:#000000;stroke-width:2.0px;stroke-linecap:butt;stroke-linejoin:miter;stroke-opacity:1\"/>\n",
       "<path class=\"bond-6 atom-5 atom-7\" d=\"M 272.4,74.6 L 251.6,140.2\" style=\"fill:none;fill-rule:evenodd;stroke:#000000;stroke-width:2.0px;stroke-linecap:butt;stroke-linejoin:miter;stroke-opacity:1\"/>\n",
       "<path d=\"M 454.3,92.6 L 453.2,95.9 L 449.8,96.6\" style=\"fill:none;stroke:#000000;stroke-width:2.0px;stroke-linecap:butt;stroke-linejoin:miter;stroke-opacity:1;\"/>\n",
       "<path d=\"M 341.9,62.4 L 339.6,59.8 L 336.2,60.6\" style=\"fill:none;stroke:#000000;stroke-width:2.0px;stroke-linecap:butt;stroke-linejoin:miter;stroke-opacity:1;\"/>\n",
       "<rect x=\"1\" y=\"5\" width=\"18.0\" height=\"18.0\" fill=\"rgb(31, 119, 179)\"/><text x=\"19.200000000000003\" y=\"20\" font-family=\"Helvetica\" font-size=\"12\" fill=\"black\">CH3: 4</text><rect x=\"1\" y=\"30\" width=\"18.0\" height=\"18.0\" fill=\"rgb(255, 127, 13)\"/><text x=\"19.200000000000003\" y=\"45\" font-family=\"Helvetica\" font-size=\"12\" fill=\"black\">CH2: 2</text><rect x=\"1\" y=\"55\" width=\"18.0\" height=\"18.0\" fill=\"rgb(44, 159, 44)\"/><text x=\"19.200000000000003\" y=\"70\" font-family=\"Helvetica\" font-size=\"12\" fill=\"black\">CH: 2</text><text x=\"350.0\" y=\"40\" font-family=\"Helvetica\" font-size=\"12\" font-weight=\"bold\" fill=\"black\" text-anchor=\"middle\"/></svg>"
      ],
      "text/plain": [
       "<IPython.core.display.SVG object>"
      ]
     },
     "execution_count": 71,
     "metadata": {},
     "output_type": "execute_result"
    }
   ],
   "source": [
    "hexa24.primary.draw(width=700)"
   ]
  },
  {
   "cell_type": "code",
   "execution_count": 72,
   "metadata": {},
   "outputs": [
    {
     "data": {
      "image/svg+xml": [
       "<svg xmlns=\"http://www.w3.org/2000/svg\" xmlns:rdkit=\"http://www.rdkit.org/xml\" xmlns:xlink=\"http://www.w3.org/1999/xlink\" version=\"1.1\" baseProfile=\"full\" xml:space=\"preserve\" width=\"700px\" height=\"200px\" viewBox=\"0 0 700 200\">\n",
       "<!-- END OF HEADER -->\n",
       "<rect style=\"opacity:1.0;fill:#FFFFFF;stroke:none\" width=\"700.0\" height=\"200.0\" x=\"0.0\" y=\"0.0\"> </rect>\n",
       "<ellipse cx=\"273.4\" cy=\"79.9\" rx=\"14.9\" ry=\"14.9\" class=\"atom-5\" style=\"fill:#1F77B4A5;fill-rule:evenodd;stroke:#1F77B4A5;stroke-width:1.0px;stroke-linecap:butt;stroke-linejoin:miter;stroke-opacity:1\"/>\n",
       "<ellipse cx=\"223.2\" cy=\"24.9\" rx=\"14.9\" ry=\"14.9\" class=\"atom-6\" style=\"fill:#1F77B4A5;fill-rule:evenodd;stroke:#1F77B4A5;stroke-width:1.0px;stroke-linecap:butt;stroke-linejoin:miter;stroke-opacity:1\"/>\n",
       "<ellipse cx=\"250.9\" cy=\"151.0\" rx=\"14.9\" ry=\"14.9\" class=\"atom-7\" style=\"fill:#1F77B4A5;fill-rule:evenodd;stroke:#1F77B4A5;stroke-width:1.0px;stroke-linecap:butt;stroke-linejoin:miter;stroke-opacity:1\"/>\n",
       "<path class=\"bond-0 atom-0 atom-1\" d=\"M 491.7,31.9 L 469.2,103.0\" style=\"fill:none;fill-rule:evenodd;stroke:#000000;stroke-width:2.0px;stroke-linecap:butt;stroke-linejoin:miter;stroke-opacity:1\"/>\n",
       "<path class=\"bond-1 atom-1 atom-2\" d=\"M 469.2,103.0 L 396.4,119.0\" style=\"fill:none;fill-rule:evenodd;stroke:#000000;stroke-width:2.0px;stroke-linecap:butt;stroke-linejoin:miter;stroke-opacity:1\"/>\n",
       "<path class=\"bond-2 atom-2 atom-3\" d=\"M 396.4,119.0 L 373.9,190.0\" style=\"fill:none;fill-rule:evenodd;stroke:#000000;stroke-width:2.0px;stroke-linecap:butt;stroke-linejoin:miter;stroke-opacity:1\"/>\n",
       "<path class=\"bond-3 atom-2 atom-4\" d=\"M 396.4,119.0 L 346.2,63.9\" style=\"fill:none;fill-rule:evenodd;stroke:#000000;stroke-width:2.0px;stroke-linecap:butt;stroke-linejoin:miter;stroke-opacity:1\"/>\n",
       "<path class=\"bond-4 atom-4 atom-5\" d=\"M 346.2,63.9 L 273.4,79.9\" style=\"fill:none;fill-rule:evenodd;stroke:#000000;stroke-width:2.0px;stroke-linecap:butt;stroke-linejoin:miter;stroke-opacity:1\"/>\n",
       "<path class=\"bond-5 atom-5 atom-6\" d=\"M 273.4,79.9 L 223.2,24.9\" style=\"fill:none;fill-rule:evenodd;stroke:#000000;stroke-width:2.0px;stroke-linecap:butt;stroke-linejoin:miter;stroke-opacity:1\"/>\n",
       "<path class=\"bond-6 atom-5 atom-7\" d=\"M 273.4,79.9 L 250.9,151.0\" style=\"fill:none;fill-rule:evenodd;stroke:#000000;stroke-width:2.0px;stroke-linecap:butt;stroke-linejoin:miter;stroke-opacity:1\"/>\n",
       "<path d=\"M 470.3,99.4 L 469.2,103.0 L 465.6,103.8\" style=\"fill:none;stroke:#000000;stroke-width:2.0px;stroke-linecap:butt;stroke-linejoin:miter;stroke-opacity:1;\"/>\n",
       "<path d=\"M 348.7,66.7 L 346.2,63.9 L 342.5,64.7\" style=\"fill:none;stroke:#000000;stroke-width:2.0px;stroke-linecap:butt;stroke-linejoin:miter;stroke-opacity:1;\"/>\n",
       "<rect x=\"1\" y=\"5\" width=\"18.0\" height=\"18.0\" fill=\"rgb(31, 119, 179)\"/><text x=\"19.200000000000003\" y=\"20\" font-family=\"Helvetica\" font-size=\"12\" fill=\"black\">(CH3)2CH: 1</text><text x=\"350.0\" y=\"40\" font-family=\"Helvetica\" font-size=\"12\" font-weight=\"bold\" fill=\"black\" text-anchor=\"middle\"/></svg>"
      ],
      "text/plain": [
       "<IPython.core.display.SVG object>"
      ]
     },
     "execution_count": 72,
     "metadata": {},
     "output_type": "execute_result"
    }
   ],
   "source": [
    "hexa24.secondary.draw(width=700)"
   ]
  },
  {
   "cell_type": "markdown",
   "metadata": {},
   "source": [
    "The example molecules doesn't have tertiary structures, let's get the solution\n",
    "for a molecule that has tertiary structures:"
   ]
  },
  {
   "cell_type": "code",
   "execution_count": 73,
   "metadata": {},
   "outputs": [],
   "source": [
    "fluorene = abdulelah_gani.get_groups(\"9H-Fluorene\")"
   ]
  },
  {
   "cell_type": "code",
   "execution_count": 76,
   "metadata": {},
   "outputs": [
    {
     "data": {
      "image/svg+xml": [
       "<svg xmlns=\"http://www.w3.org/2000/svg\" xmlns:rdkit=\"http://www.rdkit.org/xml\" xmlns:xlink=\"http://www.w3.org/1999/xlink\" version=\"1.1\" baseProfile=\"full\" xml:space=\"preserve\" width=\"800px\" height=\"200px\" viewBox=\"0 0 800 200\">\n",
       "<!-- END OF HEADER -->\n",
       "<rect style=\"opacity:1.0;fill:#FFFFFF;stroke:none\" width=\"800.0\" height=\"200.0\" x=\"0.0\" y=\"0.0\"> </rect>\n",
       "<ellipse cx=\"400.0\" cy=\"176.6\" rx=\"13.4\" ry=\"13.4\" class=\"atom-0\" style=\"fill:#D62728A5;fill-rule:evenodd;stroke:#D62728A5;stroke-width:1.0px;stroke-linecap:butt;stroke-linejoin:miter;stroke-opacity:1\"/>\n",
       "<ellipse cx=\"454.3\" cy=\"137.1\" rx=\"13.4\" ry=\"13.4\" class=\"atom-1\" style=\"fill:#2CA02CA5;fill-rule:evenodd;stroke:#2CA02CA5;stroke-width:1.0px;stroke-linecap:butt;stroke-linejoin:miter;stroke-opacity:1\"/>\n",
       "<ellipse cx=\"519.9\" cy=\"151.1\" rx=\"13.4\" ry=\"13.4\" class=\"atom-2\" style=\"fill:#1F77B4A5;fill-rule:evenodd;stroke:#1F77B4A5;stroke-width:1.0px;stroke-linecap:butt;stroke-linejoin:miter;stroke-opacity:1\"/>\n",
       "<ellipse cx=\"564.9\" cy=\"101.2\" rx=\"13.4\" ry=\"13.4\" class=\"atom-3\" style=\"fill:#1F77B4A5;fill-rule:evenodd;stroke:#1F77B4A5;stroke-width:1.0px;stroke-linecap:butt;stroke-linejoin:miter;stroke-opacity:1\"/>\n",
       "<ellipse cx=\"544.1\" cy=\"37.4\" rx=\"13.4\" ry=\"13.4\" class=\"atom-4\" style=\"fill:#1F77B4A5;fill-rule:evenodd;stroke:#1F77B4A5;stroke-width:1.0px;stroke-linecap:butt;stroke-linejoin:miter;stroke-opacity:1\"/>\n",
       "<ellipse cx=\"478.5\" cy=\"23.4\" rx=\"13.4\" ry=\"13.4\" class=\"atom-5\" style=\"fill:#1F77B4A5;fill-rule:evenodd;stroke:#1F77B4A5;stroke-width:1.0px;stroke-linecap:butt;stroke-linejoin:miter;stroke-opacity:1\"/>\n",
       "<ellipse cx=\"433.6\" cy=\"73.3\" rx=\"13.4\" ry=\"13.4\" class=\"atom-6\" style=\"fill:#FF7F0EA5;fill-rule:evenodd;stroke:#FF7F0EA5;stroke-width:1.0px;stroke-linecap:butt;stroke-linejoin:miter;stroke-opacity:1\"/>\n",
       "<ellipse cx=\"366.4\" cy=\"73.3\" rx=\"13.4\" ry=\"13.4\" class=\"atom-7\" style=\"fill:#FF7F0EA5;fill-rule:evenodd;stroke:#FF7F0EA5;stroke-width:1.0px;stroke-linecap:butt;stroke-linejoin:miter;stroke-opacity:1\"/>\n",
       "<ellipse cx=\"321.5\" cy=\"23.4\" rx=\"13.4\" ry=\"13.4\" class=\"atom-8\" style=\"fill:#1F77B4A5;fill-rule:evenodd;stroke:#1F77B4A5;stroke-width:1.0px;stroke-linecap:butt;stroke-linejoin:miter;stroke-opacity:1\"/>\n",
       "<ellipse cx=\"255.9\" cy=\"37.4\" rx=\"13.4\" ry=\"13.4\" class=\"atom-9\" style=\"fill:#1F77B4A5;fill-rule:evenodd;stroke:#1F77B4A5;stroke-width:1.0px;stroke-linecap:butt;stroke-linejoin:miter;stroke-opacity:1\"/>\n",
       "<ellipse cx=\"235.1\" cy=\"101.2\" rx=\"13.4\" ry=\"13.4\" class=\"atom-10\" style=\"fill:#1F77B4A5;fill-rule:evenodd;stroke:#1F77B4A5;stroke-width:1.0px;stroke-linecap:butt;stroke-linejoin:miter;stroke-opacity:1\"/>\n",
       "<ellipse cx=\"280.1\" cy=\"151.1\" rx=\"13.4\" ry=\"13.4\" class=\"atom-11\" style=\"fill:#1F77B4A5;fill-rule:evenodd;stroke:#1F77B4A5;stroke-width:1.0px;stroke-linecap:butt;stroke-linejoin:miter;stroke-opacity:1\"/>\n",
       "<ellipse cx=\"345.7\" cy=\"137.1\" rx=\"13.4\" ry=\"13.4\" class=\"atom-12\" style=\"fill:#2CA02CA5;fill-rule:evenodd;stroke:#2CA02CA5;stroke-width:1.0px;stroke-linecap:butt;stroke-linejoin:miter;stroke-opacity:1\"/>\n",
       "<path class=\"bond-0 atom-0 atom-1\" d=\"M 400.0,176.6 L 454.3,137.1\" style=\"fill:none;fill-rule:evenodd;stroke:#000000;stroke-width:2.0px;stroke-linecap:butt;stroke-linejoin:miter;stroke-opacity:1\"/>\n",
       "<path class=\"bond-1 atom-1 atom-2\" d=\"M 454.3,137.1 L 519.9,151.1\" style=\"fill:none;fill-rule:evenodd;stroke:#000000;stroke-width:2.0px;stroke-linecap:butt;stroke-linejoin:miter;stroke-opacity:1\"/>\n",
       "<path class=\"bond-1 atom-1 atom-2\" d=\"M 462.1,128.5 L 516.4,140.0\" style=\"fill:none;fill-rule:evenodd;stroke:#000000;stroke-width:2.0px;stroke-linecap:butt;stroke-linejoin:miter;stroke-opacity:1\"/>\n",
       "<path class=\"bond-2 atom-2 atom-3\" d=\"M 519.9,151.1 L 564.9,101.2\" style=\"fill:none;fill-rule:evenodd;stroke:#000000;stroke-width:2.0px;stroke-linecap:butt;stroke-linejoin:miter;stroke-opacity:1\"/>\n",
       "<path class=\"bond-3 atom-3 atom-4\" d=\"M 564.9,101.2 L 544.1,37.4\" style=\"fill:none;fill-rule:evenodd;stroke:#000000;stroke-width:2.0px;stroke-linecap:butt;stroke-linejoin:miter;stroke-opacity:1\"/>\n",
       "<path class=\"bond-3 atom-3 atom-4\" d=\"M 553.5,98.8 L 536.3,46.0\" style=\"fill:none;fill-rule:evenodd;stroke:#000000;stroke-width:2.0px;stroke-linecap:butt;stroke-linejoin:miter;stroke-opacity:1\"/>\n",
       "<path class=\"bond-4 atom-4 atom-5\" d=\"M 544.1,37.4 L 478.5,23.4\" style=\"fill:none;fill-rule:evenodd;stroke:#000000;stroke-width:2.0px;stroke-linecap:butt;stroke-linejoin:miter;stroke-opacity:1\"/>\n",
       "<path class=\"bond-5 atom-5 atom-6\" d=\"M 478.5,23.4 L 433.6,73.3\" style=\"fill:none;fill-rule:evenodd;stroke:#000000;stroke-width:2.0px;stroke-linecap:butt;stroke-linejoin:miter;stroke-opacity:1\"/>\n",
       "<path class=\"bond-5 atom-5 atom-6\" d=\"M 482.1,34.5 L 444.9,75.7\" style=\"fill:none;fill-rule:evenodd;stroke:#000000;stroke-width:2.0px;stroke-linecap:butt;stroke-linejoin:miter;stroke-opacity:1\"/>\n",
       "<path class=\"bond-6 atom-6 atom-7\" d=\"M 433.6,73.3 L 366.4,73.3\" style=\"fill:none;fill-rule:evenodd;stroke:#000000;stroke-width:2.0px;stroke-linecap:butt;stroke-linejoin:miter;stroke-opacity:1\"/>\n",
       "<path class=\"bond-7 atom-7 atom-8\" d=\"M 366.4,73.3 L 321.5,23.4\" style=\"fill:none;fill-rule:evenodd;stroke:#000000;stroke-width:2.0px;stroke-linecap:butt;stroke-linejoin:miter;stroke-opacity:1\"/>\n",
       "<path class=\"bond-7 atom-7 atom-8\" d=\"M 355.1,75.7 L 317.9,34.5\" style=\"fill:none;fill-rule:evenodd;stroke:#000000;stroke-width:2.0px;stroke-linecap:butt;stroke-linejoin:miter;stroke-opacity:1\"/>\n",
       "<path class=\"bond-8 atom-8 atom-9\" d=\"M 321.5,23.4 L 255.9,37.4\" style=\"fill:none;fill-rule:evenodd;stroke:#000000;stroke-width:2.0px;stroke-linecap:butt;stroke-linejoin:miter;stroke-opacity:1\"/>\n",
       "<path class=\"bond-9 atom-9 atom-10\" d=\"M 255.9,37.4 L 235.1,101.2\" style=\"fill:none;fill-rule:evenodd;stroke:#000000;stroke-width:2.0px;stroke-linecap:butt;stroke-linejoin:miter;stroke-opacity:1\"/>\n",
       "<path class=\"bond-9 atom-9 atom-10\" d=\"M 263.7,46.0 L 246.5,98.8\" style=\"fill:none;fill-rule:evenodd;stroke:#000000;stroke-width:2.0px;stroke-linecap:butt;stroke-linejoin:miter;stroke-opacity:1\"/>\n",
       "<path class=\"bond-10 atom-10 atom-11\" d=\"M 235.1,101.2 L 280.1,151.1\" style=\"fill:none;fill-rule:evenodd;stroke:#000000;stroke-width:2.0px;stroke-linecap:butt;stroke-linejoin:miter;stroke-opacity:1\"/>\n",
       "<path class=\"bond-11 atom-11 atom-12\" d=\"M 280.1,151.1 L 345.7,137.1\" style=\"fill:none;fill-rule:evenodd;stroke:#000000;stroke-width:2.0px;stroke-linecap:butt;stroke-linejoin:miter;stroke-opacity:1\"/>\n",
       "<path class=\"bond-11 atom-11 atom-12\" d=\"M 283.6,140.0 L 337.9,128.5\" style=\"fill:none;fill-rule:evenodd;stroke:#000000;stroke-width:2.0px;stroke-linecap:butt;stroke-linejoin:miter;stroke-opacity:1\"/>\n",
       "<path class=\"bond-12 atom-12 atom-0\" d=\"M 345.7,137.1 L 400.0,176.6\" style=\"fill:none;fill-rule:evenodd;stroke:#000000;stroke-width:2.0px;stroke-linecap:butt;stroke-linejoin:miter;stroke-opacity:1\"/>\n",
       "<path class=\"bond-13 atom-6 atom-1\" d=\"M 433.6,73.3 L 454.3,137.1\" style=\"fill:none;fill-rule:evenodd;stroke:#000000;stroke-width:2.0px;stroke-linecap:butt;stroke-linejoin:miter;stroke-opacity:1\"/>\n",
       "<path class=\"bond-14 atom-12 atom-7\" d=\"M 345.7,137.1 L 366.4,73.3\" style=\"fill:none;fill-rule:evenodd;stroke:#000000;stroke-width:2.0px;stroke-linecap:butt;stroke-linejoin:miter;stroke-opacity:1\"/>\n",
       "<path d=\"M 402.7,174.6 L 400.0,176.6 L 397.3,174.6\" style=\"fill:none;stroke:#000000;stroke-width:2.0px;stroke-linecap:butt;stroke-linejoin:miter;stroke-opacity:1;\"/>\n",
       "<path d=\"M 516.7,150.4 L 519.9,151.1 L 522.2,148.6\" style=\"fill:none;stroke:#000000;stroke-width:2.0px;stroke-linecap:butt;stroke-linejoin:miter;stroke-opacity:1;\"/>\n",
       "<path d=\"M 562.6,103.7 L 564.9,101.2 L 563.8,98.0\" style=\"fill:none;stroke:#000000;stroke-width:2.0px;stroke-linecap:butt;stroke-linejoin:miter;stroke-opacity:1;\"/>\n",
       "<path d=\"M 545.2,40.6 L 544.1,37.4 L 540.8,36.7\" style=\"fill:none;stroke:#000000;stroke-width:2.0px;stroke-linecap:butt;stroke-linejoin:miter;stroke-opacity:1;\"/>\n",
       "<path d=\"M 481.7,24.1 L 478.5,23.4 L 476.2,25.9\" style=\"fill:none;stroke:#000000;stroke-width:2.0px;stroke-linecap:butt;stroke-linejoin:miter;stroke-opacity:1;\"/>\n",
       "<path d=\"M 323.8,25.9 L 321.5,23.4 L 318.3,24.1\" style=\"fill:none;stroke:#000000;stroke-width:2.0px;stroke-linecap:butt;stroke-linejoin:miter;stroke-opacity:1;\"/>\n",
       "<path d=\"M 259.2,36.7 L 255.9,37.4 L 254.8,40.6\" style=\"fill:none;stroke:#000000;stroke-width:2.0px;stroke-linecap:butt;stroke-linejoin:miter;stroke-opacity:1;\"/>\n",
       "<path d=\"M 236.2,98.0 L 235.1,101.2 L 237.4,103.7\" style=\"fill:none;stroke:#000000;stroke-width:2.0px;stroke-linecap:butt;stroke-linejoin:miter;stroke-opacity:1;\"/>\n",
       "<path d=\"M 277.8,148.6 L 280.1,151.1 L 283.3,150.4\" style=\"fill:none;stroke:#000000;stroke-width:2.0px;stroke-linecap:butt;stroke-linejoin:miter;stroke-opacity:1;\"/>\n",
       "<rect x=\"1\" y=\"5\" width=\"18.0\" height=\"18.0\" fill=\"rgb(31, 119, 179)\"/><text x=\"19.200000000000003\" y=\"20\" font-family=\"Helvetica\" font-size=\"12\" fill=\"black\">aCH: 8</text><rect x=\"1\" y=\"30\" width=\"18.0\" height=\"18.0\" fill=\"rgb(255, 127, 13)\"/><text x=\"19.200000000000003\" y=\"45\" font-family=\"Helvetica\" font-size=\"12\" fill=\"black\">aC fused with aromatic ring: 2</text><rect x=\"1\" y=\"55\" width=\"18.0\" height=\"18.0\" fill=\"rgb(44, 159, 44)\"/><text x=\"19.200000000000003\" y=\"70\" font-family=\"Helvetica\" font-size=\"12\" fill=\"black\">aC fused with non-aromatic ring: 2</text><rect x=\"1\" y=\"80\" width=\"18.0\" height=\"18.0\" fill=\"rgb(214, 39, 40)\"/><text x=\"19.200000000000003\" y=\"95\" font-family=\"Helvetica\" font-size=\"12\" fill=\"black\">CH2 (cyclic): 1</text><text x=\"400.0\" y=\"40\" font-family=\"Helvetica\" font-size=\"12\" font-weight=\"bold\" fill=\"black\" text-anchor=\"middle\"/></svg>"
      ],
      "text/plain": [
       "<IPython.core.display.SVG object>"
      ]
     },
     "execution_count": 76,
     "metadata": {},
     "output_type": "execute_result"
    }
   ],
   "source": [
    "fluorene.primary.draw(width=800)"
   ]
  },
  {
   "cell_type": "code",
   "execution_count": 77,
   "metadata": {},
   "outputs": [
    {
     "data": {
      "image/svg+xml": [
       "<svg xmlns=\"http://www.w3.org/2000/svg\" xmlns:rdkit=\"http://www.rdkit.org/xml\" xmlns:xlink=\"http://www.w3.org/1999/xlink\" version=\"1.1\" baseProfile=\"full\" xml:space=\"preserve\" width=\"800px\" height=\"200px\" viewBox=\"0 0 800 200\">\n",
       "<!-- END OF HEADER -->\n",
       "<rect style=\"opacity:1.0;fill:#FFFFFF;stroke:none\" width=\"800.0\" height=\"200.0\" x=\"0.0\" y=\"0.0\"> </rect>\n",
       "<ellipse cx=\"400.0\" cy=\"176.6\" rx=\"13.4\" ry=\"13.4\" class=\"atom-0\" style=\"fill:#FF7F0EA5;fill-rule:evenodd;stroke:#FF7F0EA5;stroke-width:1.0px;stroke-linecap:butt;stroke-linejoin:miter;stroke-opacity:1\"/>\n",
       "<ellipse cx=\"454.3\" cy=\"137.1\" rx=\"13.4\" ry=\"13.4\" class=\"atom-1\" style=\"fill:#2CA02CA5;fill-rule:evenodd;stroke:#2CA02CA5;stroke-width:1.0px;stroke-linecap:butt;stroke-linejoin:miter;stroke-opacity:1\"/>\n",
       "<ellipse cx=\"519.9\" cy=\"151.1\" rx=\"13.4\" ry=\"13.4\" class=\"atom-2\" style=\"fill:#2CA02CA5;fill-rule:evenodd;stroke:#2CA02CA5;stroke-width:1.0px;stroke-linecap:butt;stroke-linejoin:miter;stroke-opacity:1\"/>\n",
       "<ellipse cx=\"564.9\" cy=\"101.2\" rx=\"13.4\" ry=\"13.4\" class=\"atom-3\" style=\"fill:#2CA02CA5;fill-rule:evenodd;stroke:#2CA02CA5;stroke-width:1.0px;stroke-linecap:butt;stroke-linejoin:miter;stroke-opacity:1\"/>\n",
       "<ellipse cx=\"544.1\" cy=\"37.4\" rx=\"13.4\" ry=\"13.4\" class=\"atom-4\" style=\"fill:#2CA02CA5;fill-rule:evenodd;stroke:#2CA02CA5;stroke-width:1.0px;stroke-linecap:butt;stroke-linejoin:miter;stroke-opacity:1\"/>\n",
       "<ellipse cx=\"478.5\" cy=\"23.4\" rx=\"13.4\" ry=\"13.4\" class=\"atom-5\" style=\"fill:#2CA02CA5;fill-rule:evenodd;stroke:#2CA02CA5;stroke-width:1.0px;stroke-linecap:butt;stroke-linejoin:miter;stroke-opacity:1\"/>\n",
       "<ellipse cx=\"433.6\" cy=\"73.3\" rx=\"13.4\" ry=\"13.4\" class=\"atom-6\" style=\"fill:#2CA02CA5;fill-rule:evenodd;stroke:#2CA02CA5;stroke-width:1.0px;stroke-linecap:butt;stroke-linejoin:miter;stroke-opacity:1\"/>\n",
       "<ellipse cx=\"366.4\" cy=\"73.3\" rx=\"13.4\" ry=\"13.4\" class=\"atom-7\" style=\"fill:#2CA02CA5;fill-rule:evenodd;stroke:#2CA02CA5;stroke-width:1.0px;stroke-linecap:butt;stroke-linejoin:miter;stroke-opacity:1\"/>\n",
       "<ellipse cx=\"321.5\" cy=\"23.4\" rx=\"13.4\" ry=\"13.4\" class=\"atom-8\" style=\"fill:#2CA02CA5;fill-rule:evenodd;stroke:#2CA02CA5;stroke-width:1.0px;stroke-linecap:butt;stroke-linejoin:miter;stroke-opacity:1\"/>\n",
       "<ellipse cx=\"255.9\" cy=\"37.4\" rx=\"13.4\" ry=\"13.4\" class=\"atom-9\" style=\"fill:#2CA02CA5;fill-rule:evenodd;stroke:#2CA02CA5;stroke-width:1.0px;stroke-linecap:butt;stroke-linejoin:miter;stroke-opacity:1\"/>\n",
       "<ellipse cx=\"235.1\" cy=\"101.2\" rx=\"13.4\" ry=\"13.4\" class=\"atom-10\" style=\"fill:#2CA02CA5;fill-rule:evenodd;stroke:#2CA02CA5;stroke-width:1.0px;stroke-linecap:butt;stroke-linejoin:miter;stroke-opacity:1\"/>\n",
       "<ellipse cx=\"280.1\" cy=\"151.1\" rx=\"13.4\" ry=\"13.4\" class=\"atom-11\" style=\"fill:#2CA02CA5;fill-rule:evenodd;stroke:#2CA02CA5;stroke-width:1.0px;stroke-linecap:butt;stroke-linejoin:miter;stroke-opacity:1\"/>\n",
       "<ellipse cx=\"345.7\" cy=\"137.1\" rx=\"13.4\" ry=\"13.4\" class=\"atom-12\" style=\"fill:#2CA02CA5;fill-rule:evenodd;stroke:#2CA02CA5;stroke-width:1.0px;stroke-linecap:butt;stroke-linejoin:miter;stroke-opacity:1\"/>\n",
       "<path class=\"bond-0 atom-0 atom-1\" d=\"M 400.0,176.6 L 454.3,137.1\" style=\"fill:none;fill-rule:evenodd;stroke:#000000;stroke-width:2.0px;stroke-linecap:butt;stroke-linejoin:miter;stroke-opacity:1\"/>\n",
       "<path class=\"bond-1 atom-1 atom-2\" d=\"M 454.3,137.1 L 519.9,151.1\" style=\"fill:none;fill-rule:evenodd;stroke:#000000;stroke-width:2.0px;stroke-linecap:butt;stroke-linejoin:miter;stroke-opacity:1\"/>\n",
       "<path class=\"bond-1 atom-1 atom-2\" d=\"M 462.1,128.5 L 516.4,140.0\" style=\"fill:none;fill-rule:evenodd;stroke:#000000;stroke-width:2.0px;stroke-linecap:butt;stroke-linejoin:miter;stroke-opacity:1\"/>\n",
       "<path class=\"bond-2 atom-2 atom-3\" d=\"M 519.9,151.1 L 564.9,101.2\" style=\"fill:none;fill-rule:evenodd;stroke:#000000;stroke-width:2.0px;stroke-linecap:butt;stroke-linejoin:miter;stroke-opacity:1\"/>\n",
       "<path class=\"bond-3 atom-3 atom-4\" d=\"M 564.9,101.2 L 544.1,37.4\" style=\"fill:none;fill-rule:evenodd;stroke:#000000;stroke-width:2.0px;stroke-linecap:butt;stroke-linejoin:miter;stroke-opacity:1\"/>\n",
       "<path class=\"bond-3 atom-3 atom-4\" d=\"M 553.5,98.8 L 536.3,46.0\" style=\"fill:none;fill-rule:evenodd;stroke:#000000;stroke-width:2.0px;stroke-linecap:butt;stroke-linejoin:miter;stroke-opacity:1\"/>\n",
       "<path class=\"bond-4 atom-4 atom-5\" d=\"M 544.1,37.4 L 478.5,23.4\" style=\"fill:none;fill-rule:evenodd;stroke:#000000;stroke-width:2.0px;stroke-linecap:butt;stroke-linejoin:miter;stroke-opacity:1\"/>\n",
       "<path class=\"bond-5 atom-5 atom-6\" d=\"M 478.5,23.4 L 433.6,73.3\" style=\"fill:none;fill-rule:evenodd;stroke:#000000;stroke-width:2.0px;stroke-linecap:butt;stroke-linejoin:miter;stroke-opacity:1\"/>\n",
       "<path class=\"bond-5 atom-5 atom-6\" d=\"M 482.1,34.5 L 444.9,75.7\" style=\"fill:none;fill-rule:evenodd;stroke:#000000;stroke-width:2.0px;stroke-linecap:butt;stroke-linejoin:miter;stroke-opacity:1\"/>\n",
       "<path class=\"bond-6 atom-6 atom-7\" d=\"M 433.6,73.3 L 366.4,73.3\" style=\"fill:none;fill-rule:evenodd;stroke:#000000;stroke-width:2.0px;stroke-linecap:butt;stroke-linejoin:miter;stroke-opacity:1\"/>\n",
       "<path class=\"bond-7 atom-7 atom-8\" d=\"M 366.4,73.3 L 321.5,23.4\" style=\"fill:none;fill-rule:evenodd;stroke:#000000;stroke-width:2.0px;stroke-linecap:butt;stroke-linejoin:miter;stroke-opacity:1\"/>\n",
       "<path class=\"bond-7 atom-7 atom-8\" d=\"M 355.1,75.7 L 317.9,34.5\" style=\"fill:none;fill-rule:evenodd;stroke:#000000;stroke-width:2.0px;stroke-linecap:butt;stroke-linejoin:miter;stroke-opacity:1\"/>\n",
       "<path class=\"bond-8 atom-8 atom-9\" d=\"M 321.5,23.4 L 255.9,37.4\" style=\"fill:none;fill-rule:evenodd;stroke:#000000;stroke-width:2.0px;stroke-linecap:butt;stroke-linejoin:miter;stroke-opacity:1\"/>\n",
       "<path class=\"bond-9 atom-9 atom-10\" d=\"M 255.9,37.4 L 235.1,101.2\" style=\"fill:none;fill-rule:evenodd;stroke:#000000;stroke-width:2.0px;stroke-linecap:butt;stroke-linejoin:miter;stroke-opacity:1\"/>\n",
       "<path class=\"bond-9 atom-9 atom-10\" d=\"M 263.7,46.0 L 246.5,98.8\" style=\"fill:none;fill-rule:evenodd;stroke:#000000;stroke-width:2.0px;stroke-linecap:butt;stroke-linejoin:miter;stroke-opacity:1\"/>\n",
       "<path class=\"bond-10 atom-10 atom-11\" d=\"M 235.1,101.2 L 280.1,151.1\" style=\"fill:none;fill-rule:evenodd;stroke:#000000;stroke-width:2.0px;stroke-linecap:butt;stroke-linejoin:miter;stroke-opacity:1\"/>\n",
       "<path class=\"bond-11 atom-11 atom-12\" d=\"M 280.1,151.1 L 345.7,137.1\" style=\"fill:none;fill-rule:evenodd;stroke:#000000;stroke-width:2.0px;stroke-linecap:butt;stroke-linejoin:miter;stroke-opacity:1\"/>\n",
       "<path class=\"bond-11 atom-11 atom-12\" d=\"M 283.6,140.0 L 337.9,128.5\" style=\"fill:none;fill-rule:evenodd;stroke:#000000;stroke-width:2.0px;stroke-linecap:butt;stroke-linejoin:miter;stroke-opacity:1\"/>\n",
       "<path class=\"bond-12 atom-12 atom-0\" d=\"M 345.7,137.1 L 400.0,176.6\" style=\"fill:none;fill-rule:evenodd;stroke:#000000;stroke-width:2.0px;stroke-linecap:butt;stroke-linejoin:miter;stroke-opacity:1\"/>\n",
       "<path class=\"bond-13 atom-6 atom-1\" d=\"M 433.6,73.3 L 454.3,137.1\" style=\"fill:none;fill-rule:evenodd;stroke:#000000;stroke-width:2.0px;stroke-linecap:butt;stroke-linejoin:miter;stroke-opacity:1\"/>\n",
       "<path class=\"bond-14 atom-12 atom-7\" d=\"M 345.7,137.1 L 366.4,73.3\" style=\"fill:none;fill-rule:evenodd;stroke:#000000;stroke-width:2.0px;stroke-linecap:butt;stroke-linejoin:miter;stroke-opacity:1\"/>\n",
       "<path d=\"M 402.7,174.6 L 400.0,176.6 L 397.3,174.6\" style=\"fill:none;stroke:#000000;stroke-width:2.0px;stroke-linecap:butt;stroke-linejoin:miter;stroke-opacity:1;\"/>\n",
       "<path d=\"M 516.7,150.4 L 519.9,151.1 L 522.2,148.6\" style=\"fill:none;stroke:#000000;stroke-width:2.0px;stroke-linecap:butt;stroke-linejoin:miter;stroke-opacity:1;\"/>\n",
       "<path d=\"M 562.6,103.7 L 564.9,101.2 L 563.8,98.0\" style=\"fill:none;stroke:#000000;stroke-width:2.0px;stroke-linecap:butt;stroke-linejoin:miter;stroke-opacity:1;\"/>\n",
       "<path d=\"M 545.2,40.6 L 544.1,37.4 L 540.8,36.7\" style=\"fill:none;stroke:#000000;stroke-width:2.0px;stroke-linecap:butt;stroke-linejoin:miter;stroke-opacity:1;\"/>\n",
       "<path d=\"M 481.7,24.1 L 478.5,23.4 L 476.2,25.9\" style=\"fill:none;stroke:#000000;stroke-width:2.0px;stroke-linecap:butt;stroke-linejoin:miter;stroke-opacity:1;\"/>\n",
       "<path d=\"M 323.8,25.9 L 321.5,23.4 L 318.3,24.1\" style=\"fill:none;stroke:#000000;stroke-width:2.0px;stroke-linecap:butt;stroke-linejoin:miter;stroke-opacity:1;\"/>\n",
       "<path d=\"M 259.2,36.7 L 255.9,37.4 L 254.8,40.6\" style=\"fill:none;stroke:#000000;stroke-width:2.0px;stroke-linecap:butt;stroke-linejoin:miter;stroke-opacity:1;\"/>\n",
       "<path d=\"M 236.2,98.0 L 235.1,101.2 L 237.4,103.7\" style=\"fill:none;stroke:#000000;stroke-width:2.0px;stroke-linecap:butt;stroke-linejoin:miter;stroke-opacity:1;\"/>\n",
       "<path d=\"M 277.8,148.6 L 280.1,151.1 L 283.3,150.4\" style=\"fill:none;stroke:#000000;stroke-width:2.0px;stroke-linecap:butt;stroke-linejoin:miter;stroke-opacity:1;\"/>\n",
       "<rect x=\"1\" y=\"5\" width=\"18.0\" height=\"18.0\" fill=\"rgb(31, 119, 179)\"/><text x=\"19.200000000000003\" y=\"20\" font-family=\"Helvetica\" font-size=\"12\" fill=\"black\">aC-aC (different rings): 1</text><rect x=\"1\" y=\"30\" width=\"18.0\" height=\"18.0\" fill=\"rgb(255, 127, 13)\"/><text x=\"19.200000000000003\" y=\"45\" font-family=\"Helvetica\" font-size=\"12\" fill=\"black\">aC-CHncyc (fused rings) (n in 0..1): 2</text><rect x=\"1\" y=\"55\" width=\"18.0\" height=\"18.0\" fill=\"rgb(44, 159, 44)\"/><text x=\"19.200000000000003\" y=\"70\" font-family=\"Helvetica\" font-size=\"12\" fill=\"black\">AROM.FUSED[2]: 2</text><text x=\"400.0\" y=\"40\" font-family=\"Helvetica\" font-size=\"12\" font-weight=\"bold\" fill=\"black\" text-anchor=\"middle\"/></svg>"
      ],
      "text/plain": [
       "<IPython.core.display.SVG object>"
      ]
     },
     "execution_count": 77,
     "metadata": {},
     "output_type": "execute_result"
    }
   ],
   "source": [
    "fluorene.tertiary.draw(width=800)"
   ]
  },
  {
   "cell_type": "markdown",
   "metadata": {},
   "source": [
    "Finally, getting multiple solutions. Secondary and tertiary structures can\n",
    "be overlapped so they doesn't generate multiple solutions. But of course, the\n",
    "primary structures will generate multiple solutions. Let's see an example:"
   ]
  },
  {
   "cell_type": "code",
   "execution_count": 78,
   "metadata": {},
   "outputs": [],
   "source": [
    "mol = abdulelah_gani.get_groups(\"COc1ccccc1N(=O)=O\", \"smiles\", search_multiple_solutions=True)"
   ]
  },
  {
   "cell_type": "code",
   "execution_count": 84,
   "metadata": {},
   "outputs": [
    {
     "data": {
      "image/svg+xml": [
       "<svg xmlns=\"http://www.w3.org/2000/svg\" xmlns:rdkit=\"http://www.rdkit.org/xml\" xmlns:xlink=\"http://www.w3.org/1999/xlink\" version=\"1.1\" baseProfile=\"full\" xml:space=\"preserve\" width=\"600px\" height=\"200px\" viewBox=\"0 0 600 200\">\n",
       "<!-- END OF HEADER -->\n",
       "<rect style=\"opacity:1.0;fill:#FFFFFF;stroke:none\" width=\"600.0\" height=\"200.0\" x=\"0.0\" y=\"0.0\"> </rect>\n",
       "<ellipse cx=\"263.9\" cy=\"181.0\" rx=\"9.0\" ry=\"9.0\" class=\"atom-0\" style=\"fill:#1F77B4A5;fill-rule:evenodd;stroke:#1F77B4A5;stroke-width:1.0px;stroke-linecap:butt;stroke-linejoin:miter;stroke-opacity:1\"/>\n",
       "<ellipse cx=\"293.2\" cy=\"146.8\" rx=\"9.0\" ry=\"9.3\" class=\"atom-1\" style=\"fill:#2CA02CA5;fill-rule:evenodd;stroke:#2CA02CA5;stroke-width:1.0px;stroke-linecap:butt;stroke-linejoin:miter;stroke-opacity:1\"/>\n",
       "<ellipse cx=\"278.2\" cy=\"104.1\" rx=\"9.0\" ry=\"9.0\" class=\"atom-2\" style=\"fill:#2CA02CA5;fill-rule:evenodd;stroke:#2CA02CA5;stroke-width:1.0px;stroke-linecap:butt;stroke-linejoin:miter;stroke-opacity:1\"/>\n",
       "<ellipse cx=\"233.8\" cy=\"95.9\" rx=\"9.0\" ry=\"9.0\" class=\"atom-3\" style=\"fill:#FF7F0EA5;fill-rule:evenodd;stroke:#FF7F0EA5;stroke-width:1.0px;stroke-linecap:butt;stroke-linejoin:miter;stroke-opacity:1\"/>\n",
       "<ellipse cx=\"218.8\" cy=\"53.3\" rx=\"9.0\" ry=\"9.0\" class=\"atom-4\" style=\"fill:#FF7F0EA5;fill-rule:evenodd;stroke:#FF7F0EA5;stroke-width:1.0px;stroke-linecap:butt;stroke-linejoin:miter;stroke-opacity:1\"/>\n",
       "<ellipse cx=\"248.1\" cy=\"19.0\" rx=\"9.0\" ry=\"9.0\" class=\"atom-5\" style=\"fill:#FF7F0EA5;fill-rule:evenodd;stroke:#FF7F0EA5;stroke-width:1.0px;stroke-linecap:butt;stroke-linejoin:miter;stroke-opacity:1\"/>\n",
       "<ellipse cx=\"292.5\" cy=\"27.3\" rx=\"9.0\" ry=\"9.0\" class=\"atom-6\" style=\"fill:#FF7F0EA5;fill-rule:evenodd;stroke:#FF7F0EA5;stroke-width:1.0px;stroke-linecap:butt;stroke-linejoin:miter;stroke-opacity:1\"/>\n",
       "<ellipse cx=\"307.5\" cy=\"69.8\" rx=\"9.0\" ry=\"9.0\" class=\"atom-7\" style=\"fill:#D62728A5;fill-rule:evenodd;stroke:#D62728A5;stroke-width:1.0px;stroke-linecap:butt;stroke-linejoin:miter;stroke-opacity:1\"/>\n",
       "<ellipse cx=\"355.9\" cy=\"78.0\" rx=\"12.5\" ry=\"9.1\" class=\"atom-8\" style=\"fill:#D62728A5;fill-rule:evenodd;stroke:#D62728A5;stroke-width:1.0px;stroke-linecap:butt;stroke-linejoin:miter;stroke-opacity:1\"/>\n",
       "<ellipse cx=\"370.0\" cy=\"120.7\" rx=\"12.7\" ry=\"9.3\" class=\"atom-9\" style=\"fill:#D62728A5;fill-rule:evenodd;stroke:#D62728A5;stroke-width:1.0px;stroke-linecap:butt;stroke-linejoin:miter;stroke-opacity:1\"/>\n",
       "<ellipse cx=\"381.2\" cy=\"43.9\" rx=\"9.0\" ry=\"9.3\" class=\"atom-10\" style=\"fill:#D62728A5;fill-rule:evenodd;stroke:#D62728A5;stroke-width:1.0px;stroke-linecap:butt;stroke-linejoin:miter;stroke-opacity:1\"/>\n",
       "<path class=\"bond-0 atom-0 atom-1\" d=\"M 263.9,181.0 L 275.1,167.9\" style=\"fill:none;fill-rule:evenodd;stroke:#000000;stroke-width:2.0px;stroke-linecap:butt;stroke-linejoin:miter;stroke-opacity:1\"/>\n",
       "<path class=\"bond-0 atom-0 atom-1\" d=\"M 275.1,167.9 L 286.3,154.8\" style=\"fill:none;fill-rule:evenodd;stroke:#FF0000;stroke-width:2.0px;stroke-linecap:butt;stroke-linejoin:miter;stroke-opacity:1\"/>\n",
       "<path class=\"bond-1 atom-1 atom-2\" d=\"M 290.4,138.7 L 284.3,121.4\" style=\"fill:none;fill-rule:evenodd;stroke:#FF0000;stroke-width:2.0px;stroke-linecap:butt;stroke-linejoin:miter;stroke-opacity:1\"/>\n",
       "<path class=\"bond-1 atom-1 atom-2\" d=\"M 284.3,121.4 L 278.2,104.1\" style=\"fill:none;fill-rule:evenodd;stroke:#000000;stroke-width:2.0px;stroke-linecap:butt;stroke-linejoin:miter;stroke-opacity:1\"/>\n",
       "<path class=\"bond-2 atom-2 atom-3\" d=\"M 278.2,104.1 L 233.8,95.9\" style=\"fill:none;fill-rule:evenodd;stroke:#000000;stroke-width:2.0px;stroke-linecap:butt;stroke-linejoin:miter;stroke-opacity:1\"/>\n",
       "<path class=\"bond-2 atom-2 atom-3\" d=\"M 275.6,96.8 L 238.9,89.9\" style=\"fill:none;fill-rule:evenodd;stroke:#000000;stroke-width:2.0px;stroke-linecap:butt;stroke-linejoin:miter;stroke-opacity:1\"/>\n",
       "<path class=\"bond-3 atom-3 atom-4\" d=\"M 233.8,95.9 L 218.8,53.3\" style=\"fill:none;fill-rule:evenodd;stroke:#000000;stroke-width:2.0px;stroke-linecap:butt;stroke-linejoin:miter;stroke-opacity:1\"/>\n",
       "<path class=\"bond-4 atom-4 atom-5\" d=\"M 218.8,53.3 L 248.1,19.0\" style=\"fill:none;fill-rule:evenodd;stroke:#000000;stroke-width:2.0px;stroke-linecap:butt;stroke-linejoin:miter;stroke-opacity:1\"/>\n",
       "<path class=\"bond-4 atom-4 atom-5\" d=\"M 226.5,54.8 L 250.7,26.4\" style=\"fill:none;fill-rule:evenodd;stroke:#000000;stroke-width:2.0px;stroke-linecap:butt;stroke-linejoin:miter;stroke-opacity:1\"/>\n",
       "<path class=\"bond-5 atom-5 atom-6\" d=\"M 248.1,19.0 L 292.5,27.3\" style=\"fill:none;fill-rule:evenodd;stroke:#000000;stroke-width:2.0px;stroke-linecap:butt;stroke-linejoin:miter;stroke-opacity:1\"/>\n",
       "<path class=\"bond-6 atom-6 atom-7\" d=\"M 292.5,27.3 L 307.5,69.8\" style=\"fill:none;fill-rule:evenodd;stroke:#000000;stroke-width:2.0px;stroke-linecap:butt;stroke-linejoin:miter;stroke-opacity:1\"/>\n",
       "<path class=\"bond-6 atom-6 atom-7\" d=\"M 287.4,33.2 L 299.8,68.4\" style=\"fill:none;fill-rule:evenodd;stroke:#000000;stroke-width:2.0px;stroke-linecap:butt;stroke-linejoin:miter;stroke-opacity:1\"/>\n",
       "<path class=\"bond-7 atom-7 atom-8\" d=\"M 307.5,69.8 L 326.5,73.4\" style=\"fill:none;fill-rule:evenodd;stroke:#000000;stroke-width:2.0px;stroke-linecap:butt;stroke-linejoin:miter;stroke-opacity:1\"/>\n",
       "<path class=\"bond-7 atom-7 atom-8\" d=\"M 326.5,73.4 L 345.6,76.9\" style=\"fill:none;fill-rule:evenodd;stroke:#0000FF;stroke-width:2.0px;stroke-linecap:butt;stroke-linejoin:miter;stroke-opacity:1\"/>\n",
       "<path class=\"bond-8 atom-8 atom-9\" d=\"M 354.7,85.9 L 359.4,99.3\" style=\"fill:none;fill-rule:evenodd;stroke:#0000FF;stroke-width:2.0px;stroke-linecap:butt;stroke-linejoin:miter;stroke-opacity:1\"/>\n",
       "<path class=\"bond-8 atom-8 atom-9\" d=\"M 359.4,99.3 L 364.1,112.7\" style=\"fill:none;fill-rule:evenodd;stroke:#FF0000;stroke-width:2.0px;stroke-linecap:butt;stroke-linejoin:miter;stroke-opacity:1\"/>\n",
       "<path class=\"bond-9 atom-8 atom-10\" d=\"M 361.3,72.3 L 369.0,63.2\" style=\"fill:none;fill-rule:evenodd;stroke:#0000FF;stroke-width:2.0px;stroke-linecap:butt;stroke-linejoin:miter;stroke-opacity:1\"/>\n",
       "<path class=\"bond-9 atom-8 atom-10\" d=\"M 369.0,63.2 L 376.8,54.1\" style=\"fill:none;fill-rule:evenodd;stroke:#FF0000;stroke-width:2.0px;stroke-linecap:butt;stroke-linejoin:miter;stroke-opacity:1\"/>\n",
       "<path class=\"bond-9 atom-8 atom-10\" d=\"M 356.1,67.9 L 363.9,58.8\" style=\"fill:none;fill-rule:evenodd;stroke:#0000FF;stroke-width:2.0px;stroke-linecap:butt;stroke-linejoin:miter;stroke-opacity:1\"/>\n",
       "<path class=\"bond-9 atom-8 atom-10\" d=\"M 363.9,58.8 L 371.7,49.7\" style=\"fill:none;fill-rule:evenodd;stroke:#FF0000;stroke-width:2.0px;stroke-linecap:butt;stroke-linejoin:miter;stroke-opacity:1\"/>\n",
       "<path class=\"bond-10 atom-7 atom-2\" d=\"M 307.5,69.8 L 278.2,104.1\" style=\"fill:none;fill-rule:evenodd;stroke:#000000;stroke-width:2.0px;stroke-linecap:butt;stroke-linejoin:miter;stroke-opacity:1\"/>\n",
       "<path d=\"M 236.0,96.3 L 233.8,95.9 L 233.1,93.8\" style=\"fill:none;stroke:#000000;stroke-width:2.0px;stroke-linecap:butt;stroke-linejoin:miter;stroke-opacity:1;\"/>\n",
       "<path d=\"M 219.5,55.5 L 218.8,53.3 L 220.2,51.6\" style=\"fill:none;stroke:#000000;stroke-width:2.0px;stroke-linecap:butt;stroke-linejoin:miter;stroke-opacity:1;\"/>\n",
       "<path d=\"M 246.6,20.7 L 248.1,19.0 L 250.3,19.4\" style=\"fill:none;stroke:#000000;stroke-width:2.0px;stroke-linecap:butt;stroke-linejoin:miter;stroke-opacity:1;\"/>\n",
       "<path d=\"M 290.3,26.9 L 292.5,27.3 L 293.2,29.4\" style=\"fill:none;stroke:#000000;stroke-width:2.0px;stroke-linecap:butt;stroke-linejoin:miter;stroke-opacity:1;\"/>\n",
       "<path class=\"atom-1\" d=\"M 287.4 146.7 Q 287.4 143.6, 288.9 141.9 Q 290.4 140.2, 293.2 140.2 Q 296.1 140.2, 297.6 141.9 Q 299.1 143.6, 299.1 146.7 Q 299.1 149.8, 297.6 151.6 Q 296.0 153.3, 293.2 153.3 Q 290.4 153.3, 288.9 151.6 Q 287.4 149.8, 287.4 146.7 M 293.2 151.9 Q 295.2 151.9, 296.2 150.6 Q 297.3 149.3, 297.3 146.7 Q 297.3 144.2, 296.2 142.9 Q 295.2 141.7, 293.2 141.7 Q 291.3 141.7, 290.2 142.9 Q 289.2 144.2, 289.2 146.7 Q 289.2 149.3, 290.2 150.6 Q 291.3 151.9, 293.2 151.9 \" fill=\"#FF0000\"/>\n",
       "<path class=\"atom-8\" d=\"M 349.1 71.7 L 353.3 78.4 Q 353.7 79.1, 354.3 80.3 Q 355.0 81.5, 355.0 81.6 L 355.0 71.7 L 356.7 71.7 L 356.7 84.5 L 355.0 84.5 L 350.5 77.1 Q 350.0 76.2, 349.4 75.2 Q 348.9 74.2, 348.7 73.9 L 348.7 84.5 L 347.0 84.5 L 347.0 71.7 L 349.1 71.7 \" fill=\"#0000FF\"/>\n",
       "<path class=\"atom-8\" d=\"M 359.1 74.0 L 361.4 74.0 L 361.4 71.6 L 362.4 71.6 L 362.4 74.0 L 364.7 74.0 L 364.7 74.8 L 362.4 74.8 L 362.4 77.2 L 361.4 77.2 L 361.4 74.8 L 359.1 74.8 L 359.1 74.0 \" fill=\"#0000FF\"/>\n",
       "<path class=\"atom-9\" d=\"M 361.1 120.6 Q 361.1 117.6, 362.6 115.9 Q 364.1 114.1, 366.9 114.1 Q 369.8 114.1, 371.3 115.9 Q 372.8 117.6, 372.8 120.6 Q 372.8 123.8, 371.3 125.5 Q 369.7 127.3, 366.9 127.3 Q 364.1 127.3, 362.6 125.5 Q 361.1 123.8, 361.1 120.6 M 366.9 125.8 Q 368.9 125.8, 369.9 124.5 Q 371.0 123.2, 371.0 120.6 Q 371.0 118.1, 369.9 116.9 Q 368.9 115.6, 366.9 115.6 Q 365.0 115.6, 363.9 116.9 Q 362.9 118.1, 362.9 120.6 Q 362.9 123.2, 363.9 124.5 Q 365.0 125.8, 366.9 125.8 \" fill=\"#FF0000\"/>\n",
       "<path class=\"atom-9\" d=\"M 374.6 116.2 L 379.0 116.2 L 379.0 117.2 L 374.6 117.2 L 374.6 116.2 \" fill=\"#FF0000\"/>\n",
       "<path class=\"atom-10\" d=\"M 375.4 43.8 Q 375.4 40.7, 376.9 39.0 Q 378.4 37.3, 381.2 37.3 Q 384.1 37.3, 385.6 39.0 Q 387.1 40.7, 387.1 43.8 Q 387.1 46.9, 385.6 48.7 Q 384.0 50.4, 381.2 50.4 Q 378.4 50.4, 376.9 48.7 Q 375.4 46.9, 375.4 43.8 M 381.2 49.0 Q 383.2 49.0, 384.2 47.7 Q 385.3 46.4, 385.3 43.8 Q 385.3 41.3, 384.2 40.0 Q 383.2 38.7, 381.2 38.7 Q 379.3 38.7, 378.2 40.0 Q 377.2 41.3, 377.2 43.8 Q 377.2 46.4, 378.2 47.7 Q 379.3 49.0, 381.2 49.0 \" fill=\"#FF0000\"/>\n",
       "<rect x=\"1\" y=\"5\" width=\"18.0\" height=\"18.0\" fill=\"rgb(31, 119, 179)\"/><text x=\"19.200000000000003\" y=\"20\" font-family=\"Helvetica\" font-size=\"12\" fill=\"black\">CH3: 1</text><rect x=\"1\" y=\"30\" width=\"18.0\" height=\"18.0\" fill=\"rgb(255, 127, 13)\"/><text x=\"19.200000000000003\" y=\"45\" font-family=\"Helvetica\" font-size=\"12\" fill=\"black\">aCH: 4</text><rect x=\"1\" y=\"55\" width=\"18.0\" height=\"18.0\" fill=\"rgb(44, 159, 44)\"/><text x=\"19.200000000000003\" y=\"70\" font-family=\"Helvetica\" font-size=\"12\" fill=\"black\">aC-O: 1</text><rect x=\"1\" y=\"80\" width=\"18.0\" height=\"18.0\" fill=\"rgb(214, 39, 40)\"/><text x=\"19.200000000000003\" y=\"95\" font-family=\"Helvetica\" font-size=\"12\" fill=\"black\">aC-NO2: 1</text><text x=\"300.0\" y=\"40\" font-family=\"Helvetica\" font-size=\"12\" font-weight=\"bold\" fill=\"black\" text-anchor=\"middle\"/></svg>"
      ],
      "text/plain": [
       "<IPython.core.display.SVG object>"
      ]
     },
     "execution_count": 84,
     "metadata": {},
     "output_type": "execute_result"
    }
   ],
   "source": [
    "mol[0].primary.draw(width=600)"
   ]
  },
  {
   "cell_type": "code",
   "execution_count": 85,
   "metadata": {},
   "outputs": [
    {
     "data": {
      "image/svg+xml": [
       "<svg xmlns=\"http://www.w3.org/2000/svg\" xmlns:rdkit=\"http://www.rdkit.org/xml\" xmlns:xlink=\"http://www.w3.org/1999/xlink\" version=\"1.1\" baseProfile=\"full\" xml:space=\"preserve\" width=\"600px\" height=\"200px\" viewBox=\"0 0 600 200\">\n",
       "<!-- END OF HEADER -->\n",
       "<rect style=\"opacity:1.0;fill:#FFFFFF;stroke:none\" width=\"600.0\" height=\"200.0\" x=\"0.0\" y=\"0.0\"> </rect>\n",
       "<ellipse cx=\"263.9\" cy=\"181.0\" rx=\"9.0\" ry=\"9.0\" class=\"atom-0\" style=\"fill:#2CA02CA5;fill-rule:evenodd;stroke:#2CA02CA5;stroke-width:1.0px;stroke-linecap:butt;stroke-linejoin:miter;stroke-opacity:1\"/>\n",
       "<ellipse cx=\"293.2\" cy=\"146.8\" rx=\"9.0\" ry=\"9.3\" class=\"atom-1\" style=\"fill:#2CA02CA5;fill-rule:evenodd;stroke:#2CA02CA5;stroke-width:1.0px;stroke-linecap:butt;stroke-linejoin:miter;stroke-opacity:1\"/>\n",
       "<ellipse cx=\"278.2\" cy=\"104.1\" rx=\"9.0\" ry=\"9.0\" class=\"atom-2\" style=\"fill:#FF7F0EA5;fill-rule:evenodd;stroke:#FF7F0EA5;stroke-width:1.0px;stroke-linecap:butt;stroke-linejoin:miter;stroke-opacity:1\"/>\n",
       "<ellipse cx=\"233.8\" cy=\"95.9\" rx=\"9.0\" ry=\"9.0\" class=\"atom-3\" style=\"fill:#1F77B4A5;fill-rule:evenodd;stroke:#1F77B4A5;stroke-width:1.0px;stroke-linecap:butt;stroke-linejoin:miter;stroke-opacity:1\"/>\n",
       "<ellipse cx=\"218.8\" cy=\"53.3\" rx=\"9.0\" ry=\"9.0\" class=\"atom-4\" style=\"fill:#1F77B4A5;fill-rule:evenodd;stroke:#1F77B4A5;stroke-width:1.0px;stroke-linecap:butt;stroke-linejoin:miter;stroke-opacity:1\"/>\n",
       "<ellipse cx=\"248.1\" cy=\"19.0\" rx=\"9.0\" ry=\"9.0\" class=\"atom-5\" style=\"fill:#1F77B4A5;fill-rule:evenodd;stroke:#1F77B4A5;stroke-width:1.0px;stroke-linecap:butt;stroke-linejoin:miter;stroke-opacity:1\"/>\n",
       "<ellipse cx=\"292.5\" cy=\"27.3\" rx=\"9.0\" ry=\"9.0\" class=\"atom-6\" style=\"fill:#1F77B4A5;fill-rule:evenodd;stroke:#1F77B4A5;stroke-width:1.0px;stroke-linecap:butt;stroke-linejoin:miter;stroke-opacity:1\"/>\n",
       "<ellipse cx=\"307.5\" cy=\"69.8\" rx=\"9.0\" ry=\"9.0\" class=\"atom-7\" style=\"fill:#D62728A5;fill-rule:evenodd;stroke:#D62728A5;stroke-width:1.0px;stroke-linecap:butt;stroke-linejoin:miter;stroke-opacity:1\"/>\n",
       "<ellipse cx=\"355.9\" cy=\"78.0\" rx=\"12.5\" ry=\"9.1\" class=\"atom-8\" style=\"fill:#D62728A5;fill-rule:evenodd;stroke:#D62728A5;stroke-width:1.0px;stroke-linecap:butt;stroke-linejoin:miter;stroke-opacity:1\"/>\n",
       "<ellipse cx=\"370.0\" cy=\"120.7\" rx=\"12.7\" ry=\"9.3\" class=\"atom-9\" style=\"fill:#D62728A5;fill-rule:evenodd;stroke:#D62728A5;stroke-width:1.0px;stroke-linecap:butt;stroke-linejoin:miter;stroke-opacity:1\"/>\n",
       "<ellipse cx=\"381.2\" cy=\"43.9\" rx=\"9.0\" ry=\"9.3\" class=\"atom-10\" style=\"fill:#D62728A5;fill-rule:evenodd;stroke:#D62728A5;stroke-width:1.0px;stroke-linecap:butt;stroke-linejoin:miter;stroke-opacity:1\"/>\n",
       "<path class=\"bond-0 atom-0 atom-1\" d=\"M 263.9,181.0 L 275.1,167.9\" style=\"fill:none;fill-rule:evenodd;stroke:#000000;stroke-width:2.0px;stroke-linecap:butt;stroke-linejoin:miter;stroke-opacity:1\"/>\n",
       "<path class=\"bond-0 atom-0 atom-1\" d=\"M 275.1,167.9 L 286.3,154.8\" style=\"fill:none;fill-rule:evenodd;stroke:#FF0000;stroke-width:2.0px;stroke-linecap:butt;stroke-linejoin:miter;stroke-opacity:1\"/>\n",
       "<path class=\"bond-1 atom-1 atom-2\" d=\"M 290.4,138.7 L 284.3,121.4\" style=\"fill:none;fill-rule:evenodd;stroke:#FF0000;stroke-width:2.0px;stroke-linecap:butt;stroke-linejoin:miter;stroke-opacity:1\"/>\n",
       "<path class=\"bond-1 atom-1 atom-2\" d=\"M 284.3,121.4 L 278.2,104.1\" style=\"fill:none;fill-rule:evenodd;stroke:#000000;stroke-width:2.0px;stroke-linecap:butt;stroke-linejoin:miter;stroke-opacity:1\"/>\n",
       "<path class=\"bond-2 atom-2 atom-3\" d=\"M 278.2,104.1 L 233.8,95.9\" style=\"fill:none;fill-rule:evenodd;stroke:#000000;stroke-width:2.0px;stroke-linecap:butt;stroke-linejoin:miter;stroke-opacity:1\"/>\n",
       "<path class=\"bond-2 atom-2 atom-3\" d=\"M 275.6,96.8 L 238.9,89.9\" style=\"fill:none;fill-rule:evenodd;stroke:#000000;stroke-width:2.0px;stroke-linecap:butt;stroke-linejoin:miter;stroke-opacity:1\"/>\n",
       "<path class=\"bond-3 atom-3 atom-4\" d=\"M 233.8,95.9 L 218.8,53.3\" style=\"fill:none;fill-rule:evenodd;stroke:#000000;stroke-width:2.0px;stroke-linecap:butt;stroke-linejoin:miter;stroke-opacity:1\"/>\n",
       "<path class=\"bond-4 atom-4 atom-5\" d=\"M 218.8,53.3 L 248.1,19.0\" style=\"fill:none;fill-rule:evenodd;stroke:#000000;stroke-width:2.0px;stroke-linecap:butt;stroke-linejoin:miter;stroke-opacity:1\"/>\n",
       "<path class=\"bond-4 atom-4 atom-5\" d=\"M 226.5,54.8 L 250.7,26.4\" style=\"fill:none;fill-rule:evenodd;stroke:#000000;stroke-width:2.0px;stroke-linecap:butt;stroke-linejoin:miter;stroke-opacity:1\"/>\n",
       "<path class=\"bond-5 atom-5 atom-6\" d=\"M 248.1,19.0 L 292.5,27.3\" style=\"fill:none;fill-rule:evenodd;stroke:#000000;stroke-width:2.0px;stroke-linecap:butt;stroke-linejoin:miter;stroke-opacity:1\"/>\n",
       "<path class=\"bond-6 atom-6 atom-7\" d=\"M 292.5,27.3 L 307.5,69.8\" style=\"fill:none;fill-rule:evenodd;stroke:#000000;stroke-width:2.0px;stroke-linecap:butt;stroke-linejoin:miter;stroke-opacity:1\"/>\n",
       "<path class=\"bond-6 atom-6 atom-7\" d=\"M 287.4,33.2 L 299.8,68.4\" style=\"fill:none;fill-rule:evenodd;stroke:#000000;stroke-width:2.0px;stroke-linecap:butt;stroke-linejoin:miter;stroke-opacity:1\"/>\n",
       "<path class=\"bond-7 atom-7 atom-8\" d=\"M 307.5,69.8 L 326.5,73.4\" style=\"fill:none;fill-rule:evenodd;stroke:#000000;stroke-width:2.0px;stroke-linecap:butt;stroke-linejoin:miter;stroke-opacity:1\"/>\n",
       "<path class=\"bond-7 atom-7 atom-8\" d=\"M 326.5,73.4 L 345.6,76.9\" style=\"fill:none;fill-rule:evenodd;stroke:#0000FF;stroke-width:2.0px;stroke-linecap:butt;stroke-linejoin:miter;stroke-opacity:1\"/>\n",
       "<path class=\"bond-8 atom-8 atom-9\" d=\"M 354.7,85.9 L 359.4,99.3\" style=\"fill:none;fill-rule:evenodd;stroke:#0000FF;stroke-width:2.0px;stroke-linecap:butt;stroke-linejoin:miter;stroke-opacity:1\"/>\n",
       "<path class=\"bond-8 atom-8 atom-9\" d=\"M 359.4,99.3 L 364.1,112.7\" style=\"fill:none;fill-rule:evenodd;stroke:#FF0000;stroke-width:2.0px;stroke-linecap:butt;stroke-linejoin:miter;stroke-opacity:1\"/>\n",
       "<path class=\"bond-9 atom-8 atom-10\" d=\"M 361.3,72.3 L 369.0,63.2\" style=\"fill:none;fill-rule:evenodd;stroke:#0000FF;stroke-width:2.0px;stroke-linecap:butt;stroke-linejoin:miter;stroke-opacity:1\"/>\n",
       "<path class=\"bond-9 atom-8 atom-10\" d=\"M 369.0,63.2 L 376.8,54.1\" style=\"fill:none;fill-rule:evenodd;stroke:#FF0000;stroke-width:2.0px;stroke-linecap:butt;stroke-linejoin:miter;stroke-opacity:1\"/>\n",
       "<path class=\"bond-9 atom-8 atom-10\" d=\"M 356.1,67.9 L 363.9,58.8\" style=\"fill:none;fill-rule:evenodd;stroke:#0000FF;stroke-width:2.0px;stroke-linecap:butt;stroke-linejoin:miter;stroke-opacity:1\"/>\n",
       "<path class=\"bond-9 atom-8 atom-10\" d=\"M 363.9,58.8 L 371.7,49.7\" style=\"fill:none;fill-rule:evenodd;stroke:#FF0000;stroke-width:2.0px;stroke-linecap:butt;stroke-linejoin:miter;stroke-opacity:1\"/>\n",
       "<path class=\"bond-10 atom-7 atom-2\" d=\"M 307.5,69.8 L 278.2,104.1\" style=\"fill:none;fill-rule:evenodd;stroke:#000000;stroke-width:2.0px;stroke-linecap:butt;stroke-linejoin:miter;stroke-opacity:1\"/>\n",
       "<path d=\"M 236.0,96.3 L 233.8,95.9 L 233.1,93.8\" style=\"fill:none;stroke:#000000;stroke-width:2.0px;stroke-linecap:butt;stroke-linejoin:miter;stroke-opacity:1;\"/>\n",
       "<path d=\"M 219.5,55.5 L 218.8,53.3 L 220.2,51.6\" style=\"fill:none;stroke:#000000;stroke-width:2.0px;stroke-linecap:butt;stroke-linejoin:miter;stroke-opacity:1;\"/>\n",
       "<path d=\"M 246.6,20.7 L 248.1,19.0 L 250.3,19.4\" style=\"fill:none;stroke:#000000;stroke-width:2.0px;stroke-linecap:butt;stroke-linejoin:miter;stroke-opacity:1;\"/>\n",
       "<path d=\"M 290.3,26.9 L 292.5,27.3 L 293.2,29.4\" style=\"fill:none;stroke:#000000;stroke-width:2.0px;stroke-linecap:butt;stroke-linejoin:miter;stroke-opacity:1;\"/>\n",
       "<path class=\"atom-1\" d=\"M 287.4 146.7 Q 287.4 143.6, 288.9 141.9 Q 290.4 140.2, 293.2 140.2 Q 296.1 140.2, 297.6 141.9 Q 299.1 143.6, 299.1 146.7 Q 299.1 149.8, 297.6 151.6 Q 296.0 153.3, 293.2 153.3 Q 290.4 153.3, 288.9 151.6 Q 287.4 149.8, 287.4 146.7 M 293.2 151.9 Q 295.2 151.9, 296.2 150.6 Q 297.3 149.3, 297.3 146.7 Q 297.3 144.2, 296.2 142.9 Q 295.2 141.7, 293.2 141.7 Q 291.3 141.7, 290.2 142.9 Q 289.2 144.2, 289.2 146.7 Q 289.2 149.3, 290.2 150.6 Q 291.3 151.9, 293.2 151.9 \" fill=\"#FF0000\"/>\n",
       "<path class=\"atom-8\" d=\"M 349.1 71.7 L 353.3 78.4 Q 353.7 79.1, 354.3 80.3 Q 355.0 81.5, 355.0 81.6 L 355.0 71.7 L 356.7 71.7 L 356.7 84.5 L 355.0 84.5 L 350.5 77.1 Q 350.0 76.2, 349.4 75.2 Q 348.9 74.2, 348.7 73.9 L 348.7 84.5 L 347.0 84.5 L 347.0 71.7 L 349.1 71.7 \" fill=\"#0000FF\"/>\n",
       "<path class=\"atom-8\" d=\"M 359.1 74.0 L 361.4 74.0 L 361.4 71.6 L 362.4 71.6 L 362.4 74.0 L 364.7 74.0 L 364.7 74.8 L 362.4 74.8 L 362.4 77.2 L 361.4 77.2 L 361.4 74.8 L 359.1 74.8 L 359.1 74.0 \" fill=\"#0000FF\"/>\n",
       "<path class=\"atom-9\" d=\"M 361.1 120.6 Q 361.1 117.6, 362.6 115.9 Q 364.1 114.1, 366.9 114.1 Q 369.8 114.1, 371.3 115.9 Q 372.8 117.6, 372.8 120.6 Q 372.8 123.8, 371.3 125.5 Q 369.7 127.3, 366.9 127.3 Q 364.1 127.3, 362.6 125.5 Q 361.1 123.8, 361.1 120.6 M 366.9 125.8 Q 368.9 125.8, 369.9 124.5 Q 371.0 123.2, 371.0 120.6 Q 371.0 118.1, 369.9 116.9 Q 368.9 115.6, 366.9 115.6 Q 365.0 115.6, 363.9 116.9 Q 362.9 118.1, 362.9 120.6 Q 362.9 123.2, 363.9 124.5 Q 365.0 125.8, 366.9 125.8 \" fill=\"#FF0000\"/>\n",
       "<path class=\"atom-9\" d=\"M 374.6 116.2 L 379.0 116.2 L 379.0 117.2 L 374.6 117.2 L 374.6 116.2 \" fill=\"#FF0000\"/>\n",
       "<path class=\"atom-10\" d=\"M 375.4 43.8 Q 375.4 40.7, 376.9 39.0 Q 378.4 37.3, 381.2 37.3 Q 384.1 37.3, 385.6 39.0 Q 387.1 40.7, 387.1 43.8 Q 387.1 46.9, 385.6 48.7 Q 384.0 50.4, 381.2 50.4 Q 378.4 50.4, 376.9 48.7 Q 375.4 46.9, 375.4 43.8 M 381.2 49.0 Q 383.2 49.0, 384.2 47.7 Q 385.3 46.4, 385.3 43.8 Q 385.3 41.3, 384.2 40.0 Q 383.2 38.7, 381.2 38.7 Q 379.3 38.7, 378.2 40.0 Q 377.2 41.3, 377.2 43.8 Q 377.2 46.4, 378.2 47.7 Q 379.3 49.0, 381.2 49.0 \" fill=\"#FF0000\"/>\n",
       "<rect x=\"1\" y=\"5\" width=\"18.0\" height=\"18.0\" fill=\"rgb(31, 119, 179)\"/><text x=\"19.200000000000003\" y=\"20\" font-family=\"Helvetica\" font-size=\"12\" fill=\"black\">aCH: 4</text><rect x=\"1\" y=\"30\" width=\"18.0\" height=\"18.0\" fill=\"rgb(255, 127, 13)\"/><text x=\"19.200000000000003\" y=\"45\" font-family=\"Helvetica\" font-size=\"12\" fill=\"black\">aC except as above: 1</text><rect x=\"1\" y=\"55\" width=\"18.0\" height=\"18.0\" fill=\"rgb(44, 159, 44)\"/><text x=\"19.200000000000003\" y=\"70\" font-family=\"Helvetica\" font-size=\"12\" fill=\"black\">CH3O: 1</text><rect x=\"1\" y=\"80\" width=\"18.0\" height=\"18.0\" fill=\"rgb(214, 39, 40)\"/><text x=\"19.200000000000003\" y=\"95\" font-family=\"Helvetica\" font-size=\"12\" fill=\"black\">aC-NO2: 1</text><text x=\"300.0\" y=\"40\" font-family=\"Helvetica\" font-size=\"12\" font-weight=\"bold\" fill=\"black\" text-anchor=\"middle\"/></svg>"
      ],
      "text/plain": [
       "<IPython.core.display.SVG object>"
      ]
     },
     "execution_count": 85,
     "metadata": {},
     "output_type": "execute_result"
    }
   ],
   "source": [
    "mol[1].primary.draw(width=600)"
   ]
  },
  {
   "cell_type": "markdown",
   "metadata": {},
   "source": [
    "Both solutions have the same secondary and tertiary results, but different\n",
    "primary results. This is why the properties are different."
   ]
  },
  {
   "cell_type": "code",
   "execution_count": 88,
   "metadata": {},
   "outputs": [
    {
     "data": {
      "text/html": [
       "750.949961574131 kelvin"
      ],
      "text/latex": [
       "$750.949961574131\\ \\mathrm{kelvin}$"
      ],
      "text/plain": [
       "<Quantity(750.949962, 'kelvin')>"
      ]
     },
     "execution_count": 88,
     "metadata": {},
     "output_type": "execute_result"
    }
   ],
   "source": [
    "mol[0].critical_temperature"
   ]
  },
  {
   "cell_type": "code",
   "execution_count": 89,
   "metadata": {},
   "outputs": [
    {
     "data": {
      "text/html": [
       "784.2891401277112 kelvin"
      ],
      "text/latex": [
       "$784.2891401277112\\ \\mathrm{kelvin}$"
      ],
      "text/plain": [
       "<Quantity(784.28914, 'kelvin')>"
      ]
     },
     "execution_count": 89,
     "metadata": {},
     "output_type": "execute_result"
    }
   ],
   "source": [
    "mol[1].critical_temperature"
   ]
  },
  {
   "cell_type": "markdown",
   "metadata": {},
   "source": [
    "What a difference!! In this case, the second solution provides a much better\n",
    "estimation of critical temperature (782 K). You can check it by yourself on\n",
    "the publication original dataset."
   ]
  }
 ],
 "metadata": {
  "kernelspec": {
   "display_name": "ugropy",
   "language": "python",
   "name": "python3"
  },
  "language_info": {
   "codemirror_mode": {
    "name": "ipython",
    "version": 3
   },
   "file_extension": ".py",
   "mimetype": "text/x-python",
   "name": "python",
   "nbconvert_exporter": "python",
   "pygments_lexer": "ipython3",
   "version": "3.10.12"
  }
 },
 "nbformat": 4,
 "nbformat_minor": 2
}
