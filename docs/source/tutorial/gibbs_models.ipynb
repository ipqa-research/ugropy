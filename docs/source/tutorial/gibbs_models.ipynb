{
 "cells": [
  {
   "cell_type": "markdown",
   "metadata": {},
   "source": [
    "## Gibbs Models\n",
    "\n",
    "[![Open In Colab](https://colab.research.google.com/assets/colab-badge.svg)](https://colab.research.google.com/github/ipqa-research/ugropy/blob/main/docs/source/tutorial/gibbs_models.ipynb)\n",
    "\n",
    "In some situation you may not require to instantiate all the models supported\n",
    "by `ugropy`, for that, you can search the model's groups individually.\n",
    "\n",
    "### UNIFAC\n",
    "\n",
    "The classic liquid-vapor UNIFAC model can be imported and used by doing:"
   ]
  },
  {
   "cell_type": "code",
   "execution_count": 2,
   "metadata": {},
   "outputs": [],
   "source": [
    "try:\n",
    "  import google.colab\n",
    "  IN_COLAB = True\n",
    "except:\n",
    "  IN_COLAB = False\n",
    "\n",
    "\n",
    "if IN_COLAB:\n",
    "  %pip install ugropy"
   ]
  },
  {
   "cell_type": "code",
   "execution_count": 4,
   "metadata": {},
   "outputs": [
    {
     "name": "stdout",
     "output_type": "stream",
     "text": [
      "{'CH3': 2, 'CH2': 4}\n"
     ]
    }
   ],
   "source": [
    "from ugropy import unifac\n",
    "\n",
    "hexane = unifac.get_groups(\"n-hexane\")\n",
    "\n",
    "print(hexane.subgroups)"
   ]
  },
  {
   "cell_type": "code",
   "execution_count": 5,
   "metadata": {},
   "outputs": [
    {
     "data": {
      "image/svg+xml": [
       "<svg xmlns=\"http://www.w3.org/2000/svg\" xmlns:rdkit=\"http://www.rdkit.org/xml\" xmlns:xlink=\"http://www.w3.org/1999/xlink\" version=\"1.1\" baseProfile=\"full\" xml:space=\"preserve\" width=\"400px\" height=\"200px\" viewBox=\"0 0 400 200\">\n",
       "<!-- END OF HEADER -->\n",
       "<rect style=\"opacity:1.0;fill:#FFFFFF;stroke:none\" width=\"400.0\" height=\"200.0\" x=\"0.0\" y=\"0.0\"> </rect>\n",
       "<ellipse cx=\"35.2\" cy=\"110.6\" rx=\"15.2\" ry=\"15.2\" class=\"atom-0\" style=\"fill:#1F77B4A5;fill-rule:evenodd;stroke:#1F77B4A5;stroke-width:1.0px;stroke-linecap:butt;stroke-linejoin:miter;stroke-opacity:1\"/>\n",
       "<ellipse cx=\"102.6\" cy=\"76.1\" rx=\"15.2\" ry=\"15.2\" class=\"atom-1\" style=\"fill:#FF7F0EA5;fill-rule:evenodd;stroke:#FF7F0EA5;stroke-width:1.0px;stroke-linecap:butt;stroke-linejoin:miter;stroke-opacity:1\"/>\n",
       "<ellipse cx=\"166.3\" cy=\"117.3\" rx=\"15.2\" ry=\"15.2\" class=\"atom-2\" style=\"fill:#FF7F0EA5;fill-rule:evenodd;stroke:#FF7F0EA5;stroke-width:1.0px;stroke-linecap:butt;stroke-linejoin:miter;stroke-opacity:1\"/>\n",
       "<ellipse cx=\"233.7\" cy=\"82.7\" rx=\"15.2\" ry=\"15.2\" class=\"atom-3\" style=\"fill:#FF7F0EA5;fill-rule:evenodd;stroke:#FF7F0EA5;stroke-width:1.0px;stroke-linecap:butt;stroke-linejoin:miter;stroke-opacity:1\"/>\n",
       "<ellipse cx=\"297.4\" cy=\"123.9\" rx=\"15.2\" ry=\"15.2\" class=\"atom-4\" style=\"fill:#FF7F0EA5;fill-rule:evenodd;stroke:#FF7F0EA5;stroke-width:1.0px;stroke-linecap:butt;stroke-linejoin:miter;stroke-opacity:1\"/>\n",
       "<ellipse cx=\"364.8\" cy=\"89.4\" rx=\"15.2\" ry=\"15.2\" class=\"atom-5\" style=\"fill:#1F77B4A5;fill-rule:evenodd;stroke:#1F77B4A5;stroke-width:1.0px;stroke-linecap:butt;stroke-linejoin:miter;stroke-opacity:1\"/>\n",
       "<path class=\"bond-0 atom-0 atom-1\" d=\"M 35.2,110.6 L 102.6,76.1\" style=\"fill:none;fill-rule:evenodd;stroke:#000000;stroke-width:2.0px;stroke-linecap:butt;stroke-linejoin:miter;stroke-opacity:1\"/>\n",
       "<path class=\"bond-1 atom-1 atom-2\" d=\"M 102.6,76.1 L 166.3,117.3\" style=\"fill:none;fill-rule:evenodd;stroke:#000000;stroke-width:2.0px;stroke-linecap:butt;stroke-linejoin:miter;stroke-opacity:1\"/>\n",
       "<path class=\"bond-2 atom-2 atom-3\" d=\"M 166.3,117.3 L 233.7,82.7\" style=\"fill:none;fill-rule:evenodd;stroke:#000000;stroke-width:2.0px;stroke-linecap:butt;stroke-linejoin:miter;stroke-opacity:1\"/>\n",
       "<path class=\"bond-3 atom-3 atom-4\" d=\"M 233.7,82.7 L 297.4,123.9\" style=\"fill:none;fill-rule:evenodd;stroke:#000000;stroke-width:2.0px;stroke-linecap:butt;stroke-linejoin:miter;stroke-opacity:1\"/>\n",
       "<path class=\"bond-4 atom-4 atom-5\" d=\"M 297.4,123.9 L 364.8,89.4\" style=\"fill:none;fill-rule:evenodd;stroke:#000000;stroke-width:2.0px;stroke-linecap:butt;stroke-linejoin:miter;stroke-opacity:1\"/>\n",
       "<path d=\"M 99.3,77.8 L 102.6,76.1 L 105.8,78.1\" style=\"fill:none;stroke:#000000;stroke-width:2.0px;stroke-linecap:butt;stroke-linejoin:miter;stroke-opacity:1;\"/>\n",
       "<path d=\"M 163.1,115.2 L 166.3,117.3 L 169.6,115.5\" style=\"fill:none;stroke:#000000;stroke-width:2.0px;stroke-linecap:butt;stroke-linejoin:miter;stroke-opacity:1;\"/>\n",
       "<path d=\"M 230.4,84.5 L 233.7,82.7 L 236.9,84.8\" style=\"fill:none;stroke:#000000;stroke-width:2.0px;stroke-linecap:butt;stroke-linejoin:miter;stroke-opacity:1;\"/>\n",
       "<path d=\"M 294.2,121.9 L 297.4,123.9 L 300.7,122.2\" style=\"fill:none;stroke:#000000;stroke-width:2.0px;stroke-linecap:butt;stroke-linejoin:miter;stroke-opacity:1;\"/>\n",
       "<rect x=\"1\" y=\"5\" width=\"18.0\" height=\"18.0\" fill=\"rgb(31, 119, 179)\"/><text x=\"19.200000000000003\" y=\"20\" font-family=\"Helvetica\" font-size=\"12\" fill=\"black\">CH3: 2</text><rect x=\"1\" y=\"30\" width=\"18.0\" height=\"18.0\" fill=\"rgb(255, 127, 13)\"/><text x=\"19.200000000000003\" y=\"45\" font-family=\"Helvetica\" font-size=\"12\" fill=\"black\">CH2: 4</text><text x=\"200.0\" y=\"40\" font-family=\"Helvetica\" font-size=\"12\" font-weight=\"bold\" fill=\"black\" text-anchor=\"middle\"/></svg>"
      ],
      "text/plain": [
       "<IPython.core.display.SVG object>"
      ]
     },
     "execution_count": 5,
     "metadata": {},
     "output_type": "execute_result"
    }
   ],
   "source": [
    "hexane.draw()"
   ]
  },
  {
   "cell_type": "markdown",
   "metadata": {},
   "source": [
    "As you can see, the UNIFAC model can be used just like we did on the Groups \n",
    "class. The Groups class is only intended to be used when you want all the \n",
    "groups from all the models with a single call.\n",
    "\n",
    "The signature of the UNIFAC model is:"
   ]
  },
  {
   "cell_type": "code",
   "execution_count": 19,
   "metadata": {},
   "outputs": [
    {
     "name": "stdout",
     "output_type": "stream",
     "text": [
      "\u001b[0;31mSignature:\u001b[0m\n",
      "\u001b[0munifac\u001b[0m\u001b[0;34m.\u001b[0m\u001b[0mget_groups\u001b[0m\u001b[0;34m(\u001b[0m\u001b[0;34m\u001b[0m\n",
      "\u001b[0;34m\u001b[0m    \u001b[0midentifier\u001b[0m\u001b[0;34m:\u001b[0m \u001b[0mUnion\u001b[0m\u001b[0;34m[\u001b[0m\u001b[0mstr\u001b[0m\u001b[0;34m,\u001b[0m \u001b[0mrdkit\u001b[0m\u001b[0;34m.\u001b[0m\u001b[0mChem\u001b[0m\u001b[0;34m.\u001b[0m\u001b[0mrdchem\u001b[0m\u001b[0;34m.\u001b[0m\u001b[0mMol\u001b[0m\u001b[0;34m]\u001b[0m\u001b[0;34m,\u001b[0m\u001b[0;34m\u001b[0m\n",
      "\u001b[0;34m\u001b[0m    \u001b[0midentifier_type\u001b[0m\u001b[0;34m:\u001b[0m \u001b[0mstr\u001b[0m \u001b[0;34m=\u001b[0m \u001b[0;34m'name'\u001b[0m\u001b[0;34m,\u001b[0m\u001b[0;34m\u001b[0m\n",
      "\u001b[0;34m\u001b[0m    \u001b[0msolver\u001b[0m\u001b[0;34m:\u001b[0m \u001b[0mugropy\u001b[0m\u001b[0;34m.\u001b[0m\u001b[0mcore\u001b[0m\u001b[0;34m.\u001b[0m\u001b[0milp_solvers\u001b[0m\u001b[0;34m.\u001b[0m\u001b[0milp_solver\u001b[0m\u001b[0;34m.\u001b[0m\u001b[0mILPSolver\u001b[0m \u001b[0;34m=\u001b[0m \u001b[0;34m<\u001b[0m\u001b[0;32mclass\u001b[0m \u001b[0;34m'ugropy.core.ilp_solvers.default_solver.DefaultSolver'\u001b[0m\u001b[0;34m>\u001b[0m\u001b[0;34m,\u001b[0m\u001b[0;34m\u001b[0m\n",
      "\u001b[0;34m\u001b[0m    \u001b[0msearch_multiple_solutions\u001b[0m\u001b[0;34m:\u001b[0m \u001b[0mbool\u001b[0m \u001b[0;34m=\u001b[0m \u001b[0;32mFalse\u001b[0m\u001b[0;34m,\u001b[0m\u001b[0;34m\u001b[0m\n",
      "\u001b[0;34m\u001b[0m    \u001b[0;34m**\u001b[0m\u001b[0mkwargs\u001b[0m\u001b[0;34m,\u001b[0m\u001b[0;34m\u001b[0m\n",
      "\u001b[0;34m\u001b[0m\u001b[0;34m)\u001b[0m \u001b[0;34m->\u001b[0m \u001b[0mUnion\u001b[0m\u001b[0;34m[\u001b[0m\u001b[0mugropy\u001b[0m\u001b[0;34m.\u001b[0m\u001b[0mcore\u001b[0m\u001b[0;34m.\u001b[0m\u001b[0mfrag_classes\u001b[0m\u001b[0;34m.\u001b[0m\u001b[0mbase\u001b[0m\u001b[0;34m.\u001b[0m\u001b[0mfragmentation_result\u001b[0m\u001b[0;34m.\u001b[0m\u001b[0mFragmentationResult\u001b[0m\u001b[0;34m,\u001b[0m \u001b[0mList\u001b[0m\u001b[0;34m[\u001b[0m\u001b[0mugropy\u001b[0m\u001b[0;34m.\u001b[0m\u001b[0mcore\u001b[0m\u001b[0;34m.\u001b[0m\u001b[0mfrag_classes\u001b[0m\u001b[0;34m.\u001b[0m\u001b[0mbase\u001b[0m\u001b[0;34m.\u001b[0m\u001b[0mfragmentation_result\u001b[0m\u001b[0;34m.\u001b[0m\u001b[0mFragmentationResult\u001b[0m\u001b[0;34m]\u001b[0m\u001b[0;34m]\u001b[0m\u001b[0;34m\u001b[0m\u001b[0;34m\u001b[0m\u001b[0m\n",
      "\u001b[0;31mDocstring:\u001b[0m\n",
      "Get the groups of a molecule.\n",
      "\n",
      "Parameters\n",
      "----------\n",
      "identifier : Union[str, Chem.rdchem.Mol]\n",
      "    Identifier of the molecule. You can use either the name of the\n",
      "    molecule, the SMILEs of the molecule or a rdkit Mol object.\n",
      "identifier_type : str, optional\n",
      "    Identifier type of the molecule. Use \"name\" if you are providing\n",
      "    the molecules' name, \"smiles\" if you are providing the SMILES\n",
      "    or \"mol\" if you are providing a rdkir mol object, by default \"name\"\n",
      "solver : ILPSolver, optional\n",
      "    ILP solver class, by default DefaultSolver\n",
      "search_multiple_solutions : bool, optional\n",
      "    Weather search for multiple solutions or not, by default False\n",
      "    If False the return will be a FragmentationResult object, if True\n",
      "    the return will be a list of FragmentationResult objects.\n",
      "\n",
      "Returns\n",
      "-------\n",
      "Union[FragmentationResult, List[FragmentationResult]]\n",
      "    Fragmentation result. If search_multiple_solutions is False the\n",
      "    return will be a FragmentationResult object, if True the return\n",
      "    will be a list of FragmentationResult objects.\n",
      "\u001b[0;31mFile:\u001b[0m      ~/code/ugropy/ugropy/core/frag_classes/base/fragmentation_model.py\n",
      "\u001b[0;31mType:\u001b[0m      method"
     ]
    }
   ],
   "source": [
    "?unifac.get_groups"
   ]
  },
  {
   "cell_type": "markdown",
   "metadata": {},
   "source": [
    "As you can see, it has the same arguments as the Groups class. We can obtain\n",
    "multiple solution by:"
   ]
  },
  {
   "cell_type": "code",
   "execution_count": 8,
   "metadata": {},
   "outputs": [
    {
     "data": {
      "text/plain": [
       "[<ugropy.core.frag_classes.gibbs_model.gibbs_result.GibbsFragmentationResult at 0x7f825c0f78e0>,\n",
       " <ugropy.core.frag_classes.gibbs_model.gibbs_result.GibbsFragmentationResult at 0x7f825c4f1840>]"
      ]
     },
     "execution_count": 8,
     "metadata": {},
     "output_type": "execute_result"
    }
   ],
   "source": [
    "mol = unifac.get_groups(\"CCCC1=CC=C(CC(=O)OC)C=C1\", \"smiles\", search_multiple_solutions=True)\n",
    "\n",
    "mol"
   ]
  },
  {
   "cell_type": "code",
   "execution_count": 9,
   "metadata": {},
   "outputs": [
    {
     "data": {
      "text/plain": [
       "{'CH3': 2, 'CH2': 1, 'ACH': 4, 'ACCH2': 2, 'COO': 1}"
      ]
     },
     "execution_count": 9,
     "metadata": {},
     "output_type": "execute_result"
    }
   ],
   "source": [
    "mol[0].subgroups"
   ]
  },
  {
   "cell_type": "code",
   "execution_count": 10,
   "metadata": {},
   "outputs": [
    {
     "data": {
      "text/plain": [
       "{'CH3': 2, 'CH2': 1, 'ACH': 4, 'AC': 1, 'ACCH2': 1, 'CH2COO': 1}"
      ]
     },
     "execution_count": 10,
     "metadata": {},
     "output_type": "execute_result"
    }
   ],
   "source": [
    "mol[1].subgroups"
   ]
  },
  {
   "cell_type": "code",
   "execution_count": 12,
   "metadata": {},
   "outputs": [
    {
     "data": {
      "image/svg+xml": [
       "<svg xmlns=\"http://www.w3.org/2000/svg\" xmlns:rdkit=\"http://www.rdkit.org/xml\" xmlns:xlink=\"http://www.w3.org/1999/xlink\" version=\"1.1\" baseProfile=\"full\" xml:space=\"preserve\" width=\"800px\" height=\"200px\" viewBox=\"0 0 800 200\">\n",
       "<!-- END OF HEADER -->\n",
       "<rect style=\"opacity:1.0;fill:#FFFFFF;stroke:none\" width=\"800.0\" height=\"200.0\" x=\"0.0\" y=\"0.0\"> </rect>\n",
       "<ellipse cx=\"105.7\" cy=\"115.1\" rx=\"14.8\" ry=\"14.8\" class=\"atom-0\" style=\"fill:#1F77B4A5;fill-rule:evenodd;stroke:#1F77B4A5;stroke-width:1.0px;stroke-linecap:butt;stroke-linejoin:miter;stroke-opacity:1\"/>\n",
       "<ellipse cx=\"176.4\" cy=\"92.5\" rx=\"14.8\" ry=\"14.8\" class=\"atom-1\" style=\"fill:#FF7F0EA5;fill-rule:evenodd;stroke:#FF7F0EA5;stroke-width:1.0px;stroke-linecap:butt;stroke-linejoin:miter;stroke-opacity:1\"/>\n",
       "<ellipse cx=\"231.2\" cy=\"142.4\" rx=\"14.8\" ry=\"14.8\" class=\"atom-2\" style=\"fill:#D62728A5;fill-rule:evenodd;stroke:#D62728A5;stroke-width:1.0px;stroke-linecap:butt;stroke-linejoin:miter;stroke-opacity:1\"/>\n",
       "<ellipse cx=\"301.9\" cy=\"119.9\" rx=\"14.8\" ry=\"14.8\" class=\"atom-3\" style=\"fill:#D62728A5;fill-rule:evenodd;stroke:#D62728A5;stroke-width:1.0px;stroke-linecap:butt;stroke-linejoin:miter;stroke-opacity:1\"/>\n",
       "<ellipse cx=\"317.7\" cy=\"47.4\" rx=\"14.8\" ry=\"14.8\" class=\"atom-4\" style=\"fill:#2CA02CA5;fill-rule:evenodd;stroke:#2CA02CA5;stroke-width:1.0px;stroke-linecap:butt;stroke-linejoin:miter;stroke-opacity:1\"/>\n",
       "<ellipse cx=\"388.4\" cy=\"24.8\" rx=\"14.8\" ry=\"14.8\" class=\"atom-5\" style=\"fill:#2CA02CA5;fill-rule:evenodd;stroke:#2CA02CA5;stroke-width:1.0px;stroke-linecap:butt;stroke-linejoin:miter;stroke-opacity:1\"/>\n",
       "<ellipse cx=\"443.2\" cy=\"74.8\" rx=\"14.8\" ry=\"14.8\" class=\"atom-6\" style=\"fill:#D62728A5;fill-rule:evenodd;stroke:#D62728A5;stroke-width:1.0px;stroke-linecap:butt;stroke-linejoin:miter;stroke-opacity:1\"/>\n",
       "<ellipse cx=\"513.9\" cy=\"52.2\" rx=\"14.8\" ry=\"14.8\" class=\"atom-7\" style=\"fill:#D62728A5;fill-rule:evenodd;stroke:#D62728A5;stroke-width:1.0px;stroke-linecap:butt;stroke-linejoin:miter;stroke-opacity:1\"/>\n",
       "<ellipse cx=\"568.8\" cy=\"102.1\" rx=\"14.8\" ry=\"14.8\" class=\"atom-8\" style=\"fill:#9467BDA5;fill-rule:evenodd;stroke:#9467BDA5;stroke-width:1.0px;stroke-linecap:butt;stroke-linejoin:miter;stroke-opacity:1\"/>\n",
       "<ellipse cx=\"553.0\" cy=\"174.7\" rx=\"14.8\" ry=\"15.3\" class=\"atom-9\" style=\"fill:#9467BDA5;fill-rule:evenodd;stroke:#9467BDA5;stroke-width:1.0px;stroke-linecap:butt;stroke-linejoin:miter;stroke-opacity:1\"/>\n",
       "<ellipse cx=\"639.4\" cy=\"79.7\" rx=\"14.8\" ry=\"15.3\" class=\"atom-10\" style=\"fill:#9467BDA5;fill-rule:evenodd;stroke:#9467BDA5;stroke-width:1.0px;stroke-linecap:butt;stroke-linejoin:miter;stroke-opacity:1\"/>\n",
       "<ellipse cx=\"694.3\" cy=\"129.5\" rx=\"14.8\" ry=\"14.8\" class=\"atom-11\" style=\"fill:#1F77B4A5;fill-rule:evenodd;stroke:#1F77B4A5;stroke-width:1.0px;stroke-linecap:butt;stroke-linejoin:miter;stroke-opacity:1\"/>\n",
       "<ellipse cx=\"427.4\" cy=\"147.2\" rx=\"14.8\" ry=\"14.8\" class=\"atom-12\" style=\"fill:#2CA02CA5;fill-rule:evenodd;stroke:#2CA02CA5;stroke-width:1.0px;stroke-linecap:butt;stroke-linejoin:miter;stroke-opacity:1\"/>\n",
       "<ellipse cx=\"356.8\" cy=\"169.8\" rx=\"14.8\" ry=\"14.8\" class=\"atom-13\" style=\"fill:#2CA02CA5;fill-rule:evenodd;stroke:#2CA02CA5;stroke-width:1.0px;stroke-linecap:butt;stroke-linejoin:miter;stroke-opacity:1\"/>\n",
       "<path class=\"bond-0 atom-0 atom-1\" d=\"M 105.7,115.1 L 176.4,92.5\" style=\"fill:none;fill-rule:evenodd;stroke:#000000;stroke-width:2.0px;stroke-linecap:butt;stroke-linejoin:miter;stroke-opacity:1\"/>\n",
       "<path class=\"bond-1 atom-1 atom-2\" d=\"M 176.4,92.5 L 231.2,142.4\" style=\"fill:none;fill-rule:evenodd;stroke:#000000;stroke-width:2.0px;stroke-linecap:butt;stroke-linejoin:miter;stroke-opacity:1\"/>\n",
       "<path class=\"bond-2 atom-2 atom-3\" d=\"M 231.2,142.4 L 301.9,119.9\" style=\"fill:none;fill-rule:evenodd;stroke:#000000;stroke-width:2.0px;stroke-linecap:butt;stroke-linejoin:miter;stroke-opacity:1\"/>\n",
       "<path class=\"bond-3 atom-3 atom-4\" d=\"M 301.9,119.9 L 317.7,47.4\" style=\"fill:none;fill-rule:evenodd;stroke:#000000;stroke-width:2.0px;stroke-linecap:butt;stroke-linejoin:miter;stroke-opacity:1\"/>\n",
       "<path class=\"bond-3 atom-3 atom-4\" d=\"M 314.1,116.0 L 327.2,56.0\" style=\"fill:none;fill-rule:evenodd;stroke:#000000;stroke-width:2.0px;stroke-linecap:butt;stroke-linejoin:miter;stroke-opacity:1\"/>\n",
       "<path class=\"bond-4 atom-4 atom-5\" d=\"M 317.7,47.4 L 388.4,24.8\" style=\"fill:none;fill-rule:evenodd;stroke:#000000;stroke-width:2.0px;stroke-linecap:butt;stroke-linejoin:miter;stroke-opacity:1\"/>\n",
       "<path class=\"bond-5 atom-5 atom-6\" d=\"M 388.4,24.8 L 443.2,74.8\" style=\"fill:none;fill-rule:evenodd;stroke:#000000;stroke-width:2.0px;stroke-linecap:butt;stroke-linejoin:miter;stroke-opacity:1\"/>\n",
       "<path class=\"bond-5 atom-5 atom-6\" d=\"M 385.6,37.4 L 431.0,78.7\" style=\"fill:none;fill-rule:evenodd;stroke:#000000;stroke-width:2.0px;stroke-linecap:butt;stroke-linejoin:miter;stroke-opacity:1\"/>\n",
       "<path class=\"bond-6 atom-6 atom-7\" d=\"M 443.2,74.8 L 513.9,52.2\" style=\"fill:none;fill-rule:evenodd;stroke:#000000;stroke-width:2.0px;stroke-linecap:butt;stroke-linejoin:miter;stroke-opacity:1\"/>\n",
       "<path class=\"bond-7 atom-7 atom-8\" d=\"M 513.9,52.2 L 568.8,102.1\" style=\"fill:none;fill-rule:evenodd;stroke:#000000;stroke-width:2.0px;stroke-linecap:butt;stroke-linejoin:miter;stroke-opacity:1\"/>\n",
       "<path class=\"bond-8 atom-8 atom-9\" d=\"M 564.0,97.8 L 557.2,129.1\" style=\"fill:none;fill-rule:evenodd;stroke:#000000;stroke-width:2.0px;stroke-linecap:butt;stroke-linejoin:miter;stroke-opacity:1\"/>\n",
       "<path class=\"bond-8 atom-8 atom-9\" d=\"M 557.2,129.1 L 550.4,160.3\" style=\"fill:none;fill-rule:evenodd;stroke:#FF0000;stroke-width:2.0px;stroke-linecap:butt;stroke-linejoin:miter;stroke-opacity:1\"/>\n",
       "<path class=\"bond-8 atom-8 atom-9\" d=\"M 574.9,100.2 L 568.1,131.4\" style=\"fill:none;fill-rule:evenodd;stroke:#000000;stroke-width:2.0px;stroke-linecap:butt;stroke-linejoin:miter;stroke-opacity:1\"/>\n",
       "<path class=\"bond-8 atom-8 atom-9\" d=\"M 568.1,131.4 L 561.3,162.7\" style=\"fill:none;fill-rule:evenodd;stroke:#FF0000;stroke-width:2.0px;stroke-linecap:butt;stroke-linejoin:miter;stroke-opacity:1\"/>\n",
       "<path class=\"bond-9 atom-8 atom-10\" d=\"M 568.8,102.1 L 598.1,92.8\" style=\"fill:none;fill-rule:evenodd;stroke:#000000;stroke-width:2.0px;stroke-linecap:butt;stroke-linejoin:miter;stroke-opacity:1\"/>\n",
       "<path class=\"bond-9 atom-8 atom-10\" d=\"M 598.1,92.8 L 627.3,83.4\" style=\"fill:none;fill-rule:evenodd;stroke:#FF0000;stroke-width:2.0px;stroke-linecap:butt;stroke-linejoin:miter;stroke-opacity:1\"/>\n",
       "<path class=\"bond-10 atom-10 atom-11\" d=\"M 651.5,90.5 L 672.9,110.0\" style=\"fill:none;fill-rule:evenodd;stroke:#FF0000;stroke-width:2.0px;stroke-linecap:butt;stroke-linejoin:miter;stroke-opacity:1\"/>\n",
       "<path class=\"bond-10 atom-10 atom-11\" d=\"M 672.9,110.0 L 694.3,129.5\" style=\"fill:none;fill-rule:evenodd;stroke:#000000;stroke-width:2.0px;stroke-linecap:butt;stroke-linejoin:miter;stroke-opacity:1\"/>\n",
       "<path class=\"bond-11 atom-6 atom-12\" d=\"M 443.2,74.8 L 427.4,147.2\" style=\"fill:none;fill-rule:evenodd;stroke:#000000;stroke-width:2.0px;stroke-linecap:butt;stroke-linejoin:miter;stroke-opacity:1\"/>\n",
       "<path class=\"bond-12 atom-12 atom-13\" d=\"M 427.4,147.2 L 356.8,169.8\" style=\"fill:none;fill-rule:evenodd;stroke:#000000;stroke-width:2.0px;stroke-linecap:butt;stroke-linejoin:miter;stroke-opacity:1\"/>\n",
       "<path class=\"bond-12 atom-12 atom-13\" d=\"M 417.9,138.6 L 359.5,157.2\" style=\"fill:none;fill-rule:evenodd;stroke:#000000;stroke-width:2.0px;stroke-linecap:butt;stroke-linejoin:miter;stroke-opacity:1\"/>\n",
       "<path class=\"bond-13 atom-13 atom-3\" d=\"M 356.8,169.8 L 301.9,119.9\" style=\"fill:none;fill-rule:evenodd;stroke:#000000;stroke-width:2.0px;stroke-linecap:butt;stroke-linejoin:miter;stroke-opacity:1\"/>\n",
       "<path d=\"M 172.8,93.6 L 176.4,92.5 L 179.1,95.0\" style=\"fill:none;stroke:#000000;stroke-width:2.0px;stroke-linecap:butt;stroke-linejoin:miter;stroke-opacity:1;\"/>\n",
       "<path d=\"M 228.5,139.9 L 231.2,142.4 L 234.8,141.3\" style=\"fill:none;stroke:#000000;stroke-width:2.0px;stroke-linecap:butt;stroke-linejoin:miter;stroke-opacity:1;\"/>\n",
       "<path d=\"M 316.9,51.0 L 317.7,47.4 L 321.2,46.3\" style=\"fill:none;stroke:#000000;stroke-width:2.0px;stroke-linecap:butt;stroke-linejoin:miter;stroke-opacity:1;\"/>\n",
       "<path d=\"M 384.8,26.0 L 388.4,24.8 L 391.1,27.3\" style=\"fill:none;stroke:#000000;stroke-width:2.0px;stroke-linecap:butt;stroke-linejoin:miter;stroke-opacity:1;\"/>\n",
       "<path d=\"M 510.4,53.3 L 513.9,52.2 L 516.6,54.7\" style=\"fill:none;stroke:#000000;stroke-width:2.0px;stroke-linecap:butt;stroke-linejoin:miter;stroke-opacity:1;\"/>\n",
       "<path d=\"M 566.0,99.6 L 568.8,102.1 L 570.2,101.6\" style=\"fill:none;stroke:#000000;stroke-width:2.0px;stroke-linecap:butt;stroke-linejoin:miter;stroke-opacity:1;\"/>\n",
       "<path d=\"M 428.2,143.6 L 427.4,147.2 L 423.9,148.4\" style=\"fill:none;stroke:#000000;stroke-width:2.0px;stroke-linecap:butt;stroke-linejoin:miter;stroke-opacity:1;\"/>\n",
       "<path d=\"M 360.3,168.7 L 356.8,169.8 L 354.0,167.3\" style=\"fill:none;stroke:#000000;stroke-width:2.0px;stroke-linecap:butt;stroke-linejoin:miter;stroke-opacity:1;\"/>\n",
       "<path class=\"atom-9\" d=\"M 543.3 174.6 Q 543.3 169.6, 545.8 166.8 Q 548.3 164.0, 553.0 164.0 Q 557.6 164.0, 560.1 166.8 Q 562.6 169.6, 562.6 174.6 Q 562.6 179.7, 560.1 182.7 Q 557.6 185.5, 553.0 185.5 Q 548.3 185.5, 545.8 182.7 Q 543.3 179.8, 543.3 174.6 M 553.0 183.2 Q 556.2 183.2, 557.9 181.0 Q 559.6 178.9, 559.6 174.6 Q 559.6 170.5, 557.9 168.4 Q 556.2 166.3, 553.0 166.3 Q 549.8 166.3, 548.0 168.4 Q 546.3 170.5, 546.3 174.6 Q 546.3 178.9, 548.0 181.0 Q 549.8 183.2, 553.0 183.2 \" fill=\"#FF0000\"/>\n",
       "<path class=\"atom-10\" d=\"M 629.8 79.6 Q 629.8 74.6, 632.3 71.7 Q 634.8 68.9, 639.4 68.9 Q 644.1 68.9, 646.6 71.7 Q 649.1 74.6, 649.1 79.6 Q 649.1 84.7, 646.5 87.6 Q 644.0 90.5, 639.4 90.5 Q 634.8 90.5, 632.3 87.6 Q 629.8 84.7, 629.8 79.6 M 639.4 88.1 Q 642.6 88.1, 644.4 86.0 Q 646.1 83.8, 646.1 79.6 Q 646.1 75.5, 644.4 73.4 Q 642.6 71.3, 639.4 71.3 Q 636.2 71.3, 634.5 73.4 Q 632.8 75.4, 632.8 79.6 Q 632.8 83.8, 634.5 86.0 Q 636.2 88.1, 639.4 88.1 \" fill=\"#FF0000\"/>\n",
       "<rect x=\"1\" y=\"5\" width=\"18.0\" height=\"18.0\" fill=\"rgb(31, 119, 179)\"/><text x=\"19.200000000000003\" y=\"20\" font-family=\"Helvetica\" font-size=\"12\" fill=\"black\">CH3: 2</text><rect x=\"1\" y=\"30\" width=\"18.0\" height=\"18.0\" fill=\"rgb(255, 127, 13)\"/><text x=\"19.200000000000003\" y=\"45\" font-family=\"Helvetica\" font-size=\"12\" fill=\"black\">CH2: 1</text><rect x=\"1\" y=\"55\" width=\"18.0\" height=\"18.0\" fill=\"rgb(44, 159, 44)\"/><text x=\"19.200000000000003\" y=\"70\" font-family=\"Helvetica\" font-size=\"12\" fill=\"black\">ACH: 4</text><rect x=\"1\" y=\"80\" width=\"18.0\" height=\"18.0\" fill=\"rgb(214, 39, 40)\"/><text x=\"19.200000000000003\" y=\"95\" font-family=\"Helvetica\" font-size=\"12\" fill=\"black\">ACCH2: 2</text><rect x=\"1\" y=\"105\" width=\"18.0\" height=\"18.0\" fill=\"rgb(148, 103, 188)\"/><text x=\"19.200000000000003\" y=\"120\" font-family=\"Helvetica\" font-size=\"12\" fill=\"black\">COO: 1</text><text x=\"400.0\" y=\"40\" font-family=\"Helvetica\" font-size=\"12\" font-weight=\"bold\" fill=\"black\" text-anchor=\"middle\"/></svg>"
      ],
      "text/plain": [
       "<IPython.core.display.SVG object>"
      ]
     },
     "execution_count": 12,
     "metadata": {},
     "output_type": "execute_result"
    }
   ],
   "source": [
    "mol[0].draw(width=800)"
   ]
  },
  {
   "cell_type": "markdown",
   "metadata": {},
   "source": [
    "### PSRK\n",
    "\n",
    "The predictive Soave-Redlich-Kwong model can be imported and used by doing:"
   ]
  },
  {
   "cell_type": "code",
   "execution_count": 22,
   "metadata": {},
   "outputs": [
    {
     "data": {
      "text/plain": [
       "{'ACH': 5, 'ACCH3': 1}"
      ]
     },
     "execution_count": 22,
     "metadata": {},
     "output_type": "execute_result"
    }
   ],
   "source": [
    "from ugropy import psrk\n",
    "\n",
    "mol = psrk.get_groups(\"toluene\")\n",
    "\n",
    "mol.subgroups"
   ]
  },
  {
   "cell_type": "markdown",
   "metadata": {},
   "source": [
    "PSRK model works the same as the UNIFAC model."
   ]
  },
  {
   "cell_type": "code",
   "execution_count": 23,
   "metadata": {},
   "outputs": [
    {
     "name": "stdout",
     "output_type": "stream",
     "text": [
      "\u001b[0;31mSignature:\u001b[0m\n",
      "\u001b[0mpsrk\u001b[0m\u001b[0;34m.\u001b[0m\u001b[0mget_groups\u001b[0m\u001b[0;34m(\u001b[0m\u001b[0;34m\u001b[0m\n",
      "\u001b[0;34m\u001b[0m    \u001b[0midentifier\u001b[0m\u001b[0;34m:\u001b[0m \u001b[0mUnion\u001b[0m\u001b[0;34m[\u001b[0m\u001b[0mstr\u001b[0m\u001b[0;34m,\u001b[0m \u001b[0mrdkit\u001b[0m\u001b[0;34m.\u001b[0m\u001b[0mChem\u001b[0m\u001b[0;34m.\u001b[0m\u001b[0mrdchem\u001b[0m\u001b[0;34m.\u001b[0m\u001b[0mMol\u001b[0m\u001b[0;34m]\u001b[0m\u001b[0;34m,\u001b[0m\u001b[0;34m\u001b[0m\n",
      "\u001b[0;34m\u001b[0m    \u001b[0midentifier_type\u001b[0m\u001b[0;34m:\u001b[0m \u001b[0mstr\u001b[0m \u001b[0;34m=\u001b[0m \u001b[0;34m'name'\u001b[0m\u001b[0;34m,\u001b[0m\u001b[0;34m\u001b[0m\n",
      "\u001b[0;34m\u001b[0m    \u001b[0msolver\u001b[0m\u001b[0;34m:\u001b[0m \u001b[0mugropy\u001b[0m\u001b[0;34m.\u001b[0m\u001b[0mcore\u001b[0m\u001b[0;34m.\u001b[0m\u001b[0milp_solvers\u001b[0m\u001b[0;34m.\u001b[0m\u001b[0milp_solver\u001b[0m\u001b[0;34m.\u001b[0m\u001b[0mILPSolver\u001b[0m \u001b[0;34m=\u001b[0m \u001b[0;34m<\u001b[0m\u001b[0;32mclass\u001b[0m \u001b[0;34m'ugropy.core.ilp_solvers.default_solver.DefaultSolver'\u001b[0m\u001b[0;34m>\u001b[0m\u001b[0;34m,\u001b[0m\u001b[0;34m\u001b[0m\n",
      "\u001b[0;34m\u001b[0m    \u001b[0msearch_multiple_solutions\u001b[0m\u001b[0;34m:\u001b[0m \u001b[0mbool\u001b[0m \u001b[0;34m=\u001b[0m \u001b[0;32mFalse\u001b[0m\u001b[0;34m,\u001b[0m\u001b[0;34m\u001b[0m\n",
      "\u001b[0;34m\u001b[0m    \u001b[0;34m**\u001b[0m\u001b[0mkwargs\u001b[0m\u001b[0;34m,\u001b[0m\u001b[0;34m\u001b[0m\n",
      "\u001b[0;34m\u001b[0m\u001b[0;34m)\u001b[0m \u001b[0;34m->\u001b[0m \u001b[0mUnion\u001b[0m\u001b[0;34m[\u001b[0m\u001b[0mugropy\u001b[0m\u001b[0;34m.\u001b[0m\u001b[0mcore\u001b[0m\u001b[0;34m.\u001b[0m\u001b[0mfrag_classes\u001b[0m\u001b[0;34m.\u001b[0m\u001b[0mbase\u001b[0m\u001b[0;34m.\u001b[0m\u001b[0mfragmentation_result\u001b[0m\u001b[0;34m.\u001b[0m\u001b[0mFragmentationResult\u001b[0m\u001b[0;34m,\u001b[0m \u001b[0mList\u001b[0m\u001b[0;34m[\u001b[0m\u001b[0mugropy\u001b[0m\u001b[0;34m.\u001b[0m\u001b[0mcore\u001b[0m\u001b[0;34m.\u001b[0m\u001b[0mfrag_classes\u001b[0m\u001b[0;34m.\u001b[0m\u001b[0mbase\u001b[0m\u001b[0;34m.\u001b[0m\u001b[0mfragmentation_result\u001b[0m\u001b[0;34m.\u001b[0m\u001b[0mFragmentationResult\u001b[0m\u001b[0;34m]\u001b[0m\u001b[0;34m]\u001b[0m\u001b[0;34m\u001b[0m\u001b[0;34m\u001b[0m\u001b[0m\n",
      "\u001b[0;31mDocstring:\u001b[0m\n",
      "Get the groups of a molecule.\n",
      "\n",
      "Parameters\n",
      "----------\n",
      "identifier : Union[str, Chem.rdchem.Mol]\n",
      "    Identifier of the molecule. You can use either the name of the\n",
      "    molecule, the SMILEs of the molecule or a rdkit Mol object.\n",
      "identifier_type : str, optional\n",
      "    Identifier type of the molecule. Use \"name\" if you are providing\n",
      "    the molecules' name, \"smiles\" if you are providing the SMILES\n",
      "    or \"mol\" if you are providing a rdkir mol object, by default \"name\"\n",
      "solver : ILPSolver, optional\n",
      "    ILP solver class, by default DefaultSolver\n",
      "search_multiple_solutions : bool, optional\n",
      "    Weather search for multiple solutions or not, by default False\n",
      "    If False the return will be a FragmentationResult object, if True\n",
      "    the return will be a list of FragmentationResult objects.\n",
      "\n",
      "Returns\n",
      "-------\n",
      "Union[FragmentationResult, List[FragmentationResult]]\n",
      "    Fragmentation result. If search_multiple_solutions is False the\n",
      "    return will be a FragmentationResult object, if True the return\n",
      "    will be a list of FragmentationResult objects.\n",
      "\u001b[0;31mFile:\u001b[0m      ~/code/ugropy/ugropy/core/frag_classes/base/fragmentation_model.py\n",
      "\u001b[0;31mType:\u001b[0m      method"
     ]
    }
   ],
   "source": [
    "?psrk.get_groups"
   ]
  }
 ],
 "metadata": {
  "kernelspec": {
   "display_name": "ugropy",
   "language": "python",
   "name": "python3"
  },
  "language_info": {
   "codemirror_mode": {
    "name": "ipython",
    "version": 3
   },
   "file_extension": ".py",
   "mimetype": "text/x-python",
   "name": "python",
   "nbconvert_exporter": "python",
   "pygments_lexer": "ipython3",
   "version": "3.10.12"
  }
 },
 "nbformat": 4,
 "nbformat_minor": 2
}
