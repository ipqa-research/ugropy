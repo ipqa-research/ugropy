{
 "cells": [
  {
   "cell_type": "markdown",
   "metadata": {},
   "source": [
    "### Failing\n",
    "\n",
    "[![Open In Colab](https://colab.research.google.com/assets/colab-badge.svg)](https://colab.research.google.com/github/ipqa-research/ugropy/blob/main/docs/source/tutorial/ugropy_failing.ipynb)\n",
    "\n",
    "`ugropy` may fail to obtain the subgroups of a molecule for a certain model for\n",
    "two reasons: either there is a bug in the code, or the molecule cannot be\n",
    "represented by the subgroups of the failing model.\n",
    "\n",
    "`ugropy` utilizes SMARTS for the representation of functional groups to inquire\n",
    "whether the molecule contains those structures. Let's examine the functional\n",
    "group list for the classic liquid-vapor UNIFAC model."
   ]
  },
  {
   "cell_type": "code",
   "execution_count": 1,
   "metadata": {},
   "outputs": [],
   "source": [
    "try:\n",
    "  import google.colab\n",
    "  IN_COLAB = True\n",
    "except:\n",
    "  IN_COLAB = False\n",
    "\n",
    "\n",
    "if IN_COLAB:\n",
    "  %pip install ugropy"
   ]
  },
  {
   "cell_type": "code",
   "execution_count": 2,
   "metadata": {},
   "outputs": [
    {
     "data": {
      "text/html": [
       "<div>\n",
       "<style scoped>\n",
       "    .dataframe tbody tr th:only-of-type {\n",
       "        vertical-align: middle;\n",
       "    }\n",
       "\n",
       "    .dataframe tbody tr th {\n",
       "        vertical-align: top;\n",
       "    }\n",
       "\n",
       "    .dataframe thead th {\n",
       "        text-align: right;\n",
       "    }\n",
       "</style>\n",
       "<table border=\"1\" class=\"dataframe\">\n",
       "  <thead>\n",
       "    <tr style=\"text-align: right;\">\n",
       "      <th></th>\n",
       "      <th>smarts</th>\n",
       "      <th>molecular_weight</th>\n",
       "    </tr>\n",
       "    <tr>\n",
       "      <th>group</th>\n",
       "      <th></th>\n",
       "      <th></th>\n",
       "    </tr>\n",
       "  </thead>\n",
       "  <tbody>\n",
       "    <tr>\n",
       "      <th>CH3</th>\n",
       "      <td>[CX4H3]</td>\n",
       "      <td>15.03500</td>\n",
       "    </tr>\n",
       "    <tr>\n",
       "      <th>CH2</th>\n",
       "      <td>[CX4H2]</td>\n",
       "      <td>14.02700</td>\n",
       "    </tr>\n",
       "    <tr>\n",
       "      <th>CH</th>\n",
       "      <td>[CX4H]</td>\n",
       "      <td>13.01900</td>\n",
       "    </tr>\n",
       "    <tr>\n",
       "      <th>C</th>\n",
       "      <td>[CX4H0]</td>\n",
       "      <td>12.01100</td>\n",
       "    </tr>\n",
       "    <tr>\n",
       "      <th>CH2=CH</th>\n",
       "      <td>[CH2]=[CH]</td>\n",
       "      <td>27.04600</td>\n",
       "    </tr>\n",
       "    <tr>\n",
       "      <th>...</th>\n",
       "      <td>...</td>\n",
       "      <td>...</td>\n",
       "    </tr>\n",
       "    <tr>\n",
       "      <th>NCO</th>\n",
       "      <td>[NX2H0]=[CX2H0]=[OX1H0]</td>\n",
       "      <td>42.01700</td>\n",
       "    </tr>\n",
       "    <tr>\n",
       "      <th>(CH2)2SU</th>\n",
       "      <td>[CH2]S(=O)(=O)[CH2]</td>\n",
       "      <td>92.11620</td>\n",
       "    </tr>\n",
       "    <tr>\n",
       "      <th>CH2CHSU</th>\n",
       "      <td>[CH2]S(=O)(=O)[CH]</td>\n",
       "      <td>91.10840</td>\n",
       "    </tr>\n",
       "    <tr>\n",
       "      <th>IMIDAZOL</th>\n",
       "      <td>[c]1:[c]:[n]:[c]:[n]:1</td>\n",
       "      <td>68.07820</td>\n",
       "    </tr>\n",
       "    <tr>\n",
       "      <th>BTI</th>\n",
       "      <td>C(F)(F)(F)S(=O)(=O)[N-]S(=O)(=O)C(F)(F)F</td>\n",
       "      <td>279.91784</td>\n",
       "    </tr>\n",
       "  </tbody>\n",
       "</table>\n",
       "<p>113 rows × 2 columns</p>\n",
       "</div>"
      ],
      "text/plain": [
       "                                            smarts  molecular_weight\n",
       "group                                                               \n",
       "CH3                                        [CX4H3]          15.03500\n",
       "CH2                                        [CX4H2]          14.02700\n",
       "CH                                          [CX4H]          13.01900\n",
       "C                                          [CX4H0]          12.01100\n",
       "CH2=CH                                  [CH2]=[CH]          27.04600\n",
       "...                                            ...               ...\n",
       "NCO                        [NX2H0]=[CX2H0]=[OX1H0]          42.01700\n",
       "(CH2)2SU                       [CH2]S(=O)(=O)[CH2]          92.11620\n",
       "CH2CHSU                         [CH2]S(=O)(=O)[CH]          91.10840\n",
       "IMIDAZOL                    [c]1:[c]:[n]:[c]:[n]:1          68.07820\n",
       "BTI       C(F)(F)(F)S(=O)(=O)[N-]S(=O)(=O)C(F)(F)F         279.91784\n",
       "\n",
       "[113 rows x 2 columns]"
      ]
     },
     "execution_count": 2,
     "metadata": {},
     "output_type": "execute_result"
    }
   ],
   "source": [
    "from ugropy import unifac\n",
    "\n",
    "unifac.subgroups"
   ]
  },
  {
   "cell_type": "markdown",
   "metadata": {},
   "source": [
    "For example, let's check the SMARTS representation of the alcohol group ACOH:"
   ]
  },
  {
   "cell_type": "code",
   "execution_count": 3,
   "metadata": {},
   "outputs": [
    {
     "data": {
      "text/plain": [
       "'[cH0][OH]'"
      ]
     },
     "execution_count": 3,
     "metadata": {},
     "output_type": "execute_result"
    }
   ],
   "source": [
    "unifac.subgroups.loc[\"ACOH\", \"smarts\"]"
   ]
  },
  {
   "cell_type": "markdown",
   "metadata": {},
   "source": [
    "The SMARTS representation it's telling us that the OH group it's, of course, a\n",
    "hydroxyl group bounded by a single bound to an aromatic carbon atom.\n",
    "\n",
    "An example of a molecule that cannot be represented by UNIFAC groups:"
   ]
  },
  {
   "cell_type": "code",
   "execution_count": 10,
   "metadata": {},
   "outputs": [
    {
     "data": {
      "image/jpeg": "[encoded data removed]",
      "image/png": "[encoded data removed]",
      "text/plain": [
       "<PIL.PngImagePlugin.PngImageFile image mode=RGB size=300x300>"
      ]
     },
     "execution_count": 10,
     "metadata": {},
     "output_type": "execute_result"
    }
   ],
   "source": [
    "from rdkit.Chem import Draw\n",
    "\n",
    "\n",
    "mol = unifac.get_groups(\"C1(=CC=CC=C1)OC(C)(C)C\", \"smiles\")\n",
    "\n",
    "Draw.MolToImage(mol.molecule)"
   ]
  },
  {
   "cell_type": "code",
   "execution_count": 11,
   "metadata": {},
   "outputs": [
    {
     "name": "stdout",
     "output_type": "stream",
     "text": [
      "{}\n"
     ]
    }
   ],
   "source": [
    "print(mol.subgroups)"
   ]
  },
  {
   "cell_type": "markdown",
   "metadata": {},
   "source": [
    "The library \"fails\" to obtain any functional groups to accurately represent the\n",
    "molecule. This failure is represented by an empty dictionary. In this case, the\n",
    "\"fail\" is correct, but it could fail due to errors in the groups SMARTS\n",
    "representations or the algorithm, resulting in an empty dictionary as well.\n",
    "Currently, the supported models are tested against 444 different molecules.\n",
    "\n",
    "If you encounter a failing representation, you can examine the structure of the\n",
    "molecule and the list of functional groups of the failing model. If you\n",
    "determine that the molecule can indeed be modeled, you may have discovered a\n",
    "bug. Feel free to report the issue on the repository along with the failing\n",
    "molecule's SMILES/name, the failing model and the `ugropy` version.\n",
    "\n",
    "#### More than one solution\n",
    "Models like UNIFAC or PSRK can have multiple solutions to represent a molecule,\n",
    "and ugropy tries its best to find them all. In such cases, you will receive a\n",
    "list of dictionaries, each containing one of the solutions found. Let's take a\n",
    "look."
   ]
  },
  {
   "cell_type": "code",
   "execution_count": 14,
   "metadata": {},
   "outputs": [
    {
     "data": {
      "image/jpeg": "[encoded data removed]",
      "image/png": "[encoded data removed]",
      "text/plain": [
       "<PIL.PngImagePlugin.PngImageFile image mode=RGB size=300x300>"
      ]
     },
     "execution_count": 14,
     "metadata": {},
     "output_type": "execute_result"
    }
   ],
   "source": [
    "from ugropy import unifac\n",
    "from rdkit.Chem import Draw\n",
    "\n",
    "\n",
    "mol = unifac.get_groups(\"CCCC1=CC=C(CC(=O)OC)C=C1\", \"smiles\", search_multiple_solutions=True)\n",
    "\n",
    "Draw.MolToImage(mol[0].molecule, highlightAtoms=[7])"
   ]
  },
  {
   "cell_type": "markdown",
   "metadata": {},
   "source": [
    "This molecule can be modeled in two ways depending on how we treat the CH2\n",
    "attached to the ring and the ester carbon (highlighted in red). We can either\n",
    "form an ACCH2 group and model the ester group with COO, or we can use an AC\n",
    "group and model the ester group with CH2COO."
   ]
  },
  {
   "cell_type": "code",
   "execution_count": 17,
   "metadata": {},
   "outputs": [
    {
     "name": "stdout",
     "output_type": "stream",
     "text": [
      "Solution 1:\n",
      "{'CH3': 2, 'CH2': 1, 'ACH': 4, 'ACCH2': 2, 'COO': 1}\n",
      "solution 2:\n",
      "{'CH3': 2, 'CH2': 1, 'ACH': 4, 'AC': 1, 'ACCH2': 1, 'CH2COO': 1}\n"
     ]
    }
   ],
   "source": [
    "print(\"Solution 1:\")\n",
    "print(mol[0].subgroups)\n",
    "print(\"solution 2:\")\n",
    "print(mol[1].subgroups)"
   ]
  },
  {
   "cell_type": "code",
   "execution_count": 18,
   "metadata": {},
   "outputs": [
    {
     "data": {
      "image/svg+xml": [
       "<svg xmlns=\"http://www.w3.org/2000/svg\" xmlns:rdkit=\"http://www.rdkit.org/xml\" xmlns:xlink=\"http://www.w3.org/1999/xlink\" version=\"1.1\" baseProfile=\"full\" xml:space=\"preserve\" width=\"800px\" height=\"200px\" viewBox=\"0 0 800 200\">\n",
       "<!-- END OF HEADER -->\n",
       "<rect style=\"opacity:1.0;fill:#FFFFFF;stroke:none\" width=\"800.0\" height=\"200.0\" x=\"0.0\" y=\"0.0\"> </rect>\n",
       "<ellipse cx=\"105.7\" cy=\"115.1\" rx=\"14.8\" ry=\"14.8\" class=\"atom-0\" style=\"fill:#1F77B4A5;fill-rule:evenodd;stroke:#1F77B4A5;stroke-width:1.0px;stroke-linecap:butt;stroke-linejoin:miter;stroke-opacity:1\"/>\n",
       "<ellipse cx=\"176.4\" cy=\"92.5\" rx=\"14.8\" ry=\"14.8\" class=\"atom-1\" style=\"fill:#FF7F0EA5;fill-rule:evenodd;stroke:#FF7F0EA5;stroke-width:1.0px;stroke-linecap:butt;stroke-linejoin:miter;stroke-opacity:1\"/>\n",
       "<ellipse cx=\"231.2\" cy=\"142.4\" rx=\"14.8\" ry=\"14.8\" class=\"atom-2\" style=\"fill:#D62728A5;fill-rule:evenodd;stroke:#D62728A5;stroke-width:1.0px;stroke-linecap:butt;stroke-linejoin:miter;stroke-opacity:1\"/>\n",
       "<ellipse cx=\"301.9\" cy=\"119.9\" rx=\"14.8\" ry=\"14.8\" class=\"atom-3\" style=\"fill:#D62728A5;fill-rule:evenodd;stroke:#D62728A5;stroke-width:1.0px;stroke-linecap:butt;stroke-linejoin:miter;stroke-opacity:1\"/>\n",
       "<ellipse cx=\"317.7\" cy=\"47.4\" rx=\"14.8\" ry=\"14.8\" class=\"atom-4\" style=\"fill:#2CA02CA5;fill-rule:evenodd;stroke:#2CA02CA5;stroke-width:1.0px;stroke-linecap:butt;stroke-linejoin:miter;stroke-opacity:1\"/>\n",
       "<ellipse cx=\"388.4\" cy=\"24.8\" rx=\"14.8\" ry=\"14.8\" class=\"atom-5\" style=\"fill:#2CA02CA5;fill-rule:evenodd;stroke:#2CA02CA5;stroke-width:1.0px;stroke-linecap:butt;stroke-linejoin:miter;stroke-opacity:1\"/>\n",
       "<ellipse cx=\"443.2\" cy=\"74.8\" rx=\"14.8\" ry=\"14.8\" class=\"atom-6\" style=\"fill:#D62728A5;fill-rule:evenodd;stroke:#D62728A5;stroke-width:1.0px;stroke-linecap:butt;stroke-linejoin:miter;stroke-opacity:1\"/>\n",
       "<ellipse cx=\"513.9\" cy=\"52.2\" rx=\"14.8\" ry=\"14.8\" class=\"atom-7\" style=\"fill:#D62728A5;fill-rule:evenodd;stroke:#D62728A5;stroke-width:1.0px;stroke-linecap:butt;stroke-linejoin:miter;stroke-opacity:1\"/>\n",
       "<ellipse cx=\"568.8\" cy=\"102.1\" rx=\"14.8\" ry=\"14.8\" class=\"atom-8\" style=\"fill:#9467BDA5;fill-rule:evenodd;stroke:#9467BDA5;stroke-width:1.0px;stroke-linecap:butt;stroke-linejoin:miter;stroke-opacity:1\"/>\n",
       "<ellipse cx=\"553.0\" cy=\"174.7\" rx=\"14.8\" ry=\"15.3\" class=\"atom-9\" style=\"fill:#9467BDA5;fill-rule:evenodd;stroke:#9467BDA5;stroke-width:1.0px;stroke-linecap:butt;stroke-linejoin:miter;stroke-opacity:1\"/>\n",
       "<ellipse cx=\"639.4\" cy=\"79.7\" rx=\"14.8\" ry=\"15.3\" class=\"atom-10\" style=\"fill:#9467BDA5;fill-rule:evenodd;stroke:#9467BDA5;stroke-width:1.0px;stroke-linecap:butt;stroke-linejoin:miter;stroke-opacity:1\"/>\n",
       "<ellipse cx=\"694.3\" cy=\"129.5\" rx=\"14.8\" ry=\"14.8\" class=\"atom-11\" style=\"fill:#1F77B4A5;fill-rule:evenodd;stroke:#1F77B4A5;stroke-width:1.0px;stroke-linecap:butt;stroke-linejoin:miter;stroke-opacity:1\"/>\n",
       "<ellipse cx=\"427.4\" cy=\"147.2\" rx=\"14.8\" ry=\"14.8\" class=\"atom-12\" style=\"fill:#2CA02CA5;fill-rule:evenodd;stroke:#2CA02CA5;stroke-width:1.0px;stroke-linecap:butt;stroke-linejoin:miter;stroke-opacity:1\"/>\n",
       "<ellipse cx=\"356.8\" cy=\"169.8\" rx=\"14.8\" ry=\"14.8\" class=\"atom-13\" style=\"fill:#2CA02CA5;fill-rule:evenodd;stroke:#2CA02CA5;stroke-width:1.0px;stroke-linecap:butt;stroke-linejoin:miter;stroke-opacity:1\"/>\n",
       "<path class=\"bond-0 atom-0 atom-1\" d=\"M 105.7,115.1 L 176.4,92.5\" style=\"fill:none;fill-rule:evenodd;stroke:#000000;stroke-width:2.0px;stroke-linecap:butt;stroke-linejoin:miter;stroke-opacity:1\"/>\n",
       "<path class=\"bond-1 atom-1 atom-2\" d=\"M 176.4,92.5 L 231.2,142.4\" style=\"fill:none;fill-rule:evenodd;stroke:#000000;stroke-width:2.0px;stroke-linecap:butt;stroke-linejoin:miter;stroke-opacity:1\"/>\n",
       "<path class=\"bond-2 atom-2 atom-3\" d=\"M 231.2,142.4 L 301.9,119.9\" style=\"fill:none;fill-rule:evenodd;stroke:#000000;stroke-width:2.0px;stroke-linecap:butt;stroke-linejoin:miter;stroke-opacity:1\"/>\n",
       "<path class=\"bond-3 atom-3 atom-4\" d=\"M 301.9,119.9 L 317.7,47.4\" style=\"fill:none;fill-rule:evenodd;stroke:#000000;stroke-width:2.0px;stroke-linecap:butt;stroke-linejoin:miter;stroke-opacity:1\"/>\n",
       "<path class=\"bond-3 atom-3 atom-4\" d=\"M 314.1,116.0 L 327.2,56.0\" style=\"fill:none;fill-rule:evenodd;stroke:#000000;stroke-width:2.0px;stroke-linecap:butt;stroke-linejoin:miter;stroke-opacity:1\"/>\n",
       "<path class=\"bond-4 atom-4 atom-5\" d=\"M 317.7,47.4 L 388.4,24.8\" style=\"fill:none;fill-rule:evenodd;stroke:#000000;stroke-width:2.0px;stroke-linecap:butt;stroke-linejoin:miter;stroke-opacity:1\"/>\n",
       "<path class=\"bond-5 atom-5 atom-6\" d=\"M 388.4,24.8 L 443.2,74.8\" style=\"fill:none;fill-rule:evenodd;stroke:#000000;stroke-width:2.0px;stroke-linecap:butt;stroke-linejoin:miter;stroke-opacity:1\"/>\n",
       "<path class=\"bond-5 atom-5 atom-6\" d=\"M 385.6,37.4 L 431.0,78.7\" style=\"fill:none;fill-rule:evenodd;stroke:#000000;stroke-width:2.0px;stroke-linecap:butt;stroke-linejoin:miter;stroke-opacity:1\"/>\n",
       "<path class=\"bond-6 atom-6 atom-7\" d=\"M 443.2,74.8 L 513.9,52.2\" style=\"fill:none;fill-rule:evenodd;stroke:#000000;stroke-width:2.0px;stroke-linecap:butt;stroke-linejoin:miter;stroke-opacity:1\"/>\n",
       "<path class=\"bond-7 atom-7 atom-8\" d=\"M 513.9,52.2 L 568.8,102.1\" style=\"fill:none;fill-rule:evenodd;stroke:#000000;stroke-width:2.0px;stroke-linecap:butt;stroke-linejoin:miter;stroke-opacity:1\"/>\n",
       "<path class=\"bond-8 atom-8 atom-9\" d=\"M 564.0,97.8 L 557.2,129.1\" style=\"fill:none;fill-rule:evenodd;stroke:#000000;stroke-width:2.0px;stroke-linecap:butt;stroke-linejoin:miter;stroke-opacity:1\"/>\n",
       "<path class=\"bond-8 atom-8 atom-9\" d=\"M 557.2,129.1 L 550.4,160.3\" style=\"fill:none;fill-rule:evenodd;stroke:#FF0000;stroke-width:2.0px;stroke-linecap:butt;stroke-linejoin:miter;stroke-opacity:1\"/>\n",
       "<path class=\"bond-8 atom-8 atom-9\" d=\"M 574.9,100.2 L 568.1,131.4\" style=\"fill:none;fill-rule:evenodd;stroke:#000000;stroke-width:2.0px;stroke-linecap:butt;stroke-linejoin:miter;stroke-opacity:1\"/>\n",
       "<path class=\"bond-8 atom-8 atom-9\" d=\"M 568.1,131.4 L 561.3,162.7\" style=\"fill:none;fill-rule:evenodd;stroke:#FF0000;stroke-width:2.0px;stroke-linecap:butt;stroke-linejoin:miter;stroke-opacity:1\"/>\n",
       "<path class=\"bond-9 atom-8 atom-10\" d=\"M 568.8,102.1 L 598.1,92.8\" style=\"fill:none;fill-rule:evenodd;stroke:#000000;stroke-width:2.0px;stroke-linecap:butt;stroke-linejoin:miter;stroke-opacity:1\"/>\n",
       "<path class=\"bond-9 atom-8 atom-10\" d=\"M 598.1,92.8 L 627.3,83.4\" style=\"fill:none;fill-rule:evenodd;stroke:#FF0000;stroke-width:2.0px;stroke-linecap:butt;stroke-linejoin:miter;stroke-opacity:1\"/>\n",
       "<path class=\"bond-10 atom-10 atom-11\" d=\"M 651.5,90.5 L 672.9,110.0\" style=\"fill:none;fill-rule:evenodd;stroke:#FF0000;stroke-width:2.0px;stroke-linecap:butt;stroke-linejoin:miter;stroke-opacity:1\"/>\n",
       "<path class=\"bond-10 atom-10 atom-11\" d=\"M 672.9,110.0 L 694.3,129.5\" style=\"fill:none;fill-rule:evenodd;stroke:#000000;stroke-width:2.0px;stroke-linecap:butt;stroke-linejoin:miter;stroke-opacity:1\"/>\n",
       "<path class=\"bond-11 atom-6 atom-12\" d=\"M 443.2,74.8 L 427.4,147.2\" style=\"fill:none;fill-rule:evenodd;stroke:#000000;stroke-width:2.0px;stroke-linecap:butt;stroke-linejoin:miter;stroke-opacity:1\"/>\n",
       "<path class=\"bond-12 atom-12 atom-13\" d=\"M 427.4,147.2 L 356.8,169.8\" style=\"fill:none;fill-rule:evenodd;stroke:#000000;stroke-width:2.0px;stroke-linecap:butt;stroke-linejoin:miter;stroke-opacity:1\"/>\n",
       "<path class=\"bond-12 atom-12 atom-13\" d=\"M 417.9,138.6 L 359.5,157.2\" style=\"fill:none;fill-rule:evenodd;stroke:#000000;stroke-width:2.0px;stroke-linecap:butt;stroke-linejoin:miter;stroke-opacity:1\"/>\n",
       "<path class=\"bond-13 atom-13 atom-3\" d=\"M 356.8,169.8 L 301.9,119.9\" style=\"fill:none;fill-rule:evenodd;stroke:#000000;stroke-width:2.0px;stroke-linecap:butt;stroke-linejoin:miter;stroke-opacity:1\"/>\n",
       "<path d=\"M 172.8,93.6 L 176.4,92.5 L 179.1,95.0\" style=\"fill:none;stroke:#000000;stroke-width:2.0px;stroke-linecap:butt;stroke-linejoin:miter;stroke-opacity:1;\"/>\n",
       "<path d=\"M 228.5,139.9 L 231.2,142.4 L 234.8,141.3\" style=\"fill:none;stroke:#000000;stroke-width:2.0px;stroke-linecap:butt;stroke-linejoin:miter;stroke-opacity:1;\"/>\n",
       "<path d=\"M 316.9,51.0 L 317.7,47.4 L 321.2,46.3\" style=\"fill:none;stroke:#000000;stroke-width:2.0px;stroke-linecap:butt;stroke-linejoin:miter;stroke-opacity:1;\"/>\n",
       "<path d=\"M 384.8,26.0 L 388.4,24.8 L 391.1,27.3\" style=\"fill:none;stroke:#000000;stroke-width:2.0px;stroke-linecap:butt;stroke-linejoin:miter;stroke-opacity:1;\"/>\n",
       "<path d=\"M 510.4,53.3 L 513.9,52.2 L 516.6,54.7\" style=\"fill:none;stroke:#000000;stroke-width:2.0px;stroke-linecap:butt;stroke-linejoin:miter;stroke-opacity:1;\"/>\n",
       "<path d=\"M 566.0,99.6 L 568.8,102.1 L 570.2,101.6\" style=\"fill:none;stroke:#000000;stroke-width:2.0px;stroke-linecap:butt;stroke-linejoin:miter;stroke-opacity:1;\"/>\n",
       "<path d=\"M 428.2,143.6 L 427.4,147.2 L 423.9,148.4\" style=\"fill:none;stroke:#000000;stroke-width:2.0px;stroke-linecap:butt;stroke-linejoin:miter;stroke-opacity:1;\"/>\n",
       "<path d=\"M 360.3,168.7 L 356.8,169.8 L 354.0,167.3\" style=\"fill:none;stroke:#000000;stroke-width:2.0px;stroke-linecap:butt;stroke-linejoin:miter;stroke-opacity:1;\"/>\n",
       "<path class=\"atom-9\" d=\"M 543.3 174.6 Q 543.3 169.6, 545.8 166.8 Q 548.3 164.0, 553.0 164.0 Q 557.6 164.0, 560.1 166.8 Q 562.6 169.6, 562.6 174.6 Q 562.6 179.7, 560.1 182.7 Q 557.6 185.5, 553.0 185.5 Q 548.3 185.5, 545.8 182.7 Q 543.3 179.8, 543.3 174.6 M 553.0 183.2 Q 556.2 183.2, 557.9 181.0 Q 559.6 178.9, 559.6 174.6 Q 559.6 170.5, 557.9 168.4 Q 556.2 166.3, 553.0 166.3 Q 549.8 166.3, 548.0 168.4 Q 546.3 170.5, 546.3 174.6 Q 546.3 178.9, 548.0 181.0 Q 549.8 183.2, 553.0 183.2 \" fill=\"#FF0000\"/>\n",
       "<path class=\"atom-10\" d=\"M 629.8 79.6 Q 629.8 74.6, 632.3 71.7 Q 634.8 68.9, 639.4 68.9 Q 644.1 68.9, 646.6 71.7 Q 649.1 74.6, 649.1 79.6 Q 649.1 84.7, 646.5 87.6 Q 644.0 90.5, 639.4 90.5 Q 634.8 90.5, 632.3 87.6 Q 629.8 84.7, 629.8 79.6 M 639.4 88.1 Q 642.6 88.1, 644.4 86.0 Q 646.1 83.8, 646.1 79.6 Q 646.1 75.5, 644.4 73.4 Q 642.6 71.3, 639.4 71.3 Q 636.2 71.3, 634.5 73.4 Q 632.8 75.4, 632.8 79.6 Q 632.8 83.8, 634.5 86.0 Q 636.2 88.1, 639.4 88.1 \" fill=\"#FF0000\"/>\n",
       "<rect x=\"1\" y=\"5\" width=\"18.0\" height=\"18.0\" fill=\"rgb(31, 119, 179)\"/><text x=\"19.200000000000003\" y=\"20\" font-family=\"Helvetica\" font-size=\"12\" fill=\"black\">CH3: 2</text><rect x=\"1\" y=\"30\" width=\"18.0\" height=\"18.0\" fill=\"rgb(255, 127, 13)\"/><text x=\"19.200000000000003\" y=\"45\" font-family=\"Helvetica\" font-size=\"12\" fill=\"black\">CH2: 1</text><rect x=\"1\" y=\"55\" width=\"18.0\" height=\"18.0\" fill=\"rgb(44, 159, 44)\"/><text x=\"19.200000000000003\" y=\"70\" font-family=\"Helvetica\" font-size=\"12\" fill=\"black\">ACH: 4</text><rect x=\"1\" y=\"80\" width=\"18.0\" height=\"18.0\" fill=\"rgb(214, 39, 40)\"/><text x=\"19.200000000000003\" y=\"95\" font-family=\"Helvetica\" font-size=\"12\" fill=\"black\">ACCH2: 2</text><rect x=\"1\" y=\"105\" width=\"18.0\" height=\"18.0\" fill=\"rgb(148, 103, 188)\"/><text x=\"19.200000000000003\" y=\"120\" font-family=\"Helvetica\" font-size=\"12\" fill=\"black\">COO: 1</text><text x=\"400.0\" y=\"40\" font-family=\"Helvetica\" font-size=\"12\" font-weight=\"bold\" fill=\"black\" text-anchor=\"middle\"/></svg>"
      ],
      "text/plain": [
       "<IPython.core.display.SVG object>"
      ]
     },
     "execution_count": 18,
     "metadata": {},
     "output_type": "execute_result"
    }
   ],
   "source": [
    "mol[0].draw(width=800)"
   ]
  },
  {
   "cell_type": "code",
   "execution_count": 19,
   "metadata": {},
   "outputs": [
    {
     "data": {
      "image/svg+xml": [
       "<svg xmlns=\"http://www.w3.org/2000/svg\" xmlns:rdkit=\"http://www.rdkit.org/xml\" xmlns:xlink=\"http://www.w3.org/1999/xlink\" version=\"1.1\" baseProfile=\"full\" xml:space=\"preserve\" width=\"800px\" height=\"200px\" viewBox=\"0 0 800 200\">\n",
       "<!-- END OF HEADER -->\n",
       "<rect style=\"opacity:1.0;fill:#FFFFFF;stroke:none\" width=\"800.0\" height=\"200.0\" x=\"0.0\" y=\"0.0\"> </rect>\n",
       "<ellipse cx=\"105.7\" cy=\"115.1\" rx=\"14.8\" ry=\"14.8\" class=\"atom-0\" style=\"fill:#1F77B4A5;fill-rule:evenodd;stroke:#1F77B4A5;stroke-width:1.0px;stroke-linecap:butt;stroke-linejoin:miter;stroke-opacity:1\"/>\n",
       "<ellipse cx=\"176.4\" cy=\"92.5\" rx=\"14.8\" ry=\"14.8\" class=\"atom-1\" style=\"fill:#FF7F0EA5;fill-rule:evenodd;stroke:#FF7F0EA5;stroke-width:1.0px;stroke-linecap:butt;stroke-linejoin:miter;stroke-opacity:1\"/>\n",
       "<ellipse cx=\"231.2\" cy=\"142.4\" rx=\"14.8\" ry=\"14.8\" class=\"atom-2\" style=\"fill:#9467BDA5;fill-rule:evenodd;stroke:#9467BDA5;stroke-width:1.0px;stroke-linecap:butt;stroke-linejoin:miter;stroke-opacity:1\"/>\n",
       "<ellipse cx=\"301.9\" cy=\"119.9\" rx=\"14.8\" ry=\"14.8\" class=\"atom-3\" style=\"fill:#9467BDA5;fill-rule:evenodd;stroke:#9467BDA5;stroke-width:1.0px;stroke-linecap:butt;stroke-linejoin:miter;stroke-opacity:1\"/>\n",
       "<ellipse cx=\"317.7\" cy=\"47.4\" rx=\"14.8\" ry=\"14.8\" class=\"atom-4\" style=\"fill:#2CA02CA5;fill-rule:evenodd;stroke:#2CA02CA5;stroke-width:1.0px;stroke-linecap:butt;stroke-linejoin:miter;stroke-opacity:1\"/>\n",
       "<ellipse cx=\"388.4\" cy=\"24.8\" rx=\"14.8\" ry=\"14.8\" class=\"atom-5\" style=\"fill:#2CA02CA5;fill-rule:evenodd;stroke:#2CA02CA5;stroke-width:1.0px;stroke-linecap:butt;stroke-linejoin:miter;stroke-opacity:1\"/>\n",
       "<ellipse cx=\"443.2\" cy=\"74.8\" rx=\"14.8\" ry=\"14.8\" class=\"atom-6\" style=\"fill:#D62728A5;fill-rule:evenodd;stroke:#D62728A5;stroke-width:1.0px;stroke-linecap:butt;stroke-linejoin:miter;stroke-opacity:1\"/>\n",
       "<ellipse cx=\"513.9\" cy=\"52.2\" rx=\"14.8\" ry=\"14.8\" class=\"atom-7\" style=\"fill:#8C564BA5;fill-rule:evenodd;stroke:#8C564BA5;stroke-width:1.0px;stroke-linecap:butt;stroke-linejoin:miter;stroke-opacity:1\"/>\n",
       "<ellipse cx=\"568.8\" cy=\"102.1\" rx=\"14.8\" ry=\"14.8\" class=\"atom-8\" style=\"fill:#8C564BA5;fill-rule:evenodd;stroke:#8C564BA5;stroke-width:1.0px;stroke-linecap:butt;stroke-linejoin:miter;stroke-opacity:1\"/>\n",
       "<ellipse cx=\"553.0\" cy=\"174.7\" rx=\"14.8\" ry=\"15.3\" class=\"atom-9\" style=\"fill:#8C564BA5;fill-rule:evenodd;stroke:#8C564BA5;stroke-width:1.0px;stroke-linecap:butt;stroke-linejoin:miter;stroke-opacity:1\"/>\n",
       "<ellipse cx=\"639.4\" cy=\"79.7\" rx=\"14.8\" ry=\"15.3\" class=\"atom-10\" style=\"fill:#8C564BA5;fill-rule:evenodd;stroke:#8C564BA5;stroke-width:1.0px;stroke-linecap:butt;stroke-linejoin:miter;stroke-opacity:1\"/>\n",
       "<ellipse cx=\"694.3\" cy=\"129.5\" rx=\"14.8\" ry=\"14.8\" class=\"atom-11\" style=\"fill:#1F77B4A5;fill-rule:evenodd;stroke:#1F77B4A5;stroke-width:1.0px;stroke-linecap:butt;stroke-linejoin:miter;stroke-opacity:1\"/>\n",
       "<ellipse cx=\"427.4\" cy=\"147.2\" rx=\"14.8\" ry=\"14.8\" class=\"atom-12\" style=\"fill:#2CA02CA5;fill-rule:evenodd;stroke:#2CA02CA5;stroke-width:1.0px;stroke-linecap:butt;stroke-linejoin:miter;stroke-opacity:1\"/>\n",
       "<ellipse cx=\"356.8\" cy=\"169.8\" rx=\"14.8\" ry=\"14.8\" class=\"atom-13\" style=\"fill:#2CA02CA5;fill-rule:evenodd;stroke:#2CA02CA5;stroke-width:1.0px;stroke-linecap:butt;stroke-linejoin:miter;stroke-opacity:1\"/>\n",
       "<path class=\"bond-0 atom-0 atom-1\" d=\"M 105.7,115.1 L 176.4,92.5\" style=\"fill:none;fill-rule:evenodd;stroke:#000000;stroke-width:2.0px;stroke-linecap:butt;stroke-linejoin:miter;stroke-opacity:1\"/>\n",
       "<path class=\"bond-1 atom-1 atom-2\" d=\"M 176.4,92.5 L 231.2,142.4\" style=\"fill:none;fill-rule:evenodd;stroke:#000000;stroke-width:2.0px;stroke-linecap:butt;stroke-linejoin:miter;stroke-opacity:1\"/>\n",
       "<path class=\"bond-2 atom-2 atom-3\" d=\"M 231.2,142.4 L 301.9,119.9\" style=\"fill:none;fill-rule:evenodd;stroke:#000000;stroke-width:2.0px;stroke-linecap:butt;stroke-linejoin:miter;stroke-opacity:1\"/>\n",
       "<path class=\"bond-3 atom-3 atom-4\" d=\"M 301.9,119.9 L 317.7,47.4\" style=\"fill:none;fill-rule:evenodd;stroke:#000000;stroke-width:2.0px;stroke-linecap:butt;stroke-linejoin:miter;stroke-opacity:1\"/>\n",
       "<path class=\"bond-3 atom-3 atom-4\" d=\"M 314.1,116.0 L 327.2,56.0\" style=\"fill:none;fill-rule:evenodd;stroke:#000000;stroke-width:2.0px;stroke-linecap:butt;stroke-linejoin:miter;stroke-opacity:1\"/>\n",
       "<path class=\"bond-4 atom-4 atom-5\" d=\"M 317.7,47.4 L 388.4,24.8\" style=\"fill:none;fill-rule:evenodd;stroke:#000000;stroke-width:2.0px;stroke-linecap:butt;stroke-linejoin:miter;stroke-opacity:1\"/>\n",
       "<path class=\"bond-5 atom-5 atom-6\" d=\"M 388.4,24.8 L 443.2,74.8\" style=\"fill:none;fill-rule:evenodd;stroke:#000000;stroke-width:2.0px;stroke-linecap:butt;stroke-linejoin:miter;stroke-opacity:1\"/>\n",
       "<path class=\"bond-5 atom-5 atom-6\" d=\"M 385.6,37.4 L 431.0,78.7\" style=\"fill:none;fill-rule:evenodd;stroke:#000000;stroke-width:2.0px;stroke-linecap:butt;stroke-linejoin:miter;stroke-opacity:1\"/>\n",
       "<path class=\"bond-6 atom-6 atom-7\" d=\"M 443.2,74.8 L 513.9,52.2\" style=\"fill:none;fill-rule:evenodd;stroke:#000000;stroke-width:2.0px;stroke-linecap:butt;stroke-linejoin:miter;stroke-opacity:1\"/>\n",
       "<path class=\"bond-7 atom-7 atom-8\" d=\"M 513.9,52.2 L 568.8,102.1\" style=\"fill:none;fill-rule:evenodd;stroke:#000000;stroke-width:2.0px;stroke-linecap:butt;stroke-linejoin:miter;stroke-opacity:1\"/>\n",
       "<path class=\"bond-8 atom-8 atom-9\" d=\"M 564.0,97.8 L 557.2,129.1\" style=\"fill:none;fill-rule:evenodd;stroke:#000000;stroke-width:2.0px;stroke-linecap:butt;stroke-linejoin:miter;stroke-opacity:1\"/>\n",
       "<path class=\"bond-8 atom-8 atom-9\" d=\"M 557.2,129.1 L 550.4,160.3\" style=\"fill:none;fill-rule:evenodd;stroke:#FF0000;stroke-width:2.0px;stroke-linecap:butt;stroke-linejoin:miter;stroke-opacity:1\"/>\n",
       "<path class=\"bond-8 atom-8 atom-9\" d=\"M 574.9,100.2 L 568.1,131.4\" style=\"fill:none;fill-rule:evenodd;stroke:#000000;stroke-width:2.0px;stroke-linecap:butt;stroke-linejoin:miter;stroke-opacity:1\"/>\n",
       "<path class=\"bond-8 atom-8 atom-9\" d=\"M 568.1,131.4 L 561.3,162.7\" style=\"fill:none;fill-rule:evenodd;stroke:#FF0000;stroke-width:2.0px;stroke-linecap:butt;stroke-linejoin:miter;stroke-opacity:1\"/>\n",
       "<path class=\"bond-9 atom-8 atom-10\" d=\"M 568.8,102.1 L 598.1,92.8\" style=\"fill:none;fill-rule:evenodd;stroke:#000000;stroke-width:2.0px;stroke-linecap:butt;stroke-linejoin:miter;stroke-opacity:1\"/>\n",
       "<path class=\"bond-9 atom-8 atom-10\" d=\"M 598.1,92.8 L 627.3,83.4\" style=\"fill:none;fill-rule:evenodd;stroke:#FF0000;stroke-width:2.0px;stroke-linecap:butt;stroke-linejoin:miter;stroke-opacity:1\"/>\n",
       "<path class=\"bond-10 atom-10 atom-11\" d=\"M 651.5,90.5 L 672.9,110.0\" style=\"fill:none;fill-rule:evenodd;stroke:#FF0000;stroke-width:2.0px;stroke-linecap:butt;stroke-linejoin:miter;stroke-opacity:1\"/>\n",
       "<path class=\"bond-10 atom-10 atom-11\" d=\"M 672.9,110.0 L 694.3,129.5\" style=\"fill:none;fill-rule:evenodd;stroke:#000000;stroke-width:2.0px;stroke-linecap:butt;stroke-linejoin:miter;stroke-opacity:1\"/>\n",
       "<path class=\"bond-11 atom-6 atom-12\" d=\"M 443.2,74.8 L 427.4,147.2\" style=\"fill:none;fill-rule:evenodd;stroke:#000000;stroke-width:2.0px;stroke-linecap:butt;stroke-linejoin:miter;stroke-opacity:1\"/>\n",
       "<path class=\"bond-12 atom-12 atom-13\" d=\"M 427.4,147.2 L 356.8,169.8\" style=\"fill:none;fill-rule:evenodd;stroke:#000000;stroke-width:2.0px;stroke-linecap:butt;stroke-linejoin:miter;stroke-opacity:1\"/>\n",
       "<path class=\"bond-12 atom-12 atom-13\" d=\"M 417.9,138.6 L 359.5,157.2\" style=\"fill:none;fill-rule:evenodd;stroke:#000000;stroke-width:2.0px;stroke-linecap:butt;stroke-linejoin:miter;stroke-opacity:1\"/>\n",
       "<path class=\"bond-13 atom-13 atom-3\" d=\"M 356.8,169.8 L 301.9,119.9\" style=\"fill:none;fill-rule:evenodd;stroke:#000000;stroke-width:2.0px;stroke-linecap:butt;stroke-linejoin:miter;stroke-opacity:1\"/>\n",
       "<path d=\"M 172.8,93.6 L 176.4,92.5 L 179.1,95.0\" style=\"fill:none;stroke:#000000;stroke-width:2.0px;stroke-linecap:butt;stroke-linejoin:miter;stroke-opacity:1;\"/>\n",
       "<path d=\"M 228.5,139.9 L 231.2,142.4 L 234.8,141.3\" style=\"fill:none;stroke:#000000;stroke-width:2.0px;stroke-linecap:butt;stroke-linejoin:miter;stroke-opacity:1;\"/>\n",
       "<path d=\"M 316.9,51.0 L 317.7,47.4 L 321.2,46.3\" style=\"fill:none;stroke:#000000;stroke-width:2.0px;stroke-linecap:butt;stroke-linejoin:miter;stroke-opacity:1;\"/>\n",
       "<path d=\"M 384.8,26.0 L 388.4,24.8 L 391.1,27.3\" style=\"fill:none;stroke:#000000;stroke-width:2.0px;stroke-linecap:butt;stroke-linejoin:miter;stroke-opacity:1;\"/>\n",
       "<path d=\"M 510.4,53.3 L 513.9,52.2 L 516.6,54.7\" style=\"fill:none;stroke:#000000;stroke-width:2.0px;stroke-linecap:butt;stroke-linejoin:miter;stroke-opacity:1;\"/>\n",
       "<path d=\"M 566.0,99.6 L 568.8,102.1 L 570.2,101.6\" style=\"fill:none;stroke:#000000;stroke-width:2.0px;stroke-linecap:butt;stroke-linejoin:miter;stroke-opacity:1;\"/>\n",
       "<path d=\"M 428.2,143.6 L 427.4,147.2 L 423.9,148.4\" style=\"fill:none;stroke:#000000;stroke-width:2.0px;stroke-linecap:butt;stroke-linejoin:miter;stroke-opacity:1;\"/>\n",
       "<path d=\"M 360.3,168.7 L 356.8,169.8 L 354.0,167.3\" style=\"fill:none;stroke:#000000;stroke-width:2.0px;stroke-linecap:butt;stroke-linejoin:miter;stroke-opacity:1;\"/>\n",
       "<path class=\"atom-9\" d=\"M 543.3 174.6 Q 543.3 169.6, 545.8 166.8 Q 548.3 164.0, 553.0 164.0 Q 557.6 164.0, 560.1 166.8 Q 562.6 169.6, 562.6 174.6 Q 562.6 179.7, 560.1 182.7 Q 557.6 185.5, 553.0 185.5 Q 548.3 185.5, 545.8 182.7 Q 543.3 179.8, 543.3 174.6 M 553.0 183.2 Q 556.2 183.2, 557.9 181.0 Q 559.6 178.9, 559.6 174.6 Q 559.6 170.5, 557.9 168.4 Q 556.2 166.3, 553.0 166.3 Q 549.8 166.3, 548.0 168.4 Q 546.3 170.5, 546.3 174.6 Q 546.3 178.9, 548.0 181.0 Q 549.8 183.2, 553.0 183.2 \" fill=\"#FF0000\"/>\n",
       "<path class=\"atom-10\" d=\"M 629.8 79.6 Q 629.8 74.6, 632.3 71.7 Q 634.8 68.9, 639.4 68.9 Q 644.1 68.9, 646.6 71.7 Q 649.1 74.6, 649.1 79.6 Q 649.1 84.7, 646.5 87.6 Q 644.0 90.5, 639.4 90.5 Q 634.8 90.5, 632.3 87.6 Q 629.8 84.7, 629.8 79.6 M 639.4 88.1 Q 642.6 88.1, 644.4 86.0 Q 646.1 83.8, 646.1 79.6 Q 646.1 75.5, 644.4 73.4 Q 642.6 71.3, 639.4 71.3 Q 636.2 71.3, 634.5 73.4 Q 632.8 75.4, 632.8 79.6 Q 632.8 83.8, 634.5 86.0 Q 636.2 88.1, 639.4 88.1 \" fill=\"#FF0000\"/>\n",
       "<rect x=\"1\" y=\"5\" width=\"18.0\" height=\"18.0\" fill=\"rgb(31, 119, 179)\"/><text x=\"19.200000000000003\" y=\"20\" font-family=\"Helvetica\" font-size=\"12\" fill=\"black\">CH3: 2</text><rect x=\"1\" y=\"30\" width=\"18.0\" height=\"18.0\" fill=\"rgb(255, 127, 13)\"/><text x=\"19.200000000000003\" y=\"45\" font-family=\"Helvetica\" font-size=\"12\" fill=\"black\">CH2: 1</text><rect x=\"1\" y=\"55\" width=\"18.0\" height=\"18.0\" fill=\"rgb(44, 159, 44)\"/><text x=\"19.200000000000003\" y=\"70\" font-family=\"Helvetica\" font-size=\"12\" fill=\"black\">ACH: 4</text><rect x=\"1\" y=\"80\" width=\"18.0\" height=\"18.0\" fill=\"rgb(214, 39, 40)\"/><text x=\"19.200000000000003\" y=\"95\" font-family=\"Helvetica\" font-size=\"12\" fill=\"black\">AC: 1</text><rect x=\"1\" y=\"105\" width=\"18.0\" height=\"18.0\" fill=\"rgb(148, 103, 188)\"/><text x=\"19.200000000000003\" y=\"120\" font-family=\"Helvetica\" font-size=\"12\" fill=\"black\">ACCH2: 1</text><rect x=\"1\" y=\"130\" width=\"18.0\" height=\"18.0\" fill=\"rgb(140, 85, 75)\"/><text x=\"19.200000000000003\" y=\"145\" font-family=\"Helvetica\" font-size=\"12\" fill=\"black\">CH2COO: 1</text><text x=\"400.0\" y=\"40\" font-family=\"Helvetica\" font-size=\"12\" font-weight=\"bold\" fill=\"black\" text-anchor=\"middle\"/></svg>"
      ],
      "text/plain": [
       "<IPython.core.display.SVG object>"
      ]
     },
     "execution_count": 19,
     "metadata": {},
     "output_type": "execute_result"
    }
   ],
   "source": [
    "mol[1].draw(width=800)"
   ]
  },
  {
   "cell_type": "markdown",
   "metadata": {},
   "source": [
    "This could be useful in cases where some groups have more interaction\n",
    "parameters than others in the mixture that you want to model with UNIFAC.\n",
    "Alternatively, you can try both approaches and compare if there are any\n",
    "differences."
   ]
  }
 ],
 "metadata": {
  "kernelspec": {
   "display_name": "ugropy",
   "language": "python",
   "name": "python3"
  },
  "language_info": {
   "codemirror_mode": {
    "name": "ipython",
    "version": 3
   },
   "file_extension": ".py",
   "mimetype": "text/x-python",
   "name": "python",
   "nbconvert_exporter": "python",
   "pygments_lexer": "ipython3",
   "version": "3.10.12"
  }
 },
 "nbformat": 4,
 "nbformat_minor": 2
}
